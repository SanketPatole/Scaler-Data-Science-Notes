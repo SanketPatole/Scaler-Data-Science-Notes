{
 "cells": [
  {
   "cell_type": "code",
   "execution_count": null,
   "id": "9d0de1a9",
   "metadata": {},
   "outputs": [],
   "source": [
    "import numpy as np\n",
    "import pandas as pd\n",
    "import seaborn as sns\n",
    "import scipy.stats as stats\n",
    "import matplotlib.pyplot as plt\n",
    "\n",
    "from statsmodels.stats.weightstats import ztest"
   ]
  },
  {
   "cell_type": "markdown",
   "id": "3d3d8d1c",
   "metadata": {},
   "source": [
    "# Youtube "
   ]
  },
  {
   "cell_type": "code",
   "execution_count": null,
   "id": "77c09b4f",
   "metadata": {},
   "outputs": [],
   "source": [
    "# Group A --> Treatment Group shown 2 ads per ad-break\n",
    "# Group B --> Control Group shown only 1 ad per ad break\n",
    "# Let us comapre mean watch-times per group\n",
    "# H0: mu1 = mu2\n",
    "# H1: mu1 != mu2"
   ]
  },
  {
   "cell_type": "code",
   "execution_count": null,
   "id": "03f8c0f3",
   "metadata": {},
   "outputs": [],
   "source": [
    "!wget \"https://docs.google.com/uc?export=download&id=1Hl96n6BWdl3ruJgCo_gaAWEb0kEYg__H\" -O ab_test_data.csv"
   ]
  },
  {
   "cell_type": "code",
   "execution_count": null,
   "id": "12b7d4c2",
   "metadata": {},
   "outputs": [],
   "source": [
    "ab_test_data = pd.read_csv(\"ab_test_data.csv\")\n",
    "ab_test_data.sample(100)"
   ]
  },
  {
   "cell_type": "code",
   "execution_count": null,
   "id": "12a7c76f",
   "metadata": {},
   "outputs": [],
   "source": [
    "ab_test_data.shape"
   ]
  },
  {
   "cell_type": "code",
   "execution_count": null,
   "id": "f7454d0b",
   "metadata": {},
   "outputs": [],
   "source": [
    "ab_test_data['customer_segmnt'].value_counts()"
   ]
  },
  {
   "cell_type": "code",
   "execution_count": null,
   "id": "ca210802",
   "metadata": {},
   "outputs": [],
   "source": [
    "ab_test_data.describe()"
   ]
  },
  {
   "cell_type": "code",
   "execution_count": null,
   "id": "7114ecd5",
   "metadata": {},
   "outputs": [],
   "source": [
    "ab_test_data[\"watch_time_hrs\"].quantile(0.999)"
   ]
  },
  {
   "cell_type": "code",
   "execution_count": null,
   "id": "fa9675c3",
   "metadata": {},
   "outputs": [],
   "source": [
    "ab_test_data[\"watch_time_hrs\"].quantile(0.998)"
   ]
  },
  {
   "cell_type": "code",
   "execution_count": null,
   "id": "701616cb",
   "metadata": {},
   "outputs": [],
   "source": [
    "q998 = ab_test_data[\"watch_time_hrs\"].quantile(0.998)\n",
    "ab_test_data_no_out = ab_test_data[ab_test_data[\"watch_time_hrs\"] < q998]"
   ]
  },
  {
   "cell_type": "code",
   "execution_count": null,
   "id": "2953e7e3",
   "metadata": {},
   "outputs": [],
   "source": [
    "sns.histplot(ab_test_data_no_out['watch_time_hrs'], bins=100)\n",
    "plt.show()"
   ]
  },
  {
   "cell_type": "code",
   "execution_count": null,
   "id": "578edf8f",
   "metadata": {},
   "outputs": [],
   "source": [
    "ab_test_control_data = ab_test_data_no_out[ab_test_data_no_out[\"customer_segmnt\"] == \"control\"]\n",
    "ab_test_treatment_data = ab_test_data_no_out[ab_test_data_no_out[\"customer_segmnt\"] == \"treatment\"]"
   ]
  },
  {
   "cell_type": "code",
   "execution_count": null,
   "id": "451c1033",
   "metadata": {},
   "outputs": [],
   "source": [
    "ab_test_control_data.shape"
   ]
  },
  {
   "cell_type": "code",
   "execution_count": null,
   "id": "d218a672",
   "metadata": {},
   "outputs": [],
   "source": [
    "ab_test_treatment_data.shape"
   ]
  },
  {
   "cell_type": "code",
   "execution_count": null,
   "id": "6999fb64",
   "metadata": {},
   "outputs": [],
   "source": [
    "diff_means = ab_test_control_data[\"watch_time_hrs\"].mean() - ab_test_treatment_data[\"watch_time_hrs\"].mean()\n",
    "diff_means"
   ]
  },
  {
   "cell_type": "markdown",
   "id": "bc9ea01e",
   "metadata": {},
   "source": [
    "## Z Test"
   ]
  },
  {
   "cell_type": "code",
   "execution_count": null,
   "id": "be43baa4",
   "metadata": {},
   "outputs": [],
   "source": [
    "ztest(ab_test_control_data[\"watch_time_hrs\"], ab_test_treatment_data[\"watch_time_hrs\"])"
   ]
  },
  {
   "cell_type": "code",
   "execution_count": null,
   "id": "efd7021c",
   "metadata": {},
   "outputs": [],
   "source": [
    "ztest(ab_test_control_data[\"watch_time_hrs\"], ab_test_treatment_data[\"watch_time_hrs\"], alternative=\"larger\")"
   ]
  },
  {
   "cell_type": "code",
   "execution_count": null,
   "id": "d6f41b60",
   "metadata": {},
   "outputs": [],
   "source": [
    "ztest(ab_test_control_data[\"watch_time_hrs\"], ab_test_treatment_data[\"watch_time_hrs\"], alternative=\"smaller\")"
   ]
  },
  {
   "cell_type": "markdown",
   "id": "122ee920",
   "metadata": {},
   "source": [
    "## T Test"
   ]
  },
  {
   "cell_type": "code",
   "execution_count": null,
   "id": "81a85cc6",
   "metadata": {},
   "outputs": [],
   "source": [
    "# dof = ab_test_control_data.shape[0] + ab_test_treatment_data.shape[0] - 2\n",
    "# dof"
   ]
  },
  {
   "cell_type": "code",
   "execution_count": null,
   "id": "fddea0de",
   "metadata": {},
   "outputs": [],
   "source": [
    "diff_means = ab_test_control_data[\"watch_time_hrs\"].mean() - ab_test_treatment_data[\"watch_time_hrs\"].mean()\n",
    "diff_means"
   ]
  },
  {
   "cell_type": "code",
   "execution_count": null,
   "id": "089efe39",
   "metadata": {},
   "outputs": [],
   "source": [
    "stats.ttest_ind(ab_test_control_data[\"watch_time_hrs\"], ab_test_treatment_data[\"watch_time_hrs\"])"
   ]
  },
  {
   "cell_type": "markdown",
   "id": "42073dad",
   "metadata": {
    "heading_collapsed": true
   },
   "source": [
    "# Paired T-test: Problem solving"
   ]
  },
  {
   "cell_type": "code",
   "execution_count": null,
   "id": "605c065b",
   "metadata": {
    "hidden": true
   },
   "outputs": [],
   "source": [
    "df_ps = pd.read_csv(\"problem_solving.csv\")"
   ]
  },
  {
   "cell_type": "code",
   "execution_count": null,
   "id": "5a3f20cc",
   "metadata": {
    "hidden": true
   },
   "outputs": [],
   "source": [
    "df_ps.head(20)"
   ]
  },
  {
   "cell_type": "code",
   "execution_count": null,
   "id": "6d8e05e9",
   "metadata": {
    "hidden": true
   },
   "outputs": [],
   "source": [
    "df_ps.describe()"
   ]
  },
  {
   "cell_type": "code",
   "execution_count": null,
   "id": "c6f1fb5f",
   "metadata": {
    "hidden": true
   },
   "outputs": [],
   "source": [
    "stats.ttest_rel(df_ps[\"test_1\"], df_ps[\"test_2\"], alternative=\"two-sided\")"
   ]
  },
  {
   "cell_type": "code",
   "execution_count": null,
   "id": "44cef015",
   "metadata": {
    "hidden": true
   },
   "outputs": [],
   "source": [
    "stats.ttest_rel(df_ps[\"test_1\"], df_ps[\"test_2\"], alternative=\"greater\")"
   ]
  },
  {
   "cell_type": "code",
   "execution_count": null,
   "id": "caaf4352",
   "metadata": {
    "hidden": true
   },
   "outputs": [],
   "source": [
    "stats.ttest_rel(df_ps[\"test_1\"], df_ps[\"test_2\"], alternative=\"less\")"
   ]
  },
  {
   "cell_type": "markdown",
   "id": "4132492a",
   "metadata": {
    "hidden": true
   },
   "source": [
    "We swap test 2 and test 1 below"
   ]
  },
  {
   "cell_type": "code",
   "execution_count": null,
   "id": "d0d7ba12",
   "metadata": {
    "hidden": true
   },
   "outputs": [],
   "source": [
    "stats.ttest_rel(df_ps[\"test_2\"], df_ps[\"test_1\"], alternative=\"two-sided\")"
   ]
  },
  {
   "cell_type": "code",
   "execution_count": null,
   "id": "d911cfbb",
   "metadata": {
    "hidden": true
   },
   "outputs": [],
   "source": [
    "stats.ttest_rel(df_ps[\"test_2\"], df_ps[\"test_1\"], alternative=\"greater\")"
   ]
  },
  {
   "cell_type": "markdown",
   "id": "c20c1243",
   "metadata": {
    "hidden": true
   },
   "source": [
    "## One sample t-test on difference"
   ]
  },
  {
   "cell_type": "code",
   "execution_count": null,
   "id": "c05c4488",
   "metadata": {
    "hidden": true
   },
   "outputs": [],
   "source": [
    "stats.ttest_1samp(df_ps[\"test_2\"] - df_ps[\"test_1\"], popmean=0)"
   ]
  },
  {
   "cell_type": "code",
   "execution_count": null,
   "id": "08890bb8",
   "metadata": {
    "hidden": true
   },
   "outputs": [],
   "source": []
  },
  {
   "cell_type": "code",
   "execution_count": null,
   "id": "5ab7215e",
   "metadata": {
    "hidden": true
   },
   "outputs": [],
   "source": []
  },
  {
   "cell_type": "code",
   "execution_count": null,
   "id": "c7b276bb",
   "metadata": {
    "hidden": true
   },
   "outputs": [],
   "source": []
  },
  {
   "cell_type": "code",
   "execution_count": null,
   "id": "83d248ef",
   "metadata": {
    "hidden": true
   },
   "outputs": [],
   "source": [
    "stats.ttest_rel(df_ps[\"test_1\"], df_ps[\"test_2\"], alternative=\"greater\")"
   ]
  },
  {
   "cell_type": "code",
   "execution_count": null,
   "id": "61866a83",
   "metadata": {
    "hidden": true
   },
   "outputs": [],
   "source": [
    "stats.ttest_rel(df_ps[\"test_1\"], df_ps[\"test_2\"], alternative=\"less\")"
   ]
  },
  {
   "cell_type": "markdown",
   "id": "ffc43b72",
   "metadata": {},
   "source": [
    "# KS Test"
   ]
  },
  {
   "cell_type": "code",
   "execution_count": null,
   "id": "740fe8cd",
   "metadata": {},
   "outputs": [],
   "source": [
    "d1 = pd.read_csv(\"drug_1_recovery.csv\")"
   ]
  },
  {
   "cell_type": "code",
   "execution_count": null,
   "id": "208f1aaf",
   "metadata": {},
   "outputs": [],
   "source": [
    "d1.head()"
   ]
  },
  {
   "cell_type": "code",
   "execution_count": null,
   "id": "3fdc561b",
   "metadata": {},
   "outputs": [],
   "source": [
    "d2 = pd.read_csv(\"drug_2_recovery.csv\")"
   ]
  },
  {
   "cell_type": "code",
   "execution_count": null,
   "id": "6ec28959",
   "metadata": {},
   "outputs": [],
   "source": [
    "d2.head()"
   ]
  },
  {
   "cell_type": "code",
   "execution_count": null,
   "id": "5a24a819",
   "metadata": {},
   "outputs": [],
   "source": [
    "stats.ks_2samp(d1[\"drug_1\"], d2[\"drug_2\"])"
   ]
  },
  {
   "cell_type": "code",
   "execution_count": null,
   "id": "4889db71",
   "metadata": {},
   "outputs": [],
   "source": [
    "plt.grid()\n",
    "a = plt.hist(d1[\"drug_1\"], bins=100, cumulative=True, label='CDF', density=True, histtype='step')\n",
    "b = plt.hist(d2[\"drug_2\"], bins=100, cumulative=True, label='CDF', density=True, histtype='step')\n",
    "plt.show()"
   ]
  }
 ],
 "metadata": {
  "kernelspec": {
   "display_name": "Python 3 (ipykernel)",
   "language": "python",
   "name": "python3"
  },
  "language_info": {
   "codemirror_mode": {
    "name": "ipython",
    "version": 3
   },
   "file_extension": ".py",
   "mimetype": "text/x-python",
   "name": "python",
   "nbconvert_exporter": "python",
   "pygments_lexer": "ipython3",
   "version": "3.8.12"
  }
 },
 "nbformat": 4,
 "nbformat_minor": 5
}
