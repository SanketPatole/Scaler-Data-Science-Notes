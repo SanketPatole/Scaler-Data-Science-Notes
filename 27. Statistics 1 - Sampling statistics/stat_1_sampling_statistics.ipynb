{
 "cells": [
  {
   "cell_type": "code",
   "execution_count": 1,
   "id": "0d6af7f4",
   "metadata": {},
   "outputs": [],
   "source": [
    "import numpy as np\n",
    "import pandas as pd\n",
    "import seaborn as sns\n",
    "import matplotlib.pyplot as plt"
   ]
  },
  {
   "cell_type": "markdown",
   "id": "9daf3eab",
   "metadata": {},
   "source": [
    "# Cricket"
   ]
  },
  {
   "cell_type": "code",
   "execution_count": 10,
   "id": "de7e3218",
   "metadata": {},
   "outputs": [],
   "source": [
    "# List of dataframes from the webpage\n",
    "sehwag = pd.read_html(\"https://stats.espncricinfo.com/ci/engine/player/35263.html?class=2;template=results;type=batting;view=innings\")\n",
    "\n",
    "sehwag = sehwag[3]\n",
    "sehwag = sehwag[sehwag[\"Runs\"] != \"DNB\"]\n",
    "sehwag = sehwag[sehwag[\"Runs\"] != \"TDNB\"]\n",
    "sehwag[\"Runs\"] = pd.to_numeric(sehwag[\"Runs\"].apply(lambda row: ''.join(row.split(\"*\"))))"
   ]
  },
  {
   "cell_type": "code",
   "execution_count": 61,
   "id": "81ae57f3",
   "metadata": {},
   "outputs": [],
   "source": [
    "dravid_url = \"https://stats.espncricinfo.com/ci/engine/player/28114.html?class=2;template=results;type=batting;view=innings\"\n",
    "dravid = pd.read_html(dravid_url)[3]\n",
    "dravid = dravid[dravid[\"Runs\"] != \"DNB\"]\n",
    "dravid = dravid[dravid[\"Runs\"] != \"TDNB\"]\n",
    "dravid[\"Runs\"] = pd.to_numeric(dravid[\"Runs\"].apply(lambda row: ''.join(row.split(\"*\"))))"
   ]
  },
  {
   "cell_type": "code",
   "execution_count": 11,
   "id": "494a4af1",
   "metadata": {},
   "outputs": [
    {
     "data": {
      "text/html": [
       "<div>\n",
       "<style scoped>\n",
       "    .dataframe tbody tr th:only-of-type {\n",
       "        vertical-align: middle;\n",
       "    }\n",
       "\n",
       "    .dataframe tbody tr th {\n",
       "        vertical-align: top;\n",
       "    }\n",
       "\n",
       "    .dataframe thead th {\n",
       "        text-align: right;\n",
       "    }\n",
       "</style>\n",
       "<table border=\"1\" class=\"dataframe\">\n",
       "  <thead>\n",
       "    <tr style=\"text-align: right;\">\n",
       "      <th></th>\n",
       "      <th>Runs</th>\n",
       "      <th>Mins</th>\n",
       "      <th>BF</th>\n",
       "      <th>4s</th>\n",
       "      <th>6s</th>\n",
       "      <th>SR</th>\n",
       "      <th>Pos</th>\n",
       "      <th>Dismissal</th>\n",
       "      <th>Inns</th>\n",
       "      <th>Unnamed: 9</th>\n",
       "      <th>Opposition</th>\n",
       "      <th>Ground</th>\n",
       "      <th>Start Date</th>\n",
       "      <th>Unnamed: 13</th>\n",
       "    </tr>\n",
       "  </thead>\n",
       "  <tbody>\n",
       "    <tr>\n",
       "      <th>0</th>\n",
       "      <td>1</td>\n",
       "      <td>5</td>\n",
       "      <td>2</td>\n",
       "      <td>0</td>\n",
       "      <td>0</td>\n",
       "      <td>50.00</td>\n",
       "      <td>7</td>\n",
       "      <td>lbw</td>\n",
       "      <td>1</td>\n",
       "      <td>NaN</td>\n",
       "      <td>v Pakistan</td>\n",
       "      <td>Mohali</td>\n",
       "      <td>1 Apr 1999</td>\n",
       "      <td>ODI # 1427</td>\n",
       "    </tr>\n",
       "    <tr>\n",
       "      <th>2</th>\n",
       "      <td>19</td>\n",
       "      <td>18</td>\n",
       "      <td>24</td>\n",
       "      <td>0</td>\n",
       "      <td>1</td>\n",
       "      <td>79.16</td>\n",
       "      <td>6</td>\n",
       "      <td>caught</td>\n",
       "      <td>1</td>\n",
       "      <td>NaN</td>\n",
       "      <td>v Zimbabwe</td>\n",
       "      <td>Rajkot</td>\n",
       "      <td>14 Dec 2000</td>\n",
       "      <td>ODI # 1660</td>\n",
       "    </tr>\n",
       "    <tr>\n",
       "      <th>3</th>\n",
       "      <td>58</td>\n",
       "      <td>62</td>\n",
       "      <td>54</td>\n",
       "      <td>8</td>\n",
       "      <td>0</td>\n",
       "      <td>107.40</td>\n",
       "      <td>6</td>\n",
       "      <td>bowled</td>\n",
       "      <td>1</td>\n",
       "      <td>NaN</td>\n",
       "      <td>v Australia</td>\n",
       "      <td>Bengaluru</td>\n",
       "      <td>25 Mar 2001</td>\n",
       "      <td>ODI # 1696</td>\n",
       "    </tr>\n",
       "    <tr>\n",
       "      <th>5</th>\n",
       "      <td>2</td>\n",
       "      <td>7</td>\n",
       "      <td>7</td>\n",
       "      <td>0</td>\n",
       "      <td>0</td>\n",
       "      <td>28.57</td>\n",
       "      <td>6</td>\n",
       "      <td>caught</td>\n",
       "      <td>2</td>\n",
       "      <td>NaN</td>\n",
       "      <td>v Zimbabwe</td>\n",
       "      <td>Bulawayo</td>\n",
       "      <td>27 Jun 2001</td>\n",
       "      <td>ODI # 1730</td>\n",
       "    </tr>\n",
       "    <tr>\n",
       "      <th>6</th>\n",
       "      <td>11</td>\n",
       "      <td>19</td>\n",
       "      <td>16</td>\n",
       "      <td>1</td>\n",
       "      <td>0</td>\n",
       "      <td>68.75</td>\n",
       "      <td>6</td>\n",
       "      <td>not out</td>\n",
       "      <td>2</td>\n",
       "      <td>NaN</td>\n",
       "      <td>v West Indies</td>\n",
       "      <td>Bulawayo</td>\n",
       "      <td>30 Jun 2001</td>\n",
       "      <td>ODI # 1731</td>\n",
       "    </tr>\n",
       "  </tbody>\n",
       "</table>\n",
       "</div>"
      ],
      "text/plain": [
       "   Runs Mins  BF 4s 6s      SR Pos Dismissal Inns  Unnamed: 9     Opposition  \\\n",
       "0     1    5   2  0  0   50.00   7       lbw    1         NaN     v Pakistan   \n",
       "2    19   18  24  0  1   79.16   6    caught    1         NaN     v Zimbabwe   \n",
       "3    58   62  54  8  0  107.40   6    bowled    1         NaN    v Australia   \n",
       "5     2    7   7  0  0   28.57   6    caught    2         NaN     v Zimbabwe   \n",
       "6    11   19  16  1  0   68.75   6   not out    2         NaN  v West Indies   \n",
       "\n",
       "      Ground   Start Date Unnamed: 13  \n",
       "0     Mohali   1 Apr 1999  ODI # 1427  \n",
       "2     Rajkot  14 Dec 2000  ODI # 1660  \n",
       "3  Bengaluru  25 Mar 2001  ODI # 1696  \n",
       "5   Bulawayo  27 Jun 2001  ODI # 1730  \n",
       "6   Bulawayo  30 Jun 2001  ODI # 1731  "
      ]
     },
     "execution_count": 11,
     "metadata": {},
     "output_type": "execute_result"
    }
   ],
   "source": [
    "sehwag.head()"
   ]
  },
  {
   "cell_type": "code",
   "execution_count": 23,
   "id": "8e930fa5",
   "metadata": {},
   "outputs": [
    {
     "data": {
      "text/plain": [
       "245"
      ]
     },
     "execution_count": 23,
     "metadata": {},
     "output_type": "execute_result"
    }
   ],
   "source": [
    "len(sehwag)"
   ]
  },
  {
   "cell_type": "code",
   "execution_count": 63,
   "id": "19bb1247",
   "metadata": {},
   "outputs": [
    {
     "data": {
      "text/plain": [
       "318"
      ]
     },
     "execution_count": 63,
     "metadata": {},
     "output_type": "execute_result"
    }
   ],
   "source": [
    "len(dravid)"
   ]
  },
  {
   "cell_type": "markdown",
   "id": "a1f4c43e",
   "metadata": {},
   "source": [
    "## Population mean and population std dev"
   ]
  },
  {
   "cell_type": "code",
   "execution_count": 12,
   "id": "1e5883e8",
   "metadata": {},
   "outputs": [
    {
     "name": "stdout",
     "output_type": "stream",
     "text": [
      "Sehwag population mean: 33.77\n"
     ]
    }
   ],
   "source": [
    "mu_sehwag = sehwag[\"Runs\"].mean().round(2)\n",
    "print(\"Sehwag population mean:\", mu_sehwag)"
   ]
  },
  {
   "cell_type": "code",
   "execution_count": 13,
   "id": "49afac32",
   "metadata": {},
   "outputs": [
    {
     "name": "stdout",
     "output_type": "stream",
     "text": [
      "Sehwag population std dev: 34.81\n"
     ]
    }
   ],
   "source": [
    "sigma_sehwag = sehwag[\"Runs\"].std().round(2)\n",
    "print(\"Sehwag population std dev:\", sigma_sehwag)"
   ]
  },
  {
   "cell_type": "code",
   "execution_count": 62,
   "id": "22763a1c",
   "metadata": {},
   "outputs": [
    {
     "name": "stdout",
     "output_type": "stream",
     "text": [
      "Dravid population mean: 34.24\n",
      "Dravid population std dev: 29.68\n"
     ]
    }
   ],
   "source": [
    "mu_dravid = dravid[\"Runs\"].mean().round(2)\n",
    "print(\"Dravid population mean:\", mu_dravid)\n",
    "sigma_dravid = dravid[\"Runs\"].std().round(2)\n",
    "print(\"Dravid population std dev:\", sigma_dravid)"
   ]
  },
  {
   "cell_type": "markdown",
   "id": "45025dc6",
   "metadata": {},
   "source": [
    "## Sample mean"
   ]
  },
  {
   "cell_type": "code",
   "execution_count": 31,
   "id": "2bc8ebe2",
   "metadata": {},
   "outputs": [
    {
     "name": "stdout",
     "output_type": "stream",
     "text": [
      "Sample mean: 24.8\n"
     ]
    }
   ],
   "source": [
    "num_samples = 10\n",
    "sehwag_samples = sehwag[\"Runs\"].sample(num_samples)\n",
    "print(\"Sample mean:\", sehwag_samples.mean())"
   ]
  },
  {
   "cell_type": "code",
   "execution_count": 32,
   "id": "6d1caa4a",
   "metadata": {},
   "outputs": [
    {
     "data": {
      "text/plain": [
       "210     6\n",
       "42     25\n",
       "176    43\n",
       "28     21\n",
       "248    34\n",
       "96     17\n",
       "165    12\n",
       "41     13\n",
       "110    29\n",
       "131    48\n",
       "Name: Runs, dtype: int64"
      ]
     },
     "execution_count": 32,
     "metadata": {},
     "output_type": "execute_result"
    }
   ],
   "source": [
    "sehwag_samples"
   ]
  },
  {
   "cell_type": "markdown",
   "id": "b5351137",
   "metadata": {},
   "source": [
    "## Sample mean trend"
   ]
  },
  {
   "cell_type": "code",
   "execution_count": 29,
   "id": "e5677311",
   "metadata": {},
   "outputs": [
    {
     "data": {
      "text/plain": [
       "Text(0, 0.5, 'Sample mean')"
      ]
     },
     "execution_count": 29,
     "metadata": {},
     "output_type": "execute_result"
    },
    {
     "data": {
      "image/png": "[encoded data removed]",
      "text/plain": [
       "<Figure size 432x288 with 1 Axes>"
      ]
     },
     "metadata": {
      "needs_background": "light"
     },
     "output_type": "display_data"
    }
   ],
   "source": [
    "# How does this sample mean change if I increase number of samples\n",
    "sample_mean_trend = []\n",
    "for num_samples in range(5, len(sehwag)):\n",
    "    sample = sehwag[\"Runs\"].sample(num_samples)\n",
    "    sample_mean = np.mean(sample)\n",
    "    sample_mean_trend.append(sample_mean)\n",
    "plt.plot(sample_mean_trend)\n",
    "plt.xlabel(\"Number of samples\")\n",
    "plt.ylabel(\"Sample mean\")"
   ]
  },
  {
   "cell_type": "code",
   "execution_count": 30,
   "id": "ecaaab31",
   "metadata": {},
   "outputs": [
    {
     "data": {
      "text/plain": [
       "Text(0, 0.5, 'Sample mean')"
      ]
     },
     "execution_count": 30,
     "metadata": {},
     "output_type": "execute_result"
    },
    {
     "data": {
      "image/png": "[encoded data removed]",
      "text/plain": [
       "<Figure size 432x288 with 1 Axes>"
      ]
     },
     "metadata": {
      "needs_background": "light"
     },
     "output_type": "display_data"
    }
   ],
   "source": [
    "sample_mean_trend = []\n",
    "for person in range(20):\n",
    "    for num_samples in range(5, len(sehwag)):\n",
    "        sample = sehwag[\"Runs\"].sample(num_samples)\n",
    "        sample_mean = np.mean(sample)\n",
    "        sample_mean_trend.append(sample_mean)\n",
    "    plt.plot(sample_mean_trend)\n",
    "    sample_mean_trend = []\n",
    "plt.xlabel(\"Number of samples\")\n",
    "plt.ylabel(\"Sample mean\")"
   ]
  },
  {
   "cell_type": "markdown",
   "id": "3d0e53aa",
   "metadata": {},
   "source": [
    "## Collect sample means"
   ]
  },
  {
   "cell_type": "code",
   "execution_count": 60,
   "id": "7b866d70",
   "metadata": {},
   "outputs": [
    {
     "name": "stdout",
     "output_type": "stream",
     "text": [
      "Mean of sample means: 33.78\n",
      "Population mean: 33.77\n",
      "Std Dev of sample means 1.01\n",
      "Population std dev: 34.81\n"
     ]
    }
   ],
   "source": [
    "num_samples = 200\n",
    "collect_sample_means = []\n",
    "for person in range(200):\n",
    "    sample_mean = sehwag[\"Runs\"].sample(num_samples).mean()\n",
    "    collect_sample_means.append(sample_mean)\n",
    "print(\"Mean of sample means:\", np.mean(collect_sample_means).round(2))\n",
    "print(\"Population mean:\", mu_sehwag)\n",
    "print(\"Std Dev of sample means\", np.std(collect_sample_means).round(2))\n",
    "print(\"Population std dev:\", sigma_sehwag)\n",
    "# sns.histplot(collect_sample_means, bins=30)"
   ]
  },
  {
   "cell_type": "markdown",
   "id": "cb77effd",
   "metadata": {},
   "source": [
    "## Outlier Detection"
   ]
  },
  {
   "cell_type": "code",
   "execution_count": 72,
   "id": "d48bb223",
   "metadata": {},
   "outputs": [
    {
     "name": "stdout",
     "output_type": "stream",
     "text": [
      "8.0 46.0\n",
      "-49.0 103.0\n",
      "94.28571428571429\n"
     ]
    }
   ],
   "source": [
    "p_25 = sehwag[\"Runs\"].quantile(0.25) # np.percentile(25)\n",
    "p_75 = sehwag[\"Runs\"].quantile(0.75)\n",
    "print(p_25, p_75)\n",
    "iqr = p_75 - p_25\n",
    "lower = p_25 - 1.5*iqr\n",
    "upper = p_75 + 1.5*iqr\n",
    "print(lower, upper)\n",
    "sehwag_iqr = sehwag[(sehwag[\"Runs\"] > lower) & (sehwag[\"Runs\"] < upper)] # Outlier removal\n",
    "print(100*len(sehwag_iqr) / len(sehwag))\n"
   ]
  },
  {
   "cell_type": "code",
   "execution_count": 66,
   "id": "a82aec95",
   "metadata": {},
   "outputs": [
    {
     "data": {
      "text/plain": [
       "<AxesSubplot:>"
      ]
     },
     "execution_count": 66,
     "metadata": {},
     "output_type": "execute_result"
    },
    {
     "data": {
      "image/png": "[encoded data removed]",
      "text/plain": [
       "<Figure size 432x288 with 1 Axes>"
      ]
     },
     "metadata": {
      "needs_background": "light"
     },
     "output_type": "display_data"
    }
   ],
   "source": [
    "sns.boxplot(data=sehwag[\"Runs\"], orient=\"h\")"
   ]
  },
  {
   "cell_type": "code",
   "execution_count": 73,
   "id": "07ecdc93",
   "metadata": {},
   "outputs": [
    {
     "name": "stdout",
     "output_type": "stream",
     "text": [
      "-56.0 120.0\n",
      "99.05660377358491\n"
     ]
    }
   ],
   "source": [
    "p_25 = dravid[\"Runs\"].quantile(0.25)\n",
    "p_75 = dravid[\"Runs\"].quantile(0.75)\n",
    "\n",
    "iqr = p_75 - p_25 \n",
    "lower = p_25 - 1.5*iqr\n",
    "upper = p_75 + 1.5*iqr\n",
    "print(lower, upper)\n",
    "dravid_iqr = dravid[(dravid[\"Runs\"] > lower) & (dravid[\"Runs\"] < upper)] # Removed outliers\n",
    "print(100*len(dravid_iqr)/len(dravid))"
   ]
  },
  {
   "cell_type": "code",
   "execution_count": 67,
   "id": "47a23c9e",
   "metadata": {},
   "outputs": [
    {
     "data": {
      "text/plain": [
       "<AxesSubplot:>"
      ]
     },
     "execution_count": 67,
     "metadata": {},
     "output_type": "execute_result"
    },
    {
     "data": {
      "image/png": "[encoded data removed]",
      "text/plain": [
       "<Figure size 432x288 with 1 Axes>"
      ]
     },
     "metadata": {
      "needs_background": "light"
     },
     "output_type": "display_data"
    }
   ],
   "source": [
    "sns.boxplot(data=dravid[\"Runs\"], orient=\"h\")"
   ]
  },
  {
   "cell_type": "code",
   "execution_count": 74,
   "id": "d8101c9e",
   "metadata": {},
   "outputs": [],
   "source": [
    "from scipy.stats import norm"
   ]
  },
  {
   "cell_type": "code",
   "execution_count": 79,
   "id": "d3e6894e",
   "metadata": {},
   "outputs": [
    {
     "data": {
      "text/plain": [
       "0.02275013194817921"
      ]
     },
     "execution_count": 79,
     "metadata": {},
     "output_type": "execute_result"
    }
   ],
   "source": [
    "1 - norm.cdf(2)"
   ]
  },
  {
   "cell_type": "code",
   "execution_count": 77,
   "id": "dc9a4868",
   "metadata": {},
   "outputs": [
    {
     "data": {
      "text/plain": [
       "0.6826894921370859"
      ]
     },
     "execution_count": 77,
     "metadata": {},
     "output_type": "execute_result"
    }
   ],
   "source": [
    "norm.cdf(1) - norm.cdf(-1)"
   ]
  },
  {
   "cell_type": "code",
   "execution_count": 76,
   "id": "f9255885",
   "metadata": {},
   "outputs": [
    {
     "data": {
      "text/plain": [
       "0.9544997361036416"
      ]
     },
     "execution_count": 76,
     "metadata": {},
     "output_type": "execute_result"
    }
   ],
   "source": [
    "norm.cdf(2) - norm.cdf(-2)"
   ]
  },
  {
   "cell_type": "code",
   "execution_count": 78,
   "id": "de7a94c6",
   "metadata": {},
   "outputs": [
    {
     "data": {
      "text/plain": [
       "0.9973002039367398"
      ]
     },
     "execution_count": 78,
     "metadata": {},
     "output_type": "execute_result"
    }
   ],
   "source": [
    "norm.cdf(3) - norm.cdf(-3)"
   ]
  }
 ],
 "metadata": {
  "kernelspec": {
   "display_name": "Python 3 (ipykernel)",
   "language": "python",
   "name": "python3"
  },
  "language_info": {
   "codemirror_mode": {
    "name": "ipython",
    "version": 3
   },
   "file_extension": ".py",
   "mimetype": "text/x-python",
   "name": "python",
   "nbconvert_exporter": "python",
   "pygments_lexer": "ipython3",
   "version": "3.8.12"
  }
 },
 "nbformat": 4,
 "nbformat_minor": 5
}
