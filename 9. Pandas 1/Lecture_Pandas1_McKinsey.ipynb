{
 "cells": [
  {
   "cell_type": "markdown",
   "id": "e311d4b5",
   "metadata": {
    "id": "e311d4b5"
   },
   "source": [
    "# Pandas-01\n"
   ]
  },
  {
   "cell_type": "markdown",
   "id": "eqcby-D-WRp2",
   "metadata": {
    "id": "eqcby-D-WRp2"
   },
   "source": [
    "## Outline\n",
    "\n",
    "  - **Installation of pandas** \n",
    "    - Importing pandas\n",
    "    - Importing the dataset \n",
    "    - Dataframe/Series\n",
    "  \n",
    "  - **Basic ops on a DataFrame** \n",
    "    - df.info()\n",
    "    - df.head()\n",
    "    - df.tail()\n",
    "    - df.shape()\n",
    "    - df.describe()\n",
    "  \n",
    "  - **Basic ops on columns** \n",
    "    - Different ways of accessing cols\n",
    "    - Check for Unique values\n",
    "    - Rename column\n",
    "    - Deleting col\n",
    "    - Creating new cols\n",
    "    - Quiz1 added\n",
    "  \n",
    "  - **Basic ops on rows** \n",
    "    - Implicit/explicit index\n",
    "    - df.index[]\n",
    "    - Indexing in series\n",
    "    - Slicing in series\n",
    "    - loc/iloc\n",
    "    - Indexing/Slicing in dataframe\n",
    "    - Adding a row\n",
    "    - Check for duplicates\n",
    "    - Deleting a row\n",
    "    \n",
    "\n",
    "  - **Working with both rows and cols**\n",
    "    - Quiz2 added\n",
    "  - **More in-built ops in pandas** \n",
    "    - sum()\n",
    "    - count()\n",
    "    - mean()\n",
    "\n",
    "  - **Sorting** \n",
    "    - Quiz3 added\n",
    "  \n",
    "  - **Creating series and Dataframes from scratch** \n",
    "\n",
    "  \n"
   ]
  },
  {
   "cell_type": "markdown",
   "id": "OVIlt8odWREq",
   "metadata": {
    "id": "OVIlt8odWREq"
   },
   "source": [
    "\n",
    "\n",
    "### Today's Agenda \n",
    "- Today's lecture is about **Pandas** library\n",
    "- We'll see **what** is Pandas\n",
    "- **Why** we use this library\n",
    "- We'll also look at some **interesting tasks** we can do **using Pandas**\n",
    "\n",
    "\n",
    "<!-- ### Before we start: [00:10 - 00:15]\n",
    "\n",
    "- Download .csv files from shared link\n",
    "\n",
    "\n",
    "- Create a folder in same directory as your running Jupyter Notebook\n",
    "\n",
    "\n",
    "- Rename this folder to **data**\n",
    "\n",
    "\n",
    "- **Place the downloaded .csv files in that folder called \"data\"**\n",
    "\n",
    "\n",
    "- This way, we **don't have to provide complete path** every time we want to access any of our .csv files\n",
    "\n",
    "\n",
    "- We just have to provide the **relative path**\n",
    "    - `data/<csv_file_name>` -->\n",
    "\n",
    "\n",
    "\n",
    "## Installing Pandas "
   ]
  },
  {
   "cell_type": "code",
   "execution_count": null,
   "id": "40bff0ce",
   "metadata": {
    "id": "40bff0ce"
   },
   "outputs": [],
   "source": [
    "# import sys\n",
    "# !{sys.executable} -m pip install pandas"
   ]
  },
  {
   "cell_type": "code",
   "execution_count": null,
   "id": "5f5da047",
   "metadata": {
    "id": "5f5da047"
   },
   "outputs": [],
   "source": [
    "# !pip install pandas"
   ]
  },
  {
   "cell_type": "markdown",
   "id": "446f716f",
   "metadata": {
    "id": "446f716f"
   },
   "source": [
    "## Importing Pandas \n",
    "\n",
    "- You should be able to import Pandas after installing it\n",
    "\n",
    "\n",
    "- We'll import `pandas` as its **alias name `pd`**"
   ]
  },
  {
   "cell_type": "code",
   "execution_count": 1,
   "id": "181fe5f6",
   "metadata": {
    "id": "181fe5f6"
   },
   "outputs": [],
   "source": [
    "import pandas as pd\n",
    "import numpy as np"
   ]
  },
  {
   "cell_type": "markdown",
   "id": "fa3066db",
   "metadata": {
    "id": "fa3066db"
   },
   "source": [
    "#### Question: How many of you have set-up pandas now?\n",
    "\n",
    "## Introduction: Why to use Pandas? \n",
    "#### How is it different from numpy ?\n",
    "\n",
    "  - The major **limitation of numpy** is that it can only work with 1 datatype at a time\n",
    "\n",
    "  - Most real-world datasets contain a mixture of number (int, float etc) and non-number (string) datatypes.\n",
    "    - Like **names of places would be string** but their **population would be int**\n",
    "  - So, it is difficult to work with data having heterogeneous values using Numpy\n",
    "\n",
    "#### Pandas can work with numbers and strings together\n",
    "\n",
    "- If our **data has only numbers**, we are better off using **Numpy** \n",
    "  - It's **lighter** and **easier**\n",
    "\n",
    "- But if our data has both **number and non-number vals**, it makes sense to use **Pandas**\n",
    "\n",
    "So lets see how we can use pandas in our applications \n",
    "\n"
   ]
  },
  {
   "cell_type": "markdown",
   "id": "eBP5xpFNY9dD",
   "metadata": {
    "id": "eBP5xpFNY9dD"
   },
   "source": [
    "## Imagine that you are a Data Scientist with McKinsey\n",
    "\n",
    "  - MyKinsey wants to understand the relation between GDP per capita and life   expectancy and various trends for their clients.\n",
    "  - The company has acquired data from multiple surveys in different countries in the past\n",
    "  - The survey contains info of several years about:\n",
    "   - country\n",
    "   - population size\n",
    "   - life expectancy\n",
    "   - GDP per Capita\n",
    "  - Now you have to analyse the data and draw inferences from it that is meaningful to the company"
   ]
  },
  {
   "cell_type": "markdown",
   "id": "aXrlcBm-bOjH",
   "metadata": {
    "id": "aXrlcBm-bOjH"
   },
   "source": [
    "\n",
    "## Reading dataset \n",
    "\n",
    "  - Lets first download the dataset\n",
    "  - Link:https://drive.google.com/file/d/1E3bwvYGf1ig32RmcYiWc0IXPN-mD_bI_/view?usp=sharing"
   ]
  },
  {
   "cell_type": "code",
   "execution_count": null,
   "id": "3i2-oKC4bUK-",
   "metadata": {
    "colab": {
     "base_uri": "https://localhost:8080/"
    },
    "id": "3i2-oKC4bUK-",
    "outputId": "31bc731c-1ac4-4ebe-f4c2-ef8957d03316"
   },
   "outputs": [],
   "source": [
    "#!wget \"https://drive.google.com/uc?export=download&id=1E3bwvYGf1ig32RmcYiWc0IXPN-mD_bI_\" -O gapminder.csv"
   ]
  },
  {
   "cell_type": "markdown",
   "id": "xyjKAYjAbUnN",
   "metadata": {
    "id": "xyjKAYjAbUnN"
   },
   "source": [
    "#### Now how should we read this dataset?\n",
    "\n",
    "  - We can do so using pandas\n",
    "  - Pandas makes it very easy to work with these kinds of files\n",
    "  - Pass the file path and name in `pd.read_csv()` function\n",
    "\n"
   ]
  },
  {
   "cell_type": "code",
   "execution_count": 3,
   "id": "6fcbe548",
   "metadata": {
    "colab": {
     "base_uri": "https://localhost:8080/",
     "height": 424
    },
    "id": "6fcbe548",
    "outputId": "04dde8a6-98c3-4c8f-f942-574456df7e7c",
    "scrolled": true
   },
   "outputs": [
    {
     "data": {
      "text/html": [
       "<div>\n",
       "<style scoped>\n",
       "    .dataframe tbody tr th:only-of-type {\n",
       "        vertical-align: middle;\n",
       "    }\n",
       "\n",
       "    .dataframe tbody tr th {\n",
       "        vertical-align: top;\n",
       "    }\n",
       "\n",
       "    .dataframe thead th {\n",
       "        text-align: right;\n",
       "    }\n",
       "</style>\n",
       "<table border=\"1\" class=\"dataframe\">\n",
       "  <thead>\n",
       "    <tr style=\"text-align: right;\">\n",
       "      <th></th>\n",
       "      <th>country</th>\n",
       "      <th>year</th>\n",
       "      <th>population</th>\n",
       "      <th>continent</th>\n",
       "      <th>life_exp</th>\n",
       "      <th>gdp_cap</th>\n",
       "    </tr>\n",
       "  </thead>\n",
       "  <tbody>\n",
       "    <tr>\n",
       "      <th>0</th>\n",
       "      <td>Afghanistan</td>\n",
       "      <td>1952</td>\n",
       "      <td>8425333</td>\n",
       "      <td>Asia</td>\n",
       "      <td>28.801</td>\n",
       "      <td>779.445314</td>\n",
       "    </tr>\n",
       "    <tr>\n",
       "      <th>1</th>\n",
       "      <td>Afghanistan</td>\n",
       "      <td>1957</td>\n",
       "      <td>9240934</td>\n",
       "      <td>Asia</td>\n",
       "      <td>30.332</td>\n",
       "      <td>820.853030</td>\n",
       "    </tr>\n",
       "    <tr>\n",
       "      <th>2</th>\n",
       "      <td>Afghanistan</td>\n",
       "      <td>1962</td>\n",
       "      <td>10267083</td>\n",
       "      <td>Asia</td>\n",
       "      <td>31.997</td>\n",
       "      <td>853.100710</td>\n",
       "    </tr>\n",
       "    <tr>\n",
       "      <th>3</th>\n",
       "      <td>Afghanistan</td>\n",
       "      <td>1967</td>\n",
       "      <td>11537966</td>\n",
       "      <td>Asia</td>\n",
       "      <td>34.020</td>\n",
       "      <td>836.197138</td>\n",
       "    </tr>\n",
       "    <tr>\n",
       "      <th>4</th>\n",
       "      <td>Afghanistan</td>\n",
       "      <td>1972</td>\n",
       "      <td>13079460</td>\n",
       "      <td>Asia</td>\n",
       "      <td>36.088</td>\n",
       "      <td>739.981106</td>\n",
       "    </tr>\n",
       "    <tr>\n",
       "      <th>...</th>\n",
       "      <td>...</td>\n",
       "      <td>...</td>\n",
       "      <td>...</td>\n",
       "      <td>...</td>\n",
       "      <td>...</td>\n",
       "      <td>...</td>\n",
       "    </tr>\n",
       "    <tr>\n",
       "      <th>1699</th>\n",
       "      <td>Zimbabwe</td>\n",
       "      <td>1987</td>\n",
       "      <td>9216418</td>\n",
       "      <td>Africa</td>\n",
       "      <td>62.351</td>\n",
       "      <td>706.157306</td>\n",
       "    </tr>\n",
       "    <tr>\n",
       "      <th>1700</th>\n",
       "      <td>Zimbabwe</td>\n",
       "      <td>1992</td>\n",
       "      <td>10704340</td>\n",
       "      <td>Africa</td>\n",
       "      <td>60.377</td>\n",
       "      <td>693.420786</td>\n",
       "    </tr>\n",
       "    <tr>\n",
       "      <th>1701</th>\n",
       "      <td>Zimbabwe</td>\n",
       "      <td>1997</td>\n",
       "      <td>11404948</td>\n",
       "      <td>Africa</td>\n",
       "      <td>46.809</td>\n",
       "      <td>792.449960</td>\n",
       "    </tr>\n",
       "    <tr>\n",
       "      <th>1702</th>\n",
       "      <td>Zimbabwe</td>\n",
       "      <td>2002</td>\n",
       "      <td>11926563</td>\n",
       "      <td>Africa</td>\n",
       "      <td>39.989</td>\n",
       "      <td>672.038623</td>\n",
       "    </tr>\n",
       "    <tr>\n",
       "      <th>1703</th>\n",
       "      <td>Zimbabwe</td>\n",
       "      <td>2007</td>\n",
       "      <td>12311143</td>\n",
       "      <td>Africa</td>\n",
       "      <td>43.487</td>\n",
       "      <td>469.709298</td>\n",
       "    </tr>\n",
       "  </tbody>\n",
       "</table>\n",
       "<p>1704 rows × 6 columns</p>\n",
       "</div>"
      ],
      "text/plain": [
       "          country  year  population continent  life_exp     gdp_cap\n",
       "0     Afghanistan  1952     8425333      Asia    28.801  779.445314\n",
       "1     Afghanistan  1957     9240934      Asia    30.332  820.853030\n",
       "2     Afghanistan  1962    10267083      Asia    31.997  853.100710\n",
       "3     Afghanistan  1967    11537966      Asia    34.020  836.197138\n",
       "4     Afghanistan  1972    13079460      Asia    36.088  739.981106\n",
       "...           ...   ...         ...       ...       ...         ...\n",
       "1699     Zimbabwe  1987     9216418    Africa    62.351  706.157306\n",
       "1700     Zimbabwe  1992    10704340    Africa    60.377  693.420786\n",
       "1701     Zimbabwe  1997    11404948    Africa    46.809  792.449960\n",
       "1702     Zimbabwe  2002    11926563    Africa    39.989  672.038623\n",
       "1703     Zimbabwe  2007    12311143    Africa    43.487  469.709298\n",
       "\n",
       "[1704 rows x 6 columns]"
      ]
     },
     "execution_count": 3,
     "metadata": {},
     "output_type": "execute_result"
    }
   ],
   "source": [
    "df = pd.read_csv('gapminder.csv')\n",
    "df"
   ]
  },
  {
   "cell_type": "markdown",
   "id": "19a21861",
   "metadata": {
    "id": "19a21861"
   },
   "source": [
    "#### Question: How many of you were able to import the dataset? Or were there any errors?\n",
    "- Resolve the issues (if any)\n",
    "\n",
    "#### What can we observe from the above dataset ?\n",
    "\n",
    "- We can see that it has:\n",
    "  - 6 columns\n",
    "  - 1704 rows \n",
    "\n",
    "We have stored the data in `df`\n",
    "\n",
    "Lets analyse `df` a bit more\n",
    "\n",
    "#### What do you think is the datatype of `df` ?\n",
    "  - Lets find it out"
   ]
  },
  {
   "cell_type": "code",
   "execution_count": 146,
   "id": "23d344e3",
   "metadata": {
    "colab": {
     "base_uri": "https://localhost:8080/"
    },
    "id": "23d344e3",
    "outputId": "18d636b4-e7c3-4514-c0f8-7ada3c98a597",
    "scrolled": true
   },
   "outputs": [
    {
     "data": {
      "text/plain": [
       "pandas.core.frame.DataFrame"
      ]
     },
     "execution_count": 146,
     "metadata": {},
     "output_type": "execute_result"
    }
   ],
   "source": [
    "type(df)"
   ]
  },
  {
   "cell_type": "markdown",
   "id": "dxhzgFO_cL2P",
   "metadata": {
    "id": "dxhzgFO_cL2P"
   },
   "source": [
    "Its a **pandas DataFrame**\n",
    "\n",
    "#### What is a pandas DataFrame ?\n",
    "\n",
    "  - It is a table-like representation of data in Pandas - Structured Data\n",
    "\n",
    "  - Considered as **counterpart of Matrix** in Numpy"
   ]
  },
  {
   "cell_type": "markdown",
   "id": "2f5ba90f",
   "metadata": {
    "id": "2f5ba90f"
   },
   "source": [
    "#### Now lets check the data type of df's columns \n",
    "\n",
    "First we will see how we can access the column 'country' of df "
   ]
  },
  {
   "cell_type": "code",
   "execution_count": 147,
   "id": "lDNAGMLwcS6V",
   "metadata": {
    "colab": {
     "base_uri": "https://localhost:8080/"
    },
    "id": "lDNAGMLwcS6V",
    "outputId": "44cd281a-2835-4e6d-cfc7-c20891fb163c"
   },
   "outputs": [
    {
     "data": {
      "text/plain": [
       "0       Afghanistan\n",
       "1       Afghanistan\n",
       "2       Afghanistan\n",
       "3       Afghanistan\n",
       "4       Afghanistan\n",
       "           ...     \n",
       "1699       Zimbabwe\n",
       "1700       Zimbabwe\n",
       "1701       Zimbabwe\n",
       "1702       Zimbabwe\n",
       "1703       Zimbabwe\n",
       "Name: country, Length: 1704, dtype: object"
      ]
     },
     "execution_count": 147,
     "metadata": {},
     "output_type": "execute_result"
    }
   ],
   "source": [
    "df[\"country\"]"
   ]
  },
  {
   "cell_type": "markdown",
   "id": "jjWPuzgjcXXR",
   "metadata": {
    "id": "jjWPuzgjcXXR"
   },
   "source": [
    "As you can see we get all the values in the column **country**\n",
    "\n",
    "Now check its type"
   ]
  },
  {
   "cell_type": "code",
   "execution_count": 148,
   "id": "OjNe-RJwd1vH",
   "metadata": {
    "colab": {
     "base_uri": "https://localhost:8080/"
    },
    "id": "OjNe-RJwd1vH",
    "outputId": "7c867175-0f8b-4c68-f495-be274be9b920"
   },
   "outputs": [
    {
     "data": {
      "text/plain": [
       "pandas.core.series.Series"
      ]
     },
     "execution_count": 148,
     "metadata": {},
     "output_type": "execute_result"
    }
   ],
   "source": [
    "type(df[\"country\"])"
   ]
  },
  {
   "cell_type": "markdown",
   "id": "OdU8olsNd1SC",
   "metadata": {
    "id": "OdU8olsNd1SC"
   },
   "source": [
    "Its a **pandas Series**\n",
    "\n",
    "### Pandas Series\n",
    "\n",
    "#### What is a pandas Series ?\n",
    "  - **Series** in Pandas is what a **Vector** is in Numpy\n",
    "\n",
    "#### What exactly does that mean?\n",
    "\n",
    "  - It means a Series is or a **single column** of **data**\n",
    "\n",
    "  - **Multiple Series stack together to form a DataFrame**\n",
    "  "
   ]
  },
  {
   "cell_type": "markdown",
   "id": "1989aed4",
   "metadata": {
    "id": "1989aed4"
   },
   "source": [
    "Now we have understood what Series and DataFrames are \n",
    "\n",
    "But the dataset is difficult to analyse in this form\n",
    "\n",
    "#### What if a dataset has 100 rows ... Or 1000 rows ?\n",
    "\n",
    "#### How can we find the datatype, name, total entries in each column ?\n",
    "  - This is where df.info() comes into picture\n",
    "\n",
    "  - It gives a **list of columns** with:\n",
    "\n",
    "    - **Name/Title** of Columns\n",
    "    - **How many non-null values (blank cells)** each column has\n",
    "    - **Type of values** in each column - int, float, string\n",
    "\n",
    "  - **By default**, it shows **data-type as `object` for anything other than int or float**\n",
    "\n"
   ]
  },
  {
   "cell_type": "code",
   "execution_count": 149,
   "id": "GO0zRptDfJ4x",
   "metadata": {
    "colab": {
     "base_uri": "https://localhost:8080/"
    },
    "id": "GO0zRptDfJ4x",
    "outputId": "70d1e4a5-771a-4ca0-ad89-ef6e53e1fd2c"
   },
   "outputs": [
    {
     "name": "stdout",
     "output_type": "stream",
     "text": [
      "<class 'pandas.core.frame.DataFrame'>\n",
      "RangeIndex: 1704 entries, 0 to 1703\n",
      "Data columns (total 6 columns):\n",
      " #   Column      Non-Null Count  Dtype  \n",
      "---  ------      --------------  -----  \n",
      " 0   country     1704 non-null   object \n",
      " 1   year        1704 non-null   int64  \n",
      " 2   population  1704 non-null   int64  \n",
      " 3   continent   1704 non-null   object \n",
      " 4   life_exp    1704 non-null   float64\n",
      " 5   gdp_cap     1704 non-null   float64\n",
      "dtypes: float64(2), int64(2), object(2)\n",
      "memory usage: 80.0+ KB\n"
     ]
    }
   ],
   "source": [
    "df.info()"
   ]
  },
  {
   "cell_type": "markdown",
   "id": "SEuMl7MMescw",
   "metadata": {
    "id": "SEuMl7MMescw"
   },
   "source": [
    "#### Now what if we want to see the first 20 rows in the dataset ? How can we do that ?\n",
    "\n",
    "  - Using df.head()\n",
    "\n",
    "  - It gives **specified number top rows**\n",
    "\n",
    "  - **Prints top 5 rows by default**"
   ]
  },
  {
   "cell_type": "code",
   "execution_count": 150,
   "id": "4c825d4e",
   "metadata": {
    "colab": {
     "base_uri": "https://localhost:8080/",
     "height": 206
    },
    "id": "4c825d4e",
    "outputId": "69096561-fd98-42e3-9993-7c23382b30ae"
   },
   "outputs": [
    {
     "data": {
      "text/html": [
       "<div>\n",
       "<style scoped>\n",
       "    .dataframe tbody tr th:only-of-type {\n",
       "        vertical-align: middle;\n",
       "    }\n",
       "\n",
       "    .dataframe tbody tr th {\n",
       "        vertical-align: top;\n",
       "    }\n",
       "\n",
       "    .dataframe thead th {\n",
       "        text-align: right;\n",
       "    }\n",
       "</style>\n",
       "<table border=\"1\" class=\"dataframe\">\n",
       "  <thead>\n",
       "    <tr style=\"text-align: right;\">\n",
       "      <th></th>\n",
       "      <th>country</th>\n",
       "      <th>year</th>\n",
       "      <th>population</th>\n",
       "      <th>continent</th>\n",
       "      <th>life_exp</th>\n",
       "      <th>gdp_cap</th>\n",
       "    </tr>\n",
       "  </thead>\n",
       "  <tbody>\n",
       "    <tr>\n",
       "      <th>0</th>\n",
       "      <td>Afghanistan</td>\n",
       "      <td>1952</td>\n",
       "      <td>8425333</td>\n",
       "      <td>Asia</td>\n",
       "      <td>28.801</td>\n",
       "      <td>779.445314</td>\n",
       "    </tr>\n",
       "    <tr>\n",
       "      <th>1</th>\n",
       "      <td>Afghanistan</td>\n",
       "      <td>1957</td>\n",
       "      <td>9240934</td>\n",
       "      <td>Asia</td>\n",
       "      <td>30.332</td>\n",
       "      <td>820.853030</td>\n",
       "    </tr>\n",
       "    <tr>\n",
       "      <th>2</th>\n",
       "      <td>Afghanistan</td>\n",
       "      <td>1962</td>\n",
       "      <td>10267083</td>\n",
       "      <td>Asia</td>\n",
       "      <td>31.997</td>\n",
       "      <td>853.100710</td>\n",
       "    </tr>\n",
       "    <tr>\n",
       "      <th>3</th>\n",
       "      <td>Afghanistan</td>\n",
       "      <td>1967</td>\n",
       "      <td>11537966</td>\n",
       "      <td>Asia</td>\n",
       "      <td>34.020</td>\n",
       "      <td>836.197138</td>\n",
       "    </tr>\n",
       "    <tr>\n",
       "      <th>4</th>\n",
       "      <td>Afghanistan</td>\n",
       "      <td>1972</td>\n",
       "      <td>13079460</td>\n",
       "      <td>Asia</td>\n",
       "      <td>36.088</td>\n",
       "      <td>739.981106</td>\n",
       "    </tr>\n",
       "  </tbody>\n",
       "</table>\n",
       "</div>"
      ],
      "text/plain": [
       "       country  year  population continent  life_exp     gdp_cap\n",
       "0  Afghanistan  1952     8425333      Asia    28.801  779.445314\n",
       "1  Afghanistan  1957     9240934      Asia    30.332  820.853030\n",
       "2  Afghanistan  1962    10267083      Asia    31.997  853.100710\n",
       "3  Afghanistan  1967    11537966      Asia    34.020  836.197138\n",
       "4  Afghanistan  1972    13079460      Asia    36.088  739.981106"
      ]
     },
     "execution_count": 150,
     "metadata": {},
     "output_type": "execute_result"
    }
   ],
   "source": [
    "df.head()"
   ]
  },
  {
   "cell_type": "markdown",
   "id": "d77a9a58",
   "metadata": {
    "id": "d77a9a58"
   },
   "source": [
    "We can also **pass in number of rows we want to see** in `head()`"
   ]
  },
  {
   "cell_type": "code",
   "execution_count": 151,
   "id": "7d9a0e5f",
   "metadata": {
    "colab": {
     "base_uri": "https://localhost:8080/",
     "height": 676
    },
    "id": "7d9a0e5f",
    "outputId": "87b30001-5269-48fd-bf0b-b26c02e039f2",
    "scrolled": true
   },
   "outputs": [
    {
     "data": {
      "text/html": [
       "<div>\n",
       "<style scoped>\n",
       "    .dataframe tbody tr th:only-of-type {\n",
       "        vertical-align: middle;\n",
       "    }\n",
       "\n",
       "    .dataframe tbody tr th {\n",
       "        vertical-align: top;\n",
       "    }\n",
       "\n",
       "    .dataframe thead th {\n",
       "        text-align: right;\n",
       "    }\n",
       "</style>\n",
       "<table border=\"1\" class=\"dataframe\">\n",
       "  <thead>\n",
       "    <tr style=\"text-align: right;\">\n",
       "      <th></th>\n",
       "      <th>country</th>\n",
       "      <th>year</th>\n",
       "      <th>population</th>\n",
       "      <th>continent</th>\n",
       "      <th>life_exp</th>\n",
       "      <th>gdp_cap</th>\n",
       "    </tr>\n",
       "  </thead>\n",
       "  <tbody>\n",
       "    <tr>\n",
       "      <th>0</th>\n",
       "      <td>Afghanistan</td>\n",
       "      <td>1952</td>\n",
       "      <td>8425333</td>\n",
       "      <td>Asia</td>\n",
       "      <td>28.801</td>\n",
       "      <td>779.445314</td>\n",
       "    </tr>\n",
       "    <tr>\n",
       "      <th>1</th>\n",
       "      <td>Afghanistan</td>\n",
       "      <td>1957</td>\n",
       "      <td>9240934</td>\n",
       "      <td>Asia</td>\n",
       "      <td>30.332</td>\n",
       "      <td>820.853030</td>\n",
       "    </tr>\n",
       "    <tr>\n",
       "      <th>2</th>\n",
       "      <td>Afghanistan</td>\n",
       "      <td>1962</td>\n",
       "      <td>10267083</td>\n",
       "      <td>Asia</td>\n",
       "      <td>31.997</td>\n",
       "      <td>853.100710</td>\n",
       "    </tr>\n",
       "    <tr>\n",
       "      <th>3</th>\n",
       "      <td>Afghanistan</td>\n",
       "      <td>1967</td>\n",
       "      <td>11537966</td>\n",
       "      <td>Asia</td>\n",
       "      <td>34.020</td>\n",
       "      <td>836.197138</td>\n",
       "    </tr>\n",
       "    <tr>\n",
       "      <th>4</th>\n",
       "      <td>Afghanistan</td>\n",
       "      <td>1972</td>\n",
       "      <td>13079460</td>\n",
       "      <td>Asia</td>\n",
       "      <td>36.088</td>\n",
       "      <td>739.981106</td>\n",
       "    </tr>\n",
       "    <tr>\n",
       "      <th>5</th>\n",
       "      <td>Afghanistan</td>\n",
       "      <td>1977</td>\n",
       "      <td>14880372</td>\n",
       "      <td>Asia</td>\n",
       "      <td>38.438</td>\n",
       "      <td>786.113360</td>\n",
       "    </tr>\n",
       "    <tr>\n",
       "      <th>6</th>\n",
       "      <td>Afghanistan</td>\n",
       "      <td>1982</td>\n",
       "      <td>12881816</td>\n",
       "      <td>Asia</td>\n",
       "      <td>39.854</td>\n",
       "      <td>978.011439</td>\n",
       "    </tr>\n",
       "    <tr>\n",
       "      <th>7</th>\n",
       "      <td>Afghanistan</td>\n",
       "      <td>1987</td>\n",
       "      <td>13867957</td>\n",
       "      <td>Asia</td>\n",
       "      <td>40.822</td>\n",
       "      <td>852.395945</td>\n",
       "    </tr>\n",
       "    <tr>\n",
       "      <th>8</th>\n",
       "      <td>Afghanistan</td>\n",
       "      <td>1992</td>\n",
       "      <td>16317921</td>\n",
       "      <td>Asia</td>\n",
       "      <td>41.674</td>\n",
       "      <td>649.341395</td>\n",
       "    </tr>\n",
       "    <tr>\n",
       "      <th>9</th>\n",
       "      <td>Afghanistan</td>\n",
       "      <td>1997</td>\n",
       "      <td>22227415</td>\n",
       "      <td>Asia</td>\n",
       "      <td>41.763</td>\n",
       "      <td>635.341351</td>\n",
       "    </tr>\n",
       "    <tr>\n",
       "      <th>10</th>\n",
       "      <td>Afghanistan</td>\n",
       "      <td>2002</td>\n",
       "      <td>25268405</td>\n",
       "      <td>Asia</td>\n",
       "      <td>42.129</td>\n",
       "      <td>726.734055</td>\n",
       "    </tr>\n",
       "    <tr>\n",
       "      <th>11</th>\n",
       "      <td>Afghanistan</td>\n",
       "      <td>2007</td>\n",
       "      <td>31889923</td>\n",
       "      <td>Asia</td>\n",
       "      <td>43.828</td>\n",
       "      <td>974.580338</td>\n",
       "    </tr>\n",
       "    <tr>\n",
       "      <th>12</th>\n",
       "      <td>Albania</td>\n",
       "      <td>1952</td>\n",
       "      <td>1282697</td>\n",
       "      <td>Europe</td>\n",
       "      <td>55.230</td>\n",
       "      <td>1601.056136</td>\n",
       "    </tr>\n",
       "    <tr>\n",
       "      <th>13</th>\n",
       "      <td>Albania</td>\n",
       "      <td>1957</td>\n",
       "      <td>1476505</td>\n",
       "      <td>Europe</td>\n",
       "      <td>59.280</td>\n",
       "      <td>1942.284244</td>\n",
       "    </tr>\n",
       "    <tr>\n",
       "      <th>14</th>\n",
       "      <td>Albania</td>\n",
       "      <td>1962</td>\n",
       "      <td>1728137</td>\n",
       "      <td>Europe</td>\n",
       "      <td>64.820</td>\n",
       "      <td>2312.888958</td>\n",
       "    </tr>\n",
       "    <tr>\n",
       "      <th>15</th>\n",
       "      <td>Albania</td>\n",
       "      <td>1967</td>\n",
       "      <td>1984060</td>\n",
       "      <td>Europe</td>\n",
       "      <td>66.220</td>\n",
       "      <td>2760.196931</td>\n",
       "    </tr>\n",
       "    <tr>\n",
       "      <th>16</th>\n",
       "      <td>Albania</td>\n",
       "      <td>1972</td>\n",
       "      <td>2263554</td>\n",
       "      <td>Europe</td>\n",
       "      <td>67.690</td>\n",
       "      <td>3313.422188</td>\n",
       "    </tr>\n",
       "    <tr>\n",
       "      <th>17</th>\n",
       "      <td>Albania</td>\n",
       "      <td>1977</td>\n",
       "      <td>2509048</td>\n",
       "      <td>Europe</td>\n",
       "      <td>68.930</td>\n",
       "      <td>3533.003910</td>\n",
       "    </tr>\n",
       "    <tr>\n",
       "      <th>18</th>\n",
       "      <td>Albania</td>\n",
       "      <td>1982</td>\n",
       "      <td>2780097</td>\n",
       "      <td>Europe</td>\n",
       "      <td>70.420</td>\n",
       "      <td>3630.880722</td>\n",
       "    </tr>\n",
       "    <tr>\n",
       "      <th>19</th>\n",
       "      <td>Albania</td>\n",
       "      <td>1987</td>\n",
       "      <td>3075321</td>\n",
       "      <td>Europe</td>\n",
       "      <td>72.000</td>\n",
       "      <td>3738.932735</td>\n",
       "    </tr>\n",
       "  </tbody>\n",
       "</table>\n",
       "</div>"
      ],
      "text/plain": [
       "        country  year  population continent  life_exp      gdp_cap\n",
       "0   Afghanistan  1952     8425333      Asia    28.801   779.445314\n",
       "1   Afghanistan  1957     9240934      Asia    30.332   820.853030\n",
       "2   Afghanistan  1962    10267083      Asia    31.997   853.100710\n",
       "3   Afghanistan  1967    11537966      Asia    34.020   836.197138\n",
       "4   Afghanistan  1972    13079460      Asia    36.088   739.981106\n",
       "5   Afghanistan  1977    14880372      Asia    38.438   786.113360\n",
       "6   Afghanistan  1982    12881816      Asia    39.854   978.011439\n",
       "7   Afghanistan  1987    13867957      Asia    40.822   852.395945\n",
       "8   Afghanistan  1992    16317921      Asia    41.674   649.341395\n",
       "9   Afghanistan  1997    22227415      Asia    41.763   635.341351\n",
       "10  Afghanistan  2002    25268405      Asia    42.129   726.734055\n",
       "11  Afghanistan  2007    31889923      Asia    43.828   974.580338\n",
       "12      Albania  1952     1282697    Europe    55.230  1601.056136\n",
       "13      Albania  1957     1476505    Europe    59.280  1942.284244\n",
       "14      Albania  1962     1728137    Europe    64.820  2312.888958\n",
       "15      Albania  1967     1984060    Europe    66.220  2760.196931\n",
       "16      Albania  1972     2263554    Europe    67.690  3313.422188\n",
       "17      Albania  1977     2509048    Europe    68.930  3533.003910\n",
       "18      Albania  1982     2780097    Europe    70.420  3630.880722\n",
       "19      Albania  1987     3075321    Europe    72.000  3738.932735"
      ]
     },
     "execution_count": 151,
     "metadata": {},
     "output_type": "execute_result"
    }
   ],
   "source": [
    "df.head(20)"
   ]
  },
  {
   "cell_type": "markdown",
   "id": "d5652cb7",
   "metadata": {
    "id": "d5652cb7"
   },
   "source": [
    "#### Similarly what if we want to see the last 20 rows ?\n",
    "  - We can use df.tail() for this purpose\n",
    "  - Its used to see specific number of last rows\n",
    "  - Shows last 5 rows by default"
   ]
  },
  {
   "cell_type": "code",
   "execution_count": 152,
   "id": "ee819ae4",
   "metadata": {
    "colab": {
     "base_uri": "https://localhost:8080/",
     "height": 676
    },
    "id": "ee819ae4",
    "outputId": "56da48af-eab2-41a6-fd4e-42963f8c2515"
   },
   "outputs": [
    {
     "data": {
      "text/html": [
       "<div>\n",
       "<style scoped>\n",
       "    .dataframe tbody tr th:only-of-type {\n",
       "        vertical-align: middle;\n",
       "    }\n",
       "\n",
       "    .dataframe tbody tr th {\n",
       "        vertical-align: top;\n",
       "    }\n",
       "\n",
       "    .dataframe thead th {\n",
       "        text-align: right;\n",
       "    }\n",
       "</style>\n",
       "<table border=\"1\" class=\"dataframe\">\n",
       "  <thead>\n",
       "    <tr style=\"text-align: right;\">\n",
       "      <th></th>\n",
       "      <th>country</th>\n",
       "      <th>year</th>\n",
       "      <th>population</th>\n",
       "      <th>continent</th>\n",
       "      <th>life_exp</th>\n",
       "      <th>gdp_cap</th>\n",
       "    </tr>\n",
       "  </thead>\n",
       "  <tbody>\n",
       "    <tr>\n",
       "      <th>1684</th>\n",
       "      <td>Zambia</td>\n",
       "      <td>1972</td>\n",
       "      <td>4506497</td>\n",
       "      <td>Africa</td>\n",
       "      <td>50.107</td>\n",
       "      <td>1773.498265</td>\n",
       "    </tr>\n",
       "    <tr>\n",
       "      <th>1685</th>\n",
       "      <td>Zambia</td>\n",
       "      <td>1977</td>\n",
       "      <td>5216550</td>\n",
       "      <td>Africa</td>\n",
       "      <td>51.386</td>\n",
       "      <td>1588.688299</td>\n",
       "    </tr>\n",
       "    <tr>\n",
       "      <th>1686</th>\n",
       "      <td>Zambia</td>\n",
       "      <td>1982</td>\n",
       "      <td>6100407</td>\n",
       "      <td>Africa</td>\n",
       "      <td>51.821</td>\n",
       "      <td>1408.678565</td>\n",
       "    </tr>\n",
       "    <tr>\n",
       "      <th>1687</th>\n",
       "      <td>Zambia</td>\n",
       "      <td>1987</td>\n",
       "      <td>7272406</td>\n",
       "      <td>Africa</td>\n",
       "      <td>50.821</td>\n",
       "      <td>1213.315116</td>\n",
       "    </tr>\n",
       "    <tr>\n",
       "      <th>1688</th>\n",
       "      <td>Zambia</td>\n",
       "      <td>1992</td>\n",
       "      <td>8381163</td>\n",
       "      <td>Africa</td>\n",
       "      <td>46.100</td>\n",
       "      <td>1210.884633</td>\n",
       "    </tr>\n",
       "    <tr>\n",
       "      <th>1689</th>\n",
       "      <td>Zambia</td>\n",
       "      <td>1997</td>\n",
       "      <td>9417789</td>\n",
       "      <td>Africa</td>\n",
       "      <td>40.238</td>\n",
       "      <td>1071.353818</td>\n",
       "    </tr>\n",
       "    <tr>\n",
       "      <th>1690</th>\n",
       "      <td>Zambia</td>\n",
       "      <td>2002</td>\n",
       "      <td>10595811</td>\n",
       "      <td>Africa</td>\n",
       "      <td>39.193</td>\n",
       "      <td>1071.613938</td>\n",
       "    </tr>\n",
       "    <tr>\n",
       "      <th>1691</th>\n",
       "      <td>Zambia</td>\n",
       "      <td>2007</td>\n",
       "      <td>11746035</td>\n",
       "      <td>Africa</td>\n",
       "      <td>42.384</td>\n",
       "      <td>1271.211593</td>\n",
       "    </tr>\n",
       "    <tr>\n",
       "      <th>1692</th>\n",
       "      <td>Zimbabwe</td>\n",
       "      <td>1952</td>\n",
       "      <td>3080907</td>\n",
       "      <td>Africa</td>\n",
       "      <td>48.451</td>\n",
       "      <td>406.884115</td>\n",
       "    </tr>\n",
       "    <tr>\n",
       "      <th>1693</th>\n",
       "      <td>Zimbabwe</td>\n",
       "      <td>1957</td>\n",
       "      <td>3646340</td>\n",
       "      <td>Africa</td>\n",
       "      <td>50.469</td>\n",
       "      <td>518.764268</td>\n",
       "    </tr>\n",
       "    <tr>\n",
       "      <th>1694</th>\n",
       "      <td>Zimbabwe</td>\n",
       "      <td>1962</td>\n",
       "      <td>4277736</td>\n",
       "      <td>Africa</td>\n",
       "      <td>52.358</td>\n",
       "      <td>527.272182</td>\n",
       "    </tr>\n",
       "    <tr>\n",
       "      <th>1695</th>\n",
       "      <td>Zimbabwe</td>\n",
       "      <td>1967</td>\n",
       "      <td>4995432</td>\n",
       "      <td>Africa</td>\n",
       "      <td>53.995</td>\n",
       "      <td>569.795071</td>\n",
       "    </tr>\n",
       "    <tr>\n",
       "      <th>1696</th>\n",
       "      <td>Zimbabwe</td>\n",
       "      <td>1972</td>\n",
       "      <td>5861135</td>\n",
       "      <td>Africa</td>\n",
       "      <td>55.635</td>\n",
       "      <td>799.362176</td>\n",
       "    </tr>\n",
       "    <tr>\n",
       "      <th>1697</th>\n",
       "      <td>Zimbabwe</td>\n",
       "      <td>1977</td>\n",
       "      <td>6642107</td>\n",
       "      <td>Africa</td>\n",
       "      <td>57.674</td>\n",
       "      <td>685.587682</td>\n",
       "    </tr>\n",
       "    <tr>\n",
       "      <th>1698</th>\n",
       "      <td>Zimbabwe</td>\n",
       "      <td>1982</td>\n",
       "      <td>7636524</td>\n",
       "      <td>Africa</td>\n",
       "      <td>60.363</td>\n",
       "      <td>788.855041</td>\n",
       "    </tr>\n",
       "    <tr>\n",
       "      <th>1699</th>\n",
       "      <td>Zimbabwe</td>\n",
       "      <td>1987</td>\n",
       "      <td>9216418</td>\n",
       "      <td>Africa</td>\n",
       "      <td>62.351</td>\n",
       "      <td>706.157306</td>\n",
       "    </tr>\n",
       "    <tr>\n",
       "      <th>1700</th>\n",
       "      <td>Zimbabwe</td>\n",
       "      <td>1992</td>\n",
       "      <td>10704340</td>\n",
       "      <td>Africa</td>\n",
       "      <td>60.377</td>\n",
       "      <td>693.420786</td>\n",
       "    </tr>\n",
       "    <tr>\n",
       "      <th>1701</th>\n",
       "      <td>Zimbabwe</td>\n",
       "      <td>1997</td>\n",
       "      <td>11404948</td>\n",
       "      <td>Africa</td>\n",
       "      <td>46.809</td>\n",
       "      <td>792.449960</td>\n",
       "    </tr>\n",
       "    <tr>\n",
       "      <th>1702</th>\n",
       "      <td>Zimbabwe</td>\n",
       "      <td>2002</td>\n",
       "      <td>11926563</td>\n",
       "      <td>Africa</td>\n",
       "      <td>39.989</td>\n",
       "      <td>672.038623</td>\n",
       "    </tr>\n",
       "    <tr>\n",
       "      <th>1703</th>\n",
       "      <td>Zimbabwe</td>\n",
       "      <td>2007</td>\n",
       "      <td>12311143</td>\n",
       "      <td>Africa</td>\n",
       "      <td>43.487</td>\n",
       "      <td>469.709298</td>\n",
       "    </tr>\n",
       "  </tbody>\n",
       "</table>\n",
       "</div>"
      ],
      "text/plain": [
       "       country  year  population continent  life_exp      gdp_cap\n",
       "1684    Zambia  1972     4506497    Africa    50.107  1773.498265\n",
       "1685    Zambia  1977     5216550    Africa    51.386  1588.688299\n",
       "1686    Zambia  1982     6100407    Africa    51.821  1408.678565\n",
       "1687    Zambia  1987     7272406    Africa    50.821  1213.315116\n",
       "1688    Zambia  1992     8381163    Africa    46.100  1210.884633\n",
       "1689    Zambia  1997     9417789    Africa    40.238  1071.353818\n",
       "1690    Zambia  2002    10595811    Africa    39.193  1071.613938\n",
       "1691    Zambia  2007    11746035    Africa    42.384  1271.211593\n",
       "1692  Zimbabwe  1952     3080907    Africa    48.451   406.884115\n",
       "1693  Zimbabwe  1957     3646340    Africa    50.469   518.764268\n",
       "1694  Zimbabwe  1962     4277736    Africa    52.358   527.272182\n",
       "1695  Zimbabwe  1967     4995432    Africa    53.995   569.795071\n",
       "1696  Zimbabwe  1972     5861135    Africa    55.635   799.362176\n",
       "1697  Zimbabwe  1977     6642107    Africa    57.674   685.587682\n",
       "1698  Zimbabwe  1982     7636524    Africa    60.363   788.855041\n",
       "1699  Zimbabwe  1987     9216418    Africa    62.351   706.157306\n",
       "1700  Zimbabwe  1992    10704340    Africa    60.377   693.420786\n",
       "1701  Zimbabwe  1997    11404948    Africa    46.809   792.449960\n",
       "1702  Zimbabwe  2002    11926563    Africa    39.989   672.038623\n",
       "1703  Zimbabwe  2007    12311143    Africa    43.487   469.709298"
      ]
     },
     "execution_count": 152,
     "metadata": {},
     "output_type": "execute_result"
    }
   ],
   "source": [
    "df.tail(20)"
   ]
  },
  {
   "cell_type": "markdown",
   "id": "8b950997",
   "metadata": {
    "id": "8b950997"
   },
   "source": [
    "We can also find the shape of dataframe using df.shape()\n",
    "\n",
    "- Similar to Numpy\n",
    "- Gives **No. of Rows and Columns** -- **Dimensions**"
   ]
  },
  {
   "cell_type": "code",
   "execution_count": 153,
   "id": "76bc0189",
   "metadata": {
    "colab": {
     "base_uri": "https://localhost:8080/"
    },
    "id": "76bc0189",
    "outputId": "ff66358b-a7be-4ef2-92ab-205e49398339"
   },
   "outputs": [
    {
     "data": {
      "text/plain": [
       "(1704, 6)"
      ]
     },
     "execution_count": 153,
     "metadata": {},
     "output_type": "execute_result"
    }
   ],
   "source": [
    "df.shape"
   ]
  },
  {
   "cell_type": "markdown",
   "id": "3c266de9",
   "metadata": {
    "id": "3c266de9"
   },
   "source": [
    "Now we have seen our data\n",
    "\n",
    "#### Lets look at some statistics of the data\n",
    "\n",
    "These stats will help us:\n",
    "- To understand the patterns in data \n",
    "- To analyse it in a better way\n",
    "\n",
    "#### How can we achieve that ?\n",
    "\n",
    "  - Using df.describe()\n",
    "\n",
    "#### What will df.describe() do ?\n",
    "\n",
    "  - Show **statistical summary** of **only columns having numerical values**\n",
    "\n",
    "    - **count** - How many values does each column has\n",
    "\n",
    "    - **mean** - average of values in each column\n",
    "\n",
    "    - **std** - **standard deviation** - measure of **how spread** the data is\n",
    "\n",
    "    - **min** - **smallest value** in the entire column\n",
    "\n",
    "    - **max** - **largest value** in the entire column\n",
    "\n",
    "\n",
    "- It also gives **25th, 50th and 75th percentile** of values in each column\n",
    "\n",
    "    - If we **sort** the values in a column **in ascending order**\n",
    "    - **50% gives median** of the values\n",
    "    - Similarly **25% and 75% give 1/4th and 3/4th percentile**"
   ]
  },
  {
   "cell_type": "code",
   "execution_count": 154,
   "id": "148c3615",
   "metadata": {
    "colab": {
     "base_uri": "https://localhost:8080/",
     "height": 300
    },
    "id": "148c3615",
    "outputId": "61c5d365-fd7d-4d6d-ccce-1ead5adf694f"
   },
   "outputs": [
    {
     "data": {
      "text/html": [
       "<div>\n",
       "<style scoped>\n",
       "    .dataframe tbody tr th:only-of-type {\n",
       "        vertical-align: middle;\n",
       "    }\n",
       "\n",
       "    .dataframe tbody tr th {\n",
       "        vertical-align: top;\n",
       "    }\n",
       "\n",
       "    .dataframe thead th {\n",
       "        text-align: right;\n",
       "    }\n",
       "</style>\n",
       "<table border=\"1\" class=\"dataframe\">\n",
       "  <thead>\n",
       "    <tr style=\"text-align: right;\">\n",
       "      <th></th>\n",
       "      <th>year</th>\n",
       "      <th>population</th>\n",
       "      <th>life_exp</th>\n",
       "      <th>gdp_cap</th>\n",
       "    </tr>\n",
       "  </thead>\n",
       "  <tbody>\n",
       "    <tr>\n",
       "      <th>count</th>\n",
       "      <td>1704.00000</td>\n",
       "      <td>1.704000e+03</td>\n",
       "      <td>1704.000000</td>\n",
       "      <td>1704.000000</td>\n",
       "    </tr>\n",
       "    <tr>\n",
       "      <th>mean</th>\n",
       "      <td>1979.50000</td>\n",
       "      <td>2.960121e+07</td>\n",
       "      <td>59.474439</td>\n",
       "      <td>7215.327081</td>\n",
       "    </tr>\n",
       "    <tr>\n",
       "      <th>std</th>\n",
       "      <td>17.26533</td>\n",
       "      <td>1.061579e+08</td>\n",
       "      <td>12.917107</td>\n",
       "      <td>9857.454543</td>\n",
       "    </tr>\n",
       "    <tr>\n",
       "      <th>min</th>\n",
       "      <td>1952.00000</td>\n",
       "      <td>6.001100e+04</td>\n",
       "      <td>23.599000</td>\n",
       "      <td>241.165876</td>\n",
       "    </tr>\n",
       "    <tr>\n",
       "      <th>25%</th>\n",
       "      <td>1965.75000</td>\n",
       "      <td>2.793664e+06</td>\n",
       "      <td>48.198000</td>\n",
       "      <td>1202.060309</td>\n",
       "    </tr>\n",
       "    <tr>\n",
       "      <th>50%</th>\n",
       "      <td>1979.50000</td>\n",
       "      <td>7.023596e+06</td>\n",
       "      <td>60.712500</td>\n",
       "      <td>3531.846988</td>\n",
       "    </tr>\n",
       "    <tr>\n",
       "      <th>75%</th>\n",
       "      <td>1993.25000</td>\n",
       "      <td>1.958522e+07</td>\n",
       "      <td>70.845500</td>\n",
       "      <td>9325.462346</td>\n",
       "    </tr>\n",
       "    <tr>\n",
       "      <th>max</th>\n",
       "      <td>2007.00000</td>\n",
       "      <td>1.318683e+09</td>\n",
       "      <td>82.603000</td>\n",
       "      <td>113523.132900</td>\n",
       "    </tr>\n",
       "  </tbody>\n",
       "</table>\n",
       "</div>"
      ],
      "text/plain": [
       "             year    population     life_exp        gdp_cap\n",
       "count  1704.00000  1.704000e+03  1704.000000    1704.000000\n",
       "mean   1979.50000  2.960121e+07    59.474439    7215.327081\n",
       "std      17.26533  1.061579e+08    12.917107    9857.454543\n",
       "min    1952.00000  6.001100e+04    23.599000     241.165876\n",
       "25%    1965.75000  2.793664e+06    48.198000    1202.060309\n",
       "50%    1979.50000  7.023596e+06    60.712500    3531.846988\n",
       "75%    1993.25000  1.958522e+07    70.845500    9325.462346\n",
       "max    2007.00000  1.318683e+09    82.603000  113523.132900"
      ]
     },
     "execution_count": 154,
     "metadata": {},
     "output_type": "execute_result"
    }
   ],
   "source": [
    "df.describe()"
   ]
  },
  {
   "cell_type": "markdown",
   "id": "1a5ccd82",
   "metadata": {
    "id": "1a5ccd82"
   },
   "source": [
    "#### What can we infer from this info ?\n",
    " - Avg life expectancy of countries being surveyed is approx 59 yrs\n",
    " - But its std is approx 13\n",
    " - This means it varies a lot across diff countries\n",
    " - A similar inference can also be drawn for GDP per Capita\n",
    "\n",
    "But this does not give any info about cols with `object` datatype\n",
    "\n",
    "#### How can we get info about object datatype columns ? ?\n",
    "  \n",
    "  - To print the info of such cols we will have to use the `include` parameter of the function\n",
    "\n",
    "  - It takes list of dtypes as the input\n",
    "\n",
    "  - Lets see how it works\n"
   ]
  },
  {
   "cell_type": "code",
   "execution_count": null,
   "id": "dkI0H8M4Yd7U",
   "metadata": {
    "colab": {
     "base_uri": "https://localhost:8080/",
     "height": 394
    },
    "id": "dkI0H8M4Yd7U",
    "outputId": "566ca228-6ad0-4228-c278-74a317c34af4"
   },
   "outputs": [],
   "source": [
    "df.describe(include = [\"object\", \"int64\", \"float64\"])"
   ]
  },
  {
   "cell_type": "markdown",
   "id": "e5b9LNwiZHAx",
   "metadata": {
    "id": "e5b9LNwiZHAx"
   },
   "source": [
    "#### Now what can you observe from this ?\n",
    "  \n",
    "  - All the column's info has been displayed\n",
    "  - For `object` cols, the information printed is of:\n",
    "    - count: Total non-null vals in the col\n",
    "    - unique: Tells no. of unique vals in the col\n",
    "    - top: Most common val\n",
    "    - freq: No. of occurences of the most common val\n",
    "\n",
    "Lets move on now"
   ]
  },
  {
   "cell_type": "markdown",
   "id": "hX2wWkcifQpA",
   "metadata": {
    "id": "hX2wWkcifQpA"
   },
   "source": [
    "\n",
    "#### We now have a basic idea about the dataset\n",
    "\n",
    "But there is still more to do\n",
    "\n",
    "To perform a more in-depth analysis we need to process the columns of the dataset\n",
    "\n",
    "## Basic operations on columns [00:34 - 00:44]\n",
    "\n",
    "We can see that our dataset has 6 cols\n",
    "\n",
    "#### But what if our dataset has 20 cols ? ... or 100 cols ?\n",
    "\n",
    "#### How can we get the names of all these cols ?\n",
    "  - We can use:\n",
    "    - df.columns\n",
    "    - df.keys"
   ]
  },
  {
   "cell_type": "code",
   "execution_count": 155,
   "id": "fef4fd24",
   "metadata": {
    "colab": {
     "base_uri": "https://localhost:8080/"
    },
    "id": "fef4fd24",
    "outputId": "eac52b37-5b81-4254-fe4f-4b2a766b954e"
   },
   "outputs": [
    {
     "data": {
      "text/plain": [
       "Index(['country', 'year', 'population', 'continent', 'life_exp', 'gdp_cap'], dtype='object')"
      ]
     },
     "execution_count": 155,
     "metadata": {},
     "output_type": "execute_result"
    }
   ],
   "source": [
    "df.columns  # using attribute `columns` of dataframe"
   ]
  },
  {
   "cell_type": "code",
   "execution_count": 156,
   "id": "b7a14fa0",
   "metadata": {
    "colab": {
     "base_uri": "https://localhost:8080/"
    },
    "id": "b7a14fa0",
    "outputId": "b56f87da-46a2-4f0a-801e-6bafd3ebb3b7"
   },
   "outputs": [
    {
     "data": {
      "text/plain": [
       "Index(['country', 'year', 'population', 'continent', 'life_exp', 'gdp_cap'], dtype='object')"
      ]
     },
     "execution_count": 156,
     "metadata": {},
     "output_type": "execute_result"
    }
   ],
   "source": [
    "df.keys()  # using method keys() of dataframe"
   ]
  },
  {
   "cell_type": "markdown",
   "id": "2d30c5cb",
   "metadata": {
    "id": "2d30c5cb"
   },
   "source": [
    "This tells that **pandas dataframe treat column names as keys**\n",
    "\n",
    "#### Question: In which built-in data-type have we seen keys before?\n",
    "\n",
    "- **Dictionary**\n",
    "\n",
    "- Remember in dictionary, **we pass in the key as index** and it **gives the value**\n",
    "\n",
    "- Same thing happens with pandas dataframe\n",
    "\n",
    "\n",
    "Pandas DataFrame and Series are **specialised dictionary**"
   ]
  },
  {
   "cell_type": "code",
   "execution_count": 157,
   "id": "b2d5e4da",
   "metadata": {
    "colab": {
     "base_uri": "https://localhost:8080/"
    },
    "id": "b2d5e4da",
    "outputId": "5e1c7586-c555-4e54-fad0-e08af6db0c0f"
   },
   "outputs": [
    {
     "data": {
      "text/plain": [
       "0    Afghanistan\n",
       "1    Afghanistan\n",
       "2    Afghanistan\n",
       "3    Afghanistan\n",
       "4    Afghanistan\n",
       "Name: country, dtype: object"
      ]
     },
     "execution_count": 157,
     "metadata": {},
     "output_type": "execute_result"
    }
   ],
   "source": [
    "df['country'].head()  # Gives values in Top 5 rows pertaining to the key"
   ]
  },
  {
   "cell_type": "markdown",
   "id": "67ca3597",
   "metadata": {
    "id": "67ca3597"
   },
   "source": [
    "#### But what is so \"special\" about this dictionary?\n",
    "\n",
    "  - It can take multiple keys\n",
    "\n",
    "  - **Pack the column names (Keys) into a list** and **pass it in as a single index**"
   ]
  },
  {
   "cell_type": "code",
   "execution_count": 158,
   "id": "21a35bd2",
   "metadata": {
    "colab": {
     "base_uri": "https://localhost:8080/",
     "height": 206
    },
    "id": "21a35bd2",
    "outputId": "e10679da-2042-4f73-d751-c5f3c78f6450"
   },
   "outputs": [
    {
     "data": {
      "text/html": [
       "<div>\n",
       "<style scoped>\n",
       "    .dataframe tbody tr th:only-of-type {\n",
       "        vertical-align: middle;\n",
       "    }\n",
       "\n",
       "    .dataframe tbody tr th {\n",
       "        vertical-align: top;\n",
       "    }\n",
       "\n",
       "    .dataframe thead th {\n",
       "        text-align: right;\n",
       "    }\n",
       "</style>\n",
       "<table border=\"1\" class=\"dataframe\">\n",
       "  <thead>\n",
       "    <tr style=\"text-align: right;\">\n",
       "      <th></th>\n",
       "      <th>country</th>\n",
       "      <th>life_exp</th>\n",
       "    </tr>\n",
       "  </thead>\n",
       "  <tbody>\n",
       "    <tr>\n",
       "      <th>0</th>\n",
       "      <td>Afghanistan</td>\n",
       "      <td>28.801</td>\n",
       "    </tr>\n",
       "    <tr>\n",
       "      <th>1</th>\n",
       "      <td>Afghanistan</td>\n",
       "      <td>30.332</td>\n",
       "    </tr>\n",
       "    <tr>\n",
       "      <th>2</th>\n",
       "      <td>Afghanistan</td>\n",
       "      <td>31.997</td>\n",
       "    </tr>\n",
       "    <tr>\n",
       "      <th>3</th>\n",
       "      <td>Afghanistan</td>\n",
       "      <td>34.020</td>\n",
       "    </tr>\n",
       "    <tr>\n",
       "      <th>4</th>\n",
       "      <td>Afghanistan</td>\n",
       "      <td>36.088</td>\n",
       "    </tr>\n",
       "  </tbody>\n",
       "</table>\n",
       "</div>"
      ],
      "text/plain": [
       "       country  life_exp\n",
       "0  Afghanistan    28.801\n",
       "1  Afghanistan    30.332\n",
       "2  Afghanistan    31.997\n",
       "3  Afghanistan    34.020\n",
       "4  Afghanistan    36.088"
      ]
     },
     "execution_count": 158,
     "metadata": {},
     "output_type": "execute_result"
    }
   ],
   "source": [
    "df[['country', 'life_exp']].head()"
   ]
  },
  {
   "cell_type": "markdown",
   "id": "Lw59Tu-DQOLu",
   "metadata": {
    "id": "Lw59Tu-DQOLu"
   },
   "source": [
    "### Now we want to find the countries that have been surveyed \n",
    "\n",
    "#### How can we do that ?\n",
    "  - For this, we need to find the unique vals in the `country` col\n",
    "  - Lets see how we can do that using pandas"
   ]
  },
  {
   "cell_type": "code",
   "execution_count": 159,
   "id": "0Yfy1XjMQ3F7",
   "metadata": {
    "colab": {
     "base_uri": "https://localhost:8080/"
    },
    "id": "0Yfy1XjMQ3F7",
    "outputId": "3c0561bf-18c4-47f1-b614-54f94e24ce46"
   },
   "outputs": [
    {
     "data": {
      "text/plain": [
       "array(['Afghanistan', 'Albania', 'Algeria', 'Angola', 'Argentina',\n",
       "       'Australia', 'Austria', 'Bahrain', 'Bangladesh', 'Belgium',\n",
       "       'Benin', 'Bolivia', 'Bosnia and Herzegovina', 'Botswana', 'Brazil',\n",
       "       'Bulgaria', 'Burkina Faso', 'Burundi', 'Cambodia', 'Cameroon',\n",
       "       'Canada', 'Central African Republic', 'Chad', 'Chile', 'China',\n",
       "       'Colombia', 'Comoros', 'Congo, Dem. Rep.', 'Congo, Rep.',\n",
       "       'Costa Rica', \"Cote d'Ivoire\", 'Croatia', 'Cuba', 'Czech Republic',\n",
       "       'Denmark', 'Djibouti', 'Dominican Republic', 'Ecuador', 'Egypt',\n",
       "       'El Salvador', 'Equatorial Guinea', 'Eritrea', 'Ethiopia',\n",
       "       'Finland', 'France', 'Gabon', 'Gambia', 'Germany', 'Ghana',\n",
       "       'Greece', 'Guatemala', 'Guinea', 'Guinea-Bissau', 'Haiti',\n",
       "       'Honduras', 'Hong Kong, China', 'Hungary', 'Iceland', 'India',\n",
       "       'Indonesia', 'Iran', 'Iraq', 'Ireland', 'Israel', 'Italy',\n",
       "       'Jamaica', 'Japan', 'Jordan', 'Kenya', 'Korea, Dem. Rep.',\n",
       "       'Korea, Rep.', 'Kuwait', 'Lebanon', 'Lesotho', 'Liberia', 'Libya',\n",
       "       'Madagascar', 'Malawi', 'Malaysia', 'Mali', 'Mauritania',\n",
       "       'Mauritius', 'Mexico', 'Mongolia', 'Montenegro', 'Morocco',\n",
       "       'Mozambique', 'Myanmar', 'Namibia', 'Nepal', 'Netherlands',\n",
       "       'New Zealand', 'Nicaragua', 'Niger', 'Nigeria', 'Norway', 'Oman',\n",
       "       'Pakistan', 'Panama', 'Paraguay', 'Peru', 'Philippines', 'Poland',\n",
       "       'Portugal', 'Puerto Rico', 'Reunion', 'Romania', 'Rwanda',\n",
       "       'Sao Tome and Principe', 'Saudi Arabia', 'Senegal', 'Serbia',\n",
       "       'Sierra Leone', 'Singapore', 'Slovak Republic', 'Slovenia',\n",
       "       'Somalia', 'South Africa', 'Spain', 'Sri Lanka', 'Sudan',\n",
       "       'Swaziland', 'Sweden', 'Switzerland', 'Syria', 'Taiwan',\n",
       "       'Tanzania', 'Thailand', 'Togo', 'Trinidad and Tobago', 'Tunisia',\n",
       "       'Turkey', 'Uganda', 'United Kingdom', 'United States', 'Uruguay',\n",
       "       'Venezuela', 'Vietnam', 'West Bank and Gaza', 'Yemen, Rep.',\n",
       "       'Zambia', 'Zimbabwe'], dtype=object)"
      ]
     },
     "execution_count": 159,
     "metadata": {},
     "output_type": "execute_result"
    }
   ],
   "source": [
    "df['country'].unique()"
   ]
  },
  {
   "cell_type": "markdown",
   "id": "wrppgTHzSByt",
   "metadata": {
    "id": "wrppgTHzSByt"
   },
   "source": [
    "#### Now if you also want to check for count for each country name appears in df['column'] ?\n",
    "\n",
    "* That also we can do using value_counts()"
   ]
  },
  {
   "cell_type": "code",
   "execution_count": 160,
   "id": "HAm69U_7SQcN",
   "metadata": {
    "colab": {
     "base_uri": "https://localhost:8080/"
    },
    "id": "HAm69U_7SQcN",
    "outputId": "74c6211a-ca21-4fe5-ec8a-97b52661e315"
   },
   "outputs": [
    {
     "data": {
      "text/plain": [
       "Jamaica                   12\n",
       "Norway                    12\n",
       "Tunisia                   12\n",
       "Sudan                     12\n",
       "Bosnia and Herzegovina    12\n",
       "                          ..\n",
       "Spain                     12\n",
       "Sao Tome and Principe     12\n",
       "Mongolia                  12\n",
       "Libya                     12\n",
       "Ethiopia                  12\n",
       "Name: country, Length: 142, dtype: int64"
      ]
     },
     "execution_count": 160,
     "metadata": {},
     "output_type": "execute_result"
    }
   ],
   "source": [
    "df['country'].value_counts()"
   ]
  },
  {
   "cell_type": "markdown",
   "id": "4PwBJlrnSXMG",
   "metadata": {
    "id": "4PwBJlrnSXMG"
   },
   "source": [
    "So you can see here that we have total 142 unique country names and also the number of times they appeared in the data"
   ]
  },
  {
   "cell_type": "markdown",
   "id": "KrDUjADzjAzH",
   "metadata": {
    "id": "KrDUjADzjAzH"
   },
   "source": [
    "#### And what if we want to change the name of a column ?\n",
    "  - We can do so using df.rename()"
   ]
  },
  {
   "cell_type": "code",
   "execution_count": 161,
   "id": "c83158d9",
   "metadata": {},
   "outputs": [
    {
     "data": {
      "text/html": [
       "<div>\n",
       "<style scoped>\n",
       "    .dataframe tbody tr th:only-of-type {\n",
       "        vertical-align: middle;\n",
       "    }\n",
       "\n",
       "    .dataframe tbody tr th {\n",
       "        vertical-align: top;\n",
       "    }\n",
       "\n",
       "    .dataframe thead th {\n",
       "        text-align: right;\n",
       "    }\n",
       "</style>\n",
       "<table border=\"1\" class=\"dataframe\">\n",
       "  <thead>\n",
       "    <tr style=\"text-align: right;\">\n",
       "      <th></th>\n",
       "      <th>country</th>\n",
       "      <th>year</th>\n",
       "      <th>population</th>\n",
       "      <th>continent</th>\n",
       "      <th>life_exp</th>\n",
       "      <th>gdp_cap</th>\n",
       "    </tr>\n",
       "  </thead>\n",
       "  <tbody>\n",
       "    <tr>\n",
       "      <th>0</th>\n",
       "      <td>Afghanistan</td>\n",
       "      <td>1952</td>\n",
       "      <td>8425333</td>\n",
       "      <td>Asia</td>\n",
       "      <td>28.801</td>\n",
       "      <td>779.445314</td>\n",
       "    </tr>\n",
       "    <tr>\n",
       "      <th>1</th>\n",
       "      <td>Afghanistan</td>\n",
       "      <td>1957</td>\n",
       "      <td>9240934</td>\n",
       "      <td>Asia</td>\n",
       "      <td>30.332</td>\n",
       "      <td>820.853030</td>\n",
       "    </tr>\n",
       "    <tr>\n",
       "      <th>2</th>\n",
       "      <td>Afghanistan</td>\n",
       "      <td>1962</td>\n",
       "      <td>10267083</td>\n",
       "      <td>Asia</td>\n",
       "      <td>31.997</td>\n",
       "      <td>853.100710</td>\n",
       "    </tr>\n",
       "    <tr>\n",
       "      <th>3</th>\n",
       "      <td>Afghanistan</td>\n",
       "      <td>1967</td>\n",
       "      <td>11537966</td>\n",
       "      <td>Asia</td>\n",
       "      <td>34.020</td>\n",
       "      <td>836.197138</td>\n",
       "    </tr>\n",
       "    <tr>\n",
       "      <th>4</th>\n",
       "      <td>Afghanistan</td>\n",
       "      <td>1972</td>\n",
       "      <td>13079460</td>\n",
       "      <td>Asia</td>\n",
       "      <td>36.088</td>\n",
       "      <td>739.981106</td>\n",
       "    </tr>\n",
       "    <tr>\n",
       "      <th>...</th>\n",
       "      <td>...</td>\n",
       "      <td>...</td>\n",
       "      <td>...</td>\n",
       "      <td>...</td>\n",
       "      <td>...</td>\n",
       "      <td>...</td>\n",
       "    </tr>\n",
       "    <tr>\n",
       "      <th>1699</th>\n",
       "      <td>Zimbabwe</td>\n",
       "      <td>1987</td>\n",
       "      <td>9216418</td>\n",
       "      <td>Africa</td>\n",
       "      <td>62.351</td>\n",
       "      <td>706.157306</td>\n",
       "    </tr>\n",
       "    <tr>\n",
       "      <th>1700</th>\n",
       "      <td>Zimbabwe</td>\n",
       "      <td>1992</td>\n",
       "      <td>10704340</td>\n",
       "      <td>Africa</td>\n",
       "      <td>60.377</td>\n",
       "      <td>693.420786</td>\n",
       "    </tr>\n",
       "    <tr>\n",
       "      <th>1701</th>\n",
       "      <td>Zimbabwe</td>\n",
       "      <td>1997</td>\n",
       "      <td>11404948</td>\n",
       "      <td>Africa</td>\n",
       "      <td>46.809</td>\n",
       "      <td>792.449960</td>\n",
       "    </tr>\n",
       "    <tr>\n",
       "      <th>1702</th>\n",
       "      <td>Zimbabwe</td>\n",
       "      <td>2002</td>\n",
       "      <td>11926563</td>\n",
       "      <td>Africa</td>\n",
       "      <td>39.989</td>\n",
       "      <td>672.038623</td>\n",
       "    </tr>\n",
       "    <tr>\n",
       "      <th>1703</th>\n",
       "      <td>Zimbabwe</td>\n",
       "      <td>2007</td>\n",
       "      <td>12311143</td>\n",
       "      <td>Africa</td>\n",
       "      <td>43.487</td>\n",
       "      <td>469.709298</td>\n",
       "    </tr>\n",
       "  </tbody>\n",
       "</table>\n",
       "<p>1704 rows × 6 columns</p>\n",
       "</div>"
      ],
      "text/plain": [
       "          country  year  population continent  life_exp     gdp_cap\n",
       "0     Afghanistan  1952     8425333      Asia    28.801  779.445314\n",
       "1     Afghanistan  1957     9240934      Asia    30.332  820.853030\n",
       "2     Afghanistan  1962    10267083      Asia    31.997  853.100710\n",
       "3     Afghanistan  1967    11537966      Asia    34.020  836.197138\n",
       "4     Afghanistan  1972    13079460      Asia    36.088  739.981106\n",
       "...           ...   ...         ...       ...       ...         ...\n",
       "1699     Zimbabwe  1987     9216418    Africa    62.351  706.157306\n",
       "1700     Zimbabwe  1992    10704340    Africa    60.377  693.420786\n",
       "1701     Zimbabwe  1997    11404948    Africa    46.809  792.449960\n",
       "1702     Zimbabwe  2002    11926563    Africa    39.989  672.038623\n",
       "1703     Zimbabwe  2007    12311143    Africa    43.487  469.709298\n",
       "\n",
       "[1704 rows x 6 columns]"
      ]
     },
     "execution_count": 161,
     "metadata": {},
     "output_type": "execute_result"
    }
   ],
   "source": [
    "df.rename({\"country\": \"Country\"})"
   ]
  },
  {
   "cell_type": "code",
   "execution_count": 162,
   "id": "nZ6Gj0rajH3r",
   "metadata": {
    "colab": {
     "base_uri": "https://localhost:8080/",
     "height": 424
    },
    "id": "nZ6Gj0rajH3r",
    "outputId": "4b5f661b-cac2-4bd2-8145-ecd1363e233f"
   },
   "outputs": [
    {
     "data": {
      "text/html": [
       "<div>\n",
       "<style scoped>\n",
       "    .dataframe tbody tr th:only-of-type {\n",
       "        vertical-align: middle;\n",
       "    }\n",
       "\n",
       "    .dataframe tbody tr th {\n",
       "        vertical-align: top;\n",
       "    }\n",
       "\n",
       "    .dataframe thead th {\n",
       "        text-align: right;\n",
       "    }\n",
       "</style>\n",
       "<table border=\"1\" class=\"dataframe\">\n",
       "  <thead>\n",
       "    <tr style=\"text-align: right;\">\n",
       "      <th></th>\n",
       "      <th>Country</th>\n",
       "      <th>year</th>\n",
       "      <th>population</th>\n",
       "      <th>continent</th>\n",
       "      <th>life_exp</th>\n",
       "      <th>gdp_cap</th>\n",
       "    </tr>\n",
       "  </thead>\n",
       "  <tbody>\n",
       "    <tr>\n",
       "      <th>0</th>\n",
       "      <td>Afghanistan</td>\n",
       "      <td>1952</td>\n",
       "      <td>8425333</td>\n",
       "      <td>Asia</td>\n",
       "      <td>28.801</td>\n",
       "      <td>779.445314</td>\n",
       "    </tr>\n",
       "    <tr>\n",
       "      <th>1</th>\n",
       "      <td>Afghanistan</td>\n",
       "      <td>1957</td>\n",
       "      <td>9240934</td>\n",
       "      <td>Asia</td>\n",
       "      <td>30.332</td>\n",
       "      <td>820.853030</td>\n",
       "    </tr>\n",
       "    <tr>\n",
       "      <th>2</th>\n",
       "      <td>Afghanistan</td>\n",
       "      <td>1962</td>\n",
       "      <td>10267083</td>\n",
       "      <td>Asia</td>\n",
       "      <td>31.997</td>\n",
       "      <td>853.100710</td>\n",
       "    </tr>\n",
       "    <tr>\n",
       "      <th>3</th>\n",
       "      <td>Afghanistan</td>\n",
       "      <td>1967</td>\n",
       "      <td>11537966</td>\n",
       "      <td>Asia</td>\n",
       "      <td>34.020</td>\n",
       "      <td>836.197138</td>\n",
       "    </tr>\n",
       "    <tr>\n",
       "      <th>4</th>\n",
       "      <td>Afghanistan</td>\n",
       "      <td>1972</td>\n",
       "      <td>13079460</td>\n",
       "      <td>Asia</td>\n",
       "      <td>36.088</td>\n",
       "      <td>739.981106</td>\n",
       "    </tr>\n",
       "    <tr>\n",
       "      <th>...</th>\n",
       "      <td>...</td>\n",
       "      <td>...</td>\n",
       "      <td>...</td>\n",
       "      <td>...</td>\n",
       "      <td>...</td>\n",
       "      <td>...</td>\n",
       "    </tr>\n",
       "    <tr>\n",
       "      <th>1699</th>\n",
       "      <td>Zimbabwe</td>\n",
       "      <td>1987</td>\n",
       "      <td>9216418</td>\n",
       "      <td>Africa</td>\n",
       "      <td>62.351</td>\n",
       "      <td>706.157306</td>\n",
       "    </tr>\n",
       "    <tr>\n",
       "      <th>1700</th>\n",
       "      <td>Zimbabwe</td>\n",
       "      <td>1992</td>\n",
       "      <td>10704340</td>\n",
       "      <td>Africa</td>\n",
       "      <td>60.377</td>\n",
       "      <td>693.420786</td>\n",
       "    </tr>\n",
       "    <tr>\n",
       "      <th>1701</th>\n",
       "      <td>Zimbabwe</td>\n",
       "      <td>1997</td>\n",
       "      <td>11404948</td>\n",
       "      <td>Africa</td>\n",
       "      <td>46.809</td>\n",
       "      <td>792.449960</td>\n",
       "    </tr>\n",
       "    <tr>\n",
       "      <th>1702</th>\n",
       "      <td>Zimbabwe</td>\n",
       "      <td>2002</td>\n",
       "      <td>11926563</td>\n",
       "      <td>Africa</td>\n",
       "      <td>39.989</td>\n",
       "      <td>672.038623</td>\n",
       "    </tr>\n",
       "    <tr>\n",
       "      <th>1703</th>\n",
       "      <td>Zimbabwe</td>\n",
       "      <td>2007</td>\n",
       "      <td>12311143</td>\n",
       "      <td>Africa</td>\n",
       "      <td>43.487</td>\n",
       "      <td>469.709298</td>\n",
       "    </tr>\n",
       "  </tbody>\n",
       "</table>\n",
       "<p>1704 rows × 6 columns</p>\n",
       "</div>"
      ],
      "text/plain": [
       "          Country  year  population continent  life_exp     gdp_cap\n",
       "0     Afghanistan  1952     8425333      Asia    28.801  779.445314\n",
       "1     Afghanistan  1957     9240934      Asia    30.332  820.853030\n",
       "2     Afghanistan  1962    10267083      Asia    31.997  853.100710\n",
       "3     Afghanistan  1967    11537966      Asia    34.020  836.197138\n",
       "4     Afghanistan  1972    13079460      Asia    36.088  739.981106\n",
       "...           ...   ...         ...       ...       ...         ...\n",
       "1699     Zimbabwe  1987     9216418    Africa    62.351  706.157306\n",
       "1700     Zimbabwe  1992    10704340    Africa    60.377  693.420786\n",
       "1701     Zimbabwe  1997    11404948    Africa    46.809  792.449960\n",
       "1702     Zimbabwe  2002    11926563    Africa    39.989  672.038623\n",
       "1703     Zimbabwe  2007    12311143    Africa    43.487  469.709298\n",
       "\n",
       "[1704 rows x 6 columns]"
      ]
     },
     "execution_count": 162,
     "metadata": {},
     "output_type": "execute_result"
    }
   ],
   "source": [
    "df.rename({\"country\": \"Country\"}, axis = 1)"
   ]
  },
  {
   "cell_type": "code",
   "execution_count": 163,
   "id": "c41b8153",
   "metadata": {},
   "outputs": [
    {
     "data": {
      "text/html": [
       "<div>\n",
       "<style scoped>\n",
       "    .dataframe tbody tr th:only-of-type {\n",
       "        vertical-align: middle;\n",
       "    }\n",
       "\n",
       "    .dataframe tbody tr th {\n",
       "        vertical-align: top;\n",
       "    }\n",
       "\n",
       "    .dataframe thead th {\n",
       "        text-align: right;\n",
       "    }\n",
       "</style>\n",
       "<table border=\"1\" class=\"dataframe\">\n",
       "  <thead>\n",
       "    <tr style=\"text-align: right;\">\n",
       "      <th></th>\n",
       "      <th>country</th>\n",
       "      <th>year</th>\n",
       "      <th>population</th>\n",
       "      <th>continent</th>\n",
       "      <th>life_exp</th>\n",
       "      <th>gdp_cap</th>\n",
       "    </tr>\n",
       "  </thead>\n",
       "  <tbody>\n",
       "    <tr>\n",
       "      <th>0</th>\n",
       "      <td>Afghanistan</td>\n",
       "      <td>1952</td>\n",
       "      <td>8425333</td>\n",
       "      <td>Asia</td>\n",
       "      <td>28.801</td>\n",
       "      <td>779.445314</td>\n",
       "    </tr>\n",
       "    <tr>\n",
       "      <th>1</th>\n",
       "      <td>Afghanistan</td>\n",
       "      <td>1957</td>\n",
       "      <td>9240934</td>\n",
       "      <td>Asia</td>\n",
       "      <td>30.332</td>\n",
       "      <td>820.853030</td>\n",
       "    </tr>\n",
       "    <tr>\n",
       "      <th>2</th>\n",
       "      <td>Afghanistan</td>\n",
       "      <td>1962</td>\n",
       "      <td>10267083</td>\n",
       "      <td>Asia</td>\n",
       "      <td>31.997</td>\n",
       "      <td>853.100710</td>\n",
       "    </tr>\n",
       "    <tr>\n",
       "      <th>3</th>\n",
       "      <td>Afghanistan</td>\n",
       "      <td>1967</td>\n",
       "      <td>11537966</td>\n",
       "      <td>Asia</td>\n",
       "      <td>34.020</td>\n",
       "      <td>836.197138</td>\n",
       "    </tr>\n",
       "    <tr>\n",
       "      <th>4</th>\n",
       "      <td>Afghanistan</td>\n",
       "      <td>1972</td>\n",
       "      <td>13079460</td>\n",
       "      <td>Asia</td>\n",
       "      <td>36.088</td>\n",
       "      <td>739.981106</td>\n",
       "    </tr>\n",
       "  </tbody>\n",
       "</table>\n",
       "</div>"
      ],
      "text/plain": [
       "       country  year  population continent  life_exp     gdp_cap\n",
       "0  Afghanistan  1952     8425333      Asia    28.801  779.445314\n",
       "1  Afghanistan  1957     9240934      Asia    30.332  820.853030\n",
       "2  Afghanistan  1962    10267083      Asia    31.997  853.100710\n",
       "3  Afghanistan  1967    11537966      Asia    34.020  836.197138\n",
       "4  Afghanistan  1972    13079460      Asia    36.088  739.981106"
      ]
     },
     "execution_count": 163,
     "metadata": {},
     "output_type": "execute_result"
    }
   ],
   "source": [
    "df.head()"
   ]
  },
  {
   "cell_type": "markdown",
   "id": "ZyNzniDVjWvs",
   "metadata": {
    "id": "ZyNzniDVjWvs"
   },
   "source": [
    "To make it inplace set the `inplace` argument = True"
   ]
  },
  {
   "cell_type": "code",
   "execution_count": 164,
   "id": "UHZ54n1fjvLx",
   "metadata": {
    "colab": {
     "base_uri": "https://localhost:8080/",
     "height": 424
    },
    "id": "UHZ54n1fjvLx",
    "outputId": "392c6431-a591-4037-ff6f-0be22837b5fa"
   },
   "outputs": [
    {
     "data": {
      "text/html": [
       "<div>\n",
       "<style scoped>\n",
       "    .dataframe tbody tr th:only-of-type {\n",
       "        vertical-align: middle;\n",
       "    }\n",
       "\n",
       "    .dataframe tbody tr th {\n",
       "        vertical-align: top;\n",
       "    }\n",
       "\n",
       "    .dataframe thead th {\n",
       "        text-align: right;\n",
       "    }\n",
       "</style>\n",
       "<table border=\"1\" class=\"dataframe\">\n",
       "  <thead>\n",
       "    <tr style=\"text-align: right;\">\n",
       "      <th></th>\n",
       "      <th>Country</th>\n",
       "      <th>year</th>\n",
       "      <th>population</th>\n",
       "      <th>continent</th>\n",
       "      <th>life_exp</th>\n",
       "      <th>gdp_cap</th>\n",
       "    </tr>\n",
       "  </thead>\n",
       "  <tbody>\n",
       "    <tr>\n",
       "      <th>0</th>\n",
       "      <td>Afghanistan</td>\n",
       "      <td>1952</td>\n",
       "      <td>8425333</td>\n",
       "      <td>Asia</td>\n",
       "      <td>28.801</td>\n",
       "      <td>779.445314</td>\n",
       "    </tr>\n",
       "    <tr>\n",
       "      <th>1</th>\n",
       "      <td>Afghanistan</td>\n",
       "      <td>1957</td>\n",
       "      <td>9240934</td>\n",
       "      <td>Asia</td>\n",
       "      <td>30.332</td>\n",
       "      <td>820.853030</td>\n",
       "    </tr>\n",
       "    <tr>\n",
       "      <th>2</th>\n",
       "      <td>Afghanistan</td>\n",
       "      <td>1962</td>\n",
       "      <td>10267083</td>\n",
       "      <td>Asia</td>\n",
       "      <td>31.997</td>\n",
       "      <td>853.100710</td>\n",
       "    </tr>\n",
       "    <tr>\n",
       "      <th>3</th>\n",
       "      <td>Afghanistan</td>\n",
       "      <td>1967</td>\n",
       "      <td>11537966</td>\n",
       "      <td>Asia</td>\n",
       "      <td>34.020</td>\n",
       "      <td>836.197138</td>\n",
       "    </tr>\n",
       "    <tr>\n",
       "      <th>4</th>\n",
       "      <td>Afghanistan</td>\n",
       "      <td>1972</td>\n",
       "      <td>13079460</td>\n",
       "      <td>Asia</td>\n",
       "      <td>36.088</td>\n",
       "      <td>739.981106</td>\n",
       "    </tr>\n",
       "    <tr>\n",
       "      <th>...</th>\n",
       "      <td>...</td>\n",
       "      <td>...</td>\n",
       "      <td>...</td>\n",
       "      <td>...</td>\n",
       "      <td>...</td>\n",
       "      <td>...</td>\n",
       "    </tr>\n",
       "    <tr>\n",
       "      <th>1699</th>\n",
       "      <td>Zimbabwe</td>\n",
       "      <td>1987</td>\n",
       "      <td>9216418</td>\n",
       "      <td>Africa</td>\n",
       "      <td>62.351</td>\n",
       "      <td>706.157306</td>\n",
       "    </tr>\n",
       "    <tr>\n",
       "      <th>1700</th>\n",
       "      <td>Zimbabwe</td>\n",
       "      <td>1992</td>\n",
       "      <td>10704340</td>\n",
       "      <td>Africa</td>\n",
       "      <td>60.377</td>\n",
       "      <td>693.420786</td>\n",
       "    </tr>\n",
       "    <tr>\n",
       "      <th>1701</th>\n",
       "      <td>Zimbabwe</td>\n",
       "      <td>1997</td>\n",
       "      <td>11404948</td>\n",
       "      <td>Africa</td>\n",
       "      <td>46.809</td>\n",
       "      <td>792.449960</td>\n",
       "    </tr>\n",
       "    <tr>\n",
       "      <th>1702</th>\n",
       "      <td>Zimbabwe</td>\n",
       "      <td>2002</td>\n",
       "      <td>11926563</td>\n",
       "      <td>Africa</td>\n",
       "      <td>39.989</td>\n",
       "      <td>672.038623</td>\n",
       "    </tr>\n",
       "    <tr>\n",
       "      <th>1703</th>\n",
       "      <td>Zimbabwe</td>\n",
       "      <td>2007</td>\n",
       "      <td>12311143</td>\n",
       "      <td>Africa</td>\n",
       "      <td>43.487</td>\n",
       "      <td>469.709298</td>\n",
       "    </tr>\n",
       "  </tbody>\n",
       "</table>\n",
       "<p>1704 rows × 6 columns</p>\n",
       "</div>"
      ],
      "text/plain": [
       "          Country  year  population continent  life_exp     gdp_cap\n",
       "0     Afghanistan  1952     8425333      Asia    28.801  779.445314\n",
       "1     Afghanistan  1957     9240934      Asia    30.332  820.853030\n",
       "2     Afghanistan  1962    10267083      Asia    31.997  853.100710\n",
       "3     Afghanistan  1967    11537966      Asia    34.020  836.197138\n",
       "4     Afghanistan  1972    13079460      Asia    36.088  739.981106\n",
       "...           ...   ...         ...       ...       ...         ...\n",
       "1699     Zimbabwe  1987     9216418    Africa    62.351  706.157306\n",
       "1700     Zimbabwe  1992    10704340    Africa    60.377  693.420786\n",
       "1701     Zimbabwe  1997    11404948    Africa    46.809  792.449960\n",
       "1702     Zimbabwe  2002    11926563    Africa    39.989  672.038623\n",
       "1703     Zimbabwe  2007    12311143    Africa    43.487  469.709298\n",
       "\n",
       "[1704 rows x 6 columns]"
      ]
     },
     "execution_count": 164,
     "metadata": {},
     "output_type": "execute_result"
    }
   ],
   "source": [
    "df.rename({\"country\": \"Country\"}, axis = 1, inplace = True)\n",
    "df"
   ]
  },
  {
   "cell_type": "markdown",
   "id": "CpFaqi3-mLDS",
   "metadata": {
    "id": "CpFaqi3-mLDS"
   },
   "source": [
    "Now lets try another way of accessing column vals which is through attribute-style access"
   ]
  },
  {
   "cell_type": "code",
   "execution_count": 165,
   "id": "uqZzZVLmmRtj",
   "metadata": {
    "colab": {
     "base_uri": "https://localhost:8080/"
    },
    "id": "uqZzZVLmmRtj",
    "outputId": "b45d9b15-c9b8-4a18-953e-821104cc45ed"
   },
   "outputs": [
    {
     "data": {
      "text/plain": [
       "0       Afghanistan\n",
       "1       Afghanistan\n",
       "2       Afghanistan\n",
       "3       Afghanistan\n",
       "4       Afghanistan\n",
       "           ...     \n",
       "1699       Zimbabwe\n",
       "1700       Zimbabwe\n",
       "1701       Zimbabwe\n",
       "1702       Zimbabwe\n",
       "1703       Zimbabwe\n",
       "Name: Country, Length: 1704, dtype: object"
      ]
     },
     "execution_count": 165,
     "metadata": {},
     "output_type": "execute_result"
    }
   ],
   "source": [
    "df.Country"
   ]
  },
  {
   "cell_type": "code",
   "execution_count": 166,
   "id": "yiLE-tmxmU_W",
   "metadata": {
    "colab": {
     "base_uri": "https://localhost:8080/"
    },
    "id": "yiLE-tmxmU_W",
    "outputId": "f9c99ce4-4d6f-4389-aca5-31461993c70d"
   },
   "outputs": [
    {
     "data": {
      "text/plain": [
       "True"
      ]
     },
     "execution_count": 166,
     "metadata": {},
     "output_type": "execute_result"
    }
   ],
   "source": [
    "df.Country is df[\"Country\"]"
   ]
  },
  {
   "cell_type": "markdown",
   "id": "y-w0mVH3md7i",
   "metadata": {
    "id": "y-w0mVH3md7i"
   },
   "source": [
    "This however doesn't work everytime\n",
    "\n",
    "For example,\n",
    "- if the column names are not strings\n",
    "- or if the column names conflict with methods of the DataFrame\n",
    "\n",
    "It is generally better to avoid this type of accessing columns"
   ]
  },
  {
   "cell_type": "markdown",
   "id": "nBJ7W0ZAkA7X",
   "metadata": {
    "id": "nBJ7W0ZAkA7X"
   },
   "source": [
    "Lets change back our column name from `Country` to `country` now"
   ]
  },
  {
   "cell_type": "code",
   "execution_count": 167,
   "id": "6yo8tHBZkKU-",
   "metadata": {
    "colab": {
     "base_uri": "https://localhost:8080/",
     "height": 424
    },
    "id": "6yo8tHBZkKU-",
    "outputId": "e6219c9e-cdfa-4882-aaf3-7d34b6efa24e"
   },
   "outputs": [
    {
     "data": {
      "text/html": [
       "<div>\n",
       "<style scoped>\n",
       "    .dataframe tbody tr th:only-of-type {\n",
       "        vertical-align: middle;\n",
       "    }\n",
       "\n",
       "    .dataframe tbody tr th {\n",
       "        vertical-align: top;\n",
       "    }\n",
       "\n",
       "    .dataframe thead th {\n",
       "        text-align: right;\n",
       "    }\n",
       "</style>\n",
       "<table border=\"1\" class=\"dataframe\">\n",
       "  <thead>\n",
       "    <tr style=\"text-align: right;\">\n",
       "      <th></th>\n",
       "      <th>country</th>\n",
       "      <th>year</th>\n",
       "      <th>population</th>\n",
       "      <th>continent</th>\n",
       "      <th>life_exp</th>\n",
       "      <th>gdp_cap</th>\n",
       "    </tr>\n",
       "  </thead>\n",
       "  <tbody>\n",
       "    <tr>\n",
       "      <th>0</th>\n",
       "      <td>Afghanistan</td>\n",
       "      <td>1952</td>\n",
       "      <td>8425333</td>\n",
       "      <td>Asia</td>\n",
       "      <td>28.801</td>\n",
       "      <td>779.445314</td>\n",
       "    </tr>\n",
       "    <tr>\n",
       "      <th>1</th>\n",
       "      <td>Afghanistan</td>\n",
       "      <td>1957</td>\n",
       "      <td>9240934</td>\n",
       "      <td>Asia</td>\n",
       "      <td>30.332</td>\n",
       "      <td>820.853030</td>\n",
       "    </tr>\n",
       "    <tr>\n",
       "      <th>2</th>\n",
       "      <td>Afghanistan</td>\n",
       "      <td>1962</td>\n",
       "      <td>10267083</td>\n",
       "      <td>Asia</td>\n",
       "      <td>31.997</td>\n",
       "      <td>853.100710</td>\n",
       "    </tr>\n",
       "    <tr>\n",
       "      <th>3</th>\n",
       "      <td>Afghanistan</td>\n",
       "      <td>1967</td>\n",
       "      <td>11537966</td>\n",
       "      <td>Asia</td>\n",
       "      <td>34.020</td>\n",
       "      <td>836.197138</td>\n",
       "    </tr>\n",
       "    <tr>\n",
       "      <th>4</th>\n",
       "      <td>Afghanistan</td>\n",
       "      <td>1972</td>\n",
       "      <td>13079460</td>\n",
       "      <td>Asia</td>\n",
       "      <td>36.088</td>\n",
       "      <td>739.981106</td>\n",
       "    </tr>\n",
       "    <tr>\n",
       "      <th>...</th>\n",
       "      <td>...</td>\n",
       "      <td>...</td>\n",
       "      <td>...</td>\n",
       "      <td>...</td>\n",
       "      <td>...</td>\n",
       "      <td>...</td>\n",
       "    </tr>\n",
       "    <tr>\n",
       "      <th>1699</th>\n",
       "      <td>Zimbabwe</td>\n",
       "      <td>1987</td>\n",
       "      <td>9216418</td>\n",
       "      <td>Africa</td>\n",
       "      <td>62.351</td>\n",
       "      <td>706.157306</td>\n",
       "    </tr>\n",
       "    <tr>\n",
       "      <th>1700</th>\n",
       "      <td>Zimbabwe</td>\n",
       "      <td>1992</td>\n",
       "      <td>10704340</td>\n",
       "      <td>Africa</td>\n",
       "      <td>60.377</td>\n",
       "      <td>693.420786</td>\n",
       "    </tr>\n",
       "    <tr>\n",
       "      <th>1701</th>\n",
       "      <td>Zimbabwe</td>\n",
       "      <td>1997</td>\n",
       "      <td>11404948</td>\n",
       "      <td>Africa</td>\n",
       "      <td>46.809</td>\n",
       "      <td>792.449960</td>\n",
       "    </tr>\n",
       "    <tr>\n",
       "      <th>1702</th>\n",
       "      <td>Zimbabwe</td>\n",
       "      <td>2002</td>\n",
       "      <td>11926563</td>\n",
       "      <td>Africa</td>\n",
       "      <td>39.989</td>\n",
       "      <td>672.038623</td>\n",
       "    </tr>\n",
       "    <tr>\n",
       "      <th>1703</th>\n",
       "      <td>Zimbabwe</td>\n",
       "      <td>2007</td>\n",
       "      <td>12311143</td>\n",
       "      <td>Africa</td>\n",
       "      <td>43.487</td>\n",
       "      <td>469.709298</td>\n",
       "    </tr>\n",
       "  </tbody>\n",
       "</table>\n",
       "<p>1704 rows × 6 columns</p>\n",
       "</div>"
      ],
      "text/plain": [
       "          country  year  population continent  life_exp     gdp_cap\n",
       "0     Afghanistan  1952     8425333      Asia    28.801  779.445314\n",
       "1     Afghanistan  1957     9240934      Asia    30.332  820.853030\n",
       "2     Afghanistan  1962    10267083      Asia    31.997  853.100710\n",
       "3     Afghanistan  1967    11537966      Asia    34.020  836.197138\n",
       "4     Afghanistan  1972    13079460      Asia    36.088  739.981106\n",
       "...           ...   ...         ...       ...       ...         ...\n",
       "1699     Zimbabwe  1987     9216418    Africa    62.351  706.157306\n",
       "1700     Zimbabwe  1992    10704340    Africa    60.377  693.420786\n",
       "1701     Zimbabwe  1997    11404948    Africa    46.809  792.449960\n",
       "1702     Zimbabwe  2002    11926563    Africa    39.989  672.038623\n",
       "1703     Zimbabwe  2007    12311143    Africa    43.487  469.709298\n",
       "\n",
       "[1704 rows x 6 columns]"
      ]
     },
     "execution_count": 167,
     "metadata": {},
     "output_type": "execute_result"
    }
   ],
   "source": [
    "df.rename({\"Country\": \"country\"}, axis = 1, inplace = True)\n",
    "df"
   ]
  },
  {
   "cell_type": "markdown",
   "id": "fddec50c",
   "metadata": {
    "id": "fddec50c"
   },
   "source": [
    "#### Now that we know which cols exist in our data, are all of them necessary ?\n",
    "  \n",
    "  - We already know the continents in which each country lies\n",
    "  - So we don't need it for now\n",
    "  - Lets delete that col\n",
    "\n",
    "#### How can we delete cols in pandas dataframe ?\n",
    "\n",
    "  -  Remember we loaded our dataset from .csv file in memory and stored it in variable `df`?\n",
    "\n",
    "  - `df = pd.read_csv('data/gapminder.csv')`\n",
    "\n",
    "  - So, whatever **changes** we make to **`df`** will **NOT affect original data** in the .csv file\n",
    "\n",
    "\n",
    "#### Let's see how we can drop or delete entire column from our dataframe"
   ]
  },
  {
   "cell_type": "code",
   "execution_count": 168,
   "id": "efd6ca07",
   "metadata": {
    "colab": {
     "base_uri": "https://localhost:8080/",
     "height": 323
    },
    "id": "efd6ca07",
    "outputId": "5b81aa33-b799-4880-c73b-3e4006cee7a0"
   },
   "outputs": [
    {
     "ename": "KeyError",
     "evalue": "\"['continent'] not found in axis\"",
     "output_type": "error",
     "traceback": [
      "\u001b[1;31m---------------------------------------------------------------------------\u001b[0m",
      "\u001b[1;31mKeyError\u001b[0m                                  Traceback (most recent call last)",
      "\u001b[1;32m<ipython-input-168-ebe0cc5cf629>\u001b[0m in \u001b[0;36m<module>\u001b[1;34m\u001b[0m\n\u001b[1;32m----> 1\u001b[1;33m \u001b[0mdf\u001b[0m\u001b[1;33m.\u001b[0m\u001b[0mdrop\u001b[0m\u001b[1;33m(\u001b[0m\u001b[1;34m'continent'\u001b[0m\u001b[1;33m)\u001b[0m\u001b[1;33m\u001b[0m\u001b[1;33m\u001b[0m\u001b[0m\n\u001b[0m",
      "\u001b[1;32m~\\anaconda3\\lib\\site-packages\\pandas\\core\\frame.py\u001b[0m in \u001b[0;36mdrop\u001b[1;34m(self, labels, axis, index, columns, level, inplace, errors)\u001b[0m\n\u001b[0;32m   4306\u001b[0m                 \u001b[0mweight\u001b[0m  \u001b[1;36m1.0\u001b[0m     \u001b[1;36m0.8\u001b[0m\u001b[1;33m\u001b[0m\u001b[1;33m\u001b[0m\u001b[0m\n\u001b[0;32m   4307\u001b[0m         \"\"\"\n\u001b[1;32m-> 4308\u001b[1;33m         return super().drop(\n\u001b[0m\u001b[0;32m   4309\u001b[0m             \u001b[0mlabels\u001b[0m\u001b[1;33m=\u001b[0m\u001b[0mlabels\u001b[0m\u001b[1;33m,\u001b[0m\u001b[1;33m\u001b[0m\u001b[1;33m\u001b[0m\u001b[0m\n\u001b[0;32m   4310\u001b[0m             \u001b[0maxis\u001b[0m\u001b[1;33m=\u001b[0m\u001b[0maxis\u001b[0m\u001b[1;33m,\u001b[0m\u001b[1;33m\u001b[0m\u001b[1;33m\u001b[0m\u001b[0m\n",
      "\u001b[1;32m~\\anaconda3\\lib\\site-packages\\pandas\\core\\generic.py\u001b[0m in \u001b[0;36mdrop\u001b[1;34m(self, labels, axis, index, columns, level, inplace, errors)\u001b[0m\n\u001b[0;32m   4151\u001b[0m         \u001b[1;32mfor\u001b[0m \u001b[0maxis\u001b[0m\u001b[1;33m,\u001b[0m \u001b[0mlabels\u001b[0m \u001b[1;32min\u001b[0m \u001b[0maxes\u001b[0m\u001b[1;33m.\u001b[0m\u001b[0mitems\u001b[0m\u001b[1;33m(\u001b[0m\u001b[1;33m)\u001b[0m\u001b[1;33m:\u001b[0m\u001b[1;33m\u001b[0m\u001b[1;33m\u001b[0m\u001b[0m\n\u001b[0;32m   4152\u001b[0m             \u001b[1;32mif\u001b[0m \u001b[0mlabels\u001b[0m \u001b[1;32mis\u001b[0m \u001b[1;32mnot\u001b[0m \u001b[1;32mNone\u001b[0m\u001b[1;33m:\u001b[0m\u001b[1;33m\u001b[0m\u001b[1;33m\u001b[0m\u001b[0m\n\u001b[1;32m-> 4153\u001b[1;33m                 \u001b[0mobj\u001b[0m \u001b[1;33m=\u001b[0m \u001b[0mobj\u001b[0m\u001b[1;33m.\u001b[0m\u001b[0m_drop_axis\u001b[0m\u001b[1;33m(\u001b[0m\u001b[0mlabels\u001b[0m\u001b[1;33m,\u001b[0m \u001b[0maxis\u001b[0m\u001b[1;33m,\u001b[0m \u001b[0mlevel\u001b[0m\u001b[1;33m=\u001b[0m\u001b[0mlevel\u001b[0m\u001b[1;33m,\u001b[0m \u001b[0merrors\u001b[0m\u001b[1;33m=\u001b[0m\u001b[0merrors\u001b[0m\u001b[1;33m)\u001b[0m\u001b[1;33m\u001b[0m\u001b[1;33m\u001b[0m\u001b[0m\n\u001b[0m\u001b[0;32m   4154\u001b[0m \u001b[1;33m\u001b[0m\u001b[0m\n\u001b[0;32m   4155\u001b[0m         \u001b[1;32mif\u001b[0m \u001b[0minplace\u001b[0m\u001b[1;33m:\u001b[0m\u001b[1;33m\u001b[0m\u001b[1;33m\u001b[0m\u001b[0m\n",
      "\u001b[1;32m~\\anaconda3\\lib\\site-packages\\pandas\\core\\generic.py\u001b[0m in \u001b[0;36m_drop_axis\u001b[1;34m(self, labels, axis, level, errors)\u001b[0m\n\u001b[0;32m   4186\u001b[0m                 \u001b[0mnew_axis\u001b[0m \u001b[1;33m=\u001b[0m \u001b[0maxis\u001b[0m\u001b[1;33m.\u001b[0m\u001b[0mdrop\u001b[0m\u001b[1;33m(\u001b[0m\u001b[0mlabels\u001b[0m\u001b[1;33m,\u001b[0m \u001b[0mlevel\u001b[0m\u001b[1;33m=\u001b[0m\u001b[0mlevel\u001b[0m\u001b[1;33m,\u001b[0m \u001b[0merrors\u001b[0m\u001b[1;33m=\u001b[0m\u001b[0merrors\u001b[0m\u001b[1;33m)\u001b[0m\u001b[1;33m\u001b[0m\u001b[1;33m\u001b[0m\u001b[0m\n\u001b[0;32m   4187\u001b[0m             \u001b[1;32melse\u001b[0m\u001b[1;33m:\u001b[0m\u001b[1;33m\u001b[0m\u001b[1;33m\u001b[0m\u001b[0m\n\u001b[1;32m-> 4188\u001b[1;33m                 \u001b[0mnew_axis\u001b[0m \u001b[1;33m=\u001b[0m \u001b[0maxis\u001b[0m\u001b[1;33m.\u001b[0m\u001b[0mdrop\u001b[0m\u001b[1;33m(\u001b[0m\u001b[0mlabels\u001b[0m\u001b[1;33m,\u001b[0m \u001b[0merrors\u001b[0m\u001b[1;33m=\u001b[0m\u001b[0merrors\u001b[0m\u001b[1;33m)\u001b[0m\u001b[1;33m\u001b[0m\u001b[1;33m\u001b[0m\u001b[0m\n\u001b[0m\u001b[0;32m   4189\u001b[0m             \u001b[0mresult\u001b[0m \u001b[1;33m=\u001b[0m \u001b[0mself\u001b[0m\u001b[1;33m.\u001b[0m\u001b[0mreindex\u001b[0m\u001b[1;33m(\u001b[0m\u001b[1;33m**\u001b[0m\u001b[1;33m{\u001b[0m\u001b[0maxis_name\u001b[0m\u001b[1;33m:\u001b[0m \u001b[0mnew_axis\u001b[0m\u001b[1;33m}\u001b[0m\u001b[1;33m)\u001b[0m\u001b[1;33m\u001b[0m\u001b[1;33m\u001b[0m\u001b[0m\n\u001b[0;32m   4190\u001b[0m \u001b[1;33m\u001b[0m\u001b[0m\n",
      "\u001b[1;32m~\\anaconda3\\lib\\site-packages\\pandas\\core\\indexes\\base.py\u001b[0m in \u001b[0;36mdrop\u001b[1;34m(self, labels, errors)\u001b[0m\n\u001b[0;32m   5589\u001b[0m         \u001b[1;32mif\u001b[0m \u001b[0mmask\u001b[0m\u001b[1;33m.\u001b[0m\u001b[0many\u001b[0m\u001b[1;33m(\u001b[0m\u001b[1;33m)\u001b[0m\u001b[1;33m:\u001b[0m\u001b[1;33m\u001b[0m\u001b[1;33m\u001b[0m\u001b[0m\n\u001b[0;32m   5590\u001b[0m             \u001b[1;32mif\u001b[0m \u001b[0merrors\u001b[0m \u001b[1;33m!=\u001b[0m \u001b[1;34m\"ignore\"\u001b[0m\u001b[1;33m:\u001b[0m\u001b[1;33m\u001b[0m\u001b[1;33m\u001b[0m\u001b[0m\n\u001b[1;32m-> 5591\u001b[1;33m                 \u001b[1;32mraise\u001b[0m \u001b[0mKeyError\u001b[0m\u001b[1;33m(\u001b[0m\u001b[1;34mf\"{labels[mask]} not found in axis\"\u001b[0m\u001b[1;33m)\u001b[0m\u001b[1;33m\u001b[0m\u001b[1;33m\u001b[0m\u001b[0m\n\u001b[0m\u001b[0;32m   5592\u001b[0m             \u001b[0mindexer\u001b[0m \u001b[1;33m=\u001b[0m \u001b[0mindexer\u001b[0m\u001b[1;33m[\u001b[0m\u001b[1;33m~\u001b[0m\u001b[0mmask\u001b[0m\u001b[1;33m]\u001b[0m\u001b[1;33m\u001b[0m\u001b[1;33m\u001b[0m\u001b[0m\n\u001b[0;32m   5593\u001b[0m         \u001b[1;32mreturn\u001b[0m \u001b[0mself\u001b[0m\u001b[1;33m.\u001b[0m\u001b[0mdelete\u001b[0m\u001b[1;33m(\u001b[0m\u001b[0mindexer\u001b[0m\u001b[1;33m)\u001b[0m\u001b[1;33m\u001b[0m\u001b[1;33m\u001b[0m\u001b[0m\n",
      "\u001b[1;31mKeyError\u001b[0m: \"['continent'] not found in axis\""
     ]
    }
   ],
   "source": [
    "df.drop('continent')"
   ]
  },
  {
   "cell_type": "markdown",
   "id": "6f2d8e36",
   "metadata": {
    "id": "6f2d8e36"
   },
   "source": [
    "#### Now why did this error happen?\n",
    "\n",
    "- We did not specify the `axis` along which it should look for\n",
    "\n",
    "\n",
    "#### Remember the concept of axis from previous class?\n",
    "\n",
    "- `axis=0` ---> Rows collapse\n",
    "\n",
    "\n",
    "- `axis=1` ---> Columns collapse\n",
    "\n",
    "\n",
    "- By **default**, it takes **`axis=0`**\n",
    "\n",
    "\n",
    "- Since, we want to **delete a column**, we'll pass **`axis=1`**"
   ]
  },
  {
   "cell_type": "code",
   "execution_count": 169,
   "id": "a97ff28d",
   "metadata": {
    "colab": {
     "base_uri": "https://localhost:8080/",
     "height": 424
    },
    "id": "a97ff28d",
    "outputId": "940b95b1-b0d3-48e6-b57d-bc6fb63ab57f",
    "scrolled": true
   },
   "outputs": [
    {
     "data": {
      "text/html": [
       "<div>\n",
       "<style scoped>\n",
       "    .dataframe tbody tr th:only-of-type {\n",
       "        vertical-align: middle;\n",
       "    }\n",
       "\n",
       "    .dataframe tbody tr th {\n",
       "        vertical-align: top;\n",
       "    }\n",
       "\n",
       "    .dataframe thead th {\n",
       "        text-align: right;\n",
       "    }\n",
       "</style>\n",
       "<table border=\"1\" class=\"dataframe\">\n",
       "  <thead>\n",
       "    <tr style=\"text-align: right;\">\n",
       "      <th></th>\n",
       "      <th>country</th>\n",
       "      <th>year</th>\n",
       "      <th>population</th>\n",
       "      <th>life_exp</th>\n",
       "      <th>gdp_cap</th>\n",
       "    </tr>\n",
       "  </thead>\n",
       "  <tbody>\n",
       "    <tr>\n",
       "      <th>0</th>\n",
       "      <td>Afghanistan</td>\n",
       "      <td>1952</td>\n",
       "      <td>8425333</td>\n",
       "      <td>28.801</td>\n",
       "      <td>779.445314</td>\n",
       "    </tr>\n",
       "    <tr>\n",
       "      <th>1</th>\n",
       "      <td>Afghanistan</td>\n",
       "      <td>1957</td>\n",
       "      <td>9240934</td>\n",
       "      <td>30.332</td>\n",
       "      <td>820.853030</td>\n",
       "    </tr>\n",
       "    <tr>\n",
       "      <th>2</th>\n",
       "      <td>Afghanistan</td>\n",
       "      <td>1962</td>\n",
       "      <td>10267083</td>\n",
       "      <td>31.997</td>\n",
       "      <td>853.100710</td>\n",
       "    </tr>\n",
       "    <tr>\n",
       "      <th>3</th>\n",
       "      <td>Afghanistan</td>\n",
       "      <td>1967</td>\n",
       "      <td>11537966</td>\n",
       "      <td>34.020</td>\n",
       "      <td>836.197138</td>\n",
       "    </tr>\n",
       "    <tr>\n",
       "      <th>4</th>\n",
       "      <td>Afghanistan</td>\n",
       "      <td>1972</td>\n",
       "      <td>13079460</td>\n",
       "      <td>36.088</td>\n",
       "      <td>739.981106</td>\n",
       "    </tr>\n",
       "    <tr>\n",
       "      <th>...</th>\n",
       "      <td>...</td>\n",
       "      <td>...</td>\n",
       "      <td>...</td>\n",
       "      <td>...</td>\n",
       "      <td>...</td>\n",
       "    </tr>\n",
       "    <tr>\n",
       "      <th>1699</th>\n",
       "      <td>Zimbabwe</td>\n",
       "      <td>1987</td>\n",
       "      <td>9216418</td>\n",
       "      <td>62.351</td>\n",
       "      <td>706.157306</td>\n",
       "    </tr>\n",
       "    <tr>\n",
       "      <th>1700</th>\n",
       "      <td>Zimbabwe</td>\n",
       "      <td>1992</td>\n",
       "      <td>10704340</td>\n",
       "      <td>60.377</td>\n",
       "      <td>693.420786</td>\n",
       "    </tr>\n",
       "    <tr>\n",
       "      <th>1701</th>\n",
       "      <td>Zimbabwe</td>\n",
       "      <td>1997</td>\n",
       "      <td>11404948</td>\n",
       "      <td>46.809</td>\n",
       "      <td>792.449960</td>\n",
       "    </tr>\n",
       "    <tr>\n",
       "      <th>1702</th>\n",
       "      <td>Zimbabwe</td>\n",
       "      <td>2002</td>\n",
       "      <td>11926563</td>\n",
       "      <td>39.989</td>\n",
       "      <td>672.038623</td>\n",
       "    </tr>\n",
       "    <tr>\n",
       "      <th>1703</th>\n",
       "      <td>Zimbabwe</td>\n",
       "      <td>2007</td>\n",
       "      <td>12311143</td>\n",
       "      <td>43.487</td>\n",
       "      <td>469.709298</td>\n",
       "    </tr>\n",
       "  </tbody>\n",
       "</table>\n",
       "<p>1704 rows × 5 columns</p>\n",
       "</div>"
      ],
      "text/plain": [
       "          country  year  population  life_exp     gdp_cap\n",
       "0     Afghanistan  1952     8425333    28.801  779.445314\n",
       "1     Afghanistan  1957     9240934    30.332  820.853030\n",
       "2     Afghanistan  1962    10267083    31.997  853.100710\n",
       "3     Afghanistan  1967    11537966    34.020  836.197138\n",
       "4     Afghanistan  1972    13079460    36.088  739.981106\n",
       "...           ...   ...         ...       ...         ...\n",
       "1699     Zimbabwe  1987     9216418    62.351  706.157306\n",
       "1700     Zimbabwe  1992    10704340    60.377  693.420786\n",
       "1701     Zimbabwe  1997    11404948    46.809  792.449960\n",
       "1702     Zimbabwe  2002    11926563    39.989  672.038623\n",
       "1703     Zimbabwe  2007    12311143    43.487  469.709298\n",
       "\n",
       "[1704 rows x 5 columns]"
      ]
     },
     "execution_count": 169,
     "metadata": {},
     "output_type": "execute_result"
    }
   ],
   "source": [
    "df.drop('continent', axis=1)"
   ]
  },
  {
   "cell_type": "markdown",
   "id": "a83c8258",
   "metadata": {
    "id": "a83c8258"
   },
   "source": [
    "- As you can see, **column `contintent` is dropped**\n",
    "\n",
    "#### Has the column permanently been deleted from `df`?\n",
    "\n",
    "- Let's check"
   ]
  },
  {
   "cell_type": "code",
   "execution_count": 170,
   "id": "499c5e54",
   "metadata": {
    "colab": {
     "base_uri": "https://localhost:8080/",
     "height": 206
    },
    "id": "499c5e54",
    "outputId": "e610f7ae-b36c-4133-8468-5e09bfa8977a",
    "scrolled": true
   },
   "outputs": [
    {
     "data": {
      "text/html": [
       "<div>\n",
       "<style scoped>\n",
       "    .dataframe tbody tr th:only-of-type {\n",
       "        vertical-align: middle;\n",
       "    }\n",
       "\n",
       "    .dataframe tbody tr th {\n",
       "        vertical-align: top;\n",
       "    }\n",
       "\n",
       "    .dataframe thead th {\n",
       "        text-align: right;\n",
       "    }\n",
       "</style>\n",
       "<table border=\"1\" class=\"dataframe\">\n",
       "  <thead>\n",
       "    <tr style=\"text-align: right;\">\n",
       "      <th></th>\n",
       "      <th>country</th>\n",
       "      <th>year</th>\n",
       "      <th>population</th>\n",
       "      <th>continent</th>\n",
       "      <th>life_exp</th>\n",
       "      <th>gdp_cap</th>\n",
       "    </tr>\n",
       "  </thead>\n",
       "  <tbody>\n",
       "    <tr>\n",
       "      <th>0</th>\n",
       "      <td>Afghanistan</td>\n",
       "      <td>1952</td>\n",
       "      <td>8425333</td>\n",
       "      <td>Asia</td>\n",
       "      <td>28.801</td>\n",
       "      <td>779.445314</td>\n",
       "    </tr>\n",
       "    <tr>\n",
       "      <th>1</th>\n",
       "      <td>Afghanistan</td>\n",
       "      <td>1957</td>\n",
       "      <td>9240934</td>\n",
       "      <td>Asia</td>\n",
       "      <td>30.332</td>\n",
       "      <td>820.853030</td>\n",
       "    </tr>\n",
       "    <tr>\n",
       "      <th>2</th>\n",
       "      <td>Afghanistan</td>\n",
       "      <td>1962</td>\n",
       "      <td>10267083</td>\n",
       "      <td>Asia</td>\n",
       "      <td>31.997</td>\n",
       "      <td>853.100710</td>\n",
       "    </tr>\n",
       "    <tr>\n",
       "      <th>3</th>\n",
       "      <td>Afghanistan</td>\n",
       "      <td>1967</td>\n",
       "      <td>11537966</td>\n",
       "      <td>Asia</td>\n",
       "      <td>34.020</td>\n",
       "      <td>836.197138</td>\n",
       "    </tr>\n",
       "    <tr>\n",
       "      <th>4</th>\n",
       "      <td>Afghanistan</td>\n",
       "      <td>1972</td>\n",
       "      <td>13079460</td>\n",
       "      <td>Asia</td>\n",
       "      <td>36.088</td>\n",
       "      <td>739.981106</td>\n",
       "    </tr>\n",
       "  </tbody>\n",
       "</table>\n",
       "</div>"
      ],
      "text/plain": [
       "       country  year  population continent  life_exp     gdp_cap\n",
       "0  Afghanistan  1952     8425333      Asia    28.801  779.445314\n",
       "1  Afghanistan  1957     9240934      Asia    30.332  820.853030\n",
       "2  Afghanistan  1962    10267083      Asia    31.997  853.100710\n",
       "3  Afghanistan  1967    11537966      Asia    34.020  836.197138\n",
       "4  Afghanistan  1972    13079460      Asia    36.088  739.981106"
      ]
     },
     "execution_count": 170,
     "metadata": {},
     "output_type": "execute_result"
    }
   ],
   "source": [
    "df.head()"
   ]
  },
  {
   "cell_type": "markdown",
   "id": "3b7ef5c0",
   "metadata": {
    "id": "3b7ef5c0"
   },
   "source": [
    "- NO, the **column `continent` is still there**\n",
    "\n",
    "\n",
    "#### Do you see what's happening here?\n",
    "\n",
    "- We only got a **view of dataframe with column `continent` dropped**\n",
    "\n",
    "\n",
    "- If we want to **permanently drop the column** from `df`\n",
    "\n",
    "\n",
    "- We can either **re-assign** it\n",
    "    \n",
    "    `df = df.drop('continent', axis=1`)\n",
    "    \n",
    "    \n",
    "        OR\n",
    "    \n",
    "- We can **set parameter `inplace=True`**\n",
    "    \n",
    "- (By **default, `inplace=False`**)"
   ]
  },
  {
   "cell_type": "code",
   "execution_count": 171,
   "id": "0787f6de",
   "metadata": {
    "id": "0787f6de"
   },
   "outputs": [],
   "source": [
    "df.drop('continent', axis=1, inplace=True)"
   ]
  },
  {
   "cell_type": "code",
   "execution_count": 172,
   "id": "0c62f9e5",
   "metadata": {
    "colab": {
     "base_uri": "https://localhost:8080/",
     "height": 206
    },
    "id": "0c62f9e5",
    "outputId": "29d2a31f-6c3d-4eb2-f0b6-10b8aa6fd67c",
    "scrolled": true
   },
   "outputs": [
    {
     "data": {
      "text/html": [
       "<div>\n",
       "<style scoped>\n",
       "    .dataframe tbody tr th:only-of-type {\n",
       "        vertical-align: middle;\n",
       "    }\n",
       "\n",
       "    .dataframe tbody tr th {\n",
       "        vertical-align: top;\n",
       "    }\n",
       "\n",
       "    .dataframe thead th {\n",
       "        text-align: right;\n",
       "    }\n",
       "</style>\n",
       "<table border=\"1\" class=\"dataframe\">\n",
       "  <thead>\n",
       "    <tr style=\"text-align: right;\">\n",
       "      <th></th>\n",
       "      <th>country</th>\n",
       "      <th>year</th>\n",
       "      <th>population</th>\n",
       "      <th>life_exp</th>\n",
       "      <th>gdp_cap</th>\n",
       "    </tr>\n",
       "  </thead>\n",
       "  <tbody>\n",
       "    <tr>\n",
       "      <th>0</th>\n",
       "      <td>Afghanistan</td>\n",
       "      <td>1952</td>\n",
       "      <td>8425333</td>\n",
       "      <td>28.801</td>\n",
       "      <td>779.445314</td>\n",
       "    </tr>\n",
       "    <tr>\n",
       "      <th>1</th>\n",
       "      <td>Afghanistan</td>\n",
       "      <td>1957</td>\n",
       "      <td>9240934</td>\n",
       "      <td>30.332</td>\n",
       "      <td>820.853030</td>\n",
       "    </tr>\n",
       "    <tr>\n",
       "      <th>2</th>\n",
       "      <td>Afghanistan</td>\n",
       "      <td>1962</td>\n",
       "      <td>10267083</td>\n",
       "      <td>31.997</td>\n",
       "      <td>853.100710</td>\n",
       "    </tr>\n",
       "    <tr>\n",
       "      <th>3</th>\n",
       "      <td>Afghanistan</td>\n",
       "      <td>1967</td>\n",
       "      <td>11537966</td>\n",
       "      <td>34.020</td>\n",
       "      <td>836.197138</td>\n",
       "    </tr>\n",
       "    <tr>\n",
       "      <th>4</th>\n",
       "      <td>Afghanistan</td>\n",
       "      <td>1972</td>\n",
       "      <td>13079460</td>\n",
       "      <td>36.088</td>\n",
       "      <td>739.981106</td>\n",
       "    </tr>\n",
       "  </tbody>\n",
       "</table>\n",
       "</div>"
      ],
      "text/plain": [
       "       country  year  population  life_exp     gdp_cap\n",
       "0  Afghanistan  1952     8425333    28.801  779.445314\n",
       "1  Afghanistan  1957     9240934    30.332  820.853030\n",
       "2  Afghanistan  1962    10267083    31.997  853.100710\n",
       "3  Afghanistan  1967    11537966    34.020  836.197138\n",
       "4  Afghanistan  1972    13079460    36.088  739.981106"
      ]
     },
     "execution_count": 172,
     "metadata": {},
     "output_type": "execute_result"
    }
   ],
   "source": [
    "df.head()"
   ]
  },
  {
   "cell_type": "markdown",
   "id": "f29c7c10",
   "metadata": {
    "id": "f29c7c10"
   },
   "source": [
    "- Now, we can see the column `continent` is permanently dropped"
   ]
  },
  {
   "cell_type": "markdown",
   "id": "tGp2zFb4LRWK",
   "metadata": {
    "id": "tGp2zFb4LRWK"
   },
   "source": [
    "### Adding new columns in DataFrame\n",
    "\n",
    "#### And what if we want to create a new column in the dataframe ?\n",
    "\n",
    "  - Lets see how we can do that\n",
    "\n",
    "  - We can either **use values from existing columns** OR **create our own values**\n",
    "\n",
    "### Using values from existing columns"
   ]
  },
  {
   "cell_type": "code",
   "execution_count": 173,
   "id": "eeed32d4",
   "metadata": {
    "colab": {
     "base_uri": "https://localhost:8080/",
     "height": 424
    },
    "id": "eeed32d4",
    "outputId": "592b39a0-b619-42b3-cc40-1a6dac699819"
   },
   "outputs": [
    {
     "data": {
      "text/html": [
       "<div>\n",
       "<style scoped>\n",
       "    .dataframe tbody tr th:only-of-type {\n",
       "        vertical-align: middle;\n",
       "    }\n",
       "\n",
       "    .dataframe tbody tr th {\n",
       "        vertical-align: top;\n",
       "    }\n",
       "\n",
       "    .dataframe thead th {\n",
       "        text-align: right;\n",
       "    }\n",
       "</style>\n",
       "<table border=\"1\" class=\"dataframe\">\n",
       "  <thead>\n",
       "    <tr style=\"text-align: right;\">\n",
       "      <th></th>\n",
       "      <th>country</th>\n",
       "      <th>year</th>\n",
       "      <th>population</th>\n",
       "      <th>life_exp</th>\n",
       "      <th>gdp_cap</th>\n",
       "      <th>New</th>\n",
       "    </tr>\n",
       "  </thead>\n",
       "  <tbody>\n",
       "    <tr>\n",
       "      <th>0</th>\n",
       "      <td>Afghanistan</td>\n",
       "      <td>1952</td>\n",
       "      <td>8425333</td>\n",
       "      <td>28.801</td>\n",
       "      <td>779.445314</td>\n",
       "      <td>1980.801</td>\n",
       "    </tr>\n",
       "    <tr>\n",
       "      <th>1</th>\n",
       "      <td>Afghanistan</td>\n",
       "      <td>1957</td>\n",
       "      <td>9240934</td>\n",
       "      <td>30.332</td>\n",
       "      <td>820.853030</td>\n",
       "      <td>1987.332</td>\n",
       "    </tr>\n",
       "    <tr>\n",
       "      <th>2</th>\n",
       "      <td>Afghanistan</td>\n",
       "      <td>1962</td>\n",
       "      <td>10267083</td>\n",
       "      <td>31.997</td>\n",
       "      <td>853.100710</td>\n",
       "      <td>1993.997</td>\n",
       "    </tr>\n",
       "    <tr>\n",
       "      <th>3</th>\n",
       "      <td>Afghanistan</td>\n",
       "      <td>1967</td>\n",
       "      <td>11537966</td>\n",
       "      <td>34.020</td>\n",
       "      <td>836.197138</td>\n",
       "      <td>2001.020</td>\n",
       "    </tr>\n",
       "    <tr>\n",
       "      <th>4</th>\n",
       "      <td>Afghanistan</td>\n",
       "      <td>1972</td>\n",
       "      <td>13079460</td>\n",
       "      <td>36.088</td>\n",
       "      <td>739.981106</td>\n",
       "      <td>2008.088</td>\n",
       "    </tr>\n",
       "    <tr>\n",
       "      <th>...</th>\n",
       "      <td>...</td>\n",
       "      <td>...</td>\n",
       "      <td>...</td>\n",
       "      <td>...</td>\n",
       "      <td>...</td>\n",
       "      <td>...</td>\n",
       "    </tr>\n",
       "    <tr>\n",
       "      <th>1699</th>\n",
       "      <td>Zimbabwe</td>\n",
       "      <td>1987</td>\n",
       "      <td>9216418</td>\n",
       "      <td>62.351</td>\n",
       "      <td>706.157306</td>\n",
       "      <td>2049.351</td>\n",
       "    </tr>\n",
       "    <tr>\n",
       "      <th>1700</th>\n",
       "      <td>Zimbabwe</td>\n",
       "      <td>1992</td>\n",
       "      <td>10704340</td>\n",
       "      <td>60.377</td>\n",
       "      <td>693.420786</td>\n",
       "      <td>2052.377</td>\n",
       "    </tr>\n",
       "    <tr>\n",
       "      <th>1701</th>\n",
       "      <td>Zimbabwe</td>\n",
       "      <td>1997</td>\n",
       "      <td>11404948</td>\n",
       "      <td>46.809</td>\n",
       "      <td>792.449960</td>\n",
       "      <td>2043.809</td>\n",
       "    </tr>\n",
       "    <tr>\n",
       "      <th>1702</th>\n",
       "      <td>Zimbabwe</td>\n",
       "      <td>2002</td>\n",
       "      <td>11926563</td>\n",
       "      <td>39.989</td>\n",
       "      <td>672.038623</td>\n",
       "      <td>2041.989</td>\n",
       "    </tr>\n",
       "    <tr>\n",
       "      <th>1703</th>\n",
       "      <td>Zimbabwe</td>\n",
       "      <td>2007</td>\n",
       "      <td>12311143</td>\n",
       "      <td>43.487</td>\n",
       "      <td>469.709298</td>\n",
       "      <td>2050.487</td>\n",
       "    </tr>\n",
       "  </tbody>\n",
       "</table>\n",
       "<p>1704 rows × 6 columns</p>\n",
       "</div>"
      ],
      "text/plain": [
       "          country  year  population  life_exp     gdp_cap       New\n",
       "0     Afghanistan  1952     8425333    28.801  779.445314  1980.801\n",
       "1     Afghanistan  1957     9240934    30.332  820.853030  1987.332\n",
       "2     Afghanistan  1962    10267083    31.997  853.100710  1993.997\n",
       "3     Afghanistan  1967    11537966    34.020  836.197138  2001.020\n",
       "4     Afghanistan  1972    13079460    36.088  739.981106  2008.088\n",
       "...           ...   ...         ...       ...         ...       ...\n",
       "1699     Zimbabwe  1987     9216418    62.351  706.157306  2049.351\n",
       "1700     Zimbabwe  1992    10704340    60.377  693.420786  2052.377\n",
       "1701     Zimbabwe  1997    11404948    46.809  792.449960  2043.809\n",
       "1702     Zimbabwe  2002    11926563    39.989  672.038623  2041.989\n",
       "1703     Zimbabwe  2007    12311143    43.487  469.709298  2050.487\n",
       "\n",
       "[1704 rows x 6 columns]"
      ]
     },
     "execution_count": 173,
     "metadata": {},
     "output_type": "execute_result"
    }
   ],
   "source": [
    "df[\"New\"] = df[\"life_exp\"] + df[\"year\"]\n",
    "df"
   ]
  },
  {
   "cell_type": "markdown",
   "id": "28e4ca6c",
   "metadata": {
    "id": "28e4ca6c"
   },
   "source": [
    "#### As you can see\n",
    "\n",
    "- An **additional column** has been **created**\n",
    "\n",
    "\n",
    "- **Values** in this column are **sum of respective values in Column `year` and `population`**\n",
    "\n",
    "\n",
    "#### We can use any other operation as well b/w values of existing columns\n",
    "\n",
    "\n",
    "- Like, Subtraction, Multiplication, etc."
   ]
  },
  {
   "cell_type": "code",
   "execution_count": 174,
   "id": "a477a690",
   "metadata": {
    "colab": {
     "base_uri": "https://localhost:8080/",
     "height": 424
    },
    "id": "a477a690",
    "outputId": "d88f4951-87a8-4d19-ea7f-93b89a51835c"
   },
   "outputs": [
    {
     "data": {
      "text/html": [
       "<div>\n",
       "<style scoped>\n",
       "    .dataframe tbody tr th:only-of-type {\n",
       "        vertical-align: middle;\n",
       "    }\n",
       "\n",
       "    .dataframe tbody tr th {\n",
       "        vertical-align: top;\n",
       "    }\n",
       "\n",
       "    .dataframe thead th {\n",
       "        text-align: right;\n",
       "    }\n",
       "</style>\n",
       "<table border=\"1\" class=\"dataframe\">\n",
       "  <thead>\n",
       "    <tr style=\"text-align: right;\">\n",
       "      <th></th>\n",
       "      <th>country</th>\n",
       "      <th>year</th>\n",
       "      <th>population</th>\n",
       "      <th>life_exp</th>\n",
       "      <th>gdp_cap</th>\n",
       "      <th>New</th>\n",
       "      <th>Sub</th>\n",
       "    </tr>\n",
       "  </thead>\n",
       "  <tbody>\n",
       "    <tr>\n",
       "      <th>0</th>\n",
       "      <td>Afghanistan</td>\n",
       "      <td>1952</td>\n",
       "      <td>8425333</td>\n",
       "      <td>28.801</td>\n",
       "      <td>779.445314</td>\n",
       "      <td>1980.801</td>\n",
       "      <td>-1923.199</td>\n",
       "    </tr>\n",
       "    <tr>\n",
       "      <th>1</th>\n",
       "      <td>Afghanistan</td>\n",
       "      <td>1957</td>\n",
       "      <td>9240934</td>\n",
       "      <td>30.332</td>\n",
       "      <td>820.853030</td>\n",
       "      <td>1987.332</td>\n",
       "      <td>-1926.668</td>\n",
       "    </tr>\n",
       "    <tr>\n",
       "      <th>2</th>\n",
       "      <td>Afghanistan</td>\n",
       "      <td>1962</td>\n",
       "      <td>10267083</td>\n",
       "      <td>31.997</td>\n",
       "      <td>853.100710</td>\n",
       "      <td>1993.997</td>\n",
       "      <td>-1930.003</td>\n",
       "    </tr>\n",
       "    <tr>\n",
       "      <th>3</th>\n",
       "      <td>Afghanistan</td>\n",
       "      <td>1967</td>\n",
       "      <td>11537966</td>\n",
       "      <td>34.020</td>\n",
       "      <td>836.197138</td>\n",
       "      <td>2001.020</td>\n",
       "      <td>-1932.980</td>\n",
       "    </tr>\n",
       "    <tr>\n",
       "      <th>4</th>\n",
       "      <td>Afghanistan</td>\n",
       "      <td>1972</td>\n",
       "      <td>13079460</td>\n",
       "      <td>36.088</td>\n",
       "      <td>739.981106</td>\n",
       "      <td>2008.088</td>\n",
       "      <td>-1935.912</td>\n",
       "    </tr>\n",
       "    <tr>\n",
       "      <th>...</th>\n",
       "      <td>...</td>\n",
       "      <td>...</td>\n",
       "      <td>...</td>\n",
       "      <td>...</td>\n",
       "      <td>...</td>\n",
       "      <td>...</td>\n",
       "      <td>...</td>\n",
       "    </tr>\n",
       "    <tr>\n",
       "      <th>1699</th>\n",
       "      <td>Zimbabwe</td>\n",
       "      <td>1987</td>\n",
       "      <td>9216418</td>\n",
       "      <td>62.351</td>\n",
       "      <td>706.157306</td>\n",
       "      <td>2049.351</td>\n",
       "      <td>-1924.649</td>\n",
       "    </tr>\n",
       "    <tr>\n",
       "      <th>1700</th>\n",
       "      <td>Zimbabwe</td>\n",
       "      <td>1992</td>\n",
       "      <td>10704340</td>\n",
       "      <td>60.377</td>\n",
       "      <td>693.420786</td>\n",
       "      <td>2052.377</td>\n",
       "      <td>-1931.623</td>\n",
       "    </tr>\n",
       "    <tr>\n",
       "      <th>1701</th>\n",
       "      <td>Zimbabwe</td>\n",
       "      <td>1997</td>\n",
       "      <td>11404948</td>\n",
       "      <td>46.809</td>\n",
       "      <td>792.449960</td>\n",
       "      <td>2043.809</td>\n",
       "      <td>-1950.191</td>\n",
       "    </tr>\n",
       "    <tr>\n",
       "      <th>1702</th>\n",
       "      <td>Zimbabwe</td>\n",
       "      <td>2002</td>\n",
       "      <td>11926563</td>\n",
       "      <td>39.989</td>\n",
       "      <td>672.038623</td>\n",
       "      <td>2041.989</td>\n",
       "      <td>-1962.011</td>\n",
       "    </tr>\n",
       "    <tr>\n",
       "      <th>1703</th>\n",
       "      <td>Zimbabwe</td>\n",
       "      <td>2007</td>\n",
       "      <td>12311143</td>\n",
       "      <td>43.487</td>\n",
       "      <td>469.709298</td>\n",
       "      <td>2050.487</td>\n",
       "      <td>-1963.513</td>\n",
       "    </tr>\n",
       "  </tbody>\n",
       "</table>\n",
       "<p>1704 rows × 7 columns</p>\n",
       "</div>"
      ],
      "text/plain": [
       "          country  year  population  life_exp     gdp_cap       New       Sub\n",
       "0     Afghanistan  1952     8425333    28.801  779.445314  1980.801 -1923.199\n",
       "1     Afghanistan  1957     9240934    30.332  820.853030  1987.332 -1926.668\n",
       "2     Afghanistan  1962    10267083    31.997  853.100710  1993.997 -1930.003\n",
       "3     Afghanistan  1967    11537966    34.020  836.197138  2001.020 -1932.980\n",
       "4     Afghanistan  1972    13079460    36.088  739.981106  2008.088 -1935.912\n",
       "...           ...   ...         ...       ...         ...       ...       ...\n",
       "1699     Zimbabwe  1987     9216418    62.351  706.157306  2049.351 -1924.649\n",
       "1700     Zimbabwe  1992    10704340    60.377  693.420786  2052.377 -1931.623\n",
       "1701     Zimbabwe  1997    11404948    46.809  792.449960  2043.809 -1950.191\n",
       "1702     Zimbabwe  2002    11926563    39.989  672.038623  2041.989 -1962.011\n",
       "1703     Zimbabwe  2007    12311143    43.487  469.709298  2050.487 -1963.513\n",
       "\n",
       "[1704 rows x 7 columns]"
      ]
     },
     "execution_count": 174,
     "metadata": {},
     "output_type": "execute_result"
    }
   ],
   "source": [
    "df[\"Sub\"] = df[\"life_exp\"] - df[\"year\"]\n",
    "df"
   ]
  },
  {
   "cell_type": "markdown",
   "id": "3563bab2",
   "metadata": {
    "id": "3563bab2"
   },
   "source": [
    "### Creating own values for new column\n",
    "\n",
    "- We can **create a list**\n",
    "\n",
    "OR\n",
    "\n",
    "- We can **create a Pandas Series** for our new column\n",
    "\n",
    "OR\n",
    "\n",
    "- We can **create a Numpy Array and convert it into Pandas Series**\n",
    "\n",
    "\n",
    "#### Let's look at that"
   ]
  },
  {
   "cell_type": "code",
   "execution_count": 175,
   "id": "0863d49f",
   "metadata": {
    "colab": {
     "base_uri": "https://localhost:8080/",
     "height": 424
    },
    "id": "0863d49f",
    "outputId": "c5a88963-1583-4b01-ac9c-3fe9d079f6e0"
   },
   "outputs": [
    {
     "data": {
      "text/html": [
       "<div>\n",
       "<style scoped>\n",
       "    .dataframe tbody tr th:only-of-type {\n",
       "        vertical-align: middle;\n",
       "    }\n",
       "\n",
       "    .dataframe tbody tr th {\n",
       "        vertical-align: top;\n",
       "    }\n",
       "\n",
       "    .dataframe thead th {\n",
       "        text-align: right;\n",
       "    }\n",
       "</style>\n",
       "<table border=\"1\" class=\"dataframe\">\n",
       "  <thead>\n",
       "    <tr style=\"text-align: right;\">\n",
       "      <th></th>\n",
       "      <th>country</th>\n",
       "      <th>year</th>\n",
       "      <th>population</th>\n",
       "      <th>life_exp</th>\n",
       "      <th>gdp_cap</th>\n",
       "      <th>New</th>\n",
       "      <th>Sub</th>\n",
       "      <th>Own</th>\n",
       "    </tr>\n",
       "  </thead>\n",
       "  <tbody>\n",
       "    <tr>\n",
       "      <th>0</th>\n",
       "      <td>Afghanistan</td>\n",
       "      <td>1952</td>\n",
       "      <td>8425333</td>\n",
       "      <td>28.801</td>\n",
       "      <td>779.445314</td>\n",
       "      <td>1980.801</td>\n",
       "      <td>-1923.199</td>\n",
       "      <td>0</td>\n",
       "    </tr>\n",
       "    <tr>\n",
       "      <th>1</th>\n",
       "      <td>Afghanistan</td>\n",
       "      <td>1957</td>\n",
       "      <td>9240934</td>\n",
       "      <td>30.332</td>\n",
       "      <td>820.853030</td>\n",
       "      <td>1987.332</td>\n",
       "      <td>-1926.668</td>\n",
       "      <td>1</td>\n",
       "    </tr>\n",
       "    <tr>\n",
       "      <th>2</th>\n",
       "      <td>Afghanistan</td>\n",
       "      <td>1962</td>\n",
       "      <td>10267083</td>\n",
       "      <td>31.997</td>\n",
       "      <td>853.100710</td>\n",
       "      <td>1993.997</td>\n",
       "      <td>-1930.003</td>\n",
       "      <td>2</td>\n",
       "    </tr>\n",
       "    <tr>\n",
       "      <th>3</th>\n",
       "      <td>Afghanistan</td>\n",
       "      <td>1967</td>\n",
       "      <td>11537966</td>\n",
       "      <td>34.020</td>\n",
       "      <td>836.197138</td>\n",
       "      <td>2001.020</td>\n",
       "      <td>-1932.980</td>\n",
       "      <td>3</td>\n",
       "    </tr>\n",
       "    <tr>\n",
       "      <th>4</th>\n",
       "      <td>Afghanistan</td>\n",
       "      <td>1972</td>\n",
       "      <td>13079460</td>\n",
       "      <td>36.088</td>\n",
       "      <td>739.981106</td>\n",
       "      <td>2008.088</td>\n",
       "      <td>-1935.912</td>\n",
       "      <td>4</td>\n",
       "    </tr>\n",
       "    <tr>\n",
       "      <th>...</th>\n",
       "      <td>...</td>\n",
       "      <td>...</td>\n",
       "      <td>...</td>\n",
       "      <td>...</td>\n",
       "      <td>...</td>\n",
       "      <td>...</td>\n",
       "      <td>...</td>\n",
       "      <td>...</td>\n",
       "    </tr>\n",
       "    <tr>\n",
       "      <th>1699</th>\n",
       "      <td>Zimbabwe</td>\n",
       "      <td>1987</td>\n",
       "      <td>9216418</td>\n",
       "      <td>62.351</td>\n",
       "      <td>706.157306</td>\n",
       "      <td>2049.351</td>\n",
       "      <td>-1924.649</td>\n",
       "      <td>1699</td>\n",
       "    </tr>\n",
       "    <tr>\n",
       "      <th>1700</th>\n",
       "      <td>Zimbabwe</td>\n",
       "      <td>1992</td>\n",
       "      <td>10704340</td>\n",
       "      <td>60.377</td>\n",
       "      <td>693.420786</td>\n",
       "      <td>2052.377</td>\n",
       "      <td>-1931.623</td>\n",
       "      <td>1700</td>\n",
       "    </tr>\n",
       "    <tr>\n",
       "      <th>1701</th>\n",
       "      <td>Zimbabwe</td>\n",
       "      <td>1997</td>\n",
       "      <td>11404948</td>\n",
       "      <td>46.809</td>\n",
       "      <td>792.449960</td>\n",
       "      <td>2043.809</td>\n",
       "      <td>-1950.191</td>\n",
       "      <td>1701</td>\n",
       "    </tr>\n",
       "    <tr>\n",
       "      <th>1702</th>\n",
       "      <td>Zimbabwe</td>\n",
       "      <td>2002</td>\n",
       "      <td>11926563</td>\n",
       "      <td>39.989</td>\n",
       "      <td>672.038623</td>\n",
       "      <td>2041.989</td>\n",
       "      <td>-1962.011</td>\n",
       "      <td>1702</td>\n",
       "    </tr>\n",
       "    <tr>\n",
       "      <th>1703</th>\n",
       "      <td>Zimbabwe</td>\n",
       "      <td>2007</td>\n",
       "      <td>12311143</td>\n",
       "      <td>43.487</td>\n",
       "      <td>469.709298</td>\n",
       "      <td>2050.487</td>\n",
       "      <td>-1963.513</td>\n",
       "      <td>1703</td>\n",
       "    </tr>\n",
       "  </tbody>\n",
       "</table>\n",
       "<p>1704 rows × 8 columns</p>\n",
       "</div>"
      ],
      "text/plain": [
       "          country  year  population  life_exp     gdp_cap       New       Sub  \\\n",
       "0     Afghanistan  1952     8425333    28.801  779.445314  1980.801 -1923.199   \n",
       "1     Afghanistan  1957     9240934    30.332  820.853030  1987.332 -1926.668   \n",
       "2     Afghanistan  1962    10267083    31.997  853.100710  1993.997 -1930.003   \n",
       "3     Afghanistan  1967    11537966    34.020  836.197138  2001.020 -1932.980   \n",
       "4     Afghanistan  1972    13079460    36.088  739.981106  2008.088 -1935.912   \n",
       "...           ...   ...         ...       ...         ...       ...       ...   \n",
       "1699     Zimbabwe  1987     9216418    62.351  706.157306  2049.351 -1924.649   \n",
       "1700     Zimbabwe  1992    10704340    60.377  693.420786  2052.377 -1931.623   \n",
       "1701     Zimbabwe  1997    11404948    46.809  792.449960  2043.809 -1950.191   \n",
       "1702     Zimbabwe  2002    11926563    39.989  672.038623  2041.989 -1962.011   \n",
       "1703     Zimbabwe  2007    12311143    43.487  469.709298  2050.487 -1963.513   \n",
       "\n",
       "       Own  \n",
       "0        0  \n",
       "1        1  \n",
       "2        2  \n",
       "3        3  \n",
       "4        4  \n",
       "...    ...  \n",
       "1699  1699  \n",
       "1700  1700  \n",
       "1701  1701  \n",
       "1702  1702  \n",
       "1703  1703  \n",
       "\n",
       "[1704 rows x 8 columns]"
      ]
     },
     "execution_count": 175,
     "metadata": {},
     "output_type": "execute_result"
    }
   ],
   "source": [
    "df[\"Own\"] = [i for i in range(1704)]  # count of these values should be correct\n",
    "df"
   ]
  },
  {
   "cell_type": "markdown",
   "id": "DNE1iifMh8Fn",
   "metadata": {
    "id": "DNE1iifMh8Fn"
   },
   "source": [
    "Now that we know how to create new cols lets see some basic ops on rows\n",
    "\n",
    "Before that lets drop the newly created cols from df\n"
   ]
  },
  {
   "cell_type": "code",
   "execution_count": 176,
   "id": "WZUi4Bd5Mu8z",
   "metadata": {
    "colab": {
     "base_uri": "https://localhost:8080/",
     "height": 424
    },
    "id": "WZUi4Bd5Mu8z",
    "outputId": "fa111907-0f31-4146-e6eb-b7328d1843b0"
   },
   "outputs": [
    {
     "data": {
      "text/html": [
       "<div>\n",
       "<style scoped>\n",
       "    .dataframe tbody tr th:only-of-type {\n",
       "        vertical-align: middle;\n",
       "    }\n",
       "\n",
       "    .dataframe tbody tr th {\n",
       "        vertical-align: top;\n",
       "    }\n",
       "\n",
       "    .dataframe thead th {\n",
       "        text-align: right;\n",
       "    }\n",
       "</style>\n",
       "<table border=\"1\" class=\"dataframe\">\n",
       "  <thead>\n",
       "    <tr style=\"text-align: right;\">\n",
       "      <th></th>\n",
       "      <th>country</th>\n",
       "      <th>year</th>\n",
       "      <th>population</th>\n",
       "      <th>life_exp</th>\n",
       "      <th>gdp_cap</th>\n",
       "    </tr>\n",
       "  </thead>\n",
       "  <tbody>\n",
       "    <tr>\n",
       "      <th>0</th>\n",
       "      <td>Afghanistan</td>\n",
       "      <td>1952</td>\n",
       "      <td>8425333</td>\n",
       "      <td>28.801</td>\n",
       "      <td>779.445314</td>\n",
       "    </tr>\n",
       "    <tr>\n",
       "      <th>1</th>\n",
       "      <td>Afghanistan</td>\n",
       "      <td>1957</td>\n",
       "      <td>9240934</td>\n",
       "      <td>30.332</td>\n",
       "      <td>820.853030</td>\n",
       "    </tr>\n",
       "    <tr>\n",
       "      <th>2</th>\n",
       "      <td>Afghanistan</td>\n",
       "      <td>1962</td>\n",
       "      <td>10267083</td>\n",
       "      <td>31.997</td>\n",
       "      <td>853.100710</td>\n",
       "    </tr>\n",
       "    <tr>\n",
       "      <th>3</th>\n",
       "      <td>Afghanistan</td>\n",
       "      <td>1967</td>\n",
       "      <td>11537966</td>\n",
       "      <td>34.020</td>\n",
       "      <td>836.197138</td>\n",
       "    </tr>\n",
       "    <tr>\n",
       "      <th>4</th>\n",
       "      <td>Afghanistan</td>\n",
       "      <td>1972</td>\n",
       "      <td>13079460</td>\n",
       "      <td>36.088</td>\n",
       "      <td>739.981106</td>\n",
       "    </tr>\n",
       "    <tr>\n",
       "      <th>...</th>\n",
       "      <td>...</td>\n",
       "      <td>...</td>\n",
       "      <td>...</td>\n",
       "      <td>...</td>\n",
       "      <td>...</td>\n",
       "    </tr>\n",
       "    <tr>\n",
       "      <th>1699</th>\n",
       "      <td>Zimbabwe</td>\n",
       "      <td>1987</td>\n",
       "      <td>9216418</td>\n",
       "      <td>62.351</td>\n",
       "      <td>706.157306</td>\n",
       "    </tr>\n",
       "    <tr>\n",
       "      <th>1700</th>\n",
       "      <td>Zimbabwe</td>\n",
       "      <td>1992</td>\n",
       "      <td>10704340</td>\n",
       "      <td>60.377</td>\n",
       "      <td>693.420786</td>\n",
       "    </tr>\n",
       "    <tr>\n",
       "      <th>1701</th>\n",
       "      <td>Zimbabwe</td>\n",
       "      <td>1997</td>\n",
       "      <td>11404948</td>\n",
       "      <td>46.809</td>\n",
       "      <td>792.449960</td>\n",
       "    </tr>\n",
       "    <tr>\n",
       "      <th>1702</th>\n",
       "      <td>Zimbabwe</td>\n",
       "      <td>2002</td>\n",
       "      <td>11926563</td>\n",
       "      <td>39.989</td>\n",
       "      <td>672.038623</td>\n",
       "    </tr>\n",
       "    <tr>\n",
       "      <th>1703</th>\n",
       "      <td>Zimbabwe</td>\n",
       "      <td>2007</td>\n",
       "      <td>12311143</td>\n",
       "      <td>43.487</td>\n",
       "      <td>469.709298</td>\n",
       "    </tr>\n",
       "  </tbody>\n",
       "</table>\n",
       "<p>1704 rows × 5 columns</p>\n",
       "</div>"
      ],
      "text/plain": [
       "          country  year  population  life_exp     gdp_cap\n",
       "0     Afghanistan  1952     8425333    28.801  779.445314\n",
       "1     Afghanistan  1957     9240934    30.332  820.853030\n",
       "2     Afghanistan  1962    10267083    31.997  853.100710\n",
       "3     Afghanistan  1967    11537966    34.020  836.197138\n",
       "4     Afghanistan  1972    13079460    36.088  739.981106\n",
       "...           ...   ...         ...       ...         ...\n",
       "1699     Zimbabwe  1987     9216418    62.351  706.157306\n",
       "1700     Zimbabwe  1992    10704340    60.377  693.420786\n",
       "1701     Zimbabwe  1997    11404948    46.809  792.449960\n",
       "1702     Zimbabwe  2002    11926563    39.989  672.038623\n",
       "1703     Zimbabwe  2007    12311143    43.487  469.709298\n",
       "\n",
       "[1704 rows x 5 columns]"
      ]
     },
     "execution_count": 176,
     "metadata": {},
     "output_type": "execute_result"
    }
   ],
   "source": [
    "df.drop(columns=[\"New\", \"Own\", \"Sub\"], axis = 1, inplace = True)\n",
    "df"
   ]
  },
  {
   "cell_type": "markdown",
   "id": "zs_FGpMU5I4z",
   "metadata": {
    "id": "zs_FGpMU5I4z"
   },
   "source": [
    "## **Quiz1 :**\n",
    "\n",
    "\n",
    "1. To delete a column, the parameter axis of function drop( ) is assigned the value ___ ?\n",
    "\n",
    "a. 0\n",
    "\n",
    "b. 1\n",
    "\n",
    "c. 2\n",
    "\n",
    "Answer: 1\n",
    "\n",
    "2.For a given dataframe\n",
    "\n",
    "<a href=\"https://imgur.com/dM1sGNr\"><img src=\"https://i.imgur.com/dM1sGNr.png\" title=\"source: imgur.com\" /></a>\n",
    "\n",
    "\n",
    "Python will store data for ‘x’ column as\n",
    "\n",
    "a. float\n",
    "b. int\n",
    "c. string\n",
    "d. object\n",
    "\n",
    "Answer: object\n",
    "\n",
    "\n",
    "\n",
    "\n"
   ]
  },
  {
   "cell_type": "markdown",
   "id": "pWjf1JPfMuae",
   "metadata": {
    "id": "pWjf1JPfMuae"
   },
   "source": [
    "\n",
    "## Working with Rows\n",
    "\n",
    "#### Now what if we want to access the 6th row ? Or what if we want to access 6th:15th row ?\n",
    "\n",
    "#### How can we do that ?\n",
    "\n",
    "We will first check these ops for series and generalise to a dataframe\n"
   ]
  },
  {
   "cell_type": "code",
   "execution_count": 177,
   "id": "oz_0gCAzi_a4",
   "metadata": {
    "colab": {
     "base_uri": "https://localhost:8080/"
    },
    "id": "oz_0gCAzi_a4",
    "outputId": "41e17079-953c-40bb-892f-d097701b6a92"
   },
   "outputs": [
    {
     "data": {
      "text/plain": [
       "0       Afghanistan\n",
       "1       Afghanistan\n",
       "2       Afghanistan\n",
       "3       Afghanistan\n",
       "4       Afghanistan\n",
       "           ...     \n",
       "1699       Zimbabwe\n",
       "1700       Zimbabwe\n",
       "1701       Zimbabwe\n",
       "1702       Zimbabwe\n",
       "1703       Zimbabwe\n",
       "Name: country, Length: 1704, dtype: object"
      ]
     },
     "execution_count": 177,
     "metadata": {},
     "output_type": "execute_result"
    }
   ],
   "source": [
    "ser = df[\"country\"]\n",
    "ser"
   ]
  },
  {
   "cell_type": "markdown",
   "id": "W1nzJgFbjUGq",
   "metadata": {
    "id": "W1nzJgFbjUGq"
   },
   "source": [
    "\n",
    "#### How to access a row ?\n",
    "\n",
    "To access a row in a Series we can use its indices much like we do in a np array\n",
    "\n",
    "For eg, if we want to access the second row (with index 6) the code will be:\n"
   ]
  },
  {
   "cell_type": "code",
   "execution_count": 178,
   "id": "ddp3QpeijE2O",
   "metadata": {
    "colab": {
     "base_uri": "https://localhost:8080/",
     "height": 36
    },
    "id": "ddp3QpeijE2O",
    "outputId": "f9511be6-700e-4002-9872-4ad603abcf03"
   },
   "outputs": [
    {
     "data": {
      "text/plain": [
       "'Afghanistan'"
      ]
     },
     "execution_count": 178,
     "metadata": {},
     "output_type": "execute_result"
    }
   ],
   "source": [
    "ser[6]"
   ]
  },
  {
   "cell_type": "markdown",
   "id": "h1GA0Ch7ijX5",
   "metadata": {
    "id": "h1GA0Ch7ijX5"
   },
   "source": [
    "#### And what about accessing the 6th:15th row ?"
   ]
  },
  {
   "cell_type": "code",
   "execution_count": 179,
   "id": "f1962e2d",
   "metadata": {
    "colab": {
     "base_uri": "https://localhost:8080/"
    },
    "id": "f1962e2d",
    "outputId": "a95017c7-8ecd-4984-e64f-7e8ce0a7e87b"
   },
   "outputs": [
    {
     "data": {
      "text/plain": [
       "6     Afghanistan\n",
       "7     Afghanistan\n",
       "8     Afghanistan\n",
       "9     Afghanistan\n",
       "10    Afghanistan\n",
       "11    Afghanistan\n",
       "12        Albania\n",
       "13        Albania\n",
       "14        Albania\n",
       "Name: country, dtype: object"
      ]
     },
     "execution_count": 179,
     "metadata": {},
     "output_type": "execute_result"
    }
   ],
   "source": [
    "ser[6:15]"
   ]
  },
  {
   "cell_type": "markdown",
   "id": "spl_vULRjdfD",
   "metadata": {
    "id": "spl_vULRjdfD"
   },
   "source": [
    "This is known as slicing\n",
    "Looks pretty easy\n"
   ]
  },
  {
   "cell_type": "markdown",
   "id": "SMqBhO-TWXck",
   "metadata": {
    "id": "SMqBhO-TWXck"
   },
   "source": [
    "Notice the numbers of row printed alongwith each row\n",
    "\n",
    "#### How start indexing with 1 instead of 0 ?\n",
    "  - This is where df.index() method comes into picture\n",
    "  - Takes a series/list/vector of vals having same no. of vals as rows in the df/series\n",
    "  - Lets code this"
   ]
  },
  {
   "cell_type": "code",
   "execution_count": 180,
   "id": "649bfe65",
   "metadata": {},
   "outputs": [
    {
     "data": {
      "text/plain": [
       "(1704,)"
      ]
     },
     "execution_count": 180,
     "metadata": {},
     "output_type": "execute_result"
    }
   ],
   "source": [
    "ser.shape\n"
   ]
  },
  {
   "cell_type": "code",
   "execution_count": 181,
   "id": "VFdQ3tnrduSD",
   "metadata": {
    "colab": {
     "base_uri": "https://localhost:8080/"
    },
    "id": "VFdQ3tnrduSD",
    "outputId": "3a49c4f3-7223-49b2-9917-b52a8e48a360"
   },
   "outputs": [
    {
     "data": {
      "text/plain": [
       "1       Afghanistan\n",
       "2       Afghanistan\n",
       "3       Afghanistan\n",
       "4       Afghanistan\n",
       "5       Afghanistan\n",
       "           ...     \n",
       "1700       Zimbabwe\n",
       "1701       Zimbabwe\n",
       "1702       Zimbabwe\n",
       "1703       Zimbabwe\n",
       "1704       Zimbabwe\n",
       "Name: country, Length: 1704, dtype: object"
      ]
     },
     "execution_count": 181,
     "metadata": {},
     "output_type": "execute_result"
    }
   ],
   "source": [
    "import numpy as np\n",
    "\n",
    "ser.index = np.arange(1, ser.shape[0]+1, dtype=np.int32, step = 1)\n",
    "ser"
   ]
  },
  {
   "cell_type": "markdown",
   "id": "KRvlAf3jXJdJ",
   "metadata": {
    "id": "KRvlAf3jXJdJ"
   },
   "source": [
    "As you can see the indexing is now starting from 1 instead of 0.\n"
   ]
  },
  {
   "cell_type": "markdown",
   "id": "FGg4WTmCXboA",
   "metadata": {
    "id": "FGg4WTmCXboA"
   },
   "source": [
    "### Explicit and Implicit Indices\n",
    "#### What are these ?\n",
    "  \n",
    "  - Index of the row\n",
    "  \n",
    "  - These indices are known as **explicit indices**\n",
    "\n",
    "  - Additionally series/dataframes can also use python style indexing\n",
    "\n",
    "  - These are known as **implicit indices**\n",
    "\n",
    "\n",
    "#### How can we access explicit index of row though ?\n",
    "  - Using df.index[]\n",
    "  - Takes **impicit index** of row to give its explicit index\n",
    "  - Lets see how it works\n",
    "\n"
   ]
  },
  {
   "cell_type": "code",
   "execution_count": 182,
   "id": "bTs1fUw_cQD4",
   "metadata": {
    "colab": {
     "base_uri": "https://localhost:8080/"
    },
    "id": "bTs1fUw_cQD4",
    "outputId": "9b97f138-6622-4f45-ac9f-21b7fd2c8d81"
   },
   "outputs": [
    {
     "data": {
      "text/plain": [
       "1"
      ]
     },
     "execution_count": 182,
     "metadata": {},
     "output_type": "execute_result"
    }
   ],
   "source": [
    "# ser.index[0]"
   ]
  },
  {
   "cell_type": "markdown",
   "id": "O4n6oCYcaq4m",
   "metadata": {
    "id": "O4n6oCYcaq4m"
   },
   "source": [
    "\n",
    "#### But why not use just implicit indexing ?\n",
    "\n",
    "  - Explicit indices can be changed to any value of any datatype\n",
    "    - Eg: Explicit Index of 1st row can be changes to \"First\"\n",
    "\n",
    "Now lets go back to indexing and slicing \n",
    "\n",
    "#### There is a slight problem in it\n",
    "\n",
    "Lets look at another dummy series to understand this"
   ]
  },
  {
   "cell_type": "code",
   "execution_count": 183,
   "id": "BEr4xxmpX_h2",
   "metadata": {
    "colab": {
     "base_uri": "https://localhost:8080/"
    },
    "id": "BEr4xxmpX_h2",
    "outputId": "e34f86fc-c129-4585-b9be-65591db990e7"
   },
   "outputs": [
    {
     "data": {
      "text/plain": [
       "1    a\n",
       "5    b\n",
       "3    c\n",
       "dtype: object"
      ]
     },
     "execution_count": 183,
     "metadata": {},
     "output_type": "execute_result"
    }
   ],
   "source": [
    "import pandas as pd\n",
    "data = pd.Series(['a', 'b', 'c'], index=[1, 5, 3])\n",
    "data"
   ]
  },
  {
   "cell_type": "code",
   "execution_count": 186,
   "id": "bTTjq41fYOSc",
   "metadata": {
    "colab": {
     "base_uri": "https://localhost:8080/",
     "height": 36
    },
    "id": "bTTjq41fYOSc",
    "outputId": "49b0edb9-3f80-485b-effb-1cd8131829c1"
   },
   "outputs": [
    {
     "data": {
      "text/plain": [
       "'a'"
      ]
     },
     "execution_count": 186,
     "metadata": {},
     "output_type": "execute_result"
    }
   ],
   "source": [
    "data[1] # Uses explicit index"
   ]
  },
  {
   "cell_type": "code",
   "execution_count": 187,
   "id": "9geWJx11YPe5",
   "metadata": {
    "colab": {
     "base_uri": "https://localhost:8080/"
    },
    "id": "9geWJx11YPe5",
    "outputId": "28c74547-49b9-4d7e-fd97-02dc258894dc"
   },
   "outputs": [
    {
     "data": {
      "text/plain": [
       "5    b\n",
       "3    c\n",
       "dtype: object"
      ]
     },
     "execution_count": 187,
     "metadata": {},
     "output_type": "execute_result"
    }
   ],
   "source": [
    "data[1:3] # Uses implicit index"
   ]
  },
  {
   "cell_type": "markdown",
   "id": "xGmJ2hOeYlqN",
   "metadata": {
    "id": "xGmJ2hOeYlqN"
   },
   "source": [
    "You can also provide index as str"
   ]
  },
  {
   "cell_type": "code",
   "execution_count": 188,
   "id": "Cx1bQvINb7ZX",
   "metadata": {
    "colab": {
     "base_uri": "https://localhost:8080/"
    },
    "id": "Cx1bQvINb7ZX",
    "outputId": "57d37736-64eb-473e-e581-7492c0eb8e88"
   },
   "outputs": [
    {
     "data": {
      "text/plain": [
       "x    a\n",
       "y    b\n",
       "z    c\n",
       "dtype: object"
      ]
     },
     "execution_count": 188,
     "metadata": {},
     "output_type": "execute_result"
    }
   ],
   "source": [
    "data = pd.Series(['a', 'b', 'c'], index=['x', 'y', 'z'])\n",
    "data"
   ]
  },
  {
   "cell_type": "markdown",
   "id": "gELpQz9PcCyr",
   "metadata": {
    "id": "gELpQz9PcCyr"
   },
   "source": [
    "Pandas supports non-unique index values as well"
   ]
  },
  {
   "cell_type": "code",
   "execution_count": 197,
   "id": "defD6oStcDw8",
   "metadata": {
    "colab": {
     "base_uri": "https://localhost:8080/"
    },
    "id": "defD6oStcDw8",
    "outputId": "844e388b-3e0d-4a44-f071-1dcf52def8ff"
   },
   "outputs": [
    {
     "data": {
      "text/plain": [
       "1    a\n",
       "2    b\n",
       "2    c\n",
       "3    d\n",
       "dtype: object"
      ]
     },
     "execution_count": 197,
     "metadata": {},
     "output_type": "execute_result"
    }
   ],
   "source": [
    "data = pd.Series(['a', 'b', 'c','d'], index=[1, 2, 2,3])\n",
    "data"
   ]
  },
  {
   "cell_type": "markdown",
   "id": "EA62JkBRj7kv",
   "metadata": {
    "id": "EA62JkBRj7kv"
   },
   "source": [
    "#### What can we infer from this ?\n",
    "  - **Indexing in Series** used **explicit index**\n",
    "  - **Slicing** however used **implicit index**\n",
    "\n",
    "This can be a cause for confusion\n",
    "\n",
    "To avoid this pandas provides special indexers\n",
    "\n",
    "Lets look at them one by one\n",
    "\n",
    "#### **1. loc**\n",
    "\n",
    "Allows indexing and slicing that always references the explicit index"
   ]
  },
  {
   "cell_type": "code",
   "execution_count": 198,
   "id": "ws088QT2kjnS",
   "metadata": {
    "colab": {
     "base_uri": "https://localhost:8080/",
     "height": 36
    },
    "id": "ws088QT2kjnS",
    "outputId": "a4d74043-d7ba-4ce7-8ad3-c37ac95be984"
   },
   "outputs": [
    {
     "data": {
      "text/plain": [
       "'a'"
      ]
     },
     "execution_count": 198,
     "metadata": {},
     "output_type": "execute_result"
    }
   ],
   "source": [
    "data.loc[1]"
   ]
  },
  {
   "cell_type": "code",
   "execution_count": 199,
   "id": "97ff25e5",
   "metadata": {},
   "outputs": [
    {
     "data": {
      "text/plain": [
       "2    b\n",
       "2    c\n",
       "dtype: object"
      ]
     },
     "execution_count": 199,
     "metadata": {},
     "output_type": "execute_result"
    }
   ],
   "source": [
    "data.loc[2]"
   ]
  },
  {
   "cell_type": "code",
   "execution_count": 200,
   "id": "g9c38e2Nkm-G",
   "metadata": {
    "colab": {
     "base_uri": "https://localhost:8080/"
    },
    "id": "g9c38e2Nkm-G",
    "outputId": "5bd32489-8e12-479b-82ed-f4ffd32cabad"
   },
   "outputs": [
    {
     "data": {
      "text/plain": [
       "1    a\n",
       "2    b\n",
       "2    c\n",
       "3    d\n",
       "dtype: object"
      ]
     },
     "execution_count": 200,
     "metadata": {},
     "output_type": "execute_result"
    }
   ],
   "source": [
    "data.loc[1:3]"
   ]
  },
  {
   "cell_type": "markdown",
   "id": "9447d2bf",
   "metadata": {
    "id": "9447d2bf"
   },
   "source": [
    "#### Did you notice something strange here?\n",
    "\n",
    "- The **range is inclusive of end point for `loc`**\n",
    "\n",
    "- **Row with Label 3 is included in the result**\n"
   ]
  },
  {
   "cell_type": "markdown",
   "id": "99rHQWPhktQ4",
   "metadata": {
    "id": "99rHQWPhktQ4"
   },
   "source": [
    "#### **2. iloc**\n",
    "\n",
    "Allows indexing and slicing that always references the implicit Python-style index"
   ]
  },
  {
   "cell_type": "code",
   "execution_count": 201,
   "id": "VGHOfUqLkxle",
   "metadata": {
    "colab": {
     "base_uri": "https://localhost:8080/",
     "height": 36
    },
    "id": "VGHOfUqLkxle",
    "outputId": "e53d8457-6fe3-43d3-dc40-80020ab6a2f4"
   },
   "outputs": [
    {
     "data": {
      "text/plain": [
       "'b'"
      ]
     },
     "execution_count": 201,
     "metadata": {},
     "output_type": "execute_result"
    }
   ],
   "source": [
    "data.iloc[1]"
   ]
  },
  {
   "cell_type": "markdown",
   "id": "emHO1CEGliI8",
   "metadata": {
    "id": "emHO1CEGliI8"
   },
   "source": [
    "#### Now will `iloc` also consider the range inclusive?"
   ]
  },
  {
   "cell_type": "code",
   "execution_count": 202,
   "id": "kV3gPk7Akz2J",
   "metadata": {
    "colab": {
     "base_uri": "https://localhost:8080/"
    },
    "id": "kV3gPk7Akz2J",
    "outputId": "53379f71-e184-4b94-be6c-7add9d564dbe"
   },
   "outputs": [
    {
     "data": {
      "text/plain": [
       "1    a\n",
       "2    b\n",
       "dtype: object"
      ]
     },
     "execution_count": 202,
     "metadata": {},
     "output_type": "execute_result"
    }
   ],
   "source": [
    "data.iloc[0:2]"
   ]
  },
  {
   "cell_type": "markdown",
   "id": "a435f5ab",
   "metadata": {
    "id": "a435f5ab"
   },
   "source": [
    "- **NO**\n",
    "\n",
    "- Because **`iloc` works with implicit Python-style indices**\n",
    "\n",
    "#### It is important to know about these conceptual differences\n",
    "\n",
    "  - Not just b/w `loc` and `iloc`\n",
    "\n",
    "  - But in general while working in DS and ML\n",
    "\n"
   ]
  },
  {
   "cell_type": "markdown",
   "id": "g_pNv2Cmk7Nd",
   "metadata": {
    "id": "g_pNv2Cmk7Nd"
   },
   "source": [
    "#### Which one should we use ?\n",
    "  - Generally explicit indexing is considered to be better than implicit one\n",
    "  - But it is recommended to always use both loc and iloc to avoid any confusions"
   ]
  },
  {
   "cell_type": "markdown",
   "id": "FmK8XDpTnbIp",
   "metadata": {
    "id": "FmK8XDpTnbIp"
   },
   "source": [
    "Lets look at Data Selection in DataFrames now\n",
    "\n",
    "#### How to access the ith row ?\n",
    "  - Lets say we want to access the 2nd row\n",
    "  "
   ]
  },
  {
   "cell_type": "markdown",
   "id": "D4dM2TqFnYai",
   "metadata": {
    "id": "D4dM2TqFnYai"
   },
   "source": [
    "We can also use iloc and loc here to access the rows"
   ]
  },
  {
   "cell_type": "code",
   "execution_count": 203,
   "id": "5599b231",
   "metadata": {},
   "outputs": [
    {
     "data": {
      "text/html": [
       "<div>\n",
       "<style scoped>\n",
       "    .dataframe tbody tr th:only-of-type {\n",
       "        vertical-align: middle;\n",
       "    }\n",
       "\n",
       "    .dataframe tbody tr th {\n",
       "        vertical-align: top;\n",
       "    }\n",
       "\n",
       "    .dataframe thead th {\n",
       "        text-align: right;\n",
       "    }\n",
       "</style>\n",
       "<table border=\"1\" class=\"dataframe\">\n",
       "  <thead>\n",
       "    <tr style=\"text-align: right;\">\n",
       "      <th></th>\n",
       "      <th>country</th>\n",
       "      <th>year</th>\n",
       "      <th>population</th>\n",
       "      <th>life_exp</th>\n",
       "      <th>gdp_cap</th>\n",
       "    </tr>\n",
       "  </thead>\n",
       "  <tbody>\n",
       "    <tr>\n",
       "      <th>0</th>\n",
       "      <td>Afghanistan</td>\n",
       "      <td>1952</td>\n",
       "      <td>8425333</td>\n",
       "      <td>28.801</td>\n",
       "      <td>779.445314</td>\n",
       "    </tr>\n",
       "    <tr>\n",
       "      <th>1</th>\n",
       "      <td>Afghanistan</td>\n",
       "      <td>1957</td>\n",
       "      <td>9240934</td>\n",
       "      <td>30.332</td>\n",
       "      <td>820.853030</td>\n",
       "    </tr>\n",
       "    <tr>\n",
       "      <th>2</th>\n",
       "      <td>Afghanistan</td>\n",
       "      <td>1962</td>\n",
       "      <td>10267083</td>\n",
       "      <td>31.997</td>\n",
       "      <td>853.100710</td>\n",
       "    </tr>\n",
       "    <tr>\n",
       "      <th>3</th>\n",
       "      <td>Afghanistan</td>\n",
       "      <td>1967</td>\n",
       "      <td>11537966</td>\n",
       "      <td>34.020</td>\n",
       "      <td>836.197138</td>\n",
       "    </tr>\n",
       "    <tr>\n",
       "      <th>4</th>\n",
       "      <td>Afghanistan</td>\n",
       "      <td>1972</td>\n",
       "      <td>13079460</td>\n",
       "      <td>36.088</td>\n",
       "      <td>739.981106</td>\n",
       "    </tr>\n",
       "  </tbody>\n",
       "</table>\n",
       "</div>"
      ],
      "text/plain": [
       "       country  year  population  life_exp     gdp_cap\n",
       "0  Afghanistan  1952     8425333    28.801  779.445314\n",
       "1  Afghanistan  1957     9240934    30.332  820.853030\n",
       "2  Afghanistan  1962    10267083    31.997  853.100710\n",
       "3  Afghanistan  1967    11537966    34.020  836.197138\n",
       "4  Afghanistan  1972    13079460    36.088  739.981106"
      ]
     },
     "execution_count": 203,
     "metadata": {},
     "output_type": "execute_result"
    }
   ],
   "source": [
    "df.head()"
   ]
  },
  {
   "cell_type": "code",
   "execution_count": 204,
   "id": "e9996444",
   "metadata": {
    "colab": {
     "base_uri": "https://localhost:8080/"
    },
    "id": "e9996444",
    "outputId": "66667600-8348-413f-d80b-40466d09f259"
   },
   "outputs": [
    {
     "data": {
      "text/plain": [
       "country       Afghanistan\n",
       "year                 1967\n",
       "population       11537966\n",
       "life_exp            34.02\n",
       "gdp_cap        836.197138\n",
       "Name: 3, dtype: object"
      ]
     },
     "execution_count": 204,
     "metadata": {},
     "output_type": "execute_result"
    }
   ],
   "source": [
    "df.loc[3]  # Row with label 3"
   ]
  },
  {
   "cell_type": "code",
   "execution_count": 205,
   "id": "ebf4b48b",
   "metadata": {
    "colab": {
     "base_uri": "https://localhost:8080/"
    },
    "id": "ebf4b48b",
    "outputId": "2896c2a9-d4ed-4acc-c27c-17169d5b1b63"
   },
   "outputs": [
    {
     "data": {
      "text/plain": [
       "country       Afghanistan\n",
       "year                 1967\n",
       "population       11537966\n",
       "life_exp            34.02\n",
       "gdp_cap        836.197138\n",
       "Name: 3, dtype: object"
      ]
     },
     "execution_count": 205,
     "metadata": {},
     "output_type": "execute_result"
    }
   ],
   "source": [
    "df.iloc[3] # Row at position 3"
   ]
  },
  {
   "cell_type": "markdown",
   "id": "d6b373d6",
   "metadata": {
    "id": "d6b373d6"
   },
   "source": [
    "#### What if we want to access multiple non-consecutive rows at same time ?\n",
    "  - For eg: rows 1, 10, 100\n",
    "\n",
    "  - We can just **pack the indices in `[]`** and pass it in `loc` or `iloc`"
   ]
  },
  {
   "cell_type": "code",
   "execution_count": 206,
   "id": "2a8b28ba",
   "metadata": {
    "colab": {
     "base_uri": "https://localhost:8080/",
     "height": 143
    },
    "id": "2a8b28ba",
    "outputId": "4d50a811-2fbc-4cc3-d694-8987a514a031"
   },
   "outputs": [
    {
     "data": {
      "text/html": [
       "<div>\n",
       "<style scoped>\n",
       "    .dataframe tbody tr th:only-of-type {\n",
       "        vertical-align: middle;\n",
       "    }\n",
       "\n",
       "    .dataframe tbody tr th {\n",
       "        vertical-align: top;\n",
       "    }\n",
       "\n",
       "    .dataframe thead th {\n",
       "        text-align: right;\n",
       "    }\n",
       "</style>\n",
       "<table border=\"1\" class=\"dataframe\">\n",
       "  <thead>\n",
       "    <tr style=\"text-align: right;\">\n",
       "      <th></th>\n",
       "      <th>country</th>\n",
       "      <th>year</th>\n",
       "      <th>population</th>\n",
       "      <th>life_exp</th>\n",
       "      <th>gdp_cap</th>\n",
       "    </tr>\n",
       "  </thead>\n",
       "  <tbody>\n",
       "    <tr>\n",
       "      <th>1</th>\n",
       "      <td>Afghanistan</td>\n",
       "      <td>1957</td>\n",
       "      <td>9240934</td>\n",
       "      <td>30.332</td>\n",
       "      <td>820.853030</td>\n",
       "    </tr>\n",
       "    <tr>\n",
       "      <th>10</th>\n",
       "      <td>Afghanistan</td>\n",
       "      <td>2002</td>\n",
       "      <td>25268405</td>\n",
       "      <td>42.129</td>\n",
       "      <td>726.734055</td>\n",
       "    </tr>\n",
       "    <tr>\n",
       "      <th>100</th>\n",
       "      <td>Bangladesh</td>\n",
       "      <td>1972</td>\n",
       "      <td>70759295</td>\n",
       "      <td>45.252</td>\n",
       "      <td>630.233627</td>\n",
       "    </tr>\n",
       "  </tbody>\n",
       "</table>\n",
       "</div>"
      ],
      "text/plain": [
       "         country  year  population  life_exp     gdp_cap\n",
       "1    Afghanistan  1957     9240934    30.332  820.853030\n",
       "10   Afghanistan  2002    25268405    42.129  726.734055\n",
       "100   Bangladesh  1972    70759295    45.252  630.233627"
      ]
     },
     "execution_count": 206,
     "metadata": {},
     "output_type": "execute_result"
    }
   ],
   "source": [
    "df.iloc[[1, 10, 100]]"
   ]
  },
  {
   "cell_type": "code",
   "execution_count": 207,
   "id": "792015ed",
   "metadata": {
    "colab": {
     "base_uri": "https://localhost:8080/",
     "height": 143
    },
    "id": "792015ed",
    "outputId": "d8af7934-0998-415b-b25b-65f8ca6db99a"
   },
   "outputs": [
    {
     "data": {
      "text/html": [
       "<div>\n",
       "<style scoped>\n",
       "    .dataframe tbody tr th:only-of-type {\n",
       "        vertical-align: middle;\n",
       "    }\n",
       "\n",
       "    .dataframe tbody tr th {\n",
       "        vertical-align: top;\n",
       "    }\n",
       "\n",
       "    .dataframe thead th {\n",
       "        text-align: right;\n",
       "    }\n",
       "</style>\n",
       "<table border=\"1\" class=\"dataframe\">\n",
       "  <thead>\n",
       "    <tr style=\"text-align: right;\">\n",
       "      <th></th>\n",
       "      <th>country</th>\n",
       "      <th>year</th>\n",
       "      <th>population</th>\n",
       "      <th>life_exp</th>\n",
       "      <th>gdp_cap</th>\n",
       "    </tr>\n",
       "  </thead>\n",
       "  <tbody>\n",
       "    <tr>\n",
       "      <th>1</th>\n",
       "      <td>Afghanistan</td>\n",
       "      <td>1957</td>\n",
       "      <td>9240934</td>\n",
       "      <td>30.332</td>\n",
       "      <td>820.853030</td>\n",
       "    </tr>\n",
       "    <tr>\n",
       "      <th>10</th>\n",
       "      <td>Afghanistan</td>\n",
       "      <td>2002</td>\n",
       "      <td>25268405</td>\n",
       "      <td>42.129</td>\n",
       "      <td>726.734055</td>\n",
       "    </tr>\n",
       "    <tr>\n",
       "      <th>100</th>\n",
       "      <td>Bangladesh</td>\n",
       "      <td>1972</td>\n",
       "      <td>70759295</td>\n",
       "      <td>45.252</td>\n",
       "      <td>630.233627</td>\n",
       "    </tr>\n",
       "  </tbody>\n",
       "</table>\n",
       "</div>"
      ],
      "text/plain": [
       "         country  year  population  life_exp     gdp_cap\n",
       "1    Afghanistan  1957     9240934    30.332  820.853030\n",
       "10   Afghanistan  2002    25268405    42.129  726.734055\n",
       "100   Bangladesh  1972    70759295    45.252  630.233627"
      ]
     },
     "execution_count": 207,
     "metadata": {},
     "output_type": "execute_result"
    }
   ],
   "source": [
    "df.loc[[1, 10, 100]]"
   ]
  },
  {
   "cell_type": "markdown",
   "id": "119dc9fd",
   "metadata": {
    "id": "119dc9fd"
   },
   "source": [
    "#### What if we pass negative index in `iloc` and `loc`?\n",
    "\n",
    "#### Which one will work?"
   ]
  },
  {
   "cell_type": "code",
   "execution_count": 208,
   "id": "53c8c073",
   "metadata": {
    "colab": {
     "base_uri": "https://localhost:8080/"
    },
    "id": "53c8c073",
    "outputId": "c5697626-0536-4e26-aedf-05aaec73e5d2"
   },
   "outputs": [
    {
     "data": {
      "text/plain": [
       "country         Zimbabwe\n",
       "year                2007\n",
       "population      12311143\n",
       "life_exp          43.487\n",
       "gdp_cap       469.709298\n",
       "Name: 1703, dtype: object"
      ]
     },
     "execution_count": 208,
     "metadata": {},
     "output_type": "execute_result"
    }
   ],
   "source": [
    "df.iloc[-1]\n",
    "\n",
    "# Works and gives last row in dataframe"
   ]
  },
  {
   "cell_type": "code",
   "execution_count": 209,
   "id": "9180ffd6",
   "metadata": {
    "colab": {
     "base_uri": "https://localhost:8080/",
     "height": 450
    },
    "id": "9180ffd6",
    "outputId": "a628c255-3d06-4f18-85c8-be2400f36321",
    "scrolled": true
   },
   "outputs": [
    {
     "ename": "KeyError",
     "evalue": "-1",
     "output_type": "error",
     "traceback": [
      "\u001b[1;31m---------------------------------------------------------------------------\u001b[0m",
      "\u001b[1;31mValueError\u001b[0m                                Traceback (most recent call last)",
      "\u001b[1;32m~\\anaconda3\\lib\\site-packages\\pandas\\core\\indexes\\range.py\u001b[0m in \u001b[0;36mget_loc\u001b[1;34m(self, key, method, tolerance)\u001b[0m\n\u001b[0;32m    350\u001b[0m                 \u001b[1;32mtry\u001b[0m\u001b[1;33m:\u001b[0m\u001b[1;33m\u001b[0m\u001b[1;33m\u001b[0m\u001b[0m\n\u001b[1;32m--> 351\u001b[1;33m                     \u001b[1;32mreturn\u001b[0m \u001b[0mself\u001b[0m\u001b[1;33m.\u001b[0m\u001b[0m_range\u001b[0m\u001b[1;33m.\u001b[0m\u001b[0mindex\u001b[0m\u001b[1;33m(\u001b[0m\u001b[0mnew_key\u001b[0m\u001b[1;33m)\u001b[0m\u001b[1;33m\u001b[0m\u001b[1;33m\u001b[0m\u001b[0m\n\u001b[0m\u001b[0;32m    352\u001b[0m                 \u001b[1;32mexcept\u001b[0m \u001b[0mValueError\u001b[0m \u001b[1;32mas\u001b[0m \u001b[0merr\u001b[0m\u001b[1;33m:\u001b[0m\u001b[1;33m\u001b[0m\u001b[1;33m\u001b[0m\u001b[0m\n",
      "\u001b[1;31mValueError\u001b[0m: -1 is not in range",
      "\nThe above exception was the direct cause of the following exception:\n",
      "\u001b[1;31mKeyError\u001b[0m                                  Traceback (most recent call last)",
      "\u001b[1;32m<ipython-input-209-aa5e0c2173ab>\u001b[0m in \u001b[0;36m<module>\u001b[1;34m\u001b[0m\n\u001b[1;32m----> 1\u001b[1;33m \u001b[0mdf\u001b[0m\u001b[1;33m.\u001b[0m\u001b[0mloc\u001b[0m\u001b[1;33m[\u001b[0m\u001b[1;33m-\u001b[0m\u001b[1;36m1\u001b[0m\u001b[1;33m]\u001b[0m\u001b[1;33m\u001b[0m\u001b[1;33m\u001b[0m\u001b[0m\n\u001b[0m\u001b[0;32m      2\u001b[0m \u001b[1;33m\u001b[0m\u001b[0m\n\u001b[0;32m      3\u001b[0m \u001b[1;31m# Does NOT work\u001b[0m\u001b[1;33m\u001b[0m\u001b[1;33m\u001b[0m\u001b[1;33m\u001b[0m\u001b[0m\n",
      "\u001b[1;32m~\\anaconda3\\lib\\site-packages\\pandas\\core\\indexing.py\u001b[0m in \u001b[0;36m__getitem__\u001b[1;34m(self, key)\u001b[0m\n\u001b[0;32m    893\u001b[0m \u001b[1;33m\u001b[0m\u001b[0m\n\u001b[0;32m    894\u001b[0m             \u001b[0mmaybe_callable\u001b[0m \u001b[1;33m=\u001b[0m \u001b[0mcom\u001b[0m\u001b[1;33m.\u001b[0m\u001b[0mapply_if_callable\u001b[0m\u001b[1;33m(\u001b[0m\u001b[0mkey\u001b[0m\u001b[1;33m,\u001b[0m \u001b[0mself\u001b[0m\u001b[1;33m.\u001b[0m\u001b[0mobj\u001b[0m\u001b[1;33m)\u001b[0m\u001b[1;33m\u001b[0m\u001b[1;33m\u001b[0m\u001b[0m\n\u001b[1;32m--> 895\u001b[1;33m             \u001b[1;32mreturn\u001b[0m \u001b[0mself\u001b[0m\u001b[1;33m.\u001b[0m\u001b[0m_getitem_axis\u001b[0m\u001b[1;33m(\u001b[0m\u001b[0mmaybe_callable\u001b[0m\u001b[1;33m,\u001b[0m \u001b[0maxis\u001b[0m\u001b[1;33m=\u001b[0m\u001b[0maxis\u001b[0m\u001b[1;33m)\u001b[0m\u001b[1;33m\u001b[0m\u001b[1;33m\u001b[0m\u001b[0m\n\u001b[0m\u001b[0;32m    896\u001b[0m \u001b[1;33m\u001b[0m\u001b[0m\n\u001b[0;32m    897\u001b[0m     \u001b[1;32mdef\u001b[0m \u001b[0m_is_scalar_access\u001b[0m\u001b[1;33m(\u001b[0m\u001b[0mself\u001b[0m\u001b[1;33m,\u001b[0m \u001b[0mkey\u001b[0m\u001b[1;33m:\u001b[0m \u001b[0mTuple\u001b[0m\u001b[1;33m)\u001b[0m\u001b[1;33m:\u001b[0m\u001b[1;33m\u001b[0m\u001b[1;33m\u001b[0m\u001b[0m\n",
      "\u001b[1;32m~\\anaconda3\\lib\\site-packages\\pandas\\core\\indexing.py\u001b[0m in \u001b[0;36m_getitem_axis\u001b[1;34m(self, key, axis)\u001b[0m\n\u001b[0;32m   1122\u001b[0m         \u001b[1;31m# fall thru to straight lookup\u001b[0m\u001b[1;33m\u001b[0m\u001b[1;33m\u001b[0m\u001b[1;33m\u001b[0m\u001b[0m\n\u001b[0;32m   1123\u001b[0m         \u001b[0mself\u001b[0m\u001b[1;33m.\u001b[0m\u001b[0m_validate_key\u001b[0m\u001b[1;33m(\u001b[0m\u001b[0mkey\u001b[0m\u001b[1;33m,\u001b[0m \u001b[0maxis\u001b[0m\u001b[1;33m)\u001b[0m\u001b[1;33m\u001b[0m\u001b[1;33m\u001b[0m\u001b[0m\n\u001b[1;32m-> 1124\u001b[1;33m         \u001b[1;32mreturn\u001b[0m \u001b[0mself\u001b[0m\u001b[1;33m.\u001b[0m\u001b[0m_get_label\u001b[0m\u001b[1;33m(\u001b[0m\u001b[0mkey\u001b[0m\u001b[1;33m,\u001b[0m \u001b[0maxis\u001b[0m\u001b[1;33m=\u001b[0m\u001b[0maxis\u001b[0m\u001b[1;33m)\u001b[0m\u001b[1;33m\u001b[0m\u001b[1;33m\u001b[0m\u001b[0m\n\u001b[0m\u001b[0;32m   1125\u001b[0m \u001b[1;33m\u001b[0m\u001b[0m\n\u001b[0;32m   1126\u001b[0m     \u001b[1;32mdef\u001b[0m \u001b[0m_get_slice_axis\u001b[0m\u001b[1;33m(\u001b[0m\u001b[0mself\u001b[0m\u001b[1;33m,\u001b[0m \u001b[0mslice_obj\u001b[0m\u001b[1;33m:\u001b[0m \u001b[0mslice\u001b[0m\u001b[1;33m,\u001b[0m \u001b[0maxis\u001b[0m\u001b[1;33m:\u001b[0m \u001b[0mint\u001b[0m\u001b[1;33m)\u001b[0m\u001b[1;33m:\u001b[0m\u001b[1;33m\u001b[0m\u001b[1;33m\u001b[0m\u001b[0m\n",
      "\u001b[1;32m~\\anaconda3\\lib\\site-packages\\pandas\\core\\indexing.py\u001b[0m in \u001b[0;36m_get_label\u001b[1;34m(self, label, axis)\u001b[0m\n\u001b[0;32m   1071\u001b[0m     \u001b[1;32mdef\u001b[0m \u001b[0m_get_label\u001b[0m\u001b[1;33m(\u001b[0m\u001b[0mself\u001b[0m\u001b[1;33m,\u001b[0m \u001b[0mlabel\u001b[0m\u001b[1;33m,\u001b[0m \u001b[0maxis\u001b[0m\u001b[1;33m:\u001b[0m \u001b[0mint\u001b[0m\u001b[1;33m)\u001b[0m\u001b[1;33m:\u001b[0m\u001b[1;33m\u001b[0m\u001b[1;33m\u001b[0m\u001b[0m\n\u001b[0;32m   1072\u001b[0m         \u001b[1;31m# GH#5667 this will fail if the label is not present in the axis.\u001b[0m\u001b[1;33m\u001b[0m\u001b[1;33m\u001b[0m\u001b[1;33m\u001b[0m\u001b[0m\n\u001b[1;32m-> 1073\u001b[1;33m         \u001b[1;32mreturn\u001b[0m \u001b[0mself\u001b[0m\u001b[1;33m.\u001b[0m\u001b[0mobj\u001b[0m\u001b[1;33m.\u001b[0m\u001b[0mxs\u001b[0m\u001b[1;33m(\u001b[0m\u001b[0mlabel\u001b[0m\u001b[1;33m,\u001b[0m \u001b[0maxis\u001b[0m\u001b[1;33m=\u001b[0m\u001b[0maxis\u001b[0m\u001b[1;33m)\u001b[0m\u001b[1;33m\u001b[0m\u001b[1;33m\u001b[0m\u001b[0m\n\u001b[0m\u001b[0;32m   1074\u001b[0m \u001b[1;33m\u001b[0m\u001b[0m\n\u001b[0;32m   1075\u001b[0m     \u001b[1;32mdef\u001b[0m \u001b[0m_handle_lowerdim_multi_index_axis0\u001b[0m\u001b[1;33m(\u001b[0m\u001b[0mself\u001b[0m\u001b[1;33m,\u001b[0m \u001b[0mtup\u001b[0m\u001b[1;33m:\u001b[0m \u001b[0mTuple\u001b[0m\u001b[1;33m)\u001b[0m\u001b[1;33m:\u001b[0m\u001b[1;33m\u001b[0m\u001b[1;33m\u001b[0m\u001b[0m\n",
      "\u001b[1;32m~\\anaconda3\\lib\\site-packages\\pandas\\core\\generic.py\u001b[0m in \u001b[0;36mxs\u001b[1;34m(self, key, axis, level, drop_level)\u001b[0m\n\u001b[0;32m   3737\u001b[0m                 \u001b[1;32mraise\u001b[0m \u001b[0mTypeError\u001b[0m\u001b[1;33m(\u001b[0m\u001b[1;34mf\"Expected label or tuple of labels, got {key}\"\u001b[0m\u001b[1;33m)\u001b[0m \u001b[1;32mfrom\u001b[0m \u001b[0me\u001b[0m\u001b[1;33m\u001b[0m\u001b[1;33m\u001b[0m\u001b[0m\n\u001b[0;32m   3738\u001b[0m         \u001b[1;32melse\u001b[0m\u001b[1;33m:\u001b[0m\u001b[1;33m\u001b[0m\u001b[1;33m\u001b[0m\u001b[0m\n\u001b[1;32m-> 3739\u001b[1;33m             \u001b[0mloc\u001b[0m \u001b[1;33m=\u001b[0m \u001b[0mindex\u001b[0m\u001b[1;33m.\u001b[0m\u001b[0mget_loc\u001b[0m\u001b[1;33m(\u001b[0m\u001b[0mkey\u001b[0m\u001b[1;33m)\u001b[0m\u001b[1;33m\u001b[0m\u001b[1;33m\u001b[0m\u001b[0m\n\u001b[0m\u001b[0;32m   3740\u001b[0m \u001b[1;33m\u001b[0m\u001b[0m\n\u001b[0;32m   3741\u001b[0m             \u001b[1;32mif\u001b[0m \u001b[0misinstance\u001b[0m\u001b[1;33m(\u001b[0m\u001b[0mloc\u001b[0m\u001b[1;33m,\u001b[0m \u001b[0mnp\u001b[0m\u001b[1;33m.\u001b[0m\u001b[0mndarray\u001b[0m\u001b[1;33m)\u001b[0m\u001b[1;33m:\u001b[0m\u001b[1;33m\u001b[0m\u001b[1;33m\u001b[0m\u001b[0m\n",
      "\u001b[1;32m~\\anaconda3\\lib\\site-packages\\pandas\\core\\indexes\\range.py\u001b[0m in \u001b[0;36mget_loc\u001b[1;34m(self, key, method, tolerance)\u001b[0m\n\u001b[0;32m    351\u001b[0m                     \u001b[1;32mreturn\u001b[0m \u001b[0mself\u001b[0m\u001b[1;33m.\u001b[0m\u001b[0m_range\u001b[0m\u001b[1;33m.\u001b[0m\u001b[0mindex\u001b[0m\u001b[1;33m(\u001b[0m\u001b[0mnew_key\u001b[0m\u001b[1;33m)\u001b[0m\u001b[1;33m\u001b[0m\u001b[1;33m\u001b[0m\u001b[0m\n\u001b[0;32m    352\u001b[0m                 \u001b[1;32mexcept\u001b[0m \u001b[0mValueError\u001b[0m \u001b[1;32mas\u001b[0m \u001b[0merr\u001b[0m\u001b[1;33m:\u001b[0m\u001b[1;33m\u001b[0m\u001b[1;33m\u001b[0m\u001b[0m\n\u001b[1;32m--> 353\u001b[1;33m                     \u001b[1;32mraise\u001b[0m \u001b[0mKeyError\u001b[0m\u001b[1;33m(\u001b[0m\u001b[0mkey\u001b[0m\u001b[1;33m)\u001b[0m \u001b[1;32mfrom\u001b[0m \u001b[0merr\u001b[0m\u001b[1;33m\u001b[0m\u001b[1;33m\u001b[0m\u001b[0m\n\u001b[0m\u001b[0;32m    354\u001b[0m             \u001b[1;32mraise\u001b[0m \u001b[0mKeyError\u001b[0m\u001b[1;33m(\u001b[0m\u001b[0mkey\u001b[0m\u001b[1;33m)\u001b[0m\u001b[1;33m\u001b[0m\u001b[1;33m\u001b[0m\u001b[0m\n\u001b[0;32m    355\u001b[0m         \u001b[1;32mreturn\u001b[0m \u001b[0msuper\u001b[0m\u001b[1;33m(\u001b[0m\u001b[1;33m)\u001b[0m\u001b[1;33m.\u001b[0m\u001b[0mget_loc\u001b[0m\u001b[1;33m(\u001b[0m\u001b[0mkey\u001b[0m\u001b[1;33m,\u001b[0m \u001b[0mmethod\u001b[0m\u001b[1;33m=\u001b[0m\u001b[0mmethod\u001b[0m\u001b[1;33m,\u001b[0m \u001b[0mtolerance\u001b[0m\u001b[1;33m=\u001b[0m\u001b[0mtolerance\u001b[0m\u001b[1;33m)\u001b[0m\u001b[1;33m\u001b[0m\u001b[1;33m\u001b[0m\u001b[0m\n",
      "\u001b[1;31mKeyError\u001b[0m: -1"
     ]
    }
   ],
   "source": [
    "df.loc[-1]\n",
    "\n",
    "# Does NOT work"
   ]
  },
  {
   "cell_type": "markdown",
   "id": "2b3294e7",
   "metadata": {
    "id": "2b3294e7"
   },
   "source": [
    "#### So, why did `iloc[-1]` worked, but `loc[-1]` didn't?\n",
    "\n",
    "- Because **`iloc` works with positional indices**\n",
    "- [-1] is the **row at last position**\n",
    "\n",
    "\n",
    "- **`loc` works with assigned labels**\n",
    "- There is **no such row with a label of -1**\n"
   ]
  },
  {
   "cell_type": "markdown",
   "id": "gOGpECFWgJsH",
   "metadata": {
    "id": "gOGpECFWgJsH"
   },
   "source": [
    "#### But What if I want to use one of the columns as row index?\n",
    "  - Using the set_index method\n",
    "  - Here we can make a column an index whose values are not unique"
   ]
  },
  {
   "cell_type": "code",
   "execution_count": 210,
   "id": "HwHjYd5Rgwnl",
   "metadata": {
    "colab": {
     "base_uri": "https://localhost:8080/",
     "height": 455
    },
    "id": "HwHjYd5Rgwnl",
    "outputId": "3b2f0c48-39f1-42be-8ac1-8263a73fbc90"
   },
   "outputs": [
    {
     "data": {
      "text/html": [
       "<div>\n",
       "<style scoped>\n",
       "    .dataframe tbody tr th:only-of-type {\n",
       "        vertical-align: middle;\n",
       "    }\n",
       "\n",
       "    .dataframe tbody tr th {\n",
       "        vertical-align: top;\n",
       "    }\n",
       "\n",
       "    .dataframe thead th {\n",
       "        text-align: right;\n",
       "    }\n",
       "</style>\n",
       "<table border=\"1\" class=\"dataframe\">\n",
       "  <thead>\n",
       "    <tr style=\"text-align: right;\">\n",
       "      <th></th>\n",
       "      <th>year</th>\n",
       "      <th>population</th>\n",
       "      <th>life_exp</th>\n",
       "      <th>gdp_cap</th>\n",
       "    </tr>\n",
       "    <tr>\n",
       "      <th>country</th>\n",
       "      <th></th>\n",
       "      <th></th>\n",
       "      <th></th>\n",
       "      <th></th>\n",
       "    </tr>\n",
       "  </thead>\n",
       "  <tbody>\n",
       "    <tr>\n",
       "      <th>Afghanistan</th>\n",
       "      <td>1952</td>\n",
       "      <td>8425333</td>\n",
       "      <td>28.801</td>\n",
       "      <td>779.445314</td>\n",
       "    </tr>\n",
       "    <tr>\n",
       "      <th>Afghanistan</th>\n",
       "      <td>1957</td>\n",
       "      <td>9240934</td>\n",
       "      <td>30.332</td>\n",
       "      <td>820.853030</td>\n",
       "    </tr>\n",
       "    <tr>\n",
       "      <th>Afghanistan</th>\n",
       "      <td>1962</td>\n",
       "      <td>10267083</td>\n",
       "      <td>31.997</td>\n",
       "      <td>853.100710</td>\n",
       "    </tr>\n",
       "    <tr>\n",
       "      <th>Afghanistan</th>\n",
       "      <td>1967</td>\n",
       "      <td>11537966</td>\n",
       "      <td>34.020</td>\n",
       "      <td>836.197138</td>\n",
       "    </tr>\n",
       "    <tr>\n",
       "      <th>Afghanistan</th>\n",
       "      <td>1972</td>\n",
       "      <td>13079460</td>\n",
       "      <td>36.088</td>\n",
       "      <td>739.981106</td>\n",
       "    </tr>\n",
       "    <tr>\n",
       "      <th>...</th>\n",
       "      <td>...</td>\n",
       "      <td>...</td>\n",
       "      <td>...</td>\n",
       "      <td>...</td>\n",
       "    </tr>\n",
       "    <tr>\n",
       "      <th>Zimbabwe</th>\n",
       "      <td>1987</td>\n",
       "      <td>9216418</td>\n",
       "      <td>62.351</td>\n",
       "      <td>706.157306</td>\n",
       "    </tr>\n",
       "    <tr>\n",
       "      <th>Zimbabwe</th>\n",
       "      <td>1992</td>\n",
       "      <td>10704340</td>\n",
       "      <td>60.377</td>\n",
       "      <td>693.420786</td>\n",
       "    </tr>\n",
       "    <tr>\n",
       "      <th>Zimbabwe</th>\n",
       "      <td>1997</td>\n",
       "      <td>11404948</td>\n",
       "      <td>46.809</td>\n",
       "      <td>792.449960</td>\n",
       "    </tr>\n",
       "    <tr>\n",
       "      <th>Zimbabwe</th>\n",
       "      <td>2002</td>\n",
       "      <td>11926563</td>\n",
       "      <td>39.989</td>\n",
       "      <td>672.038623</td>\n",
       "    </tr>\n",
       "    <tr>\n",
       "      <th>Zimbabwe</th>\n",
       "      <td>2007</td>\n",
       "      <td>12311143</td>\n",
       "      <td>43.487</td>\n",
       "      <td>469.709298</td>\n",
       "    </tr>\n",
       "  </tbody>\n",
       "</table>\n",
       "<p>1704 rows × 4 columns</p>\n",
       "</div>"
      ],
      "text/plain": [
       "             year  population  life_exp     gdp_cap\n",
       "country                                            \n",
       "Afghanistan  1952     8425333    28.801  779.445314\n",
       "Afghanistan  1957     9240934    30.332  820.853030\n",
       "Afghanistan  1962    10267083    31.997  853.100710\n",
       "Afghanistan  1967    11537966    34.020  836.197138\n",
       "Afghanistan  1972    13079460    36.088  739.981106\n",
       "...           ...         ...       ...         ...\n",
       "Zimbabwe     1987     9216418    62.351  706.157306\n",
       "Zimbabwe     1992    10704340    60.377  693.420786\n",
       "Zimbabwe     1997    11404948    46.809  792.449960\n",
       "Zimbabwe     2002    11926563    39.989  672.038623\n",
       "Zimbabwe     2007    12311143    43.487  469.709298\n",
       "\n",
       "[1704 rows x 4 columns]"
      ]
     },
     "execution_count": 210,
     "metadata": {},
     "output_type": "execute_result"
    }
   ],
   "source": [
    "temp = df.set_index(\"country\")\n",
    "temp"
   ]
  },
  {
   "cell_type": "code",
   "execution_count": 211,
   "id": "v8DgVEfLhtvo",
   "metadata": {
    "colab": {
     "base_uri": "https://localhost:8080/"
    },
    "id": "v8DgVEfLhtvo",
    "outputId": "c2e58d29-bcdb-4bb7-e491-771ce43aa337"
   },
   "outputs": [
    {
     "data": {
      "text/plain": [
       "country\n",
       "Afghanistan    28.801\n",
       "Afghanistan    30.332\n",
       "Afghanistan    31.997\n",
       "Afghanistan    34.020\n",
       "Afghanistan    36.088\n",
       "Afghanistan    38.438\n",
       "Afghanistan    39.854\n",
       "Afghanistan    40.822\n",
       "Afghanistan    41.674\n",
       "Afghanistan    41.763\n",
       "Afghanistan    42.129\n",
       "Afghanistan    43.828\n",
       "Name: life_exp, dtype: float64"
      ]
     },
     "execution_count": 211,
     "metadata": {},
     "output_type": "execute_result"
    }
   ],
   "source": [
    "#temp[\"life_exp\"][\"Afghanistan\"]"
   ]
  },
  {
   "cell_type": "markdown",
   "id": "qgDNwkrgf4El",
   "metadata": {
    "id": "qgDNwkrgf4El"
   },
   "source": [
    "It is generally a good idea to keep the index val for each row unique\n",
    "\n",
    "#### Why is this ?\n",
    "  - Lets see in `temp` what the row corresponding to index `Asia`"
   ]
  },
  {
   "cell_type": "code",
   "execution_count": 212,
   "id": "Wni76OJZge2M",
   "metadata": {
    "colab": {
     "base_uri": "https://localhost:8080/",
     "height": 457
    },
    "id": "Wni76OJZge2M",
    "outputId": "eefe7eb5-a0a0-4977-ec8d-aa59779c3bf7"
   },
   "outputs": [
    {
     "data": {
      "text/html": [
       "<div>\n",
       "<style scoped>\n",
       "    .dataframe tbody tr th:only-of-type {\n",
       "        vertical-align: middle;\n",
       "    }\n",
       "\n",
       "    .dataframe tbody tr th {\n",
       "        vertical-align: top;\n",
       "    }\n",
       "\n",
       "    .dataframe thead th {\n",
       "        text-align: right;\n",
       "    }\n",
       "</style>\n",
       "<table border=\"1\" class=\"dataframe\">\n",
       "  <thead>\n",
       "    <tr style=\"text-align: right;\">\n",
       "      <th></th>\n",
       "      <th>year</th>\n",
       "      <th>population</th>\n",
       "      <th>life_exp</th>\n",
       "      <th>gdp_cap</th>\n",
       "    </tr>\n",
       "    <tr>\n",
       "      <th>country</th>\n",
       "      <th></th>\n",
       "      <th></th>\n",
       "      <th></th>\n",
       "      <th></th>\n",
       "    </tr>\n",
       "  </thead>\n",
       "  <tbody>\n",
       "    <tr>\n",
       "      <th>Afghanistan</th>\n",
       "      <td>1952</td>\n",
       "      <td>8425333</td>\n",
       "      <td>28.801</td>\n",
       "      <td>779.445314</td>\n",
       "    </tr>\n",
       "    <tr>\n",
       "      <th>Afghanistan</th>\n",
       "      <td>1957</td>\n",
       "      <td>9240934</td>\n",
       "      <td>30.332</td>\n",
       "      <td>820.853030</td>\n",
       "    </tr>\n",
       "    <tr>\n",
       "      <th>Afghanistan</th>\n",
       "      <td>1962</td>\n",
       "      <td>10267083</td>\n",
       "      <td>31.997</td>\n",
       "      <td>853.100710</td>\n",
       "    </tr>\n",
       "    <tr>\n",
       "      <th>Afghanistan</th>\n",
       "      <td>1967</td>\n",
       "      <td>11537966</td>\n",
       "      <td>34.020</td>\n",
       "      <td>836.197138</td>\n",
       "    </tr>\n",
       "    <tr>\n",
       "      <th>Afghanistan</th>\n",
       "      <td>1972</td>\n",
       "      <td>13079460</td>\n",
       "      <td>36.088</td>\n",
       "      <td>739.981106</td>\n",
       "    </tr>\n",
       "    <tr>\n",
       "      <th>Afghanistan</th>\n",
       "      <td>1977</td>\n",
       "      <td>14880372</td>\n",
       "      <td>38.438</td>\n",
       "      <td>786.113360</td>\n",
       "    </tr>\n",
       "    <tr>\n",
       "      <th>Afghanistan</th>\n",
       "      <td>1982</td>\n",
       "      <td>12881816</td>\n",
       "      <td>39.854</td>\n",
       "      <td>978.011439</td>\n",
       "    </tr>\n",
       "    <tr>\n",
       "      <th>Afghanistan</th>\n",
       "      <td>1987</td>\n",
       "      <td>13867957</td>\n",
       "      <td>40.822</td>\n",
       "      <td>852.395945</td>\n",
       "    </tr>\n",
       "    <tr>\n",
       "      <th>Afghanistan</th>\n",
       "      <td>1992</td>\n",
       "      <td>16317921</td>\n",
       "      <td>41.674</td>\n",
       "      <td>649.341395</td>\n",
       "    </tr>\n",
       "    <tr>\n",
       "      <th>Afghanistan</th>\n",
       "      <td>1997</td>\n",
       "      <td>22227415</td>\n",
       "      <td>41.763</td>\n",
       "      <td>635.341351</td>\n",
       "    </tr>\n",
       "    <tr>\n",
       "      <th>Afghanistan</th>\n",
       "      <td>2002</td>\n",
       "      <td>25268405</td>\n",
       "      <td>42.129</td>\n",
       "      <td>726.734055</td>\n",
       "    </tr>\n",
       "    <tr>\n",
       "      <th>Afghanistan</th>\n",
       "      <td>2007</td>\n",
       "      <td>31889923</td>\n",
       "      <td>43.828</td>\n",
       "      <td>974.580338</td>\n",
       "    </tr>\n",
       "  </tbody>\n",
       "</table>\n",
       "</div>"
      ],
      "text/plain": [
       "             year  population  life_exp     gdp_cap\n",
       "country                                            \n",
       "Afghanistan  1952     8425333    28.801  779.445314\n",
       "Afghanistan  1957     9240934    30.332  820.853030\n",
       "Afghanistan  1962    10267083    31.997  853.100710\n",
       "Afghanistan  1967    11537966    34.020  836.197138\n",
       "Afghanistan  1972    13079460    36.088  739.981106\n",
       "Afghanistan  1977    14880372    38.438  786.113360\n",
       "Afghanistan  1982    12881816    39.854  978.011439\n",
       "Afghanistan  1987    13867957    40.822  852.395945\n",
       "Afghanistan  1992    16317921    41.674  649.341395\n",
       "Afghanistan  1997    22227415    41.763  635.341351\n",
       "Afghanistan  2002    25268405    42.129  726.734055\n",
       "Afghanistan  2007    31889923    43.828  974.580338"
      ]
     },
     "execution_count": 212,
     "metadata": {},
     "output_type": "execute_result"
    }
   ],
   "source": [
    "temp.loc['Afghanistan']"
   ]
  },
  {
   "cell_type": "markdown",
   "id": "SD5yVmgygxqj",
   "metadata": {
    "id": "SD5yVmgygxqj"
   },
   "source": [
    "As you can see we got the rows all having index `Afghanistan`"
   ]
  },
  {
   "cell_type": "code",
   "execution_count": 213,
   "id": "LlurtXSxWcpy",
   "metadata": {
    "colab": {
     "base_uri": "https://localhost:8080/",
     "height": 206
    },
    "id": "LlurtXSxWcpy",
    "outputId": "e813719e-5a74-4611-9ac2-cc7c8591a2b5"
   },
   "outputs": [
    {
     "data": {
      "text/html": [
       "<div>\n",
       "<style scoped>\n",
       "    .dataframe tbody tr th:only-of-type {\n",
       "        vertical-align: middle;\n",
       "    }\n",
       "\n",
       "    .dataframe tbody tr th {\n",
       "        vertical-align: top;\n",
       "    }\n",
       "\n",
       "    .dataframe thead th {\n",
       "        text-align: right;\n",
       "    }\n",
       "</style>\n",
       "<table border=\"1\" class=\"dataframe\">\n",
       "  <thead>\n",
       "    <tr style=\"text-align: right;\">\n",
       "      <th></th>\n",
       "      <th>country</th>\n",
       "      <th>year</th>\n",
       "      <th>population</th>\n",
       "      <th>life_exp</th>\n",
       "      <th>gdp_cap</th>\n",
       "    </tr>\n",
       "  </thead>\n",
       "  <tbody>\n",
       "    <tr>\n",
       "      <th>0</th>\n",
       "      <td>Afghanistan</td>\n",
       "      <td>1952</td>\n",
       "      <td>8425333</td>\n",
       "      <td>28.801</td>\n",
       "      <td>779.445314</td>\n",
       "    </tr>\n",
       "    <tr>\n",
       "      <th>1</th>\n",
       "      <td>Afghanistan</td>\n",
       "      <td>1957</td>\n",
       "      <td>9240934</td>\n",
       "      <td>30.332</td>\n",
       "      <td>820.853030</td>\n",
       "    </tr>\n",
       "    <tr>\n",
       "      <th>2</th>\n",
       "      <td>Afghanistan</td>\n",
       "      <td>1962</td>\n",
       "      <td>10267083</td>\n",
       "      <td>31.997</td>\n",
       "      <td>853.100710</td>\n",
       "    </tr>\n",
       "    <tr>\n",
       "      <th>3</th>\n",
       "      <td>Afghanistan</td>\n",
       "      <td>1967</td>\n",
       "      <td>11537966</td>\n",
       "      <td>34.020</td>\n",
       "      <td>836.197138</td>\n",
       "    </tr>\n",
       "    <tr>\n",
       "      <th>4</th>\n",
       "      <td>Afghanistan</td>\n",
       "      <td>1972</td>\n",
       "      <td>13079460</td>\n",
       "      <td>36.088</td>\n",
       "      <td>739.981106</td>\n",
       "    </tr>\n",
       "  </tbody>\n",
       "</table>\n",
       "</div>"
      ],
      "text/plain": [
       "       country  year  population  life_exp     gdp_cap\n",
       "0  Afghanistan  1952     8425333    28.801  779.445314\n",
       "1  Afghanistan  1957     9240934    30.332  820.853030\n",
       "2  Afghanistan  1962    10267083    31.997  853.100710\n",
       "3  Afghanistan  1967    11537966    34.020  836.197138\n",
       "4  Afghanistan  1972    13079460    36.088  739.981106"
      ]
     },
     "execution_count": 213,
     "metadata": {},
     "output_type": "execute_result"
    }
   ],
   "source": [
    "df.head()"
   ]
  },
  {
   "cell_type": "markdown",
   "id": "-hN3euqLVjB6",
   "metadata": {
    "id": "-hN3euqLVjB6"
   },
   "source": [
    "### Adding a row\n",
    "\n",
    "If you want to add a new row of values to an existing dataframe. \n",
    "\n",
    "This can be used when we want to insert a new entry in our data that we might have missed adding earlier. \n",
    "\n",
    "There are different methods to achieve this-\n",
    " \n",
    " * **Using Append**\n",
    "\n",
    "   We can use the append() method to append a row to an existing dataframe.\n",
    "\n",
    "\n",
    "In a dictonary variable named Dict , we can add the values to the columns to be added in the dataframe in key-values pair"
   ]
  },
  {
   "cell_type": "code",
   "execution_count": 214,
   "id": "bIUaXbuwWOpA",
   "metadata": {
    "colab": {
     "base_uri": "https://localhost:8080/",
     "height": 424
    },
    "id": "bIUaXbuwWOpA",
    "outputId": "775da518-a0b7-4440-cad5-80b6126f2ab6"
   },
   "outputs": [
    {
     "data": {
      "text/html": [
       "<div>\n",
       "<style scoped>\n",
       "    .dataframe tbody tr th:only-of-type {\n",
       "        vertical-align: middle;\n",
       "    }\n",
       "\n",
       "    .dataframe tbody tr th {\n",
       "        vertical-align: top;\n",
       "    }\n",
       "\n",
       "    .dataframe thead th {\n",
       "        text-align: right;\n",
       "    }\n",
       "</style>\n",
       "<table border=\"1\" class=\"dataframe\">\n",
       "  <thead>\n",
       "    <tr style=\"text-align: right;\">\n",
       "      <th></th>\n",
       "      <th>country</th>\n",
       "      <th>year</th>\n",
       "      <th>population</th>\n",
       "      <th>life_exp</th>\n",
       "      <th>gdp_cap</th>\n",
       "    </tr>\n",
       "  </thead>\n",
       "  <tbody>\n",
       "    <tr>\n",
       "      <th>0</th>\n",
       "      <td>Afghanistan</td>\n",
       "      <td>1952</td>\n",
       "      <td>8425333</td>\n",
       "      <td>28.801</td>\n",
       "      <td>779.445314</td>\n",
       "    </tr>\n",
       "    <tr>\n",
       "      <th>1</th>\n",
       "      <td>Afghanistan</td>\n",
       "      <td>1957</td>\n",
       "      <td>9240934</td>\n",
       "      <td>30.332</td>\n",
       "      <td>820.853030</td>\n",
       "    </tr>\n",
       "    <tr>\n",
       "      <th>2</th>\n",
       "      <td>Afghanistan</td>\n",
       "      <td>1962</td>\n",
       "      <td>10267083</td>\n",
       "      <td>31.997</td>\n",
       "      <td>853.100710</td>\n",
       "    </tr>\n",
       "    <tr>\n",
       "      <th>3</th>\n",
       "      <td>Afghanistan</td>\n",
       "      <td>1967</td>\n",
       "      <td>11537966</td>\n",
       "      <td>34.020</td>\n",
       "      <td>836.197138</td>\n",
       "    </tr>\n",
       "    <tr>\n",
       "      <th>4</th>\n",
       "      <td>Afghanistan</td>\n",
       "      <td>1972</td>\n",
       "      <td>13079460</td>\n",
       "      <td>36.088</td>\n",
       "      <td>739.981106</td>\n",
       "    </tr>\n",
       "    <tr>\n",
       "      <th>...</th>\n",
       "      <td>...</td>\n",
       "      <td>...</td>\n",
       "      <td>...</td>\n",
       "      <td>...</td>\n",
       "      <td>...</td>\n",
       "    </tr>\n",
       "    <tr>\n",
       "      <th>1700</th>\n",
       "      <td>Zimbabwe</td>\n",
       "      <td>1992</td>\n",
       "      <td>10704340</td>\n",
       "      <td>60.377</td>\n",
       "      <td>693.420786</td>\n",
       "    </tr>\n",
       "    <tr>\n",
       "      <th>1701</th>\n",
       "      <td>Zimbabwe</td>\n",
       "      <td>1997</td>\n",
       "      <td>11404948</td>\n",
       "      <td>46.809</td>\n",
       "      <td>792.449960</td>\n",
       "    </tr>\n",
       "    <tr>\n",
       "      <th>1702</th>\n",
       "      <td>Zimbabwe</td>\n",
       "      <td>2002</td>\n",
       "      <td>11926563</td>\n",
       "      <td>39.989</td>\n",
       "      <td>672.038623</td>\n",
       "    </tr>\n",
       "    <tr>\n",
       "      <th>1703</th>\n",
       "      <td>Zimbabwe</td>\n",
       "      <td>2007</td>\n",
       "      <td>12311143</td>\n",
       "      <td>43.487</td>\n",
       "      <td>469.709298</td>\n",
       "    </tr>\n",
       "    <tr>\n",
       "      <th>1704</th>\n",
       "      <td>India</td>\n",
       "      <td>2000</td>\n",
       "      <td>13500000</td>\n",
       "      <td>37.080</td>\n",
       "      <td>900.230000</td>\n",
       "    </tr>\n",
       "  </tbody>\n",
       "</table>\n",
       "<p>1705 rows × 5 columns</p>\n",
       "</div>"
      ],
      "text/plain": [
       "          country  year  population  life_exp     gdp_cap\n",
       "0     Afghanistan  1952     8425333    28.801  779.445314\n",
       "1     Afghanistan  1957     9240934    30.332  820.853030\n",
       "2     Afghanistan  1962    10267083    31.997  853.100710\n",
       "3     Afghanistan  1967    11537966    34.020  836.197138\n",
       "4     Afghanistan  1972    13079460    36.088  739.981106\n",
       "...           ...   ...         ...       ...         ...\n",
       "1700     Zimbabwe  1992    10704340    60.377  693.420786\n",
       "1701     Zimbabwe  1997    11404948    46.809  792.449960\n",
       "1702     Zimbabwe  2002    11926563    39.989  672.038623\n",
       "1703     Zimbabwe  2007    12311143    43.487  469.709298\n",
       "1704        India  2000    13500000    37.080  900.230000\n",
       "\n",
       "[1705 rows x 5 columns]"
      ]
     },
     "execution_count": 214,
     "metadata": {},
     "output_type": "execute_result"
    }
   ],
   "source": [
    "Dict = {'country': 'India', 'year': 2000,'life_exp':37.08,'population':13500000,'gdp_cap':900.23}\n",
    "\n",
    "df = df.append(Dict, ignore_index = True)\n",
    "\n",
    "df"
   ]
  },
  {
   "cell_type": "markdown",
   "id": "v44DpSsuX11Z",
   "metadata": {
    "id": "v44DpSsuX11Z"
   },
   "source": [
    "* As you can see new row is added to the data i.e now we have 1705 rows \n",
    "\n",
    "* ignore_index = True Means the index from the series or the source dataframe will be ignored. \n",
    "\n",
    "* The index available in the target dataframe will be used i.e at 1704 index in the target dataframe. \n",
    "\n",
    "**But Please Note that:**\n",
    "\n",
    "* append() doesn't mutate the the dataframe.\n",
    "\n",
    "   It does not change the DataFrame, but returns a new DataFrame with the row appended."
   ]
  },
  {
   "cell_type": "markdown",
   "id": "P6xzAeBTX0bu",
   "metadata": {
    "id": "P6xzAeBTX0bu"
   },
   "source": [
    "* **Using loc:**\n",
    "\n",
    "We can also add a single row using df.loc\n",
    "\n",
    "We can add the row at the last in our dataframe. \n",
    "\n",
    "We can get the number of rows using len(df.index) for determining the position at which we need to add the new row."
   ]
  },
  {
   "cell_type": "code",
   "execution_count": 215,
   "id": "LbyZbS6-9eaA",
   "metadata": {
    "id": "LbyZbS6-9eaA"
   },
   "outputs": [],
   "source": [
    "df.loc[len(df.index)] = ['India',2000 ,13500000,37.08,900.23] "
   ]
  },
  {
   "cell_type": "code",
   "execution_count": 216,
   "id": "gd-Ak65TANdx",
   "metadata": {
    "colab": {
     "base_uri": "https://localhost:8080/",
     "height": 424
    },
    "id": "gd-Ak65TANdx",
    "outputId": "0580b131-44d9-48d4-b07a-f03d710d2d39"
   },
   "outputs": [
    {
     "data": {
      "text/html": [
       "<div>\n",
       "<style scoped>\n",
       "    .dataframe tbody tr th:only-of-type {\n",
       "        vertical-align: middle;\n",
       "    }\n",
       "\n",
       "    .dataframe tbody tr th {\n",
       "        vertical-align: top;\n",
       "    }\n",
       "\n",
       "    .dataframe thead th {\n",
       "        text-align: right;\n",
       "    }\n",
       "</style>\n",
       "<table border=\"1\" class=\"dataframe\">\n",
       "  <thead>\n",
       "    <tr style=\"text-align: right;\">\n",
       "      <th></th>\n",
       "      <th>country</th>\n",
       "      <th>year</th>\n",
       "      <th>population</th>\n",
       "      <th>life_exp</th>\n",
       "      <th>gdp_cap</th>\n",
       "    </tr>\n",
       "  </thead>\n",
       "  <tbody>\n",
       "    <tr>\n",
       "      <th>0</th>\n",
       "      <td>Afghanistan</td>\n",
       "      <td>1952</td>\n",
       "      <td>8425333</td>\n",
       "      <td>28.801</td>\n",
       "      <td>779.445314</td>\n",
       "    </tr>\n",
       "    <tr>\n",
       "      <th>1</th>\n",
       "      <td>Afghanistan</td>\n",
       "      <td>1957</td>\n",
       "      <td>9240934</td>\n",
       "      <td>30.332</td>\n",
       "      <td>820.853030</td>\n",
       "    </tr>\n",
       "    <tr>\n",
       "      <th>2</th>\n",
       "      <td>Afghanistan</td>\n",
       "      <td>1962</td>\n",
       "      <td>10267083</td>\n",
       "      <td>31.997</td>\n",
       "      <td>853.100710</td>\n",
       "    </tr>\n",
       "    <tr>\n",
       "      <th>3</th>\n",
       "      <td>Afghanistan</td>\n",
       "      <td>1967</td>\n",
       "      <td>11537966</td>\n",
       "      <td>34.020</td>\n",
       "      <td>836.197138</td>\n",
       "    </tr>\n",
       "    <tr>\n",
       "      <th>4</th>\n",
       "      <td>Afghanistan</td>\n",
       "      <td>1972</td>\n",
       "      <td>13079460</td>\n",
       "      <td>36.088</td>\n",
       "      <td>739.981106</td>\n",
       "    </tr>\n",
       "    <tr>\n",
       "      <th>...</th>\n",
       "      <td>...</td>\n",
       "      <td>...</td>\n",
       "      <td>...</td>\n",
       "      <td>...</td>\n",
       "      <td>...</td>\n",
       "    </tr>\n",
       "    <tr>\n",
       "      <th>1701</th>\n",
       "      <td>Zimbabwe</td>\n",
       "      <td>1997</td>\n",
       "      <td>11404948</td>\n",
       "      <td>46.809</td>\n",
       "      <td>792.449960</td>\n",
       "    </tr>\n",
       "    <tr>\n",
       "      <th>1702</th>\n",
       "      <td>Zimbabwe</td>\n",
       "      <td>2002</td>\n",
       "      <td>11926563</td>\n",
       "      <td>39.989</td>\n",
       "      <td>672.038623</td>\n",
       "    </tr>\n",
       "    <tr>\n",
       "      <th>1703</th>\n",
       "      <td>Zimbabwe</td>\n",
       "      <td>2007</td>\n",
       "      <td>12311143</td>\n",
       "      <td>43.487</td>\n",
       "      <td>469.709298</td>\n",
       "    </tr>\n",
       "    <tr>\n",
       "      <th>1704</th>\n",
       "      <td>India</td>\n",
       "      <td>2000</td>\n",
       "      <td>13500000</td>\n",
       "      <td>37.080</td>\n",
       "      <td>900.230000</td>\n",
       "    </tr>\n",
       "    <tr>\n",
       "      <th>1705</th>\n",
       "      <td>India</td>\n",
       "      <td>2000</td>\n",
       "      <td>13500000</td>\n",
       "      <td>37.080</td>\n",
       "      <td>900.230000</td>\n",
       "    </tr>\n",
       "  </tbody>\n",
       "</table>\n",
       "<p>1706 rows × 5 columns</p>\n",
       "</div>"
      ],
      "text/plain": [
       "          country  year  population  life_exp     gdp_cap\n",
       "0     Afghanistan  1952     8425333    28.801  779.445314\n",
       "1     Afghanistan  1957     9240934    30.332  820.853030\n",
       "2     Afghanistan  1962    10267083    31.997  853.100710\n",
       "3     Afghanistan  1967    11537966    34.020  836.197138\n",
       "4     Afghanistan  1972    13079460    36.088  739.981106\n",
       "...           ...   ...         ...       ...         ...\n",
       "1701     Zimbabwe  1997    11404948    46.809  792.449960\n",
       "1702     Zimbabwe  2002    11926563    39.989  672.038623\n",
       "1703     Zimbabwe  2007    12311143    43.487  469.709298\n",
       "1704        India  2000    13500000    37.080  900.230000\n",
       "1705        India  2000    13500000    37.080  900.230000\n",
       "\n",
       "[1706 rows x 5 columns]"
      ]
     },
     "execution_count": 216,
     "metadata": {},
     "output_type": "execute_result"
    }
   ],
   "source": [
    "df"
   ]
  },
  {
   "cell_type": "markdown",
   "id": "OvMjunClCHJh",
   "metadata": {
    "id": "OvMjunClCHJh"
   },
   "source": [
    "Again the new row but with duplicate data added !\n",
    "\n",
    "####What you can infer from this ?\n",
    "\n",
    "Dataframe allow us to feed duplicate rows in the data"
   ]
  },
  {
   "cell_type": "markdown",
   "id": "UDzPKS1M_Tjm",
   "metadata": {
    "id": "UDzPKS1M_Tjm"
   },
   "source": [
    "* **Using iloc:**\n",
    "\n",
    "You can use the iLoc[] attribute to add a row at a specific position in the dataframe. \n",
    "\n",
    "As we know iloc is an integer-based indexing for selecting rows from the dataframe. \n",
    "\n",
    "You can also use it to assign new rows at that position.\n",
    "\n",
    "Adding a row at a specific index position will replace the existing row at that position."
   ]
  },
  {
   "cell_type": "code",
   "execution_count": 217,
   "id": "xjelf0yp_s4P",
   "metadata": {
    "colab": {
     "base_uri": "https://localhost:8080/",
     "height": 323
    },
    "id": "xjelf0yp_s4P",
    "outputId": "e246cee9-e22d-496b-90d5-f1642114a5a1"
   },
   "outputs": [
    {
     "ename": "IndexError",
     "evalue": "iloc cannot enlarge its target object",
     "output_type": "error",
     "traceback": [
      "\u001b[1;31m---------------------------------------------------------------------------\u001b[0m",
      "\u001b[1;31mIndexError\u001b[0m                                Traceback (most recent call last)",
      "\u001b[1;32m<ipython-input-217-b9da360aa3ef>\u001b[0m in \u001b[0;36m<module>\u001b[1;34m\u001b[0m\n\u001b[1;32m----> 1\u001b[1;33m \u001b[0mdf\u001b[0m\u001b[1;33m.\u001b[0m\u001b[0miloc\u001b[0m\u001b[1;33m[\u001b[0m\u001b[0mlen\u001b[0m\u001b[1;33m(\u001b[0m\u001b[0mdf\u001b[0m\u001b[1;33m.\u001b[0m\u001b[0mindex\u001b[0m\u001b[1;33m)\u001b[0m\u001b[1;33m]\u001b[0m \u001b[1;33m=\u001b[0m \u001b[1;33m[\u001b[0m\u001b[1;34m'India'\u001b[0m\u001b[1;33m,\u001b[0m \u001b[1;34m'Asia'\u001b[0m\u001b[1;33m,\u001b[0m\u001b[1;36m2000\u001b[0m \u001b[1;33m,\u001b[0m\u001b[1;36m13500000\u001b[0m\u001b[1;33m,\u001b[0m\u001b[1;36m37.08\u001b[0m\u001b[1;33m,\u001b[0m\u001b[1;36m900.23\u001b[0m\u001b[1;33m]\u001b[0m\u001b[1;33m\u001b[0m\u001b[1;33m\u001b[0m\u001b[0m\n\u001b[0m",
      "\u001b[1;32m~\\anaconda3\\lib\\site-packages\\pandas\\core\\indexing.py\u001b[0m in \u001b[0;36m__setitem__\u001b[1;34m(self, key, value)\u001b[0m\n\u001b[0;32m    687\u001b[0m             \u001b[0mkey\u001b[0m \u001b[1;33m=\u001b[0m \u001b[0mcom\u001b[0m\u001b[1;33m.\u001b[0m\u001b[0mapply_if_callable\u001b[0m\u001b[1;33m(\u001b[0m\u001b[0mkey\u001b[0m\u001b[1;33m,\u001b[0m \u001b[0mself\u001b[0m\u001b[1;33m.\u001b[0m\u001b[0mobj\u001b[0m\u001b[1;33m)\u001b[0m\u001b[1;33m\u001b[0m\u001b[1;33m\u001b[0m\u001b[0m\n\u001b[0;32m    688\u001b[0m         \u001b[0mindexer\u001b[0m \u001b[1;33m=\u001b[0m \u001b[0mself\u001b[0m\u001b[1;33m.\u001b[0m\u001b[0m_get_setitem_indexer\u001b[0m\u001b[1;33m(\u001b[0m\u001b[0mkey\u001b[0m\u001b[1;33m)\u001b[0m\u001b[1;33m\u001b[0m\u001b[1;33m\u001b[0m\u001b[0m\n\u001b[1;32m--> 689\u001b[1;33m         \u001b[0mself\u001b[0m\u001b[1;33m.\u001b[0m\u001b[0m_has_valid_setitem_indexer\u001b[0m\u001b[1;33m(\u001b[0m\u001b[0mkey\u001b[0m\u001b[1;33m)\u001b[0m\u001b[1;33m\u001b[0m\u001b[1;33m\u001b[0m\u001b[0m\n\u001b[0m\u001b[0;32m    690\u001b[0m \u001b[1;33m\u001b[0m\u001b[0m\n\u001b[0;32m    691\u001b[0m         \u001b[0miloc\u001b[0m \u001b[1;33m=\u001b[0m \u001b[0mself\u001b[0m \u001b[1;32mif\u001b[0m \u001b[0mself\u001b[0m\u001b[1;33m.\u001b[0m\u001b[0mname\u001b[0m \u001b[1;33m==\u001b[0m \u001b[1;34m\"iloc\"\u001b[0m \u001b[1;32melse\u001b[0m \u001b[0mself\u001b[0m\u001b[1;33m.\u001b[0m\u001b[0mobj\u001b[0m\u001b[1;33m.\u001b[0m\u001b[0miloc\u001b[0m\u001b[1;33m\u001b[0m\u001b[1;33m\u001b[0m\u001b[0m\n",
      "\u001b[1;32m~\\anaconda3\\lib\\site-packages\\pandas\\core\\indexing.py\u001b[0m in \u001b[0;36m_has_valid_setitem_indexer\u001b[1;34m(self, indexer)\u001b[0m\n\u001b[0;32m   1399\u001b[0m             \u001b[1;32melif\u001b[0m \u001b[0mis_integer\u001b[0m\u001b[1;33m(\u001b[0m\u001b[0mi\u001b[0m\u001b[1;33m)\u001b[0m\u001b[1;33m:\u001b[0m\u001b[1;33m\u001b[0m\u001b[1;33m\u001b[0m\u001b[0m\n\u001b[0;32m   1400\u001b[0m                 \u001b[1;32mif\u001b[0m \u001b[0mi\u001b[0m \u001b[1;33m>=\u001b[0m \u001b[0mlen\u001b[0m\u001b[1;33m(\u001b[0m\u001b[0max\u001b[0m\u001b[1;33m)\u001b[0m\u001b[1;33m:\u001b[0m\u001b[1;33m\u001b[0m\u001b[1;33m\u001b[0m\u001b[0m\n\u001b[1;32m-> 1401\u001b[1;33m                     \u001b[1;32mraise\u001b[0m \u001b[0mIndexError\u001b[0m\u001b[1;33m(\u001b[0m\u001b[1;34m\"iloc cannot enlarge its target object\"\u001b[0m\u001b[1;33m)\u001b[0m\u001b[1;33m\u001b[0m\u001b[1;33m\u001b[0m\u001b[0m\n\u001b[0m\u001b[0;32m   1402\u001b[0m             \u001b[1;32melif\u001b[0m \u001b[0misinstance\u001b[0m\u001b[1;33m(\u001b[0m\u001b[0mi\u001b[0m\u001b[1;33m,\u001b[0m \u001b[0mdict\u001b[0m\u001b[1;33m)\u001b[0m\u001b[1;33m:\u001b[0m\u001b[1;33m\u001b[0m\u001b[1;33m\u001b[0m\u001b[0m\n\u001b[0;32m   1403\u001b[0m                 \u001b[1;32mraise\u001b[0m \u001b[0mIndexError\u001b[0m\u001b[1;33m(\u001b[0m\u001b[1;34m\"iloc cannot enlarge its target object\"\u001b[0m\u001b[1;33m)\u001b[0m\u001b[1;33m\u001b[0m\u001b[1;33m\u001b[0m\u001b[0m\n",
      "\u001b[1;31mIndexError\u001b[0m: iloc cannot enlarge its target object"
     ]
    }
   ],
   "source": [
    "df.iloc[len(df.index)] = ['India', 'Asia',2000 ,13500000,37.08,900.23] "
   ]
  },
  {
   "cell_type": "markdown",
   "id": "OG4H-4PcBqz1",
   "metadata": {
    "id": "OG4H-4PcBqz1"
   },
   "source": [
    "####Why we are getting error ?\n",
    "\n",
    "* When you’re using iLoc to add a row, the dataframe must already have a row in the position. \n",
    "\n",
    "* If a row is not available, you’ll see an error IndexError: iloc cannot enlarge its target object. \n",
    "\n",
    "* iLoc will not expand the size of the dataframe automatically.\n",
    "\n",
    "\n",
    "**Please Note:**\n",
    "\n",
    "* When using the loc[] attribute, it’s not mandatory that a row already exists with a specific label. \n",
    "\n",
    "* It’ll automatically extend the dataframe and add a row with that label, unlike the iloc[] method.\n",
    "\n"
   ]
  },
  {
   "cell_type": "markdown",
   "id": "rSPjTVgwAP0Q",
   "metadata": {
    "id": "rSPjTVgwAP0Q"
   },
   "source": [
    "\n",
    "\n",
    "### Drop Duplicates:\n",
    "\n",
    "Lets first check for duplicate row:\n",
    "\n",
    "To take a look at the duplication in the DataFrame , just call the duplicated() method on the DataFrame. \n",
    "\n",
    "It outputs True if an entire row is identical to a previous row.\n",
    "\n",
    "\n",
    " \n"
   ]
  },
  {
   "cell_type": "code",
   "execution_count": 218,
   "id": "IzsXLBVghl0b",
   "metadata": {
    "colab": {
     "base_uri": "https://localhost:8080/"
    },
    "id": "IzsXLBVghl0b",
    "outputId": "b52a443e-59d0-418e-9a72-46aa548f5d85"
   },
   "outputs": [
    {
     "data": {
      "text/plain": [
       "0       False\n",
       "1       False\n",
       "2       False\n",
       "3       False\n",
       "4       False\n",
       "        ...  \n",
       "1701    False\n",
       "1702    False\n",
       "1703    False\n",
       "1704    False\n",
       "1705     True\n",
       "Length: 1706, dtype: bool"
      ]
     },
     "execution_count": 218,
     "metadata": {},
     "output_type": "execute_result"
    }
   ],
   "source": [
    "df.duplicated()"
   ]
  },
  {
   "cell_type": "markdown",
   "id": "7um1UEQThvqH",
   "metadata": {
    "id": "7um1UEQThvqH"
   },
   "source": [
    "However, it is not practical to see a list of True and False when we need to perform some data analysis.\n",
    "\n",
    "We can Pandas loc data selector to extract those duplicate rows:"
   ]
  },
  {
   "cell_type": "code",
   "execution_count": 219,
   "id": "Zlaoa2LZfJVE",
   "metadata": {
    "colab": {
     "base_uri": "https://localhost:8080/",
     "height": 81
    },
    "id": "Zlaoa2LZfJVE",
    "outputId": "1e1de2d6-9e62-49b2-881b-3d08d1eb671f"
   },
   "outputs": [
    {
     "data": {
      "text/html": [
       "<div>\n",
       "<style scoped>\n",
       "    .dataframe tbody tr th:only-of-type {\n",
       "        vertical-align: middle;\n",
       "    }\n",
       "\n",
       "    .dataframe tbody tr th {\n",
       "        vertical-align: top;\n",
       "    }\n",
       "\n",
       "    .dataframe thead th {\n",
       "        text-align: right;\n",
       "    }\n",
       "</style>\n",
       "<table border=\"1\" class=\"dataframe\">\n",
       "  <thead>\n",
       "    <tr style=\"text-align: right;\">\n",
       "      <th></th>\n",
       "      <th>country</th>\n",
       "      <th>year</th>\n",
       "      <th>population</th>\n",
       "      <th>life_exp</th>\n",
       "      <th>gdp_cap</th>\n",
       "    </tr>\n",
       "  </thead>\n",
       "  <tbody>\n",
       "    <tr>\n",
       "      <th>1705</th>\n",
       "      <td>India</td>\n",
       "      <td>2000</td>\n",
       "      <td>13500000</td>\n",
       "      <td>37.08</td>\n",
       "      <td>900.23</td>\n",
       "    </tr>\n",
       "  </tbody>\n",
       "</table>\n",
       "</div>"
      ],
      "text/plain": [
       "     country  year  population  life_exp  gdp_cap\n",
       "1705   India  2000    13500000     37.08   900.23"
      ]
     },
     "execution_count": 219,
     "metadata": {},
     "output_type": "execute_result"
    }
   ],
   "source": [
    "# Extract duplicate rows\n",
    "df.loc[df.duplicated(), :]"
   ]
  },
  {
   "cell_type": "markdown",
   "id": "Ug2nrZndhNxm",
   "metadata": {
    "id": "Ug2nrZndhNxm"
   },
   "source": [
    "The first argument **df.duplicated()** will find the rows that were identified by **duplicated()**. \n",
    "\n",
    "The second argument : will display all columns."
   ]
  },
  {
   "cell_type": "markdown",
   "id": "_ACoKT7sfINn",
   "metadata": {
    "id": "_ACoKT7sfINn"
   },
   "source": [
    "Now if you want to remove all **duplicate rows** ?\n",
    "\n",
    "for that we can use **drop_duplicates()** method that helps in removing duplicates from the data frame.\n",
    "\n",
    "But the another question is among all duplicate rows which one you want to keep ?"
   ]
  },
  {
   "cell_type": "code",
   "execution_count": 220,
   "id": "kbkJ9bIWA_Lr",
   "metadata": {
    "colab": {
     "base_uri": "https://localhost:8080/",
     "height": 424
    },
    "id": "kbkJ9bIWA_Lr",
    "outputId": "b112ef36-41bd-4569-fbd8-25be70eb1007"
   },
   "outputs": [
    {
     "data": {
      "text/html": [
       "<div>\n",
       "<style scoped>\n",
       "    .dataframe tbody tr th:only-of-type {\n",
       "        vertical-align: middle;\n",
       "    }\n",
       "\n",
       "    .dataframe tbody tr th {\n",
       "        vertical-align: top;\n",
       "    }\n",
       "\n",
       "    .dataframe thead th {\n",
       "        text-align: right;\n",
       "    }\n",
       "</style>\n",
       "<table border=\"1\" class=\"dataframe\">\n",
       "  <thead>\n",
       "    <tr style=\"text-align: right;\">\n",
       "      <th></th>\n",
       "      <th>country</th>\n",
       "      <th>year</th>\n",
       "      <th>population</th>\n",
       "      <th>life_exp</th>\n",
       "      <th>gdp_cap</th>\n",
       "    </tr>\n",
       "  </thead>\n",
       "  <tbody>\n",
       "    <tr>\n",
       "      <th>0</th>\n",
       "      <td>Afghanistan</td>\n",
       "      <td>1952</td>\n",
       "      <td>8425333</td>\n",
       "      <td>28.801</td>\n",
       "      <td>779.445314</td>\n",
       "    </tr>\n",
       "    <tr>\n",
       "      <th>1</th>\n",
       "      <td>Afghanistan</td>\n",
       "      <td>1957</td>\n",
       "      <td>9240934</td>\n",
       "      <td>30.332</td>\n",
       "      <td>820.853030</td>\n",
       "    </tr>\n",
       "    <tr>\n",
       "      <th>2</th>\n",
       "      <td>Afghanistan</td>\n",
       "      <td>1962</td>\n",
       "      <td>10267083</td>\n",
       "      <td>31.997</td>\n",
       "      <td>853.100710</td>\n",
       "    </tr>\n",
       "    <tr>\n",
       "      <th>3</th>\n",
       "      <td>Afghanistan</td>\n",
       "      <td>1967</td>\n",
       "      <td>11537966</td>\n",
       "      <td>34.020</td>\n",
       "      <td>836.197138</td>\n",
       "    </tr>\n",
       "    <tr>\n",
       "      <th>4</th>\n",
       "      <td>Afghanistan</td>\n",
       "      <td>1972</td>\n",
       "      <td>13079460</td>\n",
       "      <td>36.088</td>\n",
       "      <td>739.981106</td>\n",
       "    </tr>\n",
       "    <tr>\n",
       "      <th>...</th>\n",
       "      <td>...</td>\n",
       "      <td>...</td>\n",
       "      <td>...</td>\n",
       "      <td>...</td>\n",
       "      <td>...</td>\n",
       "    </tr>\n",
       "    <tr>\n",
       "      <th>1700</th>\n",
       "      <td>Zimbabwe</td>\n",
       "      <td>1992</td>\n",
       "      <td>10704340</td>\n",
       "      <td>60.377</td>\n",
       "      <td>693.420786</td>\n",
       "    </tr>\n",
       "    <tr>\n",
       "      <th>1701</th>\n",
       "      <td>Zimbabwe</td>\n",
       "      <td>1997</td>\n",
       "      <td>11404948</td>\n",
       "      <td>46.809</td>\n",
       "      <td>792.449960</td>\n",
       "    </tr>\n",
       "    <tr>\n",
       "      <th>1702</th>\n",
       "      <td>Zimbabwe</td>\n",
       "      <td>2002</td>\n",
       "      <td>11926563</td>\n",
       "      <td>39.989</td>\n",
       "      <td>672.038623</td>\n",
       "    </tr>\n",
       "    <tr>\n",
       "      <th>1703</th>\n",
       "      <td>Zimbabwe</td>\n",
       "      <td>2007</td>\n",
       "      <td>12311143</td>\n",
       "      <td>43.487</td>\n",
       "      <td>469.709298</td>\n",
       "    </tr>\n",
       "    <tr>\n",
       "      <th>1704</th>\n",
       "      <td>India</td>\n",
       "      <td>2000</td>\n",
       "      <td>13500000</td>\n",
       "      <td>37.080</td>\n",
       "      <td>900.230000</td>\n",
       "    </tr>\n",
       "  </tbody>\n",
       "</table>\n",
       "<p>1705 rows × 5 columns</p>\n",
       "</div>"
      ],
      "text/plain": [
       "          country  year  population  life_exp     gdp_cap\n",
       "0     Afghanistan  1952     8425333    28.801  779.445314\n",
       "1     Afghanistan  1957     9240934    30.332  820.853030\n",
       "2     Afghanistan  1962    10267083    31.997  853.100710\n",
       "3     Afghanistan  1967    11537966    34.020  836.197138\n",
       "4     Afghanistan  1972    13079460    36.088  739.981106\n",
       "...           ...   ...         ...       ...         ...\n",
       "1700     Zimbabwe  1992    10704340    60.377  693.420786\n",
       "1701     Zimbabwe  1997    11404948    46.809  792.449960\n",
       "1702     Zimbabwe  2002    11926563    39.989  672.038623\n",
       "1703     Zimbabwe  2007    12311143    43.487  469.709298\n",
       "1704        India  2000    13500000    37.080  900.230000\n",
       "\n",
       "[1705 rows x 5 columns]"
      ]
     },
     "execution_count": 220,
     "metadata": {},
     "output_type": "execute_result"
    }
   ],
   "source": [
    "df = df.drop_duplicates(keep='first')\n",
    "df"
   ]
  },
  {
   "cell_type": "markdown",
   "id": "3IVNun9-DkG5",
   "metadata": {
    "id": "3IVNun9-DkG5"
   },
   "source": [
    "Here we have argument as **keep**: \n",
    "\n",
    "This Controls how to consider duplicate value. \n",
    "\n",
    "It has only three distinct value and default is ‘first’. \n",
    " \n",
    "\n",
    "* If `first`, This considers first value as unique and rest of the same values as duplicate.\n",
    "* If `last`, This considers last value as unique and rest of the same values as duplicate.\n",
    "* If `False`, This considers all of the same values as duplicates."
   ]
  },
  {
   "cell_type": "markdown",
   "id": "0X4x-jUGIz5x",
   "metadata": {
    "id": "0X4x-jUGIz5x"
   },
   "source": [
    "#### What if you want to look for duplicacy only for a few columns?\n",
    "\n",
    "- We can use the argument subset to mention the list of columns which we want to use.\n",
    "\n",
    "- It’s default value is none. \n",
    " \n",
    "- After passing column name, it will consider that column only for duplicates. "
   ]
  },
  {
   "cell_type": "code",
   "execution_count": 221,
   "id": "Evl9uRfaIVeE",
   "metadata": {
    "colab": {
     "base_uri": "https://localhost:8080/"
    },
    "id": "Evl9uRfaIVeE",
    "outputId": "84323c8c-9db8-4599-e9a2-bf4e58872c58"
   },
   "outputs": [
    {
     "name": "stdout",
     "output_type": "stream",
     "text": [
      "                 country  year  population  life_exp      gdp_cap\n",
      "0            Afghanistan  1952     8425333    28.801   779.445314\n",
      "12               Albania  1952     1282697    55.230  1601.056136\n",
      "24               Algeria  1952     9279525    43.077  2449.008185\n",
      "36                Angola  1952     4232095    30.015  3520.610273\n",
      "48             Argentina  1952    17876956    62.485  5911.315053\n",
      "...                  ...   ...         ...       ...          ...\n",
      "1644             Vietnam  1952    26246839    40.412   605.066492\n",
      "1656  West Bank and Gaza  1952     1030585    43.160  1515.592329\n",
      "1668         Yemen, Rep.  1952     4963829    32.548   781.717576\n",
      "1680              Zambia  1952     2672000    42.038  1147.388831\n",
      "1692            Zimbabwe  1952     3080907    48.451   406.884115\n",
      "\n",
      "[142 rows x 5 columns]\n"
     ]
    }
   ],
   "source": [
    "print(df.drop_duplicates(subset=['country'],keep='first'))"
   ]
  },
  {
   "cell_type": "markdown",
   "id": "cb0a2bc3",
   "metadata": {
    "id": "cb0a2bc3"
   },
   "source": [
    "### Deleting a row\n",
    "\n",
    "Now we know how to access a single/multiple rows in a dataframe\n",
    "\n",
    "#### What if we want to delete a row ?\n",
    "  - We can simply use the df.drop() command that we used earlier\n",
    "\n",
    "#### But how can we change df.drop() method to drop a row ?\n",
    "\n",
    "- **Hint**: Take **analogy from deleting a column** we saw earlier\n",
    "\n",
    "- To drop column, we did:\n",
    "\n",
    "`df.drop('continent', axis=1, inplace=True)`\n",
    "\n",
    "\n",
    "#### What will be value of `axis` parameter for deleting a row?\n",
    "\n",
    "- **`axis=0`**\n",
    "\n",
    "- OR we can just leave it, because default value of `axis` is `0`\n",
    "\n",
    "\n",
    "#### Does `drop()` method uses positional indices or labels?\n",
    "\n",
    "#### What do you think by looking at code for deleting column?\n",
    "\n",
    "- We had to specify column title\n",
    "\n",
    "\n",
    "- So **`drop()` uses labels**, NOT positional indices\n",
    "\n",
    "\n",
    "#### Let's implement this for a row now"
   ]
  },
  {
   "cell_type": "code",
   "execution_count": 222,
   "id": "19df31d1",
   "metadata": {
    "colab": {
     "base_uri": "https://localhost:8080/",
     "height": 206
    },
    "id": "19df31d1",
    "outputId": "deae9cfb-7145-4de4-cb09-88fb03543829"
   },
   "outputs": [
    {
     "data": {
      "text/html": [
       "<div>\n",
       "<style scoped>\n",
       "    .dataframe tbody tr th:only-of-type {\n",
       "        vertical-align: middle;\n",
       "    }\n",
       "\n",
       "    .dataframe tbody tr th {\n",
       "        vertical-align: top;\n",
       "    }\n",
       "\n",
       "    .dataframe thead th {\n",
       "        text-align: right;\n",
       "    }\n",
       "</style>\n",
       "<table border=\"1\" class=\"dataframe\">\n",
       "  <thead>\n",
       "    <tr style=\"text-align: right;\">\n",
       "      <th></th>\n",
       "      <th>country</th>\n",
       "      <th>year</th>\n",
       "      <th>population</th>\n",
       "      <th>life_exp</th>\n",
       "      <th>gdp_cap</th>\n",
       "    </tr>\n",
       "  </thead>\n",
       "  <tbody>\n",
       "    <tr>\n",
       "      <th>0</th>\n",
       "      <td>Afghanistan</td>\n",
       "      <td>1952</td>\n",
       "      <td>8425333</td>\n",
       "      <td>28.801</td>\n",
       "      <td>779.445314</td>\n",
       "    </tr>\n",
       "    <tr>\n",
       "      <th>1</th>\n",
       "      <td>Afghanistan</td>\n",
       "      <td>1957</td>\n",
       "      <td>9240934</td>\n",
       "      <td>30.332</td>\n",
       "      <td>820.853030</td>\n",
       "    </tr>\n",
       "    <tr>\n",
       "      <th>2</th>\n",
       "      <td>Afghanistan</td>\n",
       "      <td>1962</td>\n",
       "      <td>10267083</td>\n",
       "      <td>31.997</td>\n",
       "      <td>853.100710</td>\n",
       "    </tr>\n",
       "    <tr>\n",
       "      <th>3</th>\n",
       "      <td>Afghanistan</td>\n",
       "      <td>1967</td>\n",
       "      <td>11537966</td>\n",
       "      <td>34.020</td>\n",
       "      <td>836.197138</td>\n",
       "    </tr>\n",
       "    <tr>\n",
       "      <th>4</th>\n",
       "      <td>Afghanistan</td>\n",
       "      <td>1972</td>\n",
       "      <td>13079460</td>\n",
       "      <td>36.088</td>\n",
       "      <td>739.981106</td>\n",
       "    </tr>\n",
       "  </tbody>\n",
       "</table>\n",
       "</div>"
      ],
      "text/plain": [
       "       country  year  population  life_exp     gdp_cap\n",
       "0  Afghanistan  1952     8425333    28.801  779.445314\n",
       "1  Afghanistan  1957     9240934    30.332  820.853030\n",
       "2  Afghanistan  1962    10267083    31.997  853.100710\n",
       "3  Afghanistan  1967    11537966    34.020  836.197138\n",
       "4  Afghanistan  1972    13079460    36.088  739.981106"
      ]
     },
     "execution_count": 222,
     "metadata": {},
     "output_type": "execute_result"
    }
   ],
   "source": [
    "df.head()"
   ]
  },
  {
   "cell_type": "code",
   "execution_count": 223,
   "id": "4542e992",
   "metadata": {
    "colab": {
     "base_uri": "https://localhost:8080/",
     "height": 134
    },
    "id": "4542e992",
    "outputId": "66ebdf20-fbbf-46ae-a326-56ddae6e37ee"
   },
   "outputs": [
    {
     "name": "stderr",
     "output_type": "stream",
     "text": [
      "C:\\Users\\Administrator\\anaconda3\\lib\\site-packages\\pandas\\core\\frame.py:4308: SettingWithCopyWarning: \n",
      "A value is trying to be set on a copy of a slice from a DataFrame\n",
      "\n",
      "See the caveats in the documentation: https://pandas.pydata.org/pandas-docs/stable/user_guide/indexing.html#returning-a-view-versus-a-copy\n",
      "  return super().drop(\n"
     ]
    }
   ],
   "source": [
    "# Let's drop row with label\n",
    "df.drop(3, axis=0, inplace=True)"
   ]
  },
  {
   "cell_type": "code",
   "execution_count": 224,
   "id": "96ff373b",
   "metadata": {
    "colab": {
     "base_uri": "https://localhost:8080/",
     "height": 206
    },
    "id": "96ff373b",
    "outputId": "5c4c032e-2387-4d5b-bfa3-08219535656a",
    "scrolled": true
   },
   "outputs": [
    {
     "data": {
      "text/html": [
       "<div>\n",
       "<style scoped>\n",
       "    .dataframe tbody tr th:only-of-type {\n",
       "        vertical-align: middle;\n",
       "    }\n",
       "\n",
       "    .dataframe tbody tr th {\n",
       "        vertical-align: top;\n",
       "    }\n",
       "\n",
       "    .dataframe thead th {\n",
       "        text-align: right;\n",
       "    }\n",
       "</style>\n",
       "<table border=\"1\" class=\"dataframe\">\n",
       "  <thead>\n",
       "    <tr style=\"text-align: right;\">\n",
       "      <th></th>\n",
       "      <th>country</th>\n",
       "      <th>year</th>\n",
       "      <th>population</th>\n",
       "      <th>life_exp</th>\n",
       "      <th>gdp_cap</th>\n",
       "    </tr>\n",
       "  </thead>\n",
       "  <tbody>\n",
       "    <tr>\n",
       "      <th>0</th>\n",
       "      <td>Afghanistan</td>\n",
       "      <td>1952</td>\n",
       "      <td>8425333</td>\n",
       "      <td>28.801</td>\n",
       "      <td>779.445314</td>\n",
       "    </tr>\n",
       "    <tr>\n",
       "      <th>1</th>\n",
       "      <td>Afghanistan</td>\n",
       "      <td>1957</td>\n",
       "      <td>9240934</td>\n",
       "      <td>30.332</td>\n",
       "      <td>820.853030</td>\n",
       "    </tr>\n",
       "    <tr>\n",
       "      <th>2</th>\n",
       "      <td>Afghanistan</td>\n",
       "      <td>1962</td>\n",
       "      <td>10267083</td>\n",
       "      <td>31.997</td>\n",
       "      <td>853.100710</td>\n",
       "    </tr>\n",
       "    <tr>\n",
       "      <th>4</th>\n",
       "      <td>Afghanistan</td>\n",
       "      <td>1972</td>\n",
       "      <td>13079460</td>\n",
       "      <td>36.088</td>\n",
       "      <td>739.981106</td>\n",
       "    </tr>\n",
       "    <tr>\n",
       "      <th>5</th>\n",
       "      <td>Afghanistan</td>\n",
       "      <td>1977</td>\n",
       "      <td>14880372</td>\n",
       "      <td>38.438</td>\n",
       "      <td>786.113360</td>\n",
       "    </tr>\n",
       "  </tbody>\n",
       "</table>\n",
       "</div>"
      ],
      "text/plain": [
       "       country  year  population  life_exp     gdp_cap\n",
       "0  Afghanistan  1952     8425333    28.801  779.445314\n",
       "1  Afghanistan  1957     9240934    30.332  820.853030\n",
       "2  Afghanistan  1962    10267083    31.997  853.100710\n",
       "4  Afghanistan  1972    13079460    36.088  739.981106\n",
       "5  Afghanistan  1977    14880372    38.438  786.113360"
      ]
     },
     "execution_count": 224,
     "metadata": {},
     "output_type": "execute_result"
    }
   ],
   "source": [
    "df.head()"
   ]
  },
  {
   "cell_type": "markdown",
   "id": "0cb942e6",
   "metadata": {
    "id": "0cb942e6"
   },
   "source": [
    "- Now we see that **row with label 3 is deleted**\n",
    "\n",
    "\n",
    "- Now we have **rows with labels 0, 1, 2, 4, 5, ...** 3 is not there\n",
    "\n",
    "\n",
    "- **Labels do NOT change on their own**\n",
    "\n",
    "\n",
    "#### Now `df.loc[4]` and `df.iloc[4]` will give different rows"
   ]
  },
  {
   "cell_type": "code",
   "execution_count": 225,
   "id": "b3f2105f",
   "metadata": {
    "colab": {
     "base_uri": "https://localhost:8080/"
    },
    "id": "b3f2105f",
    "outputId": "52b054c6-e5eb-4292-b186-45b0cbc20802"
   },
   "outputs": [
    {
     "data": {
      "text/plain": [
       "country       Afghanistan\n",
       "year                 1977\n",
       "population       14880372\n",
       "life_exp           38.438\n",
       "gdp_cap         786.11336\n",
       "Name: 5, dtype: object"
      ]
     },
     "execution_count": 225,
     "metadata": {},
     "output_type": "execute_result"
    }
   ],
   "source": [
    "df.loc[5]"
   ]
  },
  {
   "cell_type": "code",
   "execution_count": 226,
   "id": "81659cf8",
   "metadata": {
    "colab": {
     "base_uri": "https://localhost:8080/"
    },
    "id": "81659cf8",
    "outputId": "0f189322-47ef-4d4d-98a6-d8c5b3469ea9",
    "scrolled": true
   },
   "outputs": [
    {
     "data": {
      "text/plain": [
       "country       Afghanistan\n",
       "year                 1982\n",
       "population       12881816\n",
       "life_exp           39.854\n",
       "gdp_cap        978.011439\n",
       "Name: 6, dtype: object"
      ]
     },
     "execution_count": 226,
     "metadata": {},
     "output_type": "execute_result"
    }
   ],
   "source": [
    "df.iloc[5]"
   ]
  },
  {
   "cell_type": "markdown",
   "id": "9tE5G5AyiHif",
   "metadata": {
    "id": "9tE5G5AyiHif"
   },
   "source": [
    "\n",
    "***\n",
    "\n",
    "## Working with Rows and Columns together [00:55 - 01:14]\n",
    "\n",
    "- We'll use same `loc` and `iloc`\n",
    "\n",
    "\n",
    "- Pass in **2 different ranges for slicing** - **one for row** and **one for column**"
   ]
  },
  {
   "cell_type": "code",
   "execution_count": 227,
   "id": "d0e30ce2",
   "metadata": {
    "colab": {
     "base_uri": "https://localhost:8080/",
     "height": 175
    },
    "id": "d0e30ce2",
    "outputId": "d163507b-5aeb-41f3-d822-7f162d2e2c18"
   },
   "outputs": [
    {
     "data": {
      "text/html": [
       "<div>\n",
       "<style scoped>\n",
       "    .dataframe tbody tr th:only-of-type {\n",
       "        vertical-align: middle;\n",
       "    }\n",
       "\n",
       "    .dataframe tbody tr th {\n",
       "        vertical-align: top;\n",
       "    }\n",
       "\n",
       "    .dataframe thead th {\n",
       "        text-align: right;\n",
       "    }\n",
       "</style>\n",
       "<table border=\"1\" class=\"dataframe\">\n",
       "  <thead>\n",
       "    <tr style=\"text-align: right;\">\n",
       "      <th></th>\n",
       "      <th>year</th>\n",
       "      <th>population</th>\n",
       "      <th>life_exp</th>\n",
       "    </tr>\n",
       "  </thead>\n",
       "  <tbody>\n",
       "    <tr>\n",
       "      <th>1</th>\n",
       "      <td>1957</td>\n",
       "      <td>9240934</td>\n",
       "      <td>30.332</td>\n",
       "    </tr>\n",
       "    <tr>\n",
       "      <th>2</th>\n",
       "      <td>1962</td>\n",
       "      <td>10267083</td>\n",
       "      <td>31.997</td>\n",
       "    </tr>\n",
       "    <tr>\n",
       "      <th>4</th>\n",
       "      <td>1972</td>\n",
       "      <td>13079460</td>\n",
       "      <td>36.088</td>\n",
       "    </tr>\n",
       "    <tr>\n",
       "      <th>5</th>\n",
       "      <td>1977</td>\n",
       "      <td>14880372</td>\n",
       "      <td>38.438</td>\n",
       "    </tr>\n",
       "  </tbody>\n",
       "</table>\n",
       "</div>"
      ],
      "text/plain": [
       "   year  population  life_exp\n",
       "1  1957     9240934    30.332\n",
       "2  1962    10267083    31.997\n",
       "4  1972    13079460    36.088\n",
       "5  1977    14880372    38.438"
      ]
     },
     "execution_count": 227,
     "metadata": {},
     "output_type": "execute_result"
    }
   ],
   "source": [
    "df.iloc[1:5, 1:4]\n",
    "\n",
    "# Gives rows from index 1 to 4 (5 NOT included)\n",
    "\n",
    "# Gives columns from index 1 to 3 (4 NOT included)"
   ]
  },
  {
   "cell_type": "markdown",
   "id": "8ec64749",
   "metadata": {
    "id": "8ec64749"
   },
   "source": [
    "#### Can we do the same thing with `loc`?"
   ]
  },
  {
   "cell_type": "code",
   "execution_count": 228,
   "id": "ba5bcf0a",
   "metadata": {
    "colab": {
     "base_uri": "https://localhost:8080/",
     "height": 323
    },
    "id": "ba5bcf0a",
    "outputId": "93ac3efd-2b16-4408-fb2a-019c400380eb",
    "scrolled": true
   },
   "outputs": [
    {
     "ename": "TypeError",
     "evalue": "cannot do slice indexing on Index with these indexers [1] of type int",
     "output_type": "error",
     "traceback": [
      "\u001b[1;31m---------------------------------------------------------------------------\u001b[0m",
      "\u001b[1;31mTypeError\u001b[0m                                 Traceback (most recent call last)",
      "\u001b[1;32m<ipython-input-228-494208dc7680>\u001b[0m in \u001b[0;36m<module>\u001b[1;34m\u001b[0m\n\u001b[1;32m----> 1\u001b[1;33m \u001b[0mdf\u001b[0m\u001b[1;33m.\u001b[0m\u001b[0mloc\u001b[0m\u001b[1;33m[\u001b[0m\u001b[1;36m1\u001b[0m\u001b[1;33m:\u001b[0m\u001b[1;36m5\u001b[0m\u001b[1;33m,\u001b[0m \u001b[1;36m1\u001b[0m\u001b[1;33m:\u001b[0m\u001b[1;36m4\u001b[0m\u001b[1;33m]\u001b[0m\u001b[1;33m\u001b[0m\u001b[1;33m\u001b[0m\u001b[0m\n\u001b[0m",
      "\u001b[1;32m~\\anaconda3\\lib\\site-packages\\pandas\\core\\indexing.py\u001b[0m in \u001b[0;36m__getitem__\u001b[1;34m(self, key)\u001b[0m\n\u001b[0;32m    887\u001b[0m                     \u001b[1;31m# AttributeError for IntervalTree get_value\u001b[0m\u001b[1;33m\u001b[0m\u001b[1;33m\u001b[0m\u001b[1;33m\u001b[0m\u001b[0m\n\u001b[0;32m    888\u001b[0m                     \u001b[1;32mreturn\u001b[0m \u001b[0mself\u001b[0m\u001b[1;33m.\u001b[0m\u001b[0mobj\u001b[0m\u001b[1;33m.\u001b[0m\u001b[0m_get_value\u001b[0m\u001b[1;33m(\u001b[0m\u001b[1;33m*\u001b[0m\u001b[0mkey\u001b[0m\u001b[1;33m,\u001b[0m \u001b[0mtakeable\u001b[0m\u001b[1;33m=\u001b[0m\u001b[0mself\u001b[0m\u001b[1;33m.\u001b[0m\u001b[0m_takeable\u001b[0m\u001b[1;33m)\u001b[0m\u001b[1;33m\u001b[0m\u001b[1;33m\u001b[0m\u001b[0m\n\u001b[1;32m--> 889\u001b[1;33m             \u001b[1;32mreturn\u001b[0m \u001b[0mself\u001b[0m\u001b[1;33m.\u001b[0m\u001b[0m_getitem_tuple\u001b[0m\u001b[1;33m(\u001b[0m\u001b[0mkey\u001b[0m\u001b[1;33m)\u001b[0m\u001b[1;33m\u001b[0m\u001b[1;33m\u001b[0m\u001b[0m\n\u001b[0m\u001b[0;32m    890\u001b[0m         \u001b[1;32melse\u001b[0m\u001b[1;33m:\u001b[0m\u001b[1;33m\u001b[0m\u001b[1;33m\u001b[0m\u001b[0m\n\u001b[0;32m    891\u001b[0m             \u001b[1;31m# we by definition only have the 0th axis\u001b[0m\u001b[1;33m\u001b[0m\u001b[1;33m\u001b[0m\u001b[1;33m\u001b[0m\u001b[0m\n",
      "\u001b[1;32m~\\anaconda3\\lib\\site-packages\\pandas\\core\\indexing.py\u001b[0m in \u001b[0;36m_getitem_tuple\u001b[1;34m(self, tup)\u001b[0m\n\u001b[0;32m   1067\u001b[0m             \u001b[1;32mreturn\u001b[0m \u001b[0mself\u001b[0m\u001b[1;33m.\u001b[0m\u001b[0m_multi_take\u001b[0m\u001b[1;33m(\u001b[0m\u001b[0mtup\u001b[0m\u001b[1;33m)\u001b[0m\u001b[1;33m\u001b[0m\u001b[1;33m\u001b[0m\u001b[0m\n\u001b[0;32m   1068\u001b[0m \u001b[1;33m\u001b[0m\u001b[0m\n\u001b[1;32m-> 1069\u001b[1;33m         \u001b[1;32mreturn\u001b[0m \u001b[0mself\u001b[0m\u001b[1;33m.\u001b[0m\u001b[0m_getitem_tuple_same_dim\u001b[0m\u001b[1;33m(\u001b[0m\u001b[0mtup\u001b[0m\u001b[1;33m)\u001b[0m\u001b[1;33m\u001b[0m\u001b[1;33m\u001b[0m\u001b[0m\n\u001b[0m\u001b[0;32m   1070\u001b[0m \u001b[1;33m\u001b[0m\u001b[0m\n\u001b[0;32m   1071\u001b[0m     \u001b[1;32mdef\u001b[0m \u001b[0m_get_label\u001b[0m\u001b[1;33m(\u001b[0m\u001b[0mself\u001b[0m\u001b[1;33m,\u001b[0m \u001b[0mlabel\u001b[0m\u001b[1;33m,\u001b[0m \u001b[0maxis\u001b[0m\u001b[1;33m:\u001b[0m \u001b[0mint\u001b[0m\u001b[1;33m)\u001b[0m\u001b[1;33m:\u001b[0m\u001b[1;33m\u001b[0m\u001b[1;33m\u001b[0m\u001b[0m\n",
      "\u001b[1;32m~\\anaconda3\\lib\\site-packages\\pandas\\core\\indexing.py\u001b[0m in \u001b[0;36m_getitem_tuple_same_dim\u001b[1;34m(self, tup)\u001b[0m\n\u001b[0;32m    773\u001b[0m                 \u001b[1;32mcontinue\u001b[0m\u001b[1;33m\u001b[0m\u001b[1;33m\u001b[0m\u001b[0m\n\u001b[0;32m    774\u001b[0m \u001b[1;33m\u001b[0m\u001b[0m\n\u001b[1;32m--> 775\u001b[1;33m             \u001b[0mretval\u001b[0m \u001b[1;33m=\u001b[0m \u001b[0mgetattr\u001b[0m\u001b[1;33m(\u001b[0m\u001b[0mretval\u001b[0m\u001b[1;33m,\u001b[0m \u001b[0mself\u001b[0m\u001b[1;33m.\u001b[0m\u001b[0mname\u001b[0m\u001b[1;33m)\u001b[0m\u001b[1;33m.\u001b[0m\u001b[0m_getitem_axis\u001b[0m\u001b[1;33m(\u001b[0m\u001b[0mkey\u001b[0m\u001b[1;33m,\u001b[0m \u001b[0maxis\u001b[0m\u001b[1;33m=\u001b[0m\u001b[0mi\u001b[0m\u001b[1;33m)\u001b[0m\u001b[1;33m\u001b[0m\u001b[1;33m\u001b[0m\u001b[0m\n\u001b[0m\u001b[0;32m    776\u001b[0m             \u001b[1;31m# We should never have retval.ndim < self.ndim, as that should\u001b[0m\u001b[1;33m\u001b[0m\u001b[1;33m\u001b[0m\u001b[1;33m\u001b[0m\u001b[0m\n\u001b[0;32m    777\u001b[0m             \u001b[1;31m#  be handled by the _getitem_lowerdim call above.\u001b[0m\u001b[1;33m\u001b[0m\u001b[1;33m\u001b[0m\u001b[1;33m\u001b[0m\u001b[0m\n",
      "\u001b[1;32m~\\anaconda3\\lib\\site-packages\\pandas\\core\\indexing.py\u001b[0m in \u001b[0;36m_getitem_axis\u001b[1;34m(self, key, axis)\u001b[0m\n\u001b[0;32m   1100\u001b[0m         \u001b[1;32mif\u001b[0m \u001b[0misinstance\u001b[0m\u001b[1;33m(\u001b[0m\u001b[0mkey\u001b[0m\u001b[1;33m,\u001b[0m \u001b[0mslice\u001b[0m\u001b[1;33m)\u001b[0m\u001b[1;33m:\u001b[0m\u001b[1;33m\u001b[0m\u001b[1;33m\u001b[0m\u001b[0m\n\u001b[0;32m   1101\u001b[0m             \u001b[0mself\u001b[0m\u001b[1;33m.\u001b[0m\u001b[0m_validate_key\u001b[0m\u001b[1;33m(\u001b[0m\u001b[0mkey\u001b[0m\u001b[1;33m,\u001b[0m \u001b[0maxis\u001b[0m\u001b[1;33m)\u001b[0m\u001b[1;33m\u001b[0m\u001b[1;33m\u001b[0m\u001b[0m\n\u001b[1;32m-> 1102\u001b[1;33m             \u001b[1;32mreturn\u001b[0m \u001b[0mself\u001b[0m\u001b[1;33m.\u001b[0m\u001b[0m_get_slice_axis\u001b[0m\u001b[1;33m(\u001b[0m\u001b[0mkey\u001b[0m\u001b[1;33m,\u001b[0m \u001b[0maxis\u001b[0m\u001b[1;33m=\u001b[0m\u001b[0maxis\u001b[0m\u001b[1;33m)\u001b[0m\u001b[1;33m\u001b[0m\u001b[1;33m\u001b[0m\u001b[0m\n\u001b[0m\u001b[0;32m   1103\u001b[0m         \u001b[1;32melif\u001b[0m \u001b[0mcom\u001b[0m\u001b[1;33m.\u001b[0m\u001b[0mis_bool_indexer\u001b[0m\u001b[1;33m(\u001b[0m\u001b[0mkey\u001b[0m\u001b[1;33m)\u001b[0m\u001b[1;33m:\u001b[0m\u001b[1;33m\u001b[0m\u001b[1;33m\u001b[0m\u001b[0m\n\u001b[0;32m   1104\u001b[0m             \u001b[1;32mreturn\u001b[0m \u001b[0mself\u001b[0m\u001b[1;33m.\u001b[0m\u001b[0m_getbool_axis\u001b[0m\u001b[1;33m(\u001b[0m\u001b[0mkey\u001b[0m\u001b[1;33m,\u001b[0m \u001b[0maxis\u001b[0m\u001b[1;33m=\u001b[0m\u001b[0maxis\u001b[0m\u001b[1;33m)\u001b[0m\u001b[1;33m\u001b[0m\u001b[1;33m\u001b[0m\u001b[0m\n",
      "\u001b[1;32m~\\anaconda3\\lib\\site-packages\\pandas\\core\\indexing.py\u001b[0m in \u001b[0;36m_get_slice_axis\u001b[1;34m(self, slice_obj, axis)\u001b[0m\n\u001b[0;32m   1134\u001b[0m \u001b[1;33m\u001b[0m\u001b[0m\n\u001b[0;32m   1135\u001b[0m         \u001b[0mlabels\u001b[0m \u001b[1;33m=\u001b[0m \u001b[0mobj\u001b[0m\u001b[1;33m.\u001b[0m\u001b[0m_get_axis\u001b[0m\u001b[1;33m(\u001b[0m\u001b[0maxis\u001b[0m\u001b[1;33m)\u001b[0m\u001b[1;33m\u001b[0m\u001b[1;33m\u001b[0m\u001b[0m\n\u001b[1;32m-> 1136\u001b[1;33m         indexer = labels.slice_indexer(\n\u001b[0m\u001b[0;32m   1137\u001b[0m             \u001b[0mslice_obj\u001b[0m\u001b[1;33m.\u001b[0m\u001b[0mstart\u001b[0m\u001b[1;33m,\u001b[0m \u001b[0mslice_obj\u001b[0m\u001b[1;33m.\u001b[0m\u001b[0mstop\u001b[0m\u001b[1;33m,\u001b[0m \u001b[0mslice_obj\u001b[0m\u001b[1;33m.\u001b[0m\u001b[0mstep\u001b[0m\u001b[1;33m,\u001b[0m \u001b[0mkind\u001b[0m\u001b[1;33m=\u001b[0m\u001b[1;34m\"loc\"\u001b[0m\u001b[1;33m\u001b[0m\u001b[1;33m\u001b[0m\u001b[0m\n\u001b[0;32m   1138\u001b[0m         )\n",
      "\u001b[1;32m~\\anaconda3\\lib\\site-packages\\pandas\\core\\indexes\\base.py\u001b[0m in \u001b[0;36mslice_indexer\u001b[1;34m(self, start, end, step, kind)\u001b[0m\n\u001b[0;32m   5275\u001b[0m         \u001b[0mslice\u001b[0m\u001b[1;33m(\u001b[0m\u001b[1;36m1\u001b[0m\u001b[1;33m,\u001b[0m \u001b[1;36m3\u001b[0m\u001b[1;33m,\u001b[0m \u001b[1;32mNone\u001b[0m\u001b[1;33m)\u001b[0m\u001b[1;33m\u001b[0m\u001b[1;33m\u001b[0m\u001b[0m\n\u001b[0;32m   5276\u001b[0m         \"\"\"\n\u001b[1;32m-> 5277\u001b[1;33m         \u001b[0mstart_slice\u001b[0m\u001b[1;33m,\u001b[0m \u001b[0mend_slice\u001b[0m \u001b[1;33m=\u001b[0m \u001b[0mself\u001b[0m\u001b[1;33m.\u001b[0m\u001b[0mslice_locs\u001b[0m\u001b[1;33m(\u001b[0m\u001b[0mstart\u001b[0m\u001b[1;33m,\u001b[0m \u001b[0mend\u001b[0m\u001b[1;33m,\u001b[0m \u001b[0mstep\u001b[0m\u001b[1;33m=\u001b[0m\u001b[0mstep\u001b[0m\u001b[1;33m,\u001b[0m \u001b[0mkind\u001b[0m\u001b[1;33m=\u001b[0m\u001b[0mkind\u001b[0m\u001b[1;33m)\u001b[0m\u001b[1;33m\u001b[0m\u001b[1;33m\u001b[0m\u001b[0m\n\u001b[0m\u001b[0;32m   5278\u001b[0m \u001b[1;33m\u001b[0m\u001b[0m\n\u001b[0;32m   5279\u001b[0m         \u001b[1;31m# return a slice\u001b[0m\u001b[1;33m\u001b[0m\u001b[1;33m\u001b[0m\u001b[1;33m\u001b[0m\u001b[0m\n",
      "\u001b[1;32m~\\anaconda3\\lib\\site-packages\\pandas\\core\\indexes\\base.py\u001b[0m in \u001b[0;36mslice_locs\u001b[1;34m(self, start, end, step, kind)\u001b[0m\n\u001b[0;32m   5474\u001b[0m         \u001b[0mstart_slice\u001b[0m \u001b[1;33m=\u001b[0m \u001b[1;32mNone\u001b[0m\u001b[1;33m\u001b[0m\u001b[1;33m\u001b[0m\u001b[0m\n\u001b[0;32m   5475\u001b[0m         \u001b[1;32mif\u001b[0m \u001b[0mstart\u001b[0m \u001b[1;32mis\u001b[0m \u001b[1;32mnot\u001b[0m \u001b[1;32mNone\u001b[0m\u001b[1;33m:\u001b[0m\u001b[1;33m\u001b[0m\u001b[1;33m\u001b[0m\u001b[0m\n\u001b[1;32m-> 5476\u001b[1;33m             \u001b[0mstart_slice\u001b[0m \u001b[1;33m=\u001b[0m \u001b[0mself\u001b[0m\u001b[1;33m.\u001b[0m\u001b[0mget_slice_bound\u001b[0m\u001b[1;33m(\u001b[0m\u001b[0mstart\u001b[0m\u001b[1;33m,\u001b[0m \u001b[1;34m\"left\"\u001b[0m\u001b[1;33m,\u001b[0m \u001b[0mkind\u001b[0m\u001b[1;33m)\u001b[0m\u001b[1;33m\u001b[0m\u001b[1;33m\u001b[0m\u001b[0m\n\u001b[0m\u001b[0;32m   5477\u001b[0m         \u001b[1;32mif\u001b[0m \u001b[0mstart_slice\u001b[0m \u001b[1;32mis\u001b[0m \u001b[1;32mNone\u001b[0m\u001b[1;33m:\u001b[0m\u001b[1;33m\u001b[0m\u001b[1;33m\u001b[0m\u001b[0m\n\u001b[0;32m   5478\u001b[0m             \u001b[0mstart_slice\u001b[0m \u001b[1;33m=\u001b[0m \u001b[1;36m0\u001b[0m\u001b[1;33m\u001b[0m\u001b[1;33m\u001b[0m\u001b[0m\n",
      "\u001b[1;32m~\\anaconda3\\lib\\site-packages\\pandas\\core\\indexes\\base.py\u001b[0m in \u001b[0;36mget_slice_bound\u001b[1;34m(self, label, side, kind)\u001b[0m\n\u001b[0;32m   5384\u001b[0m         \u001b[1;31m# For datetime indices label may be a string that has to be converted\u001b[0m\u001b[1;33m\u001b[0m\u001b[1;33m\u001b[0m\u001b[1;33m\u001b[0m\u001b[0m\n\u001b[0;32m   5385\u001b[0m         \u001b[1;31m# to datetime boundary according to its resolution.\u001b[0m\u001b[1;33m\u001b[0m\u001b[1;33m\u001b[0m\u001b[1;33m\u001b[0m\u001b[0m\n\u001b[1;32m-> 5386\u001b[1;33m         \u001b[0mlabel\u001b[0m \u001b[1;33m=\u001b[0m \u001b[0mself\u001b[0m\u001b[1;33m.\u001b[0m\u001b[0m_maybe_cast_slice_bound\u001b[0m\u001b[1;33m(\u001b[0m\u001b[0mlabel\u001b[0m\u001b[1;33m,\u001b[0m \u001b[0mside\u001b[0m\u001b[1;33m,\u001b[0m \u001b[0mkind\u001b[0m\u001b[1;33m)\u001b[0m\u001b[1;33m\u001b[0m\u001b[1;33m\u001b[0m\u001b[0m\n\u001b[0m\u001b[0;32m   5387\u001b[0m \u001b[1;33m\u001b[0m\u001b[0m\n\u001b[0;32m   5388\u001b[0m         \u001b[1;31m# we need to look up the label\u001b[0m\u001b[1;33m\u001b[0m\u001b[1;33m\u001b[0m\u001b[1;33m\u001b[0m\u001b[0m\n",
      "\u001b[1;32m~\\anaconda3\\lib\\site-packages\\pandas\\core\\indexes\\base.py\u001b[0m in \u001b[0;36m_maybe_cast_slice_bound\u001b[1;34m(self, label, side, kind)\u001b[0m\n\u001b[0;32m   5336\u001b[0m         \u001b[1;31m# reject them, if index does not contain label\u001b[0m\u001b[1;33m\u001b[0m\u001b[1;33m\u001b[0m\u001b[1;33m\u001b[0m\u001b[0m\n\u001b[0;32m   5337\u001b[0m         \u001b[1;32mif\u001b[0m \u001b[1;33m(\u001b[0m\u001b[0mis_float\u001b[0m\u001b[1;33m(\u001b[0m\u001b[0mlabel\u001b[0m\u001b[1;33m)\u001b[0m \u001b[1;32mor\u001b[0m \u001b[0mis_integer\u001b[0m\u001b[1;33m(\u001b[0m\u001b[0mlabel\u001b[0m\u001b[1;33m)\u001b[0m\u001b[1;33m)\u001b[0m \u001b[1;32mand\u001b[0m \u001b[0mlabel\u001b[0m \u001b[1;32mnot\u001b[0m \u001b[1;32min\u001b[0m \u001b[0mself\u001b[0m\u001b[1;33m.\u001b[0m\u001b[0mvalues\u001b[0m\u001b[1;33m:\u001b[0m\u001b[1;33m\u001b[0m\u001b[1;33m\u001b[0m\u001b[0m\n\u001b[1;32m-> 5338\u001b[1;33m             \u001b[1;32mraise\u001b[0m \u001b[0mself\u001b[0m\u001b[1;33m.\u001b[0m\u001b[0m_invalid_indexer\u001b[0m\u001b[1;33m(\u001b[0m\u001b[1;34m\"slice\"\u001b[0m\u001b[1;33m,\u001b[0m \u001b[0mlabel\u001b[0m\u001b[1;33m)\u001b[0m\u001b[1;33m\u001b[0m\u001b[1;33m\u001b[0m\u001b[0m\n\u001b[0m\u001b[0;32m   5339\u001b[0m \u001b[1;33m\u001b[0m\u001b[0m\n\u001b[0;32m   5340\u001b[0m         \u001b[1;32mreturn\u001b[0m \u001b[0mlabel\u001b[0m\u001b[1;33m\u001b[0m\u001b[1;33m\u001b[0m\u001b[0m\n",
      "\u001b[1;31mTypeError\u001b[0m: cannot do slice indexing on Index with these indexers [1] of type int"
     ]
    }
   ],
   "source": [
    "df.loc[1:5, 1:4]"
   ]
  },
  {
   "cell_type": "markdown",
   "id": "ceca8e4e",
   "metadata": {
    "id": "ceca8e4e"
   },
   "source": [
    "#### Slicing using indices doesn't work with `loc`\n",
    "\n",
    "- **Column labels are NOT correct**\n",
    "\n",
    "\n",
    "#### Why?\n",
    "\n",
    "- Because **`loc` works with labels**\n",
    "\n",
    "- **Labels for rows are 0, 1, 3, ...**\n",
    "\n",
    "- **Labels for columns are `country`, `continent`, `year`, ...**\n",
    "    - NOT 0, 1, 2, 3, ..."
   ]
  },
  {
   "cell_type": "code",
   "execution_count": 229,
   "id": "8e272d27",
   "metadata": {
    "colab": {
     "base_uri": "https://localhost:8080/",
     "height": 206
    },
    "id": "8e272d27",
    "outputId": "bec264ff-c792-4201-ab96-4a8df8f50c7a"
   },
   "outputs": [
    {
     "data": {
      "text/html": [
       "<div>\n",
       "<style scoped>\n",
       "    .dataframe tbody tr th:only-of-type {\n",
       "        vertical-align: middle;\n",
       "    }\n",
       "\n",
       "    .dataframe tbody tr th {\n",
       "        vertical-align: top;\n",
       "    }\n",
       "\n",
       "    .dataframe thead th {\n",
       "        text-align: right;\n",
       "    }\n",
       "</style>\n",
       "<table border=\"1\" class=\"dataframe\">\n",
       "  <thead>\n",
       "    <tr style=\"text-align: right;\">\n",
       "      <th></th>\n",
       "      <th>country</th>\n",
       "      <th>life_exp</th>\n",
       "    </tr>\n",
       "  </thead>\n",
       "  <tbody>\n",
       "    <tr>\n",
       "      <th>1</th>\n",
       "      <td>Afghanistan</td>\n",
       "      <td>30.332</td>\n",
       "    </tr>\n",
       "    <tr>\n",
       "      <th>2</th>\n",
       "      <td>Afghanistan</td>\n",
       "      <td>31.997</td>\n",
       "    </tr>\n",
       "    <tr>\n",
       "      <th>4</th>\n",
       "      <td>Afghanistan</td>\n",
       "      <td>36.088</td>\n",
       "    </tr>\n",
       "    <tr>\n",
       "      <th>5</th>\n",
       "      <td>Afghanistan</td>\n",
       "      <td>38.438</td>\n",
       "    </tr>\n",
       "  </tbody>\n",
       "</table>\n",
       "</div>"
      ],
      "text/plain": [
       "       country  life_exp\n",
       "1  Afghanistan    30.332\n",
       "2  Afghanistan    31.997\n",
       "4  Afghanistan    36.088\n",
       "5  Afghanistan    38.438"
      ]
     },
     "execution_count": 229,
     "metadata": {},
     "output_type": "execute_result"
    }
   ],
   "source": [
    "df.loc[1:5, ['country','life_exp']]\n",
    "\n",
    "# Row with label 5 will be included\n",
    "\n",
    "# Columns labels are packed in []"
   ]
  },
  {
   "cell_type": "markdown",
   "id": "077b34eb",
   "metadata": {
    "id": "077b34eb"
   },
   "source": [
    "#### We can mention ranges using column labels as well in `loc`\n",
    "\n",
    "- Column range `'continent':'lifeExp'` works !!"
   ]
  },
  {
   "cell_type": "code",
   "execution_count": 230,
   "id": "c1b44ba5",
   "metadata": {
    "colab": {
     "base_uri": "https://localhost:8080/",
     "height": 206
    },
    "id": "c1b44ba5",
    "outputId": "2778bfb0-a786-4b9e-8f9e-473686789aa8"
   },
   "outputs": [
    {
     "data": {
      "text/html": [
       "<div>\n",
       "<style scoped>\n",
       "    .dataframe tbody tr th:only-of-type {\n",
       "        vertical-align: middle;\n",
       "    }\n",
       "\n",
       "    .dataframe tbody tr th {\n",
       "        vertical-align: top;\n",
       "    }\n",
       "\n",
       "    .dataframe thead th {\n",
       "        text-align: right;\n",
       "    }\n",
       "</style>\n",
       "<table border=\"1\" class=\"dataframe\">\n",
       "  <thead>\n",
       "    <tr style=\"text-align: right;\">\n",
       "      <th></th>\n",
       "      <th>year</th>\n",
       "      <th>population</th>\n",
       "    </tr>\n",
       "  </thead>\n",
       "  <tbody>\n",
       "    <tr>\n",
       "      <th>1</th>\n",
       "      <td>1957</td>\n",
       "      <td>9240934</td>\n",
       "    </tr>\n",
       "    <tr>\n",
       "      <th>2</th>\n",
       "      <td>1962</td>\n",
       "      <td>10267083</td>\n",
       "    </tr>\n",
       "    <tr>\n",
       "      <th>4</th>\n",
       "      <td>1972</td>\n",
       "      <td>13079460</td>\n",
       "    </tr>\n",
       "    <tr>\n",
       "      <th>5</th>\n",
       "      <td>1977</td>\n",
       "      <td>14880372</td>\n",
       "    </tr>\n",
       "  </tbody>\n",
       "</table>\n",
       "</div>"
      ],
      "text/plain": [
       "   year  population\n",
       "1  1957     9240934\n",
       "2  1962    10267083\n",
       "4  1972    13079460\n",
       "5  1977    14880372"
      ]
     },
     "execution_count": 230,
     "metadata": {},
     "output_type": "execute_result"
    }
   ],
   "source": [
    "df.loc[1:5, 'year':'population']\n",
    "\n",
    "# Row range 1 to 5 (inclusive)\n",
    "\n",
    "# Column range 'continent' to 'lifeExp' (inclusive)"
   ]
  },
  {
   "cell_type": "markdown",
   "id": "4f425c7c",
   "metadata": {
    "id": "4f425c7c"
   },
   "source": [
    "#### How can we get specific rows and columns?\n",
    "\n",
    "- **Pass in those specific indices packed in []**, instead of giving slice ranges"
   ]
  },
  {
   "cell_type": "code",
   "execution_count": 231,
   "id": "27e67610",
   "metadata": {
    "colab": {
     "base_uri": "https://localhost:8080/",
     "height": 143
    },
    "id": "27e67610",
    "outputId": "67334080-d799-44e1-a7b0-010491d45039"
   },
   "outputs": [
    {
     "data": {
      "text/html": [
       "<div>\n",
       "<style scoped>\n",
       "    .dataframe tbody tr th:only-of-type {\n",
       "        vertical-align: middle;\n",
       "    }\n",
       "\n",
       "    .dataframe tbody tr th {\n",
       "        vertical-align: top;\n",
       "    }\n",
       "\n",
       "    .dataframe thead th {\n",
       "        text-align: right;\n",
       "    }\n",
       "</style>\n",
       "<table border=\"1\" class=\"dataframe\">\n",
       "  <thead>\n",
       "    <tr style=\"text-align: right;\">\n",
       "      <th></th>\n",
       "      <th>country</th>\n",
       "      <th>population</th>\n",
       "      <th>life_exp</th>\n",
       "    </tr>\n",
       "  </thead>\n",
       "  <tbody>\n",
       "    <tr>\n",
       "      <th>0</th>\n",
       "      <td>Afghanistan</td>\n",
       "      <td>8425333</td>\n",
       "      <td>28.801</td>\n",
       "    </tr>\n",
       "    <tr>\n",
       "      <th>11</th>\n",
       "      <td>Afghanistan</td>\n",
       "      <td>31889923</td>\n",
       "      <td>43.828</td>\n",
       "    </tr>\n",
       "    <tr>\n",
       "      <th>101</th>\n",
       "      <td>Bangladesh</td>\n",
       "      <td>80428306</td>\n",
       "      <td>46.923</td>\n",
       "    </tr>\n",
       "  </tbody>\n",
       "</table>\n",
       "</div>"
      ],
      "text/plain": [
       "         country  population  life_exp\n",
       "0    Afghanistan     8425333    28.801\n",
       "11   Afghanistan    31889923    43.828\n",
       "101   Bangladesh    80428306    46.923"
      ]
     },
     "execution_count": 231,
     "metadata": {},
     "output_type": "execute_result"
    }
   ],
   "source": [
    "df.iloc[[0,10,100], [0,2,3]]"
   ]
  },
  {
   "cell_type": "markdown",
   "id": "daa5f4fc",
   "metadata": {
    "id": "daa5f4fc"
   },
   "source": [
    "#### We can do Step Slicing as well, just like we did in Numpy"
   ]
  },
  {
   "cell_type": "code",
   "execution_count": null,
   "id": "8fa1bb7c",
   "metadata": {
    "colab": {
     "base_uri": "https://localhost:8080/",
     "height": 206
    },
    "id": "8fa1bb7c",
    "outputId": "fc4c7603-baab-47a1-aa45-9828f28004ff",
    "scrolled": true
   },
   "outputs": [],
   "source": [
    "#df.iloc[1:10:2]"
   ]
  },
  {
   "cell_type": "markdown",
   "id": "0kwXVQptPnTo",
   "metadata": {
    "id": "0kwXVQptPnTo"
   },
   "source": [
    "## Quiz2:\n",
    "\n",
    "\n",
    "\n",
    "1. What happens if you pass argument value keep=False in drop_duplicates() as:\n",
    "   >  df= df.drop_duplicates(keep=False)\n",
    "\n",
    "\n",
    "a. it will not remove any duplicate rows\n",
    "\n",
    "b. it will delete all duplicate rows\n",
    "\n",
    "c. it will keep only the first row and delete others\n",
    "\n",
    "Answer: b\n",
    "\n",
    "2. To display 4 rows from bottom of a dataframe which of the following can be written?\n",
    "\n",
    "> (i) df.tail(4)\n",
    "\n",
    "> (ii) df.iloc[-4:]\n",
    "\n",
    "a. (i) is incorrect, (ii) is correct\n",
    "\n",
    "b. (i) is correct, (ii) is incorrect\n",
    "\n",
    "c. both are correct\n",
    "\n",
    "d. both are incorrect\n",
    "\n",
    "Ans: both are correct\n",
    "\n",
    "3. What will be output for the following code?\n",
    "\n",
    " import pandas as pd<br>\n",
    " s = pd.Series([1,2,3,4,5],index = ['a','b','c','d','e'])<br>\n",
    " print(s['a'])\n",
    "\n",
    " A. 1<br>\n",
    " B. 2<br>\n",
    " C. 3<br>\n",
    " D. 4<br>\n",
    "\n",
    " Ans: 1\n",
    "\n",
    "4. How to select records from 30th to 40th row for the last 3 columns using iloc?\n",
    "\n",
    "a. df.iloc[29:40,-3:]<br>\n",
    "b. df.iloc[30:39,-3:]<br>\n",
    "c. df.iloc[31:41,-3:]<br>\n",
    "d. df.iloc[29:39,-3:]\n",
    "\n",
    "Answer: a\n",
    "\n",
    "\n",
    "\n",
    "\n",
    "\n",
    "\n"
   ]
  },
  {
   "cell_type": "code",
   "execution_count": 232,
   "id": "58f1c967",
   "metadata": {},
   "outputs": [
    {
     "data": {
      "text/html": [
       "<div>\n",
       "<style scoped>\n",
       "    .dataframe tbody tr th:only-of-type {\n",
       "        vertical-align: middle;\n",
       "    }\n",
       "\n",
       "    .dataframe tbody tr th {\n",
       "        vertical-align: top;\n",
       "    }\n",
       "\n",
       "    .dataframe thead th {\n",
       "        text-align: right;\n",
       "    }\n",
       "</style>\n",
       "<table border=\"1\" class=\"dataframe\">\n",
       "  <thead>\n",
       "    <tr style=\"text-align: right;\">\n",
       "      <th></th>\n",
       "      <th>country</th>\n",
       "      <th>year</th>\n",
       "      <th>population</th>\n",
       "      <th>life_exp</th>\n",
       "      <th>gdp_cap</th>\n",
       "    </tr>\n",
       "  </thead>\n",
       "  <tbody>\n",
       "    <tr>\n",
       "      <th>0</th>\n",
       "      <td>Afghanistan</td>\n",
       "      <td>1952</td>\n",
       "      <td>8425333</td>\n",
       "      <td>28.801</td>\n",
       "      <td>779.445314</td>\n",
       "    </tr>\n",
       "    <tr>\n",
       "      <th>1</th>\n",
       "      <td>Afghanistan</td>\n",
       "      <td>1957</td>\n",
       "      <td>9240934</td>\n",
       "      <td>30.332</td>\n",
       "      <td>820.853030</td>\n",
       "    </tr>\n",
       "    <tr>\n",
       "      <th>2</th>\n",
       "      <td>Afghanistan</td>\n",
       "      <td>1962</td>\n",
       "      <td>10267083</td>\n",
       "      <td>31.997</td>\n",
       "      <td>853.100710</td>\n",
       "    </tr>\n",
       "    <tr>\n",
       "      <th>4</th>\n",
       "      <td>Afghanistan</td>\n",
       "      <td>1972</td>\n",
       "      <td>13079460</td>\n",
       "      <td>36.088</td>\n",
       "      <td>739.981106</td>\n",
       "    </tr>\n",
       "    <tr>\n",
       "      <th>5</th>\n",
       "      <td>Afghanistan</td>\n",
       "      <td>1977</td>\n",
       "      <td>14880372</td>\n",
       "      <td>38.438</td>\n",
       "      <td>786.113360</td>\n",
       "    </tr>\n",
       "  </tbody>\n",
       "</table>\n",
       "</div>"
      ],
      "text/plain": [
       "       country  year  population  life_exp     gdp_cap\n",
       "0  Afghanistan  1952     8425333    28.801  779.445314\n",
       "1  Afghanistan  1957     9240934    30.332  820.853030\n",
       "2  Afghanistan  1962    10267083    31.997  853.100710\n",
       "4  Afghanistan  1972    13079460    36.088  739.981106\n",
       "5  Afghanistan  1977    14880372    38.438  786.113360"
      ]
     },
     "execution_count": 232,
     "metadata": {},
     "output_type": "execute_result"
    }
   ],
   "source": [
    "df.head()"
   ]
  },
  {
   "cell_type": "code",
   "execution_count": 233,
   "id": "eoyJQ-4sQv2u",
   "metadata": {
    "colab": {
     "base_uri": "https://localhost:8080/",
     "height": 394
    },
    "id": "eoyJQ-4sQv2u",
    "outputId": "5517b749-eafe-4d21-bd6b-0abde5810c2d"
   },
   "outputs": [
    {
     "data": {
      "text/html": [
       "<div>\n",
       "<style scoped>\n",
       "    .dataframe tbody tr th:only-of-type {\n",
       "        vertical-align: middle;\n",
       "    }\n",
       "\n",
       "    .dataframe tbody tr th {\n",
       "        vertical-align: top;\n",
       "    }\n",
       "\n",
       "    .dataframe thead th {\n",
       "        text-align: right;\n",
       "    }\n",
       "</style>\n",
       "<table border=\"1\" class=\"dataframe\">\n",
       "  <thead>\n",
       "    <tr style=\"text-align: right;\">\n",
       "      <th></th>\n",
       "      <th>population</th>\n",
       "      <th>life_exp</th>\n",
       "      <th>gdp_cap</th>\n",
       "    </tr>\n",
       "  </thead>\n",
       "  <tbody>\n",
       "    <tr>\n",
       "      <th>30</th>\n",
       "      <td>20033753</td>\n",
       "      <td>61.368</td>\n",
       "      <td>5745.160213</td>\n",
       "    </tr>\n",
       "    <tr>\n",
       "      <th>31</th>\n",
       "      <td>23254956</td>\n",
       "      <td>65.799</td>\n",
       "      <td>5681.358539</td>\n",
       "    </tr>\n",
       "    <tr>\n",
       "      <th>32</th>\n",
       "      <td>26298373</td>\n",
       "      <td>67.744</td>\n",
       "      <td>5023.216647</td>\n",
       "    </tr>\n",
       "    <tr>\n",
       "      <th>33</th>\n",
       "      <td>29072015</td>\n",
       "      <td>69.152</td>\n",
       "      <td>4797.295051</td>\n",
       "    </tr>\n",
       "    <tr>\n",
       "      <th>34</th>\n",
       "      <td>31287142</td>\n",
       "      <td>70.994</td>\n",
       "      <td>5288.040382</td>\n",
       "    </tr>\n",
       "    <tr>\n",
       "      <th>35</th>\n",
       "      <td>33333216</td>\n",
       "      <td>72.301</td>\n",
       "      <td>6223.367465</td>\n",
       "    </tr>\n",
       "    <tr>\n",
       "      <th>36</th>\n",
       "      <td>4232095</td>\n",
       "      <td>30.015</td>\n",
       "      <td>3520.610273</td>\n",
       "    </tr>\n",
       "    <tr>\n",
       "      <th>37</th>\n",
       "      <td>4561361</td>\n",
       "      <td>31.999</td>\n",
       "      <td>3827.940465</td>\n",
       "    </tr>\n",
       "    <tr>\n",
       "      <th>38</th>\n",
       "      <td>4826015</td>\n",
       "      <td>34.000</td>\n",
       "      <td>4269.276742</td>\n",
       "    </tr>\n",
       "    <tr>\n",
       "      <th>39</th>\n",
       "      <td>5247469</td>\n",
       "      <td>35.985</td>\n",
       "      <td>5522.776375</td>\n",
       "    </tr>\n",
       "    <tr>\n",
       "      <th>40</th>\n",
       "      <td>5894858</td>\n",
       "      <td>37.928</td>\n",
       "      <td>5473.288005</td>\n",
       "    </tr>\n",
       "  </tbody>\n",
       "</table>\n",
       "</div>"
      ],
      "text/plain": [
       "    population  life_exp      gdp_cap\n",
       "30    20033753    61.368  5745.160213\n",
       "31    23254956    65.799  5681.358539\n",
       "32    26298373    67.744  5023.216647\n",
       "33    29072015    69.152  4797.295051\n",
       "34    31287142    70.994  5288.040382\n",
       "35    33333216    72.301  6223.367465\n",
       "36     4232095    30.015  3520.610273\n",
       "37     4561361    31.999  3827.940465\n",
       "38     4826015    34.000  4269.276742\n",
       "39     5247469    35.985  5522.776375\n",
       "40     5894858    37.928  5473.288005"
      ]
     },
     "execution_count": 233,
     "metadata": {},
     "output_type": "execute_result"
    }
   ],
   "source": [
    "df.iloc[29:40,-3:]"
   ]
  },
  {
   "cell_type": "markdown",
   "id": "BSISnZK4TwLj",
   "metadata": {
    "id": "BSISnZK4TwLj"
   },
   "source": [
    "## Let's look at more in-built operations in Pandas [01:15 - 01:17]\n",
    "\n",
    "#### Let's store the `'life_exp'` column in a separate variable `le`\n",
    "\n",
    "- `mean()` gives us the mean of values in entire column"
   ]
  },
  {
   "cell_type": "code",
   "execution_count": 234,
   "id": "CiXd1R1CTywi",
   "metadata": {
    "colab": {
     "base_uri": "https://localhost:8080/"
    },
    "id": "CiXd1R1CTywi",
    "outputId": "02c49229-207f-478e-e2a6-af94b09975cb"
   },
   "outputs": [
    {
     "data": {
      "text/plain": [
       "59.47623514084503"
      ]
     },
     "execution_count": 234,
     "metadata": {},
     "output_type": "execute_result"
    }
   ],
   "source": [
    "le = df['life_exp']\n",
    "le.mean()"
   ]
  },
  {
   "cell_type": "markdown",
   "id": "_EDrNbnmT2ZE",
   "metadata": {
    "id": "_EDrNbnmT2ZE"
   },
   "source": [
    "#### We can see more methods by pressing \"tab\" after `le.`\n",
    "\n",
    "- `sum()`\n",
    "- `count()`\n",
    "- `min()`\n",
    "- `max()`\n",
    "- ... and so on"
   ]
  },
  {
   "cell_type": "code",
   "execution_count": 235,
   "id": "v7HQxzE_T5br",
   "metadata": {
    "colab": {
     "base_uri": "https://localhost:8080/"
    },
    "id": "v7HQxzE_T5br",
    "outputId": "1d36e3d2-4b5d-431e-c64d-fc85038c986f"
   },
   "outputs": [
    {
     "data": {
      "text/plain": [
       "101347.50468000001"
      ]
     },
     "execution_count": 235,
     "metadata": {},
     "output_type": "execute_result"
    }
   ],
   "source": [
    "# Gives us the sum of values in a column\n",
    "\n",
    "le.sum()"
   ]
  },
  {
   "cell_type": "code",
   "execution_count": 236,
   "id": "MHy6FIrkT7v6",
   "metadata": {
    "colab": {
     "base_uri": "https://localhost:8080/"
    },
    "id": "MHy6FIrkT7v6",
    "outputId": "24ab4968-9053-4e2a-8db1-0841b56d692b"
   },
   "outputs": [
    {
     "data": {
      "text/plain": [
       "1704"
      ]
     },
     "execution_count": 236,
     "metadata": {},
     "output_type": "execute_result"
    }
   ],
   "source": [
    "# Gives us the number of values in a column\n",
    "\n",
    "le.count()"
   ]
  },
  {
   "cell_type": "markdown",
   "id": "4D45VoE5T_kp",
   "metadata": {
    "id": "4D45VoE5T_kp"
   },
   "source": [
    "#### What will happen we get if we divide `sum()` by `count()`?"
   ]
  },
  {
   "cell_type": "code",
   "execution_count": 237,
   "id": "rVcUvOpgUCaY",
   "metadata": {
    "colab": {
     "base_uri": "https://localhost:8080/"
    },
    "id": "rVcUvOpgUCaY",
    "outputId": "5bf5de61-3465-43dc-cee6-80d46412218b"
   },
   "outputs": [
    {
     "data": {
      "text/plain": [
       "59.47623514084508"
      ]
     },
     "execution_count": 237,
     "metadata": {},
     "output_type": "execute_result"
    }
   ],
   "source": [
    "le.sum() / le.count()"
   ]
  },
  {
   "cell_type": "markdown",
   "id": "7LvhLYIj9ctR",
   "metadata": {
    "id": "7LvhLYIj9ctR"
   },
   "source": [
    "## Sorting\n",
    "\n",
    "#### Moving on, if you look at the dataset you would find that `year` col is not sorted\n",
    "\n",
    "#### How can we perform sorting in pandas ?\n",
    "\n",
    "- It's easy!!\n",
    "\n",
    "- Just **use `df.sort_values()`**"
   ]
  },
  {
   "cell_type": "code",
   "execution_count": 238,
   "id": "648ad9db",
   "metadata": {
    "colab": {
     "base_uri": "https://localhost:8080/",
     "height": 424
    },
    "id": "648ad9db",
    "outputId": "e93dccb1-ec00-4c2f-a3f3-05e83eeff55f",
    "scrolled": true
   },
   "outputs": [
    {
     "data": {
      "text/html": [
       "<div>\n",
       "<style scoped>\n",
       "    .dataframe tbody tr th:only-of-type {\n",
       "        vertical-align: middle;\n",
       "    }\n",
       "\n",
       "    .dataframe tbody tr th {\n",
       "        vertical-align: top;\n",
       "    }\n",
       "\n",
       "    .dataframe thead th {\n",
       "        text-align: right;\n",
       "    }\n",
       "</style>\n",
       "<table border=\"1\" class=\"dataframe\">\n",
       "  <thead>\n",
       "    <tr style=\"text-align: right;\">\n",
       "      <th></th>\n",
       "      <th>country</th>\n",
       "      <th>year</th>\n",
       "      <th>population</th>\n",
       "      <th>life_exp</th>\n",
       "      <th>gdp_cap</th>\n",
       "    </tr>\n",
       "  </thead>\n",
       "  <tbody>\n",
       "    <tr>\n",
       "      <th>0</th>\n",
       "      <td>Afghanistan</td>\n",
       "      <td>1952</td>\n",
       "      <td>8425333</td>\n",
       "      <td>28.801</td>\n",
       "      <td>779.445314</td>\n",
       "    </tr>\n",
       "    <tr>\n",
       "      <th>552</th>\n",
       "      <td>Gambia</td>\n",
       "      <td>1952</td>\n",
       "      <td>284320</td>\n",
       "      <td>30.000</td>\n",
       "      <td>485.230659</td>\n",
       "    </tr>\n",
       "    <tr>\n",
       "      <th>564</th>\n",
       "      <td>Germany</td>\n",
       "      <td>1952</td>\n",
       "      <td>69145952</td>\n",
       "      <td>67.500</td>\n",
       "      <td>7144.114393</td>\n",
       "    </tr>\n",
       "    <tr>\n",
       "      <th>576</th>\n",
       "      <td>Ghana</td>\n",
       "      <td>1952</td>\n",
       "      <td>5581001</td>\n",
       "      <td>43.149</td>\n",
       "      <td>911.298937</td>\n",
       "    </tr>\n",
       "    <tr>\n",
       "      <th>588</th>\n",
       "      <td>Greece</td>\n",
       "      <td>1952</td>\n",
       "      <td>7733250</td>\n",
       "      <td>65.860</td>\n",
       "      <td>3530.690067</td>\n",
       "    </tr>\n",
       "    <tr>\n",
       "      <th>...</th>\n",
       "      <td>...</td>\n",
       "      <td>...</td>\n",
       "      <td>...</td>\n",
       "      <td>...</td>\n",
       "      <td>...</td>\n",
       "    </tr>\n",
       "    <tr>\n",
       "      <th>1187</th>\n",
       "      <td>Panama</td>\n",
       "      <td>2007</td>\n",
       "      <td>3242173</td>\n",
       "      <td>75.537</td>\n",
       "      <td>9809.185636</td>\n",
       "    </tr>\n",
       "    <tr>\n",
       "      <th>659</th>\n",
       "      <td>Honduras</td>\n",
       "      <td>2007</td>\n",
       "      <td>7483763</td>\n",
       "      <td>70.198</td>\n",
       "      <td>3548.330846</td>\n",
       "    </tr>\n",
       "    <tr>\n",
       "      <th>1175</th>\n",
       "      <td>Pakistan</td>\n",
       "      <td>2007</td>\n",
       "      <td>169270617</td>\n",
       "      <td>65.483</td>\n",
       "      <td>2605.947580</td>\n",
       "    </tr>\n",
       "    <tr>\n",
       "      <th>1211</th>\n",
       "      <td>Peru</td>\n",
       "      <td>2007</td>\n",
       "      <td>28674757</td>\n",
       "      <td>71.421</td>\n",
       "      <td>7408.905561</td>\n",
       "    </tr>\n",
       "    <tr>\n",
       "      <th>275</th>\n",
       "      <td>Chad</td>\n",
       "      <td>2007</td>\n",
       "      <td>10238807</td>\n",
       "      <td>50.651</td>\n",
       "      <td>1704.063724</td>\n",
       "    </tr>\n",
       "  </tbody>\n",
       "</table>\n",
       "<p>1704 rows × 5 columns</p>\n",
       "</div>"
      ],
      "text/plain": [
       "          country  year  population  life_exp      gdp_cap\n",
       "0     Afghanistan  1952     8425333    28.801   779.445314\n",
       "552        Gambia  1952      284320    30.000   485.230659\n",
       "564       Germany  1952    69145952    67.500  7144.114393\n",
       "576         Ghana  1952     5581001    43.149   911.298937\n",
       "588        Greece  1952     7733250    65.860  3530.690067\n",
       "...           ...   ...         ...       ...          ...\n",
       "1187       Panama  2007     3242173    75.537  9809.185636\n",
       "659      Honduras  2007     7483763    70.198  3548.330846\n",
       "1175     Pakistan  2007   169270617    65.483  2605.947580\n",
       "1211         Peru  2007    28674757    71.421  7408.905561\n",
       "275          Chad  2007    10238807    50.651  1704.063724\n",
       "\n",
       "[1704 rows x 5 columns]"
      ]
     },
     "execution_count": 238,
     "metadata": {},
     "output_type": "execute_result"
    }
   ],
   "source": [
    "df.sort_values(['year'])"
   ]
  },
  {
   "cell_type": "markdown",
   "id": "d713badc",
   "metadata": {
    "id": "d713badc"
   },
   "source": [
    "- Rows get sorted **based on values in `lifeExp` column**\n",
    "\n",
    "\n",
    "- By **default**, values are sorted in **ascending order**\n",
    "\n",
    "\n",
    "- If we **set the parameter `ascending=False`**, rows will be sorted in **descending order** of values\n",
    "\n",
    "\n",
    "#### Let's try sorting based on `'life_exp'`"
   ]
  },
  {
   "cell_type": "code",
   "execution_count": 239,
   "id": "b9b2a705",
   "metadata": {
    "colab": {
     "base_uri": "https://localhost:8080/",
     "height": 424
    },
    "id": "b9b2a705",
    "outputId": "7ed72e41-da16-4f79-d493-89b945cbfa91"
   },
   "outputs": [
    {
     "data": {
      "text/html": [
       "<div>\n",
       "<style scoped>\n",
       "    .dataframe tbody tr th:only-of-type {\n",
       "        vertical-align: middle;\n",
       "    }\n",
       "\n",
       "    .dataframe tbody tr th {\n",
       "        vertical-align: top;\n",
       "    }\n",
       "\n",
       "    .dataframe thead th {\n",
       "        text-align: right;\n",
       "    }\n",
       "</style>\n",
       "<table border=\"1\" class=\"dataframe\">\n",
       "  <thead>\n",
       "    <tr style=\"text-align: right;\">\n",
       "      <th></th>\n",
       "      <th>country</th>\n",
       "      <th>year</th>\n",
       "      <th>population</th>\n",
       "      <th>life_exp</th>\n",
       "      <th>gdp_cap</th>\n",
       "    </tr>\n",
       "  </thead>\n",
       "  <tbody>\n",
       "    <tr>\n",
       "      <th>1292</th>\n",
       "      <td>Rwanda</td>\n",
       "      <td>1992</td>\n",
       "      <td>7290203</td>\n",
       "      <td>23.599</td>\n",
       "      <td>737.068595</td>\n",
       "    </tr>\n",
       "    <tr>\n",
       "      <th>0</th>\n",
       "      <td>Afghanistan</td>\n",
       "      <td>1952</td>\n",
       "      <td>8425333</td>\n",
       "      <td>28.801</td>\n",
       "      <td>779.445314</td>\n",
       "    </tr>\n",
       "    <tr>\n",
       "      <th>552</th>\n",
       "      <td>Gambia</td>\n",
       "      <td>1952</td>\n",
       "      <td>284320</td>\n",
       "      <td>30.000</td>\n",
       "      <td>485.230659</td>\n",
       "    </tr>\n",
       "    <tr>\n",
       "      <th>36</th>\n",
       "      <td>Angola</td>\n",
       "      <td>1952</td>\n",
       "      <td>4232095</td>\n",
       "      <td>30.015</td>\n",
       "      <td>3520.610273</td>\n",
       "    </tr>\n",
       "    <tr>\n",
       "      <th>1344</th>\n",
       "      <td>Sierra Leone</td>\n",
       "      <td>1952</td>\n",
       "      <td>2143249</td>\n",
       "      <td>30.331</td>\n",
       "      <td>879.787736</td>\n",
       "    </tr>\n",
       "    <tr>\n",
       "      <th>...</th>\n",
       "      <td>...</td>\n",
       "      <td>...</td>\n",
       "      <td>...</td>\n",
       "      <td>...</td>\n",
       "      <td>...</td>\n",
       "    </tr>\n",
       "    <tr>\n",
       "      <th>1487</th>\n",
       "      <td>Switzerland</td>\n",
       "      <td>2007</td>\n",
       "      <td>7554661</td>\n",
       "      <td>81.701</td>\n",
       "      <td>37506.419070</td>\n",
       "    </tr>\n",
       "    <tr>\n",
       "      <th>695</th>\n",
       "      <td>Iceland</td>\n",
       "      <td>2007</td>\n",
       "      <td>301931</td>\n",
       "      <td>81.757</td>\n",
       "      <td>36180.789190</td>\n",
       "    </tr>\n",
       "    <tr>\n",
       "      <th>802</th>\n",
       "      <td>Japan</td>\n",
       "      <td>2002</td>\n",
       "      <td>127065841</td>\n",
       "      <td>82.000</td>\n",
       "      <td>28604.591900</td>\n",
       "    </tr>\n",
       "    <tr>\n",
       "      <th>671</th>\n",
       "      <td>Hong Kong, China</td>\n",
       "      <td>2007</td>\n",
       "      <td>6980412</td>\n",
       "      <td>82.208</td>\n",
       "      <td>39724.978670</td>\n",
       "    </tr>\n",
       "    <tr>\n",
       "      <th>803</th>\n",
       "      <td>Japan</td>\n",
       "      <td>2007</td>\n",
       "      <td>127467972</td>\n",
       "      <td>82.603</td>\n",
       "      <td>31656.068060</td>\n",
       "    </tr>\n",
       "  </tbody>\n",
       "</table>\n",
       "<p>1704 rows × 5 columns</p>\n",
       "</div>"
      ],
      "text/plain": [
       "               country  year  population  life_exp       gdp_cap\n",
       "1292            Rwanda  1992     7290203    23.599    737.068595\n",
       "0          Afghanistan  1952     8425333    28.801    779.445314\n",
       "552             Gambia  1952      284320    30.000    485.230659\n",
       "36              Angola  1952     4232095    30.015   3520.610273\n",
       "1344      Sierra Leone  1952     2143249    30.331    879.787736\n",
       "...                ...   ...         ...       ...           ...\n",
       "1487       Switzerland  2007     7554661    81.701  37506.419070\n",
       "695            Iceland  2007      301931    81.757  36180.789190\n",
       "802              Japan  2002   127065841    82.000  28604.591900\n",
       "671   Hong Kong, China  2007     6980412    82.208  39724.978670\n",
       "803              Japan  2007   127467972    82.603  31656.068060\n",
       "\n",
       "[1704 rows x 5 columns]"
      ]
     },
     "execution_count": 239,
     "metadata": {},
     "output_type": "execute_result"
    }
   ],
   "source": [
    "df.sort_values(['life_exp'])"
   ]
  },
  {
   "cell_type": "markdown",
   "id": "8c9e7a35",
   "metadata": {
    "id": "8c9e7a35"
   },
   "source": [
    "- Now the rows are sorted in **ascending order of year**\n",
    "\n",
    "\n",
    "#### Can we do sorting on multiple columns?\n",
    "\n",
    "- YES, it's possible\n",
    "\n",
    "\n",
    "#### Now what will Sorting based on `'year'` and `'lifeExp'` mean? \n",
    "\n",
    "- It means **rows will first be sorted based on ascending order of `'year'`**\n",
    "\n",
    "\n",
    "- Then, **rows with same values of `'year'`** will be sorted based on **ascending order of `'lifeExp'`**\n",
    "\n",
    "\n",
    "- **`'year'` is 1st level** of sorting\n",
    "\n",
    "\n",
    "- **`'lifeExp'` is 2nd level** of sorting"
   ]
  },
  {
   "cell_type": "code",
   "execution_count": 240,
   "id": "3903200f",
   "metadata": {
    "colab": {
     "base_uri": "https://localhost:8080/",
     "height": 424
    },
    "id": "3903200f",
    "outputId": "ff64e0cb-ae0a-43ef-d454-c0bea061386e",
    "scrolled": true
   },
   "outputs": [
    {
     "data": {
      "text/html": [
       "<div>\n",
       "<style scoped>\n",
       "    .dataframe tbody tr th:only-of-type {\n",
       "        vertical-align: middle;\n",
       "    }\n",
       "\n",
       "    .dataframe tbody tr th {\n",
       "        vertical-align: top;\n",
       "    }\n",
       "\n",
       "    .dataframe thead th {\n",
       "        text-align: right;\n",
       "    }\n",
       "</style>\n",
       "<table border=\"1\" class=\"dataframe\">\n",
       "  <thead>\n",
       "    <tr style=\"text-align: right;\">\n",
       "      <th></th>\n",
       "      <th>country</th>\n",
       "      <th>year</th>\n",
       "      <th>population</th>\n",
       "      <th>life_exp</th>\n",
       "      <th>gdp_cap</th>\n",
       "    </tr>\n",
       "  </thead>\n",
       "  <tbody>\n",
       "    <tr>\n",
       "      <th>1292</th>\n",
       "      <td>Rwanda</td>\n",
       "      <td>1992</td>\n",
       "      <td>7290203</td>\n",
       "      <td>23.599</td>\n",
       "      <td>737.068595</td>\n",
       "    </tr>\n",
       "    <tr>\n",
       "      <th>0</th>\n",
       "      <td>Afghanistan</td>\n",
       "      <td>1952</td>\n",
       "      <td>8425333</td>\n",
       "      <td>28.801</td>\n",
       "      <td>779.445314</td>\n",
       "    </tr>\n",
       "    <tr>\n",
       "      <th>552</th>\n",
       "      <td>Gambia</td>\n",
       "      <td>1952</td>\n",
       "      <td>284320</td>\n",
       "      <td>30.000</td>\n",
       "      <td>485.230659</td>\n",
       "    </tr>\n",
       "    <tr>\n",
       "      <th>36</th>\n",
       "      <td>Angola</td>\n",
       "      <td>1952</td>\n",
       "      <td>4232095</td>\n",
       "      <td>30.015</td>\n",
       "      <td>3520.610273</td>\n",
       "    </tr>\n",
       "    <tr>\n",
       "      <th>1344</th>\n",
       "      <td>Sierra Leone</td>\n",
       "      <td>1952</td>\n",
       "      <td>2143249</td>\n",
       "      <td>30.331</td>\n",
       "      <td>879.787736</td>\n",
       "    </tr>\n",
       "    <tr>\n",
       "      <th>...</th>\n",
       "      <td>...</td>\n",
       "      <td>...</td>\n",
       "      <td>...</td>\n",
       "      <td>...</td>\n",
       "      <td>...</td>\n",
       "    </tr>\n",
       "    <tr>\n",
       "      <th>1487</th>\n",
       "      <td>Switzerland</td>\n",
       "      <td>2007</td>\n",
       "      <td>7554661</td>\n",
       "      <td>81.701</td>\n",
       "      <td>37506.419070</td>\n",
       "    </tr>\n",
       "    <tr>\n",
       "      <th>695</th>\n",
       "      <td>Iceland</td>\n",
       "      <td>2007</td>\n",
       "      <td>301931</td>\n",
       "      <td>81.757</td>\n",
       "      <td>36180.789190</td>\n",
       "    </tr>\n",
       "    <tr>\n",
       "      <th>802</th>\n",
       "      <td>Japan</td>\n",
       "      <td>2002</td>\n",
       "      <td>127065841</td>\n",
       "      <td>82.000</td>\n",
       "      <td>28604.591900</td>\n",
       "    </tr>\n",
       "    <tr>\n",
       "      <th>671</th>\n",
       "      <td>Hong Kong, China</td>\n",
       "      <td>2007</td>\n",
       "      <td>6980412</td>\n",
       "      <td>82.208</td>\n",
       "      <td>39724.978670</td>\n",
       "    </tr>\n",
       "    <tr>\n",
       "      <th>803</th>\n",
       "      <td>Japan</td>\n",
       "      <td>2007</td>\n",
       "      <td>127467972</td>\n",
       "      <td>82.603</td>\n",
       "      <td>31656.068060</td>\n",
       "    </tr>\n",
       "  </tbody>\n",
       "</table>\n",
       "<p>1704 rows × 5 columns</p>\n",
       "</div>"
      ],
      "text/plain": [
       "               country  year  population  life_exp       gdp_cap\n",
       "1292            Rwanda  1992     7290203    23.599    737.068595\n",
       "0          Afghanistan  1952     8425333    28.801    779.445314\n",
       "552             Gambia  1952      284320    30.000    485.230659\n",
       "36              Angola  1952     4232095    30.015   3520.610273\n",
       "1344      Sierra Leone  1952     2143249    30.331    879.787736\n",
       "...                ...   ...         ...       ...           ...\n",
       "1487       Switzerland  2007     7554661    81.701  37506.419070\n",
       "695            Iceland  2007      301931    81.757  36180.789190\n",
       "802              Japan  2002   127065841    82.000  28604.591900\n",
       "671   Hong Kong, China  2007     6980412    82.208  39724.978670\n",
       "803              Japan  2007   127467972    82.603  31656.068060\n",
       "\n",
       "[1704 rows x 5 columns]"
      ]
     },
     "execution_count": 240,
     "metadata": {},
     "output_type": "execute_result"
    }
   ],
   "source": [
    "df.sort_values(['life_exp', 'year'])"
   ]
  },
  {
   "cell_type": "markdown",
   "id": "300e1516",
   "metadata": {
    "id": "300e1516"
   },
   "source": [
    "#### Now you can see:\n",
    "\n",
    "- First rows are sorted in increasing order of `'year'`\n",
    "\n",
    "\n",
    "- Rows having same `'year'` are sorted in increasing order of `'lifeExp'`\n",
    "\n",
    "\n",
    "#### This way, we can do multi-level sorting of our data\n",
    "\n",
    "#### We can also have different orders for different columns in multi-level sorting\n",
    "\n",
    "- **`'year'` in descending** order\n",
    "\n",
    "\n",
    "- Then **within same values of `'year'`**, we can do **`'lifeExp'` in ascending** order\n",
    "\n",
    "\n",
    "- Just **pack `True` and `False` for respective columns in a list `[]`**"
   ]
  },
  {
   "cell_type": "code",
   "execution_count": 241,
   "id": "77243cd3",
   "metadata": {
    "colab": {
     "base_uri": "https://localhost:8080/",
     "height": 424
    },
    "id": "77243cd3",
    "outputId": "f3effbad-eed3-479d-831b-d2308a77ab40"
   },
   "outputs": [
    {
     "data": {
      "text/html": [
       "<div>\n",
       "<style scoped>\n",
       "    .dataframe tbody tr th:only-of-type {\n",
       "        vertical-align: middle;\n",
       "    }\n",
       "\n",
       "    .dataframe tbody tr th {\n",
       "        vertical-align: top;\n",
       "    }\n",
       "\n",
       "    .dataframe thead th {\n",
       "        text-align: right;\n",
       "    }\n",
       "</style>\n",
       "<table border=\"1\" class=\"dataframe\">\n",
       "  <thead>\n",
       "    <tr style=\"text-align: right;\">\n",
       "      <th></th>\n",
       "      <th>country</th>\n",
       "      <th>year</th>\n",
       "      <th>population</th>\n",
       "      <th>life_exp</th>\n",
       "      <th>gdp_cap</th>\n",
       "    </tr>\n",
       "  </thead>\n",
       "  <tbody>\n",
       "    <tr>\n",
       "      <th>1463</th>\n",
       "      <td>Swaziland</td>\n",
       "      <td>2007</td>\n",
       "      <td>1133066</td>\n",
       "      <td>39.613</td>\n",
       "      <td>4513.480643</td>\n",
       "    </tr>\n",
       "    <tr>\n",
       "      <th>1043</th>\n",
       "      <td>Mozambique</td>\n",
       "      <td>2007</td>\n",
       "      <td>19951656</td>\n",
       "      <td>42.082</td>\n",
       "      <td>823.685621</td>\n",
       "    </tr>\n",
       "    <tr>\n",
       "      <th>1691</th>\n",
       "      <td>Zambia</td>\n",
       "      <td>2007</td>\n",
       "      <td>11746035</td>\n",
       "      <td>42.384</td>\n",
       "      <td>1271.211593</td>\n",
       "    </tr>\n",
       "    <tr>\n",
       "      <th>1355</th>\n",
       "      <td>Sierra Leone</td>\n",
       "      <td>2007</td>\n",
       "      <td>6144562</td>\n",
       "      <td>42.568</td>\n",
       "      <td>862.540756</td>\n",
       "    </tr>\n",
       "    <tr>\n",
       "      <th>887</th>\n",
       "      <td>Lesotho</td>\n",
       "      <td>2007</td>\n",
       "      <td>2012649</td>\n",
       "      <td>42.592</td>\n",
       "      <td>1569.331442</td>\n",
       "    </tr>\n",
       "    <tr>\n",
       "      <th>...</th>\n",
       "      <td>...</td>\n",
       "      <td>...</td>\n",
       "      <td>...</td>\n",
       "      <td>...</td>\n",
       "      <td>...</td>\n",
       "    </tr>\n",
       "    <tr>\n",
       "      <th>408</th>\n",
       "      <td>Denmark</td>\n",
       "      <td>1952</td>\n",
       "      <td>4334000</td>\n",
       "      <td>70.780</td>\n",
       "      <td>9692.385245</td>\n",
       "    </tr>\n",
       "    <tr>\n",
       "      <th>1464</th>\n",
       "      <td>Sweden</td>\n",
       "      <td>1952</td>\n",
       "      <td>7124673</td>\n",
       "      <td>71.860</td>\n",
       "      <td>8527.844662</td>\n",
       "    </tr>\n",
       "    <tr>\n",
       "      <th>1080</th>\n",
       "      <td>Netherlands</td>\n",
       "      <td>1952</td>\n",
       "      <td>10381988</td>\n",
       "      <td>72.130</td>\n",
       "      <td>8941.571858</td>\n",
       "    </tr>\n",
       "    <tr>\n",
       "      <th>684</th>\n",
       "      <td>Iceland</td>\n",
       "      <td>1952</td>\n",
       "      <td>147962</td>\n",
       "      <td>72.490</td>\n",
       "      <td>7267.688428</td>\n",
       "    </tr>\n",
       "    <tr>\n",
       "      <th>1140</th>\n",
       "      <td>Norway</td>\n",
       "      <td>1952</td>\n",
       "      <td>3327728</td>\n",
       "      <td>72.670</td>\n",
       "      <td>10095.421720</td>\n",
       "    </tr>\n",
       "  </tbody>\n",
       "</table>\n",
       "<p>1704 rows × 5 columns</p>\n",
       "</div>"
      ],
      "text/plain": [
       "           country  year  population  life_exp       gdp_cap\n",
       "1463     Swaziland  2007     1133066    39.613   4513.480643\n",
       "1043    Mozambique  2007    19951656    42.082    823.685621\n",
       "1691        Zambia  2007    11746035    42.384   1271.211593\n",
       "1355  Sierra Leone  2007     6144562    42.568    862.540756\n",
       "887        Lesotho  2007     2012649    42.592   1569.331442\n",
       "...            ...   ...         ...       ...           ...\n",
       "408        Denmark  1952     4334000    70.780   9692.385245\n",
       "1464        Sweden  1952     7124673    71.860   8527.844662\n",
       "1080   Netherlands  1952    10381988    72.130   8941.571858\n",
       "684        Iceland  1952      147962    72.490   7267.688428\n",
       "1140        Norway  1952     3327728    72.670  10095.421720\n",
       "\n",
       "[1704 rows x 5 columns]"
      ]
     },
     "execution_count": 241,
     "metadata": {},
     "output_type": "execute_result"
    }
   ],
   "source": [
    "df.sort_values(['year', 'life_exp'], ascending=[False, True])"
   ]
  },
  {
   "cell_type": "markdown",
   "id": "GCG69KoSC7UR",
   "metadata": {
    "id": "GCG69KoSC7UR"
   },
   "source": [
    "## **Quiz3:**\n",
    "\n",
    "1. How you can calculate mean of two columns population and gdp_cap and store it in another column as \"average\":\n",
    "\n",
    "a. df[\"average\"] = df[[\"population\", \"gdp_cap\"]].mean(axis=1)\n",
    "\n",
    "b. df[\"average\"] = df[[\"population\", \"gdp_cap\"]].mean(axis=0)\n",
    "\n",
    "c. df[\"average\"] = df[[\"population\", \"gdp_cap\"]].mean()\n",
    "\n",
    "Ans: a\n",
    "\n",
    "2. How to sort a pandas data frame in place based on the values of Columns `country` and `population` in desc order?\n",
    "\n",
    "a. df.sort_values(['country','population'])\n",
    "\n",
    "b. df.sort_values(['country','population'],inplace=True)\n",
    "\n",
    "c. df.sort_values(['country','population'],inplace=True, \n",
    "                      ascending=False)\n",
    "                      \n",
    "d. df.sort_values(['country','population'],inplace=True, \n",
    "                      ascending=True)\n",
    "\n",
    "Ans: c\n",
    "\n",
    "\n"
   ]
  },
  {
   "cell_type": "markdown",
   "id": "70e097bd",
   "metadata": {
    "id": "70e097bd"
   },
   "source": [
    "### Creating dataframes from scratch\n",
    "\n",
    "\n",
    "#### Lets now see how to creating a Series and DataFrame from scratch [01:50 - 02:00]\n",
    "\n",
    "- So far we used an existing dataset\n",
    "\n",
    "#### Remember we loaded `gapminder.csv` in the beginning and have been working with it since then?\n",
    "\n",
    "#### Remember what was a series in our dataset?\n",
    "\n",
    "- A **single row** or a **single column**"
   ]
  },
  {
   "cell_type": "code",
   "execution_count": 242,
   "id": "8f8bbc7f",
   "metadata": {
    "colab": {
     "base_uri": "https://localhost:8080/"
    },
    "id": "8f8bbc7f",
    "outputId": "3cbc4e57-60ef-4e4f-9bfb-9aa44a229983"
   },
   "outputs": [
    {
     "data": {
      "text/plain": [
       "country       Afghanistan\n",
       "year                 1952\n",
       "population        8425333\n",
       "life_exp           28.801\n",
       "gdp_cap        779.445314\n",
       "Name: 0, dtype: object"
      ]
     },
     "execution_count": 242,
     "metadata": {},
     "output_type": "execute_result"
    }
   ],
   "source": [
    "df.loc[0]"
   ]
  },
  {
   "cell_type": "code",
   "execution_count": 243,
   "id": "6948a5af",
   "metadata": {
    "colab": {
     "base_uri": "https://localhost:8080/"
    },
    "id": "6948a5af",
    "outputId": "50de5e5b-4eaf-4b76-baeb-149361213dff",
    "scrolled": true
   },
   "outputs": [
    {
     "data": {
      "text/plain": [
       "0       28.801\n",
       "1       30.332\n",
       "2       31.997\n",
       "4       36.088\n",
       "5       38.438\n",
       "         ...  \n",
       "1700    60.377\n",
       "1701    46.809\n",
       "1702    39.989\n",
       "1703    43.487\n",
       "1704    37.080\n",
       "Name: life_exp, Length: 1704, dtype: float64"
      ]
     },
     "execution_count": 243,
     "metadata": {},
     "output_type": "execute_result"
    }
   ],
   "source": [
    "df.life_exp # df['lifeExp']"
   ]
  },
  {
   "cell_type": "markdown",
   "id": "2e801d9f",
   "metadata": {
    "id": "2e801d9f"
   },
   "source": [
    "- Both these were series\n",
    "\n",
    "### Now we'll see how to create a Series from scratch\n",
    "\n",
    "- We'll use a **class constructor `Series()`**"
   ]
  },
  {
   "cell_type": "code",
   "execution_count": 244,
   "id": "4a4ef978",
   "metadata": {
    "colab": {
     "base_uri": "https://localhost:8080/"
    },
    "id": "4a4ef978",
    "outputId": "fdd65ee1-285e-4a0e-8172-d447d6b30ce7"
   },
   "outputs": [
    {
     "data": {
      "text/plain": [
       "0    10\n",
       "1    20\n",
       "2    30\n",
       "dtype: int64"
      ]
     },
     "execution_count": 244,
     "metadata": {},
     "output_type": "execute_result"
    }
   ],
   "source": [
    "pd.Series([10, 20, 30]) # We'll pass in a list of values in the constructor"
   ]
  },
  {
   "cell_type": "markdown",
   "id": "c82daf62",
   "metadata": {
    "id": "c82daf62"
   },
   "source": [
    "### How can we create a DataFrame?\n",
    "\n",
    "- Using **class constructor `DataFrame()`**\n",
    "\n",
    "\n",
    "### Approach 1: Row-oriented\n",
    "\n",
    "\n",
    "- It takes **2 arguments** - Because DataFrame is **2-dimensional** \n",
    "    - A **list of rows**\n",
    "    - A **list of column names/labels**\n",
    "\n",
    "\n",
    "- **Values in each row are packed in a list `[]`**\n",
    "- **Then all rows are packed in an outside list `[]`** - To **pass a list of rows**\n",
    "\n",
    "\n",
    "- And a **list of names/labels of columns**"
   ]
  },
  {
   "cell_type": "code",
   "execution_count": 245,
   "id": "9ce9b1f1",
   "metadata": {
    "colab": {
     "base_uri": "https://localhost:8080/",
     "height": 112
    },
    "id": "9ce9b1f1",
    "outputId": "234bc3ed-ce2a-4f3e-ba4f-b558f5739bcb"
   },
   "outputs": [
    {
     "data": {
      "text/html": [
       "<div>\n",
       "<style scoped>\n",
       "    .dataframe tbody tr th:only-of-type {\n",
       "        vertical-align: middle;\n",
       "    }\n",
       "\n",
       "    .dataframe tbody tr th {\n",
       "        vertical-align: top;\n",
       "    }\n",
       "\n",
       "    .dataframe thead th {\n",
       "        text-align: right;\n",
       "    }\n",
       "</style>\n",
       "<table border=\"1\" class=\"dataframe\">\n",
       "  <thead>\n",
       "    <tr style=\"text-align: right;\">\n",
       "      <th></th>\n",
       "      <th>A</th>\n",
       "      <th>B</th>\n",
       "    </tr>\n",
       "  </thead>\n",
       "  <tbody>\n",
       "    <tr>\n",
       "      <th>0</th>\n",
       "      <td>10</td>\n",
       "      <td>20</td>\n",
       "    </tr>\n",
       "    <tr>\n",
       "      <th>1</th>\n",
       "      <td>30</td>\n",
       "      <td>40</td>\n",
       "    </tr>\n",
       "  </tbody>\n",
       "</table>\n",
       "</div>"
      ],
      "text/plain": [
       "    A   B\n",
       "0  10  20\n",
       "1  30  40"
      ]
     },
     "execution_count": 245,
     "metadata": {},
     "output_type": "execute_result"
    }
   ],
   "source": [
    "pd.DataFrame([[10,20],[30,40]], columns=['A','B'])"
   ]
  },
  {
   "cell_type": "markdown",
   "id": "930b3671",
   "metadata": {
    "id": "930b3671"
   },
   "source": [
    "#### Let's just add 1 row to see the difference for a better understanding"
   ]
  },
  {
   "cell_type": "code",
   "execution_count": 246,
   "id": "94e0cb39",
   "metadata": {
    "colab": {
     "base_uri": "https://localhost:8080/",
     "height": 323
    },
    "id": "94e0cb39",
    "outputId": "52b72bc6-f62e-4b2a-8738-592430513952"
   },
   "outputs": [
    {
     "ename": "ValueError",
     "evalue": "Shape of passed values is (2, 1), indices imply (2, 2)",
     "output_type": "error",
     "traceback": [
      "\u001b[1;31m---------------------------------------------------------------------------\u001b[0m",
      "\u001b[1;31mValueError\u001b[0m                                Traceback (most recent call last)",
      "\u001b[1;32m~\\anaconda3\\lib\\site-packages\\pandas\\core\\internals\\managers.py\u001b[0m in \u001b[0;36mcreate_block_manager_from_blocks\u001b[1;34m(blocks, axes)\u001b[0m\n\u001b[0;32m   1674\u001b[0m                 blocks = [\n\u001b[1;32m-> 1675\u001b[1;33m                     make_block(\n\u001b[0m\u001b[0;32m   1676\u001b[0m                         \u001b[0mvalues\u001b[0m\u001b[1;33m=\u001b[0m\u001b[0mblocks\u001b[0m\u001b[1;33m[\u001b[0m\u001b[1;36m0\u001b[0m\u001b[1;33m]\u001b[0m\u001b[1;33m,\u001b[0m \u001b[0mplacement\u001b[0m\u001b[1;33m=\u001b[0m\u001b[0mslice\u001b[0m\u001b[1;33m(\u001b[0m\u001b[1;36m0\u001b[0m\u001b[1;33m,\u001b[0m \u001b[0mlen\u001b[0m\u001b[1;33m(\u001b[0m\u001b[0maxes\u001b[0m\u001b[1;33m[\u001b[0m\u001b[1;36m0\u001b[0m\u001b[1;33m]\u001b[0m\u001b[1;33m)\u001b[0m\u001b[1;33m)\u001b[0m\u001b[1;33m,\u001b[0m \u001b[0mndim\u001b[0m\u001b[1;33m=\u001b[0m\u001b[1;36m2\u001b[0m\u001b[1;33m\u001b[0m\u001b[1;33m\u001b[0m\u001b[0m\n",
      "\u001b[1;32m~\\anaconda3\\lib\\site-packages\\pandas\\core\\internals\\blocks.py\u001b[0m in \u001b[0;36mmake_block\u001b[1;34m(values, placement, klass, ndim, dtype)\u001b[0m\n\u001b[0;32m   2741\u001b[0m \u001b[1;33m\u001b[0m\u001b[0m\n\u001b[1;32m-> 2742\u001b[1;33m     \u001b[1;32mreturn\u001b[0m \u001b[0mklass\u001b[0m\u001b[1;33m(\u001b[0m\u001b[0mvalues\u001b[0m\u001b[1;33m,\u001b[0m \u001b[0mndim\u001b[0m\u001b[1;33m=\u001b[0m\u001b[0mndim\u001b[0m\u001b[1;33m,\u001b[0m \u001b[0mplacement\u001b[0m\u001b[1;33m=\u001b[0m\u001b[0mplacement\u001b[0m\u001b[1;33m)\u001b[0m\u001b[1;33m\u001b[0m\u001b[1;33m\u001b[0m\u001b[0m\n\u001b[0m\u001b[0;32m   2743\u001b[0m \u001b[1;33m\u001b[0m\u001b[0m\n",
      "\u001b[1;32m~\\anaconda3\\lib\\site-packages\\pandas\\core\\internals\\blocks.py\u001b[0m in \u001b[0;36m__init__\u001b[1;34m(self, values, placement, ndim)\u001b[0m\n\u001b[0;32m    141\u001b[0m         \u001b[1;32mif\u001b[0m \u001b[0mself\u001b[0m\u001b[1;33m.\u001b[0m\u001b[0m_validate_ndim\u001b[0m \u001b[1;32mand\u001b[0m \u001b[0mself\u001b[0m\u001b[1;33m.\u001b[0m\u001b[0mndim\u001b[0m \u001b[1;32mand\u001b[0m \u001b[0mlen\u001b[0m\u001b[1;33m(\u001b[0m\u001b[0mself\u001b[0m\u001b[1;33m.\u001b[0m\u001b[0mmgr_locs\u001b[0m\u001b[1;33m)\u001b[0m \u001b[1;33m!=\u001b[0m \u001b[0mlen\u001b[0m\u001b[1;33m(\u001b[0m\u001b[0mself\u001b[0m\u001b[1;33m.\u001b[0m\u001b[0mvalues\u001b[0m\u001b[1;33m)\u001b[0m\u001b[1;33m:\u001b[0m\u001b[1;33m\u001b[0m\u001b[1;33m\u001b[0m\u001b[0m\n\u001b[1;32m--> 142\u001b[1;33m             raise ValueError(\n\u001b[0m\u001b[0;32m    143\u001b[0m                 \u001b[1;34mf\"Wrong number of items passed {len(self.values)}, \"\u001b[0m\u001b[1;33m\u001b[0m\u001b[1;33m\u001b[0m\u001b[0m\n",
      "\u001b[1;31mValueError\u001b[0m: Wrong number of items passed 1, placement implies 2",
      "\nDuring handling of the above exception, another exception occurred:\n",
      "\u001b[1;31mValueError\u001b[0m                                Traceback (most recent call last)",
      "\u001b[1;32m<ipython-input-246-0201905ec1c1>\u001b[0m in \u001b[0;36m<module>\u001b[1;34m\u001b[0m\n\u001b[1;32m----> 1\u001b[1;33m \u001b[0mpd\u001b[0m\u001b[1;33m.\u001b[0m\u001b[0mDataFrame\u001b[0m\u001b[1;33m(\u001b[0m\u001b[1;33m[\u001b[0m\u001b[1;36m10\u001b[0m\u001b[1;33m,\u001b[0m\u001b[1;36m20\u001b[0m\u001b[1;33m]\u001b[0m\u001b[1;33m,\u001b[0m \u001b[0mcolumns\u001b[0m\u001b[1;33m=\u001b[0m\u001b[1;33m[\u001b[0m\u001b[1;34m'A'\u001b[0m\u001b[1;33m,\u001b[0m\u001b[1;34m'B'\u001b[0m\u001b[1;33m]\u001b[0m\u001b[1;33m)\u001b[0m\u001b[1;33m\u001b[0m\u001b[1;33m\u001b[0m\u001b[0m\n\u001b[0m",
      "\u001b[1;32m~\\anaconda3\\lib\\site-packages\\pandas\\core\\frame.py\u001b[0m in \u001b[0;36m__init__\u001b[1;34m(self, data, index, columns, dtype, copy)\u001b[0m\n\u001b[0;32m    582\u001b[0m                     \u001b[0mmgr\u001b[0m \u001b[1;33m=\u001b[0m \u001b[0marrays_to_mgr\u001b[0m\u001b[1;33m(\u001b[0m\u001b[0marrays\u001b[0m\u001b[1;33m,\u001b[0m \u001b[0mcolumns\u001b[0m\u001b[1;33m,\u001b[0m \u001b[0mindex\u001b[0m\u001b[1;33m,\u001b[0m \u001b[0mcolumns\u001b[0m\u001b[1;33m,\u001b[0m \u001b[0mdtype\u001b[0m\u001b[1;33m=\u001b[0m\u001b[0mdtype\u001b[0m\u001b[1;33m)\u001b[0m\u001b[1;33m\u001b[0m\u001b[1;33m\u001b[0m\u001b[0m\n\u001b[0;32m    583\u001b[0m                 \u001b[1;32melse\u001b[0m\u001b[1;33m:\u001b[0m\u001b[1;33m\u001b[0m\u001b[1;33m\u001b[0m\u001b[0m\n\u001b[1;32m--> 584\u001b[1;33m                     \u001b[0mmgr\u001b[0m \u001b[1;33m=\u001b[0m \u001b[0minit_ndarray\u001b[0m\u001b[1;33m(\u001b[0m\u001b[0mdata\u001b[0m\u001b[1;33m,\u001b[0m \u001b[0mindex\u001b[0m\u001b[1;33m,\u001b[0m \u001b[0mcolumns\u001b[0m\u001b[1;33m,\u001b[0m \u001b[0mdtype\u001b[0m\u001b[1;33m=\u001b[0m\u001b[0mdtype\u001b[0m\u001b[1;33m,\u001b[0m \u001b[0mcopy\u001b[0m\u001b[1;33m=\u001b[0m\u001b[0mcopy\u001b[0m\u001b[1;33m)\u001b[0m\u001b[1;33m\u001b[0m\u001b[1;33m\u001b[0m\u001b[0m\n\u001b[0m\u001b[0;32m    585\u001b[0m             \u001b[1;32melse\u001b[0m\u001b[1;33m:\u001b[0m\u001b[1;33m\u001b[0m\u001b[1;33m\u001b[0m\u001b[0m\n\u001b[0;32m    586\u001b[0m                 \u001b[0mmgr\u001b[0m \u001b[1;33m=\u001b[0m \u001b[0minit_dict\u001b[0m\u001b[1;33m(\u001b[0m\u001b[1;33m{\u001b[0m\u001b[1;33m}\u001b[0m\u001b[1;33m,\u001b[0m \u001b[0mindex\u001b[0m\u001b[1;33m,\u001b[0m \u001b[0mcolumns\u001b[0m\u001b[1;33m,\u001b[0m \u001b[0mdtype\u001b[0m\u001b[1;33m=\u001b[0m\u001b[0mdtype\u001b[0m\u001b[1;33m)\u001b[0m\u001b[1;33m\u001b[0m\u001b[1;33m\u001b[0m\u001b[0m\n",
      "\u001b[1;32m~\\anaconda3\\lib\\site-packages\\pandas\\core\\internals\\construction.py\u001b[0m in \u001b[0;36minit_ndarray\u001b[1;34m(values, index, columns, dtype, copy)\u001b[0m\n\u001b[0;32m    236\u001b[0m         \u001b[0mblock_values\u001b[0m \u001b[1;33m=\u001b[0m \u001b[1;33m[\u001b[0m\u001b[0mvalues\u001b[0m\u001b[1;33m]\u001b[0m\u001b[1;33m\u001b[0m\u001b[1;33m\u001b[0m\u001b[0m\n\u001b[0;32m    237\u001b[0m \u001b[1;33m\u001b[0m\u001b[0m\n\u001b[1;32m--> 238\u001b[1;33m     \u001b[1;32mreturn\u001b[0m \u001b[0mcreate_block_manager_from_blocks\u001b[0m\u001b[1;33m(\u001b[0m\u001b[0mblock_values\u001b[0m\u001b[1;33m,\u001b[0m \u001b[1;33m[\u001b[0m\u001b[0mcolumns\u001b[0m\u001b[1;33m,\u001b[0m \u001b[0mindex\u001b[0m\u001b[1;33m]\u001b[0m\u001b[1;33m)\u001b[0m\u001b[1;33m\u001b[0m\u001b[1;33m\u001b[0m\u001b[0m\n\u001b[0m\u001b[0;32m    239\u001b[0m \u001b[1;33m\u001b[0m\u001b[0m\n\u001b[0;32m    240\u001b[0m \u001b[1;33m\u001b[0m\u001b[0m\n",
      "\u001b[1;32m~\\anaconda3\\lib\\site-packages\\pandas\\core\\internals\\managers.py\u001b[0m in \u001b[0;36mcreate_block_manager_from_blocks\u001b[1;34m(blocks, axes)\u001b[0m\n\u001b[0;32m   1685\u001b[0m         \u001b[0mblocks\u001b[0m \u001b[1;33m=\u001b[0m \u001b[1;33m[\u001b[0m\u001b[0mgetattr\u001b[0m\u001b[1;33m(\u001b[0m\u001b[0mb\u001b[0m\u001b[1;33m,\u001b[0m \u001b[1;34m\"values\"\u001b[0m\u001b[1;33m,\u001b[0m \u001b[0mb\u001b[0m\u001b[1;33m)\u001b[0m \u001b[1;32mfor\u001b[0m \u001b[0mb\u001b[0m \u001b[1;32min\u001b[0m \u001b[0mblocks\u001b[0m\u001b[1;33m]\u001b[0m\u001b[1;33m\u001b[0m\u001b[1;33m\u001b[0m\u001b[0m\n\u001b[0;32m   1686\u001b[0m         \u001b[0mtot_items\u001b[0m \u001b[1;33m=\u001b[0m \u001b[0msum\u001b[0m\u001b[1;33m(\u001b[0m\u001b[0mb\u001b[0m\u001b[1;33m.\u001b[0m\u001b[0mshape\u001b[0m\u001b[1;33m[\u001b[0m\u001b[1;36m0\u001b[0m\u001b[1;33m]\u001b[0m \u001b[1;32mfor\u001b[0m \u001b[0mb\u001b[0m \u001b[1;32min\u001b[0m \u001b[0mblocks\u001b[0m\u001b[1;33m)\u001b[0m\u001b[1;33m\u001b[0m\u001b[1;33m\u001b[0m\u001b[0m\n\u001b[1;32m-> 1687\u001b[1;33m         \u001b[1;32mraise\u001b[0m \u001b[0mconstruction_error\u001b[0m\u001b[1;33m(\u001b[0m\u001b[0mtot_items\u001b[0m\u001b[1;33m,\u001b[0m \u001b[0mblocks\u001b[0m\u001b[1;33m[\u001b[0m\u001b[1;36m0\u001b[0m\u001b[1;33m]\u001b[0m\u001b[1;33m.\u001b[0m\u001b[0mshape\u001b[0m\u001b[1;33m[\u001b[0m\u001b[1;36m1\u001b[0m\u001b[1;33m:\u001b[0m\u001b[1;33m]\u001b[0m\u001b[1;33m,\u001b[0m \u001b[0maxes\u001b[0m\u001b[1;33m,\u001b[0m \u001b[0me\u001b[0m\u001b[1;33m)\u001b[0m\u001b[1;33m\u001b[0m\u001b[1;33m\u001b[0m\u001b[0m\n\u001b[0m\u001b[0;32m   1688\u001b[0m \u001b[1;33m\u001b[0m\u001b[0m\n\u001b[0;32m   1689\u001b[0m \u001b[1;33m\u001b[0m\u001b[0m\n",
      "\u001b[1;31mValueError\u001b[0m: Shape of passed values is (2, 1), indices imply (2, 2)"
     ]
    }
   ],
   "source": [
    "pd.DataFrame([10,20], columns=['A','B'])"
   ]
  },
  {
   "cell_type": "markdown",
   "id": "97a94ee9",
   "metadata": {
    "id": "97a94ee9"
   },
   "source": [
    "#### Now Why did this give an error?\n",
    "\n",
    "\n",
    "- Because we passed in a **list of values**\n",
    "\n",
    "\n",
    "- `DataFrame()` expects a **list of rows**\n",
    "\n",
    "\n",
    "- So, we **need to pass `[10,20]` as `[[10,20]]`**"
   ]
  },
  {
   "cell_type": "code",
   "execution_count": 247,
   "id": "4475857a",
   "metadata": {
    "colab": {
     "base_uri": "https://localhost:8080/",
     "height": 81
    },
    "id": "4475857a",
    "outputId": "3c253bb8-c1b7-405d-d43d-e8281c76b36a"
   },
   "outputs": [
    {
     "data": {
      "text/html": [
       "<div>\n",
       "<style scoped>\n",
       "    .dataframe tbody tr th:only-of-type {\n",
       "        vertical-align: middle;\n",
       "    }\n",
       "\n",
       "    .dataframe tbody tr th {\n",
       "        vertical-align: top;\n",
       "    }\n",
       "\n",
       "    .dataframe thead th {\n",
       "        text-align: right;\n",
       "    }\n",
       "</style>\n",
       "<table border=\"1\" class=\"dataframe\">\n",
       "  <thead>\n",
       "    <tr style=\"text-align: right;\">\n",
       "      <th></th>\n",
       "      <th>A</th>\n",
       "      <th>B</th>\n",
       "    </tr>\n",
       "  </thead>\n",
       "  <tbody>\n",
       "    <tr>\n",
       "      <th>0</th>\n",
       "      <td>10</td>\n",
       "      <td>20</td>\n",
       "    </tr>\n",
       "  </tbody>\n",
       "</table>\n",
       "</div>"
      ],
      "text/plain": [
       "    A   B\n",
       "0  10  20"
      ]
     },
     "execution_count": 247,
     "metadata": {},
     "output_type": "execute_result"
    }
   ],
   "source": [
    "pd.DataFrame([[10,20]], columns=['A','B'])"
   ]
  },
  {
   "cell_type": "markdown",
   "id": "da408bd4",
   "metadata": {
    "id": "da408bd4"
   },
   "source": [
    "#### There's another approach to create a DataFrame\n",
    "\n",
    "### Approach 2: Column-oriented\n",
    "\n",
    "\n",
    "- We **pass in a dictionary** in `DataFrame()` constructor\n",
    "\n",
    "\n",
    "- **Key** is the **Column Name/Label**\n",
    "\n",
    "\n",
    "- **Value** is the **list of values column-wise**\n"
   ]
  },
  {
   "cell_type": "code",
   "execution_count": 248,
   "id": "41b64736",
   "metadata": {
    "colab": {
     "base_uri": "https://localhost:8080/",
     "height": 112
    },
    "id": "41b64736",
    "outputId": "a7247003-c501-40b3-8e8d-8ea9a9dc9175"
   },
   "outputs": [
    {
     "data": {
      "text/html": [
       "<div>\n",
       "<style scoped>\n",
       "    .dataframe tbody tr th:only-of-type {\n",
       "        vertical-align: middle;\n",
       "    }\n",
       "\n",
       "    .dataframe tbody tr th {\n",
       "        vertical-align: top;\n",
       "    }\n",
       "\n",
       "    .dataframe thead th {\n",
       "        text-align: right;\n",
       "    }\n",
       "</style>\n",
       "<table border=\"1\" class=\"dataframe\">\n",
       "  <thead>\n",
       "    <tr style=\"text-align: right;\">\n",
       "      <th></th>\n",
       "      <th>A</th>\n",
       "      <th>B</th>\n",
       "    </tr>\n",
       "  </thead>\n",
       "  <tbody>\n",
       "    <tr>\n",
       "      <th>0</th>\n",
       "      <td>10</td>\n",
       "      <td>20</td>\n",
       "    </tr>\n",
       "    <tr>\n",
       "      <th>1</th>\n",
       "      <td>30</td>\n",
       "      <td>40</td>\n",
       "    </tr>\n",
       "  </tbody>\n",
       "</table>\n",
       "</div>"
      ],
      "text/plain": [
       "    A   B\n",
       "0  10  20\n",
       "1  30  40"
      ]
     },
     "execution_count": 248,
     "metadata": {},
     "output_type": "execute_result"
    }
   ],
   "source": [
    "pd.DataFrame({'A':[10,30], 'B':[20,40]})"
   ]
  },
  {
   "cell_type": "markdown",
   "id": "4efab438",
   "metadata": {
    "id": "4efab438"
   },
   "source": [
    "### Concatenating DataFrames\n",
    "\n",
    "\n",
    "- We can **join 2 or more DataFrames to form a single DataFrame**\n",
    "\n",
    "\n",
    "- Let's start by creating 2 DataFrames"
   ]
  },
  {
   "cell_type": "code",
   "execution_count": 249,
   "id": "N9c1AHUwzY9Z",
   "metadata": {
    "id": "N9c1AHUwzY9Z"
   },
   "outputs": [],
   "source": [
    "import pandas as pd"
   ]
  },
  {
   "cell_type": "code",
   "execution_count": 250,
   "id": "f878ccc9",
   "metadata": {
    "colab": {
     "base_uri": "https://localhost:8080/",
     "height": 112
    },
    "id": "f878ccc9",
    "outputId": "1f0d107d-5ca5-4586-b1ab-255e0c067be4"
   },
   "outputs": [
    {
     "data": {
      "text/html": [
       "<div>\n",
       "<style scoped>\n",
       "    .dataframe tbody tr th:only-of-type {\n",
       "        vertical-align: middle;\n",
       "    }\n",
       "\n",
       "    .dataframe tbody tr th {\n",
       "        vertical-align: top;\n",
       "    }\n",
       "\n",
       "    .dataframe thead th {\n",
       "        text-align: right;\n",
       "    }\n",
       "</style>\n",
       "<table border=\"1\" class=\"dataframe\">\n",
       "  <thead>\n",
       "    <tr style=\"text-align: right;\">\n",
       "      <th></th>\n",
       "      <th>A</th>\n",
       "      <th>B</th>\n",
       "    </tr>\n",
       "  </thead>\n",
       "  <tbody>\n",
       "    <tr>\n",
       "      <th>0</th>\n",
       "      <td>10</td>\n",
       "      <td>20</td>\n",
       "    </tr>\n",
       "    <tr>\n",
       "      <th>1</th>\n",
       "      <td>30</td>\n",
       "      <td>40</td>\n",
       "    </tr>\n",
       "  </tbody>\n",
       "</table>\n",
       "</div>"
      ],
      "text/plain": [
       "    A   B\n",
       "0  10  20\n",
       "1  30  40"
      ]
     },
     "execution_count": 250,
     "metadata": {},
     "output_type": "execute_result"
    }
   ],
   "source": [
    "a = pd.DataFrame({'A':[10,30], 'B':[20,40]})\n",
    "b = pd.DataFrame({'A':[10,30], 'C':[20,40]})\n",
    "a"
   ]
  },
  {
   "cell_type": "code",
   "execution_count": 251,
   "id": "68859341",
   "metadata": {
    "colab": {
     "base_uri": "https://localhost:8080/",
     "height": 112
    },
    "id": "68859341",
    "outputId": "d42a8221-4b3f-4e6b-85db-48c5352bb05c"
   },
   "outputs": [
    {
     "data": {
      "text/html": [
       "<div>\n",
       "<style scoped>\n",
       "    .dataframe tbody tr th:only-of-type {\n",
       "        vertical-align: middle;\n",
       "    }\n",
       "\n",
       "    .dataframe tbody tr th {\n",
       "        vertical-align: top;\n",
       "    }\n",
       "\n",
       "    .dataframe thead th {\n",
       "        text-align: right;\n",
       "    }\n",
       "</style>\n",
       "<table border=\"1\" class=\"dataframe\">\n",
       "  <thead>\n",
       "    <tr style=\"text-align: right;\">\n",
       "      <th></th>\n",
       "      <th>A</th>\n",
       "      <th>C</th>\n",
       "    </tr>\n",
       "  </thead>\n",
       "  <tbody>\n",
       "    <tr>\n",
       "      <th>0</th>\n",
       "      <td>10</td>\n",
       "      <td>20</td>\n",
       "    </tr>\n",
       "    <tr>\n",
       "      <th>1</th>\n",
       "      <td>30</td>\n",
       "      <td>40</td>\n",
       "    </tr>\n",
       "  </tbody>\n",
       "</table>\n",
       "</div>"
      ],
      "text/plain": [
       "    A   C\n",
       "0  10  20\n",
       "1  30  40"
      ]
     },
     "execution_count": 251,
     "metadata": {},
     "output_type": "execute_result"
    }
   ],
   "source": [
    "b"
   ]
  },
  {
   "cell_type": "markdown",
   "id": "9c38b23c",
   "metadata": {
    "id": "9c38b23c"
   },
   "source": [
    "#### We just use `pd.concat()`\n",
    "\n",
    "- Pass in a list of DataFrames that we want to combine\n",
    "\n",
    " <img src=\"https://miro.medium.com/max/842/1*0wu6DunCzPC4o9FIyRTW4w.png\" height = 200/>\n"
   ]
  },
  {
   "cell_type": "code",
   "execution_count": 252,
   "id": "86523d68",
   "metadata": {
    "colab": {
     "base_uri": "https://localhost:8080/",
     "height": 175
    },
    "id": "86523d68",
    "outputId": "df2c19e6-c6e5-4737-de10-d14fe871775c"
   },
   "outputs": [
    {
     "data": {
      "text/html": [
       "<div>\n",
       "<style scoped>\n",
       "    .dataframe tbody tr th:only-of-type {\n",
       "        vertical-align: middle;\n",
       "    }\n",
       "\n",
       "    .dataframe tbody tr th {\n",
       "        vertical-align: top;\n",
       "    }\n",
       "\n",
       "    .dataframe thead th {\n",
       "        text-align: right;\n",
       "    }\n",
       "</style>\n",
       "<table border=\"1\" class=\"dataframe\">\n",
       "  <thead>\n",
       "    <tr style=\"text-align: right;\">\n",
       "      <th></th>\n",
       "      <th>A</th>\n",
       "      <th>B</th>\n",
       "      <th>C</th>\n",
       "    </tr>\n",
       "  </thead>\n",
       "  <tbody>\n",
       "    <tr>\n",
       "      <th>0</th>\n",
       "      <td>10</td>\n",
       "      <td>20.0</td>\n",
       "      <td>NaN</td>\n",
       "    </tr>\n",
       "    <tr>\n",
       "      <th>1</th>\n",
       "      <td>30</td>\n",
       "      <td>40.0</td>\n",
       "      <td>NaN</td>\n",
       "    </tr>\n",
       "    <tr>\n",
       "      <th>0</th>\n",
       "      <td>10</td>\n",
       "      <td>NaN</td>\n",
       "      <td>20.0</td>\n",
       "    </tr>\n",
       "    <tr>\n",
       "      <th>1</th>\n",
       "      <td>30</td>\n",
       "      <td>NaN</td>\n",
       "      <td>40.0</td>\n",
       "    </tr>\n",
       "  </tbody>\n",
       "</table>\n",
       "</div>"
      ],
      "text/plain": [
       "    A     B     C\n",
       "0  10  20.0   NaN\n",
       "1  30  40.0   NaN\n",
       "0  10   NaN  20.0\n",
       "1  30   NaN  40.0"
      ]
     },
     "execution_count": 252,
     "metadata": {},
     "output_type": "execute_result"
    }
   ],
   "source": [
    "pd.concat([a, b])"
   ]
  },
  {
   "cell_type": "markdown",
   "id": "d1d5ba20",
   "metadata": {
    "id": "d1d5ba20"
   },
   "source": [
    "#### Notice a few things here:\n",
    "\n",
    "- By **default, `axis=0` for concatenation**\n",
    "\n",
    "- These **means concatenation is done row-wise**\n",
    "\n",
    "- **Column `A`** in both DataFrames is **combined into a single column** \n",
    "    - Column **name matching**\n",
    "\n",
    "- It concatenated in such a way as if \n",
    "    - **DataFrame `a`** did **NOT have any values in Column `C`**\n",
    "    - **DataFrame `b`** did **NOT have any values in Column `B`**\n",
    "  \n",
    "- Also the indices of the rows are preserved"
   ]
  },
  {
   "cell_type": "code",
   "execution_count": 253,
   "id": "dKjN7pnd6yJr",
   "metadata": {
    "colab": {
     "base_uri": "https://localhost:8080/",
     "height": 112
    },
    "id": "dKjN7pnd6yJr",
    "outputId": "f4b5b20c-41c0-4c8e-dc83-61fcccb85ce5"
   },
   "outputs": [
    {
     "data": {
      "text/html": [
       "<div>\n",
       "<style scoped>\n",
       "    .dataframe tbody tr th:only-of-type {\n",
       "        vertical-align: middle;\n",
       "    }\n",
       "\n",
       "    .dataframe tbody tr th {\n",
       "        vertical-align: top;\n",
       "    }\n",
       "\n",
       "    .dataframe thead th {\n",
       "        text-align: right;\n",
       "    }\n",
       "</style>\n",
       "<table border=\"1\" class=\"dataframe\">\n",
       "  <thead>\n",
       "    <tr style=\"text-align: right;\">\n",
       "      <th></th>\n",
       "      <th>A</th>\n",
       "      <th>B</th>\n",
       "      <th>C</th>\n",
       "    </tr>\n",
       "  </thead>\n",
       "  <tbody>\n",
       "    <tr>\n",
       "      <th>0</th>\n",
       "      <td>10</td>\n",
       "      <td>20.0</td>\n",
       "      <td>NaN</td>\n",
       "    </tr>\n",
       "    <tr>\n",
       "      <th>0</th>\n",
       "      <td>10</td>\n",
       "      <td>NaN</td>\n",
       "      <td>20.0</td>\n",
       "    </tr>\n",
       "  </tbody>\n",
       "</table>\n",
       "</div>"
      ],
      "text/plain": [
       "    A     B     C\n",
       "0  10  20.0   NaN\n",
       "0  10   NaN  20.0"
      ]
     },
     "execution_count": 253,
     "metadata": {},
     "output_type": "execute_result"
    }
   ],
   "source": [
    "pd.concat([a, b]).loc[0]"
   ]
  },
  {
   "cell_type": "markdown",
   "id": "RLd7AZXC7BxI",
   "metadata": {
    "id": "RLd7AZXC7BxI"
   },
   "source": [
    "We obviously want the indices to be unique for each row\n",
    "\n",
    "#### How can we do this ?\n",
    "  - By setting `ignore_index = True`\n"
   ]
  },
  {
   "cell_type": "code",
   "execution_count": 254,
   "id": "ISA6LiZeANnx",
   "metadata": {
    "colab": {
     "base_uri": "https://localhost:8080/",
     "height": 175
    },
    "id": "ISA6LiZeANnx",
    "outputId": "66547bd0-dd05-474b-8290-6a73242ee1c3"
   },
   "outputs": [
    {
     "data": {
      "text/html": [
       "<div>\n",
       "<style scoped>\n",
       "    .dataframe tbody tr th:only-of-type {\n",
       "        vertical-align: middle;\n",
       "    }\n",
       "\n",
       "    .dataframe tbody tr th {\n",
       "        vertical-align: top;\n",
       "    }\n",
       "\n",
       "    .dataframe thead th {\n",
       "        text-align: right;\n",
       "    }\n",
       "</style>\n",
       "<table border=\"1\" class=\"dataframe\">\n",
       "  <thead>\n",
       "    <tr style=\"text-align: right;\">\n",
       "      <th></th>\n",
       "      <th>A</th>\n",
       "      <th>B</th>\n",
       "      <th>C</th>\n",
       "    </tr>\n",
       "  </thead>\n",
       "  <tbody>\n",
       "    <tr>\n",
       "      <th>0</th>\n",
       "      <td>10</td>\n",
       "      <td>20.0</td>\n",
       "      <td>NaN</td>\n",
       "    </tr>\n",
       "    <tr>\n",
       "      <th>1</th>\n",
       "      <td>30</td>\n",
       "      <td>40.0</td>\n",
       "      <td>NaN</td>\n",
       "    </tr>\n",
       "    <tr>\n",
       "      <th>2</th>\n",
       "      <td>10</td>\n",
       "      <td>NaN</td>\n",
       "      <td>20.0</td>\n",
       "    </tr>\n",
       "    <tr>\n",
       "      <th>3</th>\n",
       "      <td>30</td>\n",
       "      <td>NaN</td>\n",
       "      <td>40.0</td>\n",
       "    </tr>\n",
       "  </tbody>\n",
       "</table>\n",
       "</div>"
      ],
      "text/plain": [
       "    A     B     C\n",
       "0  10  20.0   NaN\n",
       "1  30  40.0   NaN\n",
       "2  10   NaN  20.0\n",
       "3  30   NaN  40.0"
      ]
     },
     "execution_count": 254,
     "metadata": {},
     "output_type": "execute_result"
    }
   ],
   "source": [
    "pd.concat([a, b], ignore_index = True)"
   ]
  },
  {
   "cell_type": "markdown",
   "id": "iTzf-Bk4AMx8",
   "metadata": {
    "id": "iTzf-Bk4AMx8"
   },
   "source": [
    "\n",
    "\n",
    "#### We can concatenate column-wise as well\n",
    "\n",
    "#### What do we need to change to concatenate them column-wise?\n",
    "\n",
    "- `axis=1`"
   ]
  },
  {
   "cell_type": "code",
   "execution_count": 255,
   "id": "1c183097",
   "metadata": {
    "colab": {
     "base_uri": "https://localhost:8080/",
     "height": 112
    },
    "id": "1c183097",
    "outputId": "5bf45b83-655d-4eb2-a6b3-ee24f263edbb"
   },
   "outputs": [
    {
     "data": {
      "text/html": [
       "<div>\n",
       "<style scoped>\n",
       "    .dataframe tbody tr th:only-of-type {\n",
       "        vertical-align: middle;\n",
       "    }\n",
       "\n",
       "    .dataframe tbody tr th {\n",
       "        vertical-align: top;\n",
       "    }\n",
       "\n",
       "    .dataframe thead th {\n",
       "        text-align: right;\n",
       "    }\n",
       "</style>\n",
       "<table border=\"1\" class=\"dataframe\">\n",
       "  <thead>\n",
       "    <tr style=\"text-align: right;\">\n",
       "      <th></th>\n",
       "      <th>A</th>\n",
       "      <th>B</th>\n",
       "      <th>A</th>\n",
       "      <th>C</th>\n",
       "    </tr>\n",
       "  </thead>\n",
       "  <tbody>\n",
       "    <tr>\n",
       "      <th>0</th>\n",
       "      <td>10</td>\n",
       "      <td>20</td>\n",
       "      <td>10</td>\n",
       "      <td>20</td>\n",
       "    </tr>\n",
       "    <tr>\n",
       "      <th>1</th>\n",
       "      <td>30</td>\n",
       "      <td>40</td>\n",
       "      <td>30</td>\n",
       "      <td>40</td>\n",
       "    </tr>\n",
       "  </tbody>\n",
       "</table>\n",
       "</div>"
      ],
      "text/plain": [
       "    A   B   A   C\n",
       "0  10  20  10  20\n",
       "1  30  40  30  40"
      ]
     },
     "execution_count": 255,
     "metadata": {},
     "output_type": "execute_result"
    }
   ],
   "source": [
    "pd.concat([a, b], axis=1)"
   ]
  },
  {
   "cell_type": "markdown",
   "id": "6264db07",
   "metadata": {
    "id": "6264db07"
   },
   "source": [
    "#### As you can see here:\n",
    "  \n",
    "  - **Column `A` is NOT combined as one**\n",
    "\n",
    "  - It gives 2 columns with **different positional index**, but **same label**\n",
    "\n",
    "We can also create a multi-indexed dataframe by mentioning the keys for each dataframe being concatenateed\n",
    "\n"
   ]
  },
  {
   "cell_type": "code",
   "execution_count": 256,
   "id": "KIn3IrNjAUf9",
   "metadata": {
    "colab": {
     "base_uri": "https://localhost:8080/",
     "height": 175
    },
    "id": "KIn3IrNjAUf9",
    "outputId": "8bd6f98f-4025-4512-b036-c82a8621e66f"
   },
   "outputs": [
    {
     "data": {
      "text/html": [
       "<div>\n",
       "<style scoped>\n",
       "    .dataframe tbody tr th:only-of-type {\n",
       "        vertical-align: middle;\n",
       "    }\n",
       "\n",
       "    .dataframe tbody tr th {\n",
       "        vertical-align: top;\n",
       "    }\n",
       "\n",
       "    .dataframe thead th {\n",
       "        text-align: right;\n",
       "    }\n",
       "</style>\n",
       "<table border=\"1\" class=\"dataframe\">\n",
       "  <thead>\n",
       "    <tr style=\"text-align: right;\">\n",
       "      <th></th>\n",
       "      <th></th>\n",
       "      <th>A</th>\n",
       "      <th>B</th>\n",
       "      <th>C</th>\n",
       "    </tr>\n",
       "  </thead>\n",
       "  <tbody>\n",
       "    <tr>\n",
       "      <th rowspan=\"2\" valign=\"top\">x</th>\n",
       "      <th>0</th>\n",
       "      <td>10</td>\n",
       "      <td>20.0</td>\n",
       "      <td>NaN</td>\n",
       "    </tr>\n",
       "    <tr>\n",
       "      <th>1</th>\n",
       "      <td>30</td>\n",
       "      <td>40.0</td>\n",
       "      <td>NaN</td>\n",
       "    </tr>\n",
       "    <tr>\n",
       "      <th rowspan=\"2\" valign=\"top\">y</th>\n",
       "      <th>0</th>\n",
       "      <td>10</td>\n",
       "      <td>NaN</td>\n",
       "      <td>20.0</td>\n",
       "    </tr>\n",
       "    <tr>\n",
       "      <th>1</th>\n",
       "      <td>30</td>\n",
       "      <td>NaN</td>\n",
       "      <td>40.0</td>\n",
       "    </tr>\n",
       "  </tbody>\n",
       "</table>\n",
       "</div>"
      ],
      "text/plain": [
       "      A     B     C\n",
       "x 0  10  20.0   NaN\n",
       "  1  30  40.0   NaN\n",
       "y 0  10   NaN  20.0\n",
       "  1  30   NaN  40.0"
      ]
     },
     "execution_count": 256,
     "metadata": {},
     "output_type": "execute_result"
    }
   ],
   "source": [
    "pd.concat([a, b], keys=[\"x\", \"y\"])"
   ]
  },
  {
   "cell_type": "markdown",
   "id": "RNRJ0XZoBJFD",
   "metadata": {
    "id": "RNRJ0XZoBJFD"
   },
   "source": [
    "#### Also By default, the entries for which no data is available are filled with NA values\n",
    "\n",
    "We can change this behaviour by specifying the type of `join` that should be used to combine data\n",
    "\n",
    "#### Which join can we use if we want a union of cols ?\n",
    "  - Outer join\n",
    "  - Set as default by pd.concat"
   ]
  },
  {
   "cell_type": "code",
   "execution_count": 257,
   "id": "wFnYjVW5CM7l",
   "metadata": {
    "colab": {
     "base_uri": "https://localhost:8080/",
     "height": 175
    },
    "id": "wFnYjVW5CM7l",
    "outputId": "67fc9f77-9439-49e9-f836-e95bd524d2b2"
   },
   "outputs": [
    {
     "data": {
      "text/html": [
       "<div>\n",
       "<style scoped>\n",
       "    .dataframe tbody tr th:only-of-type {\n",
       "        vertical-align: middle;\n",
       "    }\n",
       "\n",
       "    .dataframe tbody tr th {\n",
       "        vertical-align: top;\n",
       "    }\n",
       "\n",
       "    .dataframe thead th {\n",
       "        text-align: right;\n",
       "    }\n",
       "</style>\n",
       "<table border=\"1\" class=\"dataframe\">\n",
       "  <thead>\n",
       "    <tr style=\"text-align: right;\">\n",
       "      <th></th>\n",
       "      <th>A</th>\n",
       "      <th>B</th>\n",
       "      <th>C</th>\n",
       "    </tr>\n",
       "  </thead>\n",
       "  <tbody>\n",
       "    <tr>\n",
       "      <th>0</th>\n",
       "      <td>10</td>\n",
       "      <td>20.0</td>\n",
       "      <td>NaN</td>\n",
       "    </tr>\n",
       "    <tr>\n",
       "      <th>1</th>\n",
       "      <td>30</td>\n",
       "      <td>40.0</td>\n",
       "      <td>NaN</td>\n",
       "    </tr>\n",
       "    <tr>\n",
       "      <th>0</th>\n",
       "      <td>10</td>\n",
       "      <td>NaN</td>\n",
       "      <td>20.0</td>\n",
       "    </tr>\n",
       "    <tr>\n",
       "      <th>1</th>\n",
       "      <td>30</td>\n",
       "      <td>NaN</td>\n",
       "      <td>40.0</td>\n",
       "    </tr>\n",
       "  </tbody>\n",
       "</table>\n",
       "</div>"
      ],
      "text/plain": [
       "    A     B     C\n",
       "0  10  20.0   NaN\n",
       "1  30  40.0   NaN\n",
       "0  10   NaN  20.0\n",
       "1  30   NaN  40.0"
      ]
     },
     "execution_count": 257,
     "metadata": {},
     "output_type": "execute_result"
    }
   ],
   "source": [
    "pd.concat([a, b], join=\"outer\")"
   ]
  },
  {
   "cell_type": "markdown",
   "id": "ETH8dMqfCQee",
   "metadata": {
    "id": "ETH8dMqfCQee"
   },
   "source": [
    "#### And what if we want an intersection of cols ?\n",
    "  - We need to use the inner join for that\n",
    "  - There will be no null values in any cell "
   ]
  },
  {
   "cell_type": "code",
   "execution_count": 258,
   "id": "6gBxNaK4CcL0",
   "metadata": {
    "colab": {
     "base_uri": "https://localhost:8080/",
     "height": 175
    },
    "id": "6gBxNaK4CcL0",
    "outputId": "de3ba7c6-6e3e-468d-e970-1f8a9453853a"
   },
   "outputs": [
    {
     "data": {
      "text/html": [
       "<div>\n",
       "<style scoped>\n",
       "    .dataframe tbody tr th:only-of-type {\n",
       "        vertical-align: middle;\n",
       "    }\n",
       "\n",
       "    .dataframe tbody tr th {\n",
       "        vertical-align: top;\n",
       "    }\n",
       "\n",
       "    .dataframe thead th {\n",
       "        text-align: right;\n",
       "    }\n",
       "</style>\n",
       "<table border=\"1\" class=\"dataframe\">\n",
       "  <thead>\n",
       "    <tr style=\"text-align: right;\">\n",
       "      <th></th>\n",
       "      <th>A</th>\n",
       "    </tr>\n",
       "  </thead>\n",
       "  <tbody>\n",
       "    <tr>\n",
       "      <th>0</th>\n",
       "      <td>10</td>\n",
       "    </tr>\n",
       "    <tr>\n",
       "      <th>1</th>\n",
       "      <td>30</td>\n",
       "    </tr>\n",
       "    <tr>\n",
       "      <th>0</th>\n",
       "      <td>10</td>\n",
       "    </tr>\n",
       "    <tr>\n",
       "      <th>1</th>\n",
       "      <td>30</td>\n",
       "    </tr>\n",
       "  </tbody>\n",
       "</table>\n",
       "</div>"
      ],
      "text/plain": [
       "    A\n",
       "0  10\n",
       "1  30\n",
       "0  10\n",
       "1  30"
      ]
     },
     "execution_count": 258,
     "metadata": {},
     "output_type": "execute_result"
    }
   ],
   "source": [
    "pd.concat([a, b], join=\"inner\")"
   ]
  },
  {
   "cell_type": "markdown",
   "id": "OPnNIUuwDJ_h",
   "metadata": {
    "id": "OPnNIUuwDJ_h"
   },
   "source": [
    "There also exists a shorter method of appending 1 dataframe to the other\n",
    "\n",
    "This is through the `append()` method\n",
    "\n",
    "Concatentaion takes place only through axis = 0 "
   ]
  },
  {
   "cell_type": "code",
   "execution_count": 259,
   "id": "G5zfeUetDUcw",
   "metadata": {
    "colab": {
     "base_uri": "https://localhost:8080/",
     "height": 175
    },
    "id": "G5zfeUetDUcw",
    "outputId": "f9870fa9-31bd-442f-ae25-f13213cd63f4"
   },
   "outputs": [
    {
     "data": {
      "text/html": [
       "<div>\n",
       "<style scoped>\n",
       "    .dataframe tbody tr th:only-of-type {\n",
       "        vertical-align: middle;\n",
       "    }\n",
       "\n",
       "    .dataframe tbody tr th {\n",
       "        vertical-align: top;\n",
       "    }\n",
       "\n",
       "    .dataframe thead th {\n",
       "        text-align: right;\n",
       "    }\n",
       "</style>\n",
       "<table border=\"1\" class=\"dataframe\">\n",
       "  <thead>\n",
       "    <tr style=\"text-align: right;\">\n",
       "      <th></th>\n",
       "      <th>A</th>\n",
       "      <th>B</th>\n",
       "      <th>C</th>\n",
       "    </tr>\n",
       "  </thead>\n",
       "  <tbody>\n",
       "    <tr>\n",
       "      <th>0</th>\n",
       "      <td>10</td>\n",
       "      <td>20.0</td>\n",
       "      <td>NaN</td>\n",
       "    </tr>\n",
       "    <tr>\n",
       "      <th>1</th>\n",
       "      <td>30</td>\n",
       "      <td>40.0</td>\n",
       "      <td>NaN</td>\n",
       "    </tr>\n",
       "    <tr>\n",
       "      <th>0</th>\n",
       "      <td>10</td>\n",
       "      <td>NaN</td>\n",
       "      <td>20.0</td>\n",
       "    </tr>\n",
       "    <tr>\n",
       "      <th>1</th>\n",
       "      <td>30</td>\n",
       "      <td>NaN</td>\n",
       "      <td>40.0</td>\n",
       "    </tr>\n",
       "  </tbody>\n",
       "</table>\n",
       "</div>"
      ],
      "text/plain": [
       "    A     B     C\n",
       "0  10  20.0   NaN\n",
       "1  30  40.0   NaN\n",
       "0  10   NaN  20.0\n",
       "1  30   NaN  40.0"
      ]
     },
     "execution_count": 259,
     "metadata": {},
     "output_type": "execute_result"
    }
   ],
   "source": [
    "a.append(b, ignore_index = False)"
   ]
  },
  {
   "cell_type": "markdown",
   "id": "Xm_pDKYdDiXB",
   "metadata": {
    "id": "Xm_pDKYdDiXB"
   },
   "source": [
    "Note: \n",
    "  - The append() method does not modify the orginial object\n",
    "  - It creates a new one with combined data\n",
    "  - Hence, it is not a very efficient method"
   ]
  },
  {
   "cell_type": "markdown",
   "id": "a_rxs8qfAT-_",
   "metadata": {
    "id": "a_rxs8qfAT-_"
   },
   "source": [
    "#### So far we have only concatenated and not merged data\n",
    "\n",
    "#### Bur whats the difference between concat and merge ?\n",
    "\n",
    "  - `concat`\n",
    "    - simply stacks multiple DataFrame together along an axis\n",
    "\n",
    "  - `merge`\n",
    "    - combines dataframes side-by-side based on values in shared columns\n",
    "\n",
    "\n",
    "  <img src=\"https://miro.medium.com/max/842/1*0wu6DunCzPC4o9FIyRTW4w.png\" height = 200/>\n",
    "\n",
    "  <img src=\"https://miro.medium.com/max/842/1*-uSHoxrzM57syqnKnms2iA.png\" height = 200/>\n",
    "\n",
    "\n",
    "#### Lets explore merging in more detail\n",
    "\n",
    "- This **works like join in SQL**\n",
    "- Lets see what this means\n",
    "\n",
    "#### Let's create 2 DataFrames\n",
    "\n",
    "1. `users` --> **Stores the user details** - **IDs** and **Names of users**"
   ]
  },
  {
   "cell_type": "code",
   "execution_count": 260,
   "id": "3ac58323",
   "metadata": {
    "colab": {
     "base_uri": "https://localhost:8080/",
     "height": 143
    },
    "id": "3ac58323",
    "outputId": "0c15a86f-20fd-4875-c3fe-eea3c0a2c8d7"
   },
   "outputs": [
    {
     "data": {
      "text/html": [
       "<div>\n",
       "<style scoped>\n",
       "    .dataframe tbody tr th:only-of-type {\n",
       "        vertical-align: middle;\n",
       "    }\n",
       "\n",
       "    .dataframe tbody tr th {\n",
       "        vertical-align: top;\n",
       "    }\n",
       "\n",
       "    .dataframe thead th {\n",
       "        text-align: right;\n",
       "    }\n",
       "</style>\n",
       "<table border=\"1\" class=\"dataframe\">\n",
       "  <thead>\n",
       "    <tr style=\"text-align: right;\">\n",
       "      <th></th>\n",
       "      <th>userid</th>\n",
       "      <th>name</th>\n",
       "    </tr>\n",
       "  </thead>\n",
       "  <tbody>\n",
       "    <tr>\n",
       "      <th>0</th>\n",
       "      <td>1</td>\n",
       "      <td>A</td>\n",
       "    </tr>\n",
       "    <tr>\n",
       "      <th>1</th>\n",
       "      <td>2</td>\n",
       "      <td>B</td>\n",
       "    </tr>\n",
       "    <tr>\n",
       "      <th>2</th>\n",
       "      <td>3</td>\n",
       "      <td>C</td>\n",
       "    </tr>\n",
       "  </tbody>\n",
       "</table>\n",
       "</div>"
      ],
      "text/plain": [
       "   userid name\n",
       "0       1    A\n",
       "1       2    B\n",
       "2       3    C"
      ]
     },
     "execution_count": 260,
     "metadata": {},
     "output_type": "execute_result"
    }
   ],
   "source": [
    "users = pd.DataFrame({'userid':[1, 2, 3], 'name':['A', 'B', 'C']})\n",
    "users"
   ]
  },
  {
   "cell_type": "markdown",
   "id": "e5160b6c",
   "metadata": {
    "id": "e5160b6c"
   },
   "source": [
    "2. `msgs` --> **Stores the messages** users have sent - **User IDs** and **messages**"
   ]
  },
  {
   "cell_type": "code",
   "execution_count": 261,
   "id": "f7907d17",
   "metadata": {
    "colab": {
     "base_uri": "https://localhost:8080/",
     "height": 143
    },
    "id": "f7907d17",
    "outputId": "73420c00-328a-4441-94f9-a7c47b0193c4",
    "scrolled": true
   },
   "outputs": [
    {
     "data": {
      "text/html": [
       "<div>\n",
       "<style scoped>\n",
       "    .dataframe tbody tr th:only-of-type {\n",
       "        vertical-align: middle;\n",
       "    }\n",
       "\n",
       "    .dataframe tbody tr th {\n",
       "        vertical-align: top;\n",
       "    }\n",
       "\n",
       "    .dataframe thead th {\n",
       "        text-align: right;\n",
       "    }\n",
       "</style>\n",
       "<table border=\"1\" class=\"dataframe\">\n",
       "  <thead>\n",
       "    <tr style=\"text-align: right;\">\n",
       "      <th></th>\n",
       "      <th>userid</th>\n",
       "      <th>msg</th>\n",
       "    </tr>\n",
       "  </thead>\n",
       "  <tbody>\n",
       "    <tr>\n",
       "      <th>0</th>\n",
       "      <td>1</td>\n",
       "      <td>hello</td>\n",
       "    </tr>\n",
       "    <tr>\n",
       "      <th>1</th>\n",
       "      <td>1</td>\n",
       "      <td>bye</td>\n",
       "    </tr>\n",
       "    <tr>\n",
       "      <th>2</th>\n",
       "      <td>2</td>\n",
       "      <td>hi</td>\n",
       "    </tr>\n",
       "  </tbody>\n",
       "</table>\n",
       "</div>"
      ],
      "text/plain": [
       "   userid    msg\n",
       "0       1  hello\n",
       "1       1    bye\n",
       "2       2     hi"
      ]
     },
     "execution_count": 261,
     "metadata": {},
     "output_type": "execute_result"
    }
   ],
   "source": [
    "msgs = pd.DataFrame({'userid':[1, 1, 2], 'msg':['hello', 'bye', 'hi']})\n",
    "msgs"
   ]
  },
  {
   "cell_type": "markdown",
   "id": "a32e7b09",
   "metadata": {
    "id": "a32e7b09"
   },
   "source": [
    "#### Now suppose you want to know the name of the person who sent a message\n",
    "\n",
    "#### How can we do that ?\n",
    "  - We need to create a new dataframe \n",
    "  - It will take data from both `msgs `and `users`\n",
    "\n",
    "#### So should can we use pd.concat() for this ?\n",
    "  - No\n",
    "  - pd.concat() does not work according to the values in the columns\n",
    "\n",
    "#### How can we do this then ?\n",
    "  - Using pd.merge()\n",
    "\n",
    "#### How does it work ?\n",
    "  - Uses cols with same name as keys\n",
    "  - Merges dataframes using these keys\n",
    "  - We can specify the cols to use as keys\n",
    "  - This is done through `on` parameter"
   ]
  },
  {
   "cell_type": "code",
   "execution_count": null,
   "id": "_y20yMucF8Ku",
   "metadata": {
    "colab": {
     "base_uri": "https://localhost:8080/",
     "height": 143
    },
    "id": "_y20yMucF8Ku",
    "outputId": "470e87fb-70d0-4f04-be0d-1484a9466d21"
   },
   "outputs": [],
   "source": [
    "users.merge(msgs, on=\"userid\")"
   ]
  },
  {
   "cell_type": "markdown",
   "id": "2cXtxLZyGMwx",
   "metadata": {
    "id": "2cXtxLZyGMwx"
   },
   "source": [
    "We can see user ids, user names and the messages they sent together"
   ]
  },
  {
   "cell_type": "markdown",
   "id": "kQ2x3BFsGOo7",
   "metadata": {
    "id": "kQ2x3BFsGOo7"
   },
   "source": [
    "#### But sometimes the column names might be different even if they contain the same data\n",
    "\n",
    "For eg:\n",
    "- Dataframe 1: col for employees name might be `name`\n",
    "- Dataframe 2: col for employees name might be `employee`\n",
    "\n",
    "#### How can we merge the 2 dataframes in this situation ?\n",
    "  - Using the `left_on` and `right_on` keywords\n",
    "  - `left_on`: Specifies the key of the 1st dataframe\n",
    "  - `right_on`: Specifies the key of the 2nd dataframe\n",
    "\n",
    "Lets see how it works\n",
    "\n"
   ]
  },
  {
   "cell_type": "code",
   "execution_count": null,
   "id": "bd56e526",
   "metadata": {
    "colab": {
     "base_uri": "https://localhost:8080/",
     "height": 143
    },
    "id": "bd56e526",
    "outputId": "fecf4193-0d3c-461f-cd2e-c17c49734c42"
   },
   "outputs": [],
   "source": [
    "users.rename(columns = {\"userid\": \"id\"}, inplace = True)\n",
    "users.merge(msgs, left_on=\"id\", right_on=\"userid\") # this is inner join\n",
    "\n",
    "# Notice that left_on is column from users\n",
    "# right_on is column from msgs"
   ]
  },
  {
   "cell_type": "markdown",
   "id": "11b41f32",
   "metadata": {
    "id": "11b41f32"
   },
   "source": [
    "#### In above codes we have skipped one 1 important part\n",
    "\n",
    "### Specifying type of joins to merge the dataframes\n",
    "\n",
    "#### Where does it become relevant ?\n",
    "  - Notice that `users` has a userid = 3 but `msgs` does not\n",
    "  - When we merge these dataframes the userid = 3 is not included\n",
    "  - Only the userid common in both dataframes is shown\n",
    "  - #### What if we want to change this behaviour ?\n",
    "    - This is where joins can be used\n",
    "\n",
    "There are different types of joins\n",
    "\n",
    "#### Lets say we want to find msg text of people only in the `users` table. Which join can we use for that ?\n",
    "  \n",
    "  - Inner join\n",
    "  \n",
    "  - It takes intersection of values in key cols\n",
    "  \n",
    "  - Set by default in pd.merge()\n",
    "  \n",
    "  - Lets code it now"
   ]
  },
  {
   "cell_type": "code",
   "execution_count": null,
   "id": "ruj3JWt5IfAE",
   "metadata": {
    "colab": {
     "base_uri": "https://localhost:8080/",
     "height": 143
    },
    "id": "ruj3JWt5IfAE",
    "outputId": "65d5be0b-f0b4-47ba-8775-85137a274e56"
   },
   "outputs": [],
   "source": [
    "users.merge(msgs, how = \"inner\", left_on = \"id\", right_on = \"userid\")"
   ]
  },
  {
   "cell_type": "markdown",
   "id": "to1M3KQtIsoH",
   "metadata": {
    "id": "to1M3KQtIsoH"
   },
   "source": [
    "#### Now lets say we want 1 dataframe having all info of all the users. How can we do that ?\n",
    "  \n",
    "  - Using `outer` join\n",
    "  \n",
    "  - It returns a join over the union of the input columns\n",
    "  \n",
    "  - Replaces all missing values with `Na`"
   ]
  },
  {
   "cell_type": "code",
   "execution_count": null,
   "id": "E_ShbG7HIz5_",
   "metadata": {
    "colab": {
     "base_uri": "https://localhost:8080/",
     "height": 175
    },
    "id": "E_ShbG7HIz5_",
    "outputId": "82510c54-d97b-4d1f-aac3-ebff3dd4f136"
   },
   "outputs": [],
   "source": [
    "users.merge(msgs, how = \"outer\", left_on = \"id\", right_on = \"userid\")"
   ]
  },
  {
   "cell_type": "markdown",
   "id": "icgBJNRgJBJz",
   "metadata": {
    "id": "icgBJNRgJBJz"
   },
   "source": [
    "#### And what if we want vals in key col of left dataframe ?\n",
    "  - We can use `left` join for that"
   ]
  },
  {
   "cell_type": "code",
   "execution_count": null,
   "id": "XmZ8g_z5JBDh",
   "metadata": {
    "colab": {
     "base_uri": "https://localhost:8080/",
     "height": 175
    },
    "id": "XmZ8g_z5JBDh",
    "outputId": "88578cf9-4f3d-435a-fe8f-4c191065ae1f"
   },
   "outputs": [],
   "source": [
    "users.merge(msgs, how = \"left\", left_on = \"id\", right_on = \"userid\")"
   ]
  },
  {
   "cell_type": "markdown",
   "id": "5oBrVz4wJA2h",
   "metadata": {
    "id": "5oBrVz4wJA2h"
   },
   "source": [
    "#### Similarly, what if we want vals in key cols of only right dataframe ?\n",
    " \n",
    "  - Returns join over cols of right input"
   ]
  },
  {
   "cell_type": "code",
   "execution_count": null,
   "id": "I701eVrVJAvr",
   "metadata": {
    "colab": {
     "base_uri": "https://localhost:8080/",
     "height": 143
    },
    "id": "I701eVrVJAvr",
    "outputId": "7664e34c-8d62-424d-b785-e3a873cb9f19"
   },
   "outputs": [],
   "source": [
    "users.merge(msgs, how = \"right\", left_on = \"id\", right_on = \"userid\")"
   ]
  },
  {
   "cell_type": "markdown",
   "id": "gMSN6L5ahz1n",
   "metadata": {
    "id": "gMSN6L5ahz1n"
   },
   "source": [
    "Lets visualise these joins using a venn diagram\n",
    "\n",
    "<img src=\"https://www.datasciencemadesimple.com/wp-content/uploads/2017/09/join-or-merge-in-python-pandas-1.png?ezimgfmt=ng:webp/ngcb1\" />"
   ]
  },
  {
   "cell_type": "markdown",
   "id": "WFJ4bwMKHQTQ",
   "metadata": {
    "id": "WFJ4bwMKHQTQ"
   },
   "source": [
    "### **Question:**\n",
    "\n",
    "In given code dataframe ‘df’ has _____ rows and _____ columns.\n",
    "\n",
    "> import pandas as pd<br>\n",
    "> S1 = pd.Series([1, 2, 3, 4], index = ['a', 'b','c','d'])<br>\n",
    "> S2 = pd.Series([10, 20, 30, 40], index = ['a', 'bb','c','dd'])<br>\n",
    "> df = pd.DataFrame([S1,S2])"
   ]
  },
  {
   "cell_type": "code",
   "execution_count": null,
   "id": "MN-YL5ZY-saE",
   "metadata": {
    "colab": {
     "base_uri": "https://localhost:8080/"
    },
    "id": "MN-YL5ZY-saE",
    "outputId": "526ffaf1-7372-40a8-8406-a8e91c7a84c0"
   },
   "outputs": [],
   "source": [
    "import pandas as pd\n",
    "S1 = pd.Series([1, 2, 3, 4], index = ['a', 'b','c','d'])\n",
    "S2 = pd.Series([10, 20, 30, 40], index = ['a', 'bb','c','dd'])\n",
    "df = pd.DataFrame([S1,S2])\n",
    "df.shape"
   ]
  },
  {
   "cell_type": "markdown",
   "id": "WrcydfuW_6DJ",
   "metadata": {
    "id": "WrcydfuW_6DJ"
   },
   "source": [
    "### **Quiz4:**\n",
    "\n",
    "\n",
    "1. What we are doing in the following statement?<br>\n",
    "> dF1=dF1.append(dF2) #dF1 and dF2 are DataFrame object\n",
    "\n",
    "a. We are appending dF1 in dF2\n",
    "\n",
    "b. We are appending dF2 in dF1\n",
    "\n",
    "c. We are creating Series from DataFrame\n",
    "\n",
    "Answer:  We are appending dF2 in dF1\n",
    "\n",
    "\n",
    "2. For the concat(), if the axis=1, it will join the dataframes\n",
    "\n",
    "a. vertically\n",
    "\n",
    "b. horizontally\n",
    "\n",
    "\n",
    "Ans: horizontally\n",
    "\n",
    "\n",
    "\n"
   ]
  },
  {
   "cell_type": "markdown",
   "id": "BT9Q1U8fJrZt",
   "metadata": {
    "id": "BT9Q1U8fJrZt"
   },
   "source": [
    "### This was all about Pandas for today\n",
    "\n",
    "#### Pandas is also a very vast library\n",
    "\n",
    "- You can explore other methods for performing different tasks on your own\n",
    "\n",
    "\n",
    "- We'll cover a few more important concepts in the next lecture\n",
    "\n",
    "\n",
    "- We'll also do some practice questions using Pandas\n",
    "\n",
    "***\n",
    "\n",
    "### Final Q&A for Today's Lecture"
   ]
  },
  {
   "cell_type": "markdown",
   "id": "81cabf5a",
   "metadata": {},
   "source": [
    "# Extra Material : Shivank\n",
    "## Point 1\n",
    "\n",
    "1M rows and ~300 features, taking up a whopping 2.2GB of disk space.\n",
    "\n",
    "%time\n",
    "\n",
    "tps_october = pd.read_csv(\"data/train.csv\")\n",
    "Wall time: 21.8 s\n",
    "\n",
    "## better handling with datatable or dask\n",
    "import datatable as dt  # pip install datatble\n",
    "\n",
    "%%time\n",
    "\n",
    "tps_dt_october = dt.fread(\"data/train.csv\").to_pandas()\n",
    "\n",
    "------------------------------------------------------------\n",
    "\n",
    "Wall time: 2 s"
   ]
  },
  {
   "cell_type": "markdown",
   "id": "36a1ddeb",
   "metadata": {},
   "source": [
    "# Point 2\n",
    "\n",
    "if col_type in numerics:\n",
    "            c_min = df[col].min()\n",
    "            c_max = df[col].max()\n",
    "            if str(col_type)[:3] == \"int\":\n",
    "                if c_min > np.iinfo(np.int8).min and c_max < np.iinfo(np.int8).max:\n",
    "                    df[col] = df[col].astype(np.int8)\n",
    "                    \n",
    "##### saving from 3 GB to 510 MB\n",
    "\n",
    "\n",
    "# Change the dtypes (int64 -> int32)\n",
    "df[['col_1','col_2', \n",
    "    'col_3', 'col_4', 'col_5']] = df[['col_1','col_2', \n",
    "                                      'col_3', 'col_4', 'col_5']].astype('int32')\n",
    "\n",
    "# Change the dtypes (float64 -> float32)\n",
    "df[['col_6', 'col_7',\n",
    "    'col_8', 'col_9', 'col_10']] = df[['col_6', 'col_7',\n",
    "                                       'col_8', 'col_9', 'col_10']].astype('float32')\n",
    "                                       \n",
    "                                       \n",
    " ## checking memory usage\n",
    " df[col1].memory_usage()\n",
    " \n",
    " ## categorical type\n",
    " it returns objects\n",
    " but if output only have Y or N using value_counts()\n",
    " astype('category')"
   ]
  },
  {
   "cell_type": "code",
   "execution_count": null,
   "id": "dee35685",
   "metadata": {},
   "outputs": [],
   "source": [
    "# https://pandas.pydata.org/docs/user_guide/style.html\n",
    "df = pd.read_csv('gapminder.csv')\n",
    "df.describe().T.style.bar(subset=[\"mean\"], color=\"#205ff2\").background_gradient(subset=[\"std\"], cmap=\"Reds\").background_gradient(\n",
    "    subset=[\"50%\"], cmap=\"coolwarm\"\n",
    ")"
   ]
  },
  {
   "cell_type": "code",
   "execution_count": null,
   "id": "e992ac35",
   "metadata": {},
   "outputs": [],
   "source": [
    "import pandas as pd\n",
    "%timeit a = pd.read_csv(\"test.csv\")"
   ]
  },
  {
   "cell_type": "code",
   "execution_count": null,
   "id": "f0019785",
   "metadata": {},
   "outputs": [],
   "source": [
    "a.describe().T.style.bar(subset=[\"mean\"], color=\"#205ff2\").background_gradient(subset=[\"std\"], cmap=\"Reds\").background_gradient(\n",
    "    subset=[\"50%\"], cmap=\"coolwarm\"\n",
    ")"
   ]
  },
  {
   "cell_type": "code",
   "execution_count": null,
   "id": "6447a081",
   "metadata": {},
   "outputs": [],
   "source": [
    "!pip install dask"
   ]
  },
  {
   "cell_type": "code",
   "execution_count": null,
   "id": "623efa6c",
   "metadata": {},
   "outputs": [],
   "source": [
    "import dask.dataframe as dd\n",
    "%timeit ddf = dd.read_csv(\"test.csv\").compute()"
   ]
  },
  {
   "cell_type": "code",
   "execution_count": null,
   "id": "55caeea6",
   "metadata": {},
   "outputs": [],
   "source": [
    "type(ddf)"
   ]
  },
  {
   "cell_type": "code",
   "execution_count": null,
   "id": "3c238021",
   "metadata": {},
   "outputs": [],
   "source": []
  },
  {
   "cell_type": "code",
   "execution_count": null,
   "id": "13f07bf2",
   "metadata": {},
   "outputs": [],
   "source": [
    "ddf.head()"
   ]
  },
  {
   "cell_type": "code",
   "execution_count": null,
   "id": "71f6972a",
   "metadata": {},
   "outputs": [],
   "source": []
  },
  {
   "cell_type": "markdown",
   "id": "12b4e86a",
   "metadata": {},
   "source": [
    "# Pont 4 : Saving to csv\n",
    "\n",
    "%time\n",
    "\n",
    "tps_october.to_csv(\"data/copy.csv\")\n",
    "\n",
    "------------------------------------------\n",
    "\n",
    "Wall time: 2min 43s\n",
    "\n",
    "#### better to save to parquet\n",
    "%time\n",
    "\n",
    "tps_october.to_parquet(\"data/copy.parquet\")\n",
    "\n",
    "Wall time: 7.84 s"
   ]
  },
  {
   "cell_type": "markdown",
   "id": "fa96c6b3",
   "metadata": {},
   "source": [
    "### reading chunkwise\n",
    "\n",
    "incremental_dataframe = pd.read_csv(\"train.csv\",\n",
    "                        chunksize=100000) # Number of lines to rea"
   ]
  },
  {
   "cell_type": "code",
   "execution_count": 262,
   "id": "436bdb8e",
   "metadata": {},
   "outputs": [],
   "source": [
    "import pandas as pd\n",
    "df = pd.read_csv('trip.csv')"
   ]
  },
  {
   "cell_type": "code",
   "execution_count": 263,
   "id": "371cd667",
   "metadata": {},
   "outputs": [],
   "source": [
    "chunk_size=50000\n",
    "batch_no=1\n",
    "for chunk in pd.read_csv('trip.csv',chunksize=chunk_size):\n",
    "    chunk.to_csv('chunk'+str(batch_no)+'.csv',index=False)\n",
    "    batch_no+=1"
   ]
  },
  {
   "cell_type": "code",
   "execution_count": 264,
   "id": "33890daf",
   "metadata": {},
   "outputs": [
    {
     "data": {
      "text/html": [
       "<div>\n",
       "<style scoped>\n",
       "    .dataframe tbody tr th:only-of-type {\n",
       "        vertical-align: middle;\n",
       "    }\n",
       "\n",
       "    .dataframe tbody tr th {\n",
       "        vertical-align: top;\n",
       "    }\n",
       "\n",
       "    .dataframe thead th {\n",
       "        text-align: right;\n",
       "    }\n",
       "</style>\n",
       "<table border=\"1\" class=\"dataframe\">\n",
       "  <thead>\n",
       "    <tr style=\"text-align: right;\">\n",
       "      <th></th>\n",
       "      <th>VendorID</th>\n",
       "      <th>tpep_pickup_datetime</th>\n",
       "      <th>tpep_dropoff_datetime</th>\n",
       "      <th>passenger_count</th>\n",
       "      <th>trip_distance</th>\n",
       "      <th>pickup_longitude</th>\n",
       "      <th>pickup_latitude</th>\n",
       "      <th>RateCodeID</th>\n",
       "      <th>store_and_fwd_flag</th>\n",
       "      <th>dropoff_longitude</th>\n",
       "      <th>dropoff_latitude</th>\n",
       "      <th>payment_type</th>\n",
       "      <th>fare_amount</th>\n",
       "      <th>extra</th>\n",
       "      <th>mta_tax</th>\n",
       "      <th>tip_amount</th>\n",
       "      <th>tolls_amount</th>\n",
       "      <th>improvement_surcharge</th>\n",
       "      <th>total_amount</th>\n",
       "    </tr>\n",
       "  </thead>\n",
       "  <tbody>\n",
       "    <tr>\n",
       "      <th>0</th>\n",
       "      <td>2</td>\n",
       "      <td>2015-01-15 19:05:39</td>\n",
       "      <td>2015-01-15 19:23:42</td>\n",
       "      <td>1</td>\n",
       "      <td>1.59</td>\n",
       "      <td>-73.993896</td>\n",
       "      <td>40.750111</td>\n",
       "      <td>1</td>\n",
       "      <td>N</td>\n",
       "      <td>-73.974785</td>\n",
       "      <td>40.750618</td>\n",
       "      <td>1</td>\n",
       "      <td>12.0</td>\n",
       "      <td>1.0</td>\n",
       "      <td>0.5</td>\n",
       "      <td>3.25</td>\n",
       "      <td>0.0</td>\n",
       "      <td>0.3</td>\n",
       "      <td>17.05</td>\n",
       "    </tr>\n",
       "    <tr>\n",
       "      <th>1</th>\n",
       "      <td>1</td>\n",
       "      <td>2015-01-10 20:33:38</td>\n",
       "      <td>2015-01-10 20:53:28</td>\n",
       "      <td>1</td>\n",
       "      <td>3.30</td>\n",
       "      <td>-74.001648</td>\n",
       "      <td>40.724243</td>\n",
       "      <td>1</td>\n",
       "      <td>N</td>\n",
       "      <td>-73.994415</td>\n",
       "      <td>40.759109</td>\n",
       "      <td>1</td>\n",
       "      <td>14.5</td>\n",
       "      <td>0.5</td>\n",
       "      <td>0.5</td>\n",
       "      <td>2.00</td>\n",
       "      <td>0.0</td>\n",
       "      <td>0.3</td>\n",
       "      <td>17.80</td>\n",
       "    </tr>\n",
       "    <tr>\n",
       "      <th>2</th>\n",
       "      <td>1</td>\n",
       "      <td>2015-01-10 20:33:38</td>\n",
       "      <td>2015-01-10 20:43:41</td>\n",
       "      <td>1</td>\n",
       "      <td>1.80</td>\n",
       "      <td>-73.963341</td>\n",
       "      <td>40.802788</td>\n",
       "      <td>1</td>\n",
       "      <td>N</td>\n",
       "      <td>-73.951820</td>\n",
       "      <td>40.824413</td>\n",
       "      <td>2</td>\n",
       "      <td>9.5</td>\n",
       "      <td>0.5</td>\n",
       "      <td>0.5</td>\n",
       "      <td>0.00</td>\n",
       "      <td>0.0</td>\n",
       "      <td>0.3</td>\n",
       "      <td>10.80</td>\n",
       "    </tr>\n",
       "    <tr>\n",
       "      <th>3</th>\n",
       "      <td>1</td>\n",
       "      <td>2015-01-10 20:33:39</td>\n",
       "      <td>2015-01-10 20:35:31</td>\n",
       "      <td>1</td>\n",
       "      <td>0.50</td>\n",
       "      <td>-74.009087</td>\n",
       "      <td>40.713818</td>\n",
       "      <td>1</td>\n",
       "      <td>N</td>\n",
       "      <td>-74.004326</td>\n",
       "      <td>40.719986</td>\n",
       "      <td>2</td>\n",
       "      <td>3.5</td>\n",
       "      <td>0.5</td>\n",
       "      <td>0.5</td>\n",
       "      <td>0.00</td>\n",
       "      <td>0.0</td>\n",
       "      <td>0.3</td>\n",
       "      <td>4.80</td>\n",
       "    </tr>\n",
       "    <tr>\n",
       "      <th>4</th>\n",
       "      <td>1</td>\n",
       "      <td>2015-01-10 20:33:39</td>\n",
       "      <td>2015-01-10 20:52:58</td>\n",
       "      <td>1</td>\n",
       "      <td>3.00</td>\n",
       "      <td>-73.971176</td>\n",
       "      <td>40.762428</td>\n",
       "      <td>1</td>\n",
       "      <td>N</td>\n",
       "      <td>-74.004181</td>\n",
       "      <td>40.742653</td>\n",
       "      <td>2</td>\n",
       "      <td>15.0</td>\n",
       "      <td>0.5</td>\n",
       "      <td>0.5</td>\n",
       "      <td>0.00</td>\n",
       "      <td>0.0</td>\n",
       "      <td>0.3</td>\n",
       "      <td>16.30</td>\n",
       "    </tr>\n",
       "  </tbody>\n",
       "</table>\n",
       "</div>"
      ],
      "text/plain": [
       "   VendorID tpep_pickup_datetime tpep_dropoff_datetime  passenger_count  \\\n",
       "0         2  2015-01-15 19:05:39   2015-01-15 19:23:42                1   \n",
       "1         1  2015-01-10 20:33:38   2015-01-10 20:53:28                1   \n",
       "2         1  2015-01-10 20:33:38   2015-01-10 20:43:41                1   \n",
       "3         1  2015-01-10 20:33:39   2015-01-10 20:35:31                1   \n",
       "4         1  2015-01-10 20:33:39   2015-01-10 20:52:58                1   \n",
       "\n",
       "   trip_distance  pickup_longitude  pickup_latitude  RateCodeID  \\\n",
       "0           1.59        -73.993896        40.750111           1   \n",
       "1           3.30        -74.001648        40.724243           1   \n",
       "2           1.80        -73.963341        40.802788           1   \n",
       "3           0.50        -74.009087        40.713818           1   \n",
       "4           3.00        -73.971176        40.762428           1   \n",
       "\n",
       "  store_and_fwd_flag  dropoff_longitude  dropoff_latitude  payment_type  \\\n",
       "0                  N         -73.974785         40.750618             1   \n",
       "1                  N         -73.994415         40.759109             1   \n",
       "2                  N         -73.951820         40.824413             2   \n",
       "3                  N         -74.004326         40.719986             2   \n",
       "4                  N         -74.004181         40.742653             2   \n",
       "\n",
       "   fare_amount  extra  mta_tax  tip_amount  tolls_amount  \\\n",
       "0         12.0    1.0      0.5        3.25           0.0   \n",
       "1         14.5    0.5      0.5        2.00           0.0   \n",
       "2          9.5    0.5      0.5        0.00           0.0   \n",
       "3          3.5    0.5      0.5        0.00           0.0   \n",
       "4         15.0    0.5      0.5        0.00           0.0   \n",
       "\n",
       "   improvement_surcharge  total_amount  \n",
       "0                    0.3         17.05  \n",
       "1                    0.3         17.80  \n",
       "2                    0.3         10.80  \n",
       "3                    0.3          4.80  \n",
       "4                    0.3         16.30  "
      ]
     },
     "execution_count": 264,
     "metadata": {},
     "output_type": "execute_result"
    }
   ],
   "source": [
    "df1 = pd.read_csv('chunk1.csv')\n",
    "df1.head()"
   ]
  },
  {
   "cell_type": "code",
   "execution_count": null,
   "id": "53cc7f10",
   "metadata": {},
   "outputs": [],
   "source": []
  }
 ],
 "metadata": {
  "colab": {
   "collapsed_sections": [],
   "name": "Lecture-Pandas1-McKinseyipynb",
   "provenance": []
  },
  "kernelspec": {
   "display_name": "Python 3",
   "language": "python",
   "name": "python3"
  },
  "language_info": {
   "codemirror_mode": {
    "name": "ipython",
    "version": 3
   },
   "file_extension": ".py",
   "mimetype": "text/x-python",
   "name": "python",
   "nbconvert_exporter": "python",
   "pygments_lexer": "ipython3",
   "version": "3.8.8"
  }
 },
 "nbformat": 4,
 "nbformat_minor": 5
}
