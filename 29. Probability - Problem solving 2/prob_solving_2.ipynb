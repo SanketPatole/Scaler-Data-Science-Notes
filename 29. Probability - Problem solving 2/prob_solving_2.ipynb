{
 "cells": [
  {
   "cell_type": "code",
   "execution_count": 1,
   "id": "1adbd79c",
   "metadata": {},
   "outputs": [],
   "source": [
    "import numpy as np\n",
    "import pandas as pd\n",
    "import seaborn as sns\n",
    "import scipy.stats as stats"
   ]
  },
  {
   "cell_type": "markdown",
   "id": "42c8a0a6",
   "metadata": {},
   "source": [
    "# Poisson"
   ]
  },
  {
   "cell_type": "markdown",
   "id": "38b3aa5e",
   "metadata": {},
   "source": [
    "## Football"
   ]
  },
  {
   "cell_type": "markdown",
   "id": "ec2526a4",
   "metadata": {},
   "source": [
    "Number of goals per football match is a Poisson random variable with lambda = 2.5. What is the probability that no goals are scored?"
   ]
  },
  {
   "cell_type": "code",
   "execution_count": 2,
   "id": "3b15b491",
   "metadata": {},
   "outputs": [
    {
     "data": {
      "text/plain": [
       "0.0820849986238988"
      ]
     },
     "execution_count": 2,
     "metadata": {},
     "output_type": "execute_result"
    }
   ],
   "source": [
    "np.exp(-2.5)"
   ]
  },
  {
   "cell_type": "code",
   "execution_count": 3,
   "id": "fe0b3037",
   "metadata": {},
   "outputs": [
    {
     "data": {
      "text/plain": [
       "0.0820849986238988"
      ]
     },
     "execution_count": 3,
     "metadata": {},
     "output_type": "execute_result"
    }
   ],
   "source": [
    "stats.poisson(2.5).pmf(0)"
   ]
  },
  {
   "cell_type": "markdown",
   "id": "0412ca5e",
   "metadata": {},
   "source": [
    "## Vehicle"
   ]
  },
  {
   "cell_type": "markdown",
   "id": "79764f0b",
   "metadata": {},
   "source": [
    "An observer counts 240 vehicles per hour at a specific vehicle arrival location on a highway. Assume that the arrivals are Poisson distributed. What is the probability of one vehicle arriving over a 30 second time interval?\n",
    "\n"
   ]
  },
  {
   "cell_type": "code",
   "execution_count": 4,
   "id": "833c7f46",
   "metadata": {},
   "outputs": [
    {
     "data": {
      "text/plain": [
       "0.2706705664732254"
      ]
     },
     "execution_count": 4,
     "metadata": {},
     "output_type": "execute_result"
    }
   ],
   "source": [
    "# P[N=1] formula\n",
    "2 * np.exp(-2)"
   ]
  },
  {
   "cell_type": "code",
   "execution_count": 5,
   "id": "fba2f72b",
   "metadata": {},
   "outputs": [
    {
     "data": {
      "text/plain": [
       "0.2706705664732254"
      ]
     },
     "execution_count": 5,
     "metadata": {},
     "output_type": "execute_result"
    }
   ],
   "source": [
    "stats.poisson(2).pmf(1)"
   ]
  },
  {
   "cell_type": "markdown",
   "id": "26b73a2b",
   "metadata": {},
   "source": [
    "# Exponential"
   ]
  },
  {
   "cell_type": "markdown",
   "id": "21aa1d93",
   "metadata": {},
   "source": [
    "## Bus"
   ]
  },
  {
   "cell_type": "markdown",
   "id": "80f4f20d",
   "metadata": {},
   "source": [
    "Time spent waiting for a bus is exponentially distributed with mean 10 minutes.\n",
    "What is the probability of waiting more than 15 minutes.\n",
    "Given that we have waited for ten minutes, what is the probability of waiting more than 15 minutes."
   ]
  },
  {
   "cell_type": "code",
   "execution_count": 6,
   "id": "47ece699",
   "metadata": {},
   "outputs": [
    {
     "data": {
      "text/plain": [
       "0.2231301601484298"
      ]
     },
     "execution_count": 6,
     "metadata": {},
     "output_type": "execute_result"
    }
   ],
   "source": [
    "# P[X > 15]\n",
    "1 - stats.expon(scale=10).cdf(15)"
   ]
  },
  {
   "cell_type": "code",
   "execution_count": 7,
   "id": "9db0ef9b",
   "metadata": {},
   "outputs": [
    {
     "data": {
      "text/plain": [
       "0.6065306597126334"
      ]
     },
     "execution_count": 7,
     "metadata": {},
     "output_type": "execute_result"
    }
   ],
   "source": [
    "# P[X > 15 | X > 10] = P[X > 5]\n",
    "1 - stats.expon(scale=10).cdf(5)"
   ]
  },
  {
   "cell_type": "markdown",
   "id": "cfb381d7",
   "metadata": {},
   "source": [
    "## Railway"
   ]
  },
  {
   "cell_type": "markdown",
   "id": "87ae3c7f",
   "metadata": {},
   "source": [
    "For a certain railway agency, the number of days people book their rail ticket in advance can be modeled by an exponential distribution, with the average amount of time to be 4 days. Based on this data, how many days in advance do 75% of all travelers book tickets?"
   ]
  },
  {
   "cell_type": "code",
   "execution_count": 8,
   "id": "37820ee8",
   "metadata": {},
   "outputs": [
    {
     "data": {
      "text/plain": [
       "5.545177444479562"
      ]
     },
     "execution_count": 8,
     "metadata": {},
     "output_type": "execute_result"
    }
   ],
   "source": [
    "stats.expon(scale=4).ppf(0.75)"
   ]
  },
  {
   "cell_type": "markdown",
   "id": "7c66042f",
   "metadata": {},
   "source": [
    "## Football"
   ]
  },
  {
   "cell_type": "markdown",
   "id": "fa5322cb",
   "metadata": {},
   "source": [
    "Number of goals per football match of 90 minutes is a Poisson random variable with lambda = 2.5. \n",
    "What is the expected number of minutes to wait for the first goal?\n",
    "What is the probability that there is no goal scored till half-time (45 mins)"
   ]
  },
  {
   "cell_type": "code",
   "execution_count": 9,
   "id": "d1c37860",
   "metadata": {},
   "outputs": [
    {
     "data": {
      "text/plain": [
       "0.28650479686019015"
      ]
     },
     "execution_count": 9,
     "metadata": {},
     "output_type": "execute_result"
    }
   ],
   "source": [
    "# Here 90 mins is \"one interval\", hence lambda = 2.5, and use Exponential to find prob of waiting > \"half\" interval\n",
    "1 - stats.expon(scale=1/2.5).cdf(1/2)"
   ]
  },
  {
   "cell_type": "code",
   "execution_count": 10,
   "id": "96ea9537",
   "metadata": {},
   "outputs": [
    {
     "data": {
      "text/plain": [
       "0.28650479686019015"
      ]
     },
     "execution_count": 10,
     "metadata": {},
     "output_type": "execute_result"
    }
   ],
   "source": [
    "# Here 45-mins is \"one interval\", hence lambda = 2.5/2, and use Exponential to find prob of waiting > \"one\" interval\n",
    "1 - stats.expon(scale=1/1.25).cdf(1)"
   ]
  },
  {
   "cell_type": "code",
   "execution_count": 11,
   "id": "9b42d59b",
   "metadata": {},
   "outputs": [
    {
     "data": {
      "text/plain": [
       "0.2865047968601901"
      ]
     },
     "execution_count": 11,
     "metadata": {},
     "output_type": "execute_result"
    }
   ],
   "source": [
    "# Here 45 mins is \"one interval\", hence lambda = 2.5/2, and use Poisson to count that \"0\" goals are scored\n",
    "stats.poisson(1.25).pmf(0)"
   ]
  },
  {
   "cell_type": "markdown",
   "id": "386feb20",
   "metadata": {},
   "source": [
    "# Coin toss till first heads"
   ]
  },
  {
   "cell_type": "markdown",
   "id": "f05aacb7",
   "metadata": {},
   "source": [
    "## Recursion"
   ]
  },
  {
   "cell_type": "code",
   "execution_count": 12,
   "id": "05a1e9e8",
   "metadata": {},
   "outputs": [],
   "source": [
    "p = 0.7\n",
    "def expected_coin_tosses():\n",
    "    toss = np.random.choice([\"Heads\", \"Tails\"], p=[p, 1-p])\n",
    "    if toss == \"Heads\":\n",
    "        return 1\n",
    "    else:\n",
    "        return 1 + expected_coin_tosses()"
   ]
  },
  {
   "cell_type": "code",
   "execution_count": 13,
   "id": "45ed927f",
   "metadata": {},
   "outputs": [
    {
     "name": "stdout",
     "output_type": "stream",
     "text": [
      "1.4238\n"
     ]
    }
   ],
   "source": [
    "num_trials = 10000\n",
    "list_of_expected_tosses = []\n",
    "for trial in range(num_trials):\n",
    "    val = expected_coin_tosses()\n",
    "    list_of_expected_tosses.append(val)\n",
    "print(np.mean(list_of_expected_tosses))"
   ]
  },
  {
   "cell_type": "code",
   "execution_count": 14,
   "id": "03300a96",
   "metadata": {},
   "outputs": [
    {
     "data": {
      "text/plain": [
       "1.4285714285714286"
      ]
     },
     "execution_count": 14,
     "metadata": {},
     "output_type": "execute_result"
    }
   ],
   "source": [
    "1/p"
   ]
  },
  {
   "cell_type": "code",
   "execution_count": 15,
   "id": "acdcfe7b",
   "metadata": {},
   "outputs": [
    {
     "data": {
      "text/plain": [
       "<AxesSubplot:ylabel='Count'>"
      ]
     },
     "execution_count": 15,
     "metadata": {},
     "output_type": "execute_result"
    },
    {
     "data": {
      "image/png": "[encoded data removed]",
      "text/plain": [
       "<Figure size 432x288 with 1 Axes>"
      ]
     },
     "metadata": {
      "needs_background": "light"
     },
     "output_type": "display_data"
    }
   ],
   "source": [
    "sns.histplot(list_of_expected_tosses)"
   ]
  },
  {
   "cell_type": "markdown",
   "id": "9008e75f",
   "metadata": {},
   "source": [
    "## Iteration"
   ]
  },
  {
   "cell_type": "code",
   "execution_count": 16,
   "id": "08ed9e32",
   "metadata": {},
   "outputs": [
    {
     "name": "stdout",
     "output_type": "stream",
     "text": [
      "1.4332\n"
     ]
    },
    {
     "data": {
      "text/plain": [
       "<AxesSubplot:ylabel='Probability'>"
      ]
     },
     "execution_count": 16,
     "metadata": {},
     "output_type": "execute_result"
    },
    {
     "data": {
      "image/png": "[encoded data removed]",
      "text/plain": [
       "<Figure size 432x288 with 1 Axes>"
      ]
     },
     "metadata": {
      "needs_background": "light"
     },
     "output_type": "display_data"
    }
   ],
   "source": [
    "p = 0.7\n",
    "num_trials = 10000\n",
    "flips_till_first_heads = []\n",
    "for trial in range(num_trials):\n",
    "    val = 1\n",
    "    while True:\n",
    "        toss = np.random.choice([\"Heads\", \"Tails\"], p=[p, 1-p])\n",
    "        if toss == \"Heads\":\n",
    "            break\n",
    "        else:\n",
    "            val += 1\n",
    "    flips_till_first_heads.append(val)\n",
    "    \n",
    "print(np.mean(flips_till_first_heads))\n",
    "sns.histplot(flips_till_first_heads, stat=\"probability\")"
   ]
  }
 ],
 "metadata": {
  "kernelspec": {
   "display_name": "Python 3 (ipykernel)",
   "language": "python",
   "name": "python3"
  },
  "language_info": {
   "codemirror_mode": {
    "name": "ipython",
    "version": 3
   },
   "file_extension": ".py",
   "mimetype": "text/x-python",
   "name": "python",
   "nbconvert_exporter": "python",
   "pygments_lexer": "ipython3",
   "version": "3.8.12"
  }
 },
 "nbformat": 4,
 "nbformat_minor": 5
}
