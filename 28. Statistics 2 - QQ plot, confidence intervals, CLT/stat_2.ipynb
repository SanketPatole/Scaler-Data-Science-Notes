{
 "cells": [
  {
   "cell_type": "code",
   "execution_count": 1,
   "id": "defff4c7",
   "metadata": {},
   "outputs": [],
   "source": [
    "import numpy as np\n",
    "import pandas as pd\n",
    "import seaborn as sns\n",
    "from scipy import stats\n",
    "import matplotlib.pyplot as plt"
   ]
  },
  {
   "cell_type": "code",
   "execution_count": 2,
   "id": "11cb6828",
   "metadata": {},
   "outputs": [],
   "source": [
    "sehwag = pd.read_csv(\"sehwag.csv\")"
   ]
  },
  {
   "cell_type": "code",
   "execution_count": 3,
   "id": "d3052f5b",
   "metadata": {},
   "outputs": [
    {
     "data": {
      "text/plain": [
       "245"
      ]
     },
     "execution_count": 3,
     "metadata": {},
     "output_type": "execute_result"
    }
   ],
   "source": [
    "len(sehwag)"
   ]
  },
  {
   "cell_type": "code",
   "execution_count": 4,
   "id": "5802ef7f",
   "metadata": {},
   "outputs": [
    {
     "data": {
      "text/html": [
       "<div>\n",
       "<style scoped>\n",
       "    .dataframe tbody tr th:only-of-type {\n",
       "        vertical-align: middle;\n",
       "    }\n",
       "\n",
       "    .dataframe tbody tr th {\n",
       "        vertical-align: top;\n",
       "    }\n",
       "\n",
       "    .dataframe thead th {\n",
       "        text-align: right;\n",
       "    }\n",
       "</style>\n",
       "<table border=\"1\" class=\"dataframe\">\n",
       "  <thead>\n",
       "    <tr style=\"text-align: right;\">\n",
       "      <th></th>\n",
       "      <th>Runs</th>\n",
       "      <th>Mins</th>\n",
       "      <th>BF</th>\n",
       "      <th>4s</th>\n",
       "      <th>6s</th>\n",
       "      <th>SR</th>\n",
       "      <th>Pos</th>\n",
       "      <th>Dismissal</th>\n",
       "      <th>Inns</th>\n",
       "      <th>Unnamed: 9</th>\n",
       "      <th>Opposition</th>\n",
       "      <th>Ground</th>\n",
       "      <th>Start Date</th>\n",
       "      <th>Unnamed: 13</th>\n",
       "    </tr>\n",
       "  </thead>\n",
       "  <tbody>\n",
       "    <tr>\n",
       "      <th>0</th>\n",
       "      <td>1</td>\n",
       "      <td>5</td>\n",
       "      <td>2</td>\n",
       "      <td>0</td>\n",
       "      <td>0</td>\n",
       "      <td>50.00</td>\n",
       "      <td>7</td>\n",
       "      <td>lbw</td>\n",
       "      <td>1</td>\n",
       "      <td>NaN</td>\n",
       "      <td>v Pakistan</td>\n",
       "      <td>Mohali</td>\n",
       "      <td>1 Apr 1999</td>\n",
       "      <td>ODI # 1427</td>\n",
       "    </tr>\n",
       "    <tr>\n",
       "      <th>1</th>\n",
       "      <td>19</td>\n",
       "      <td>18</td>\n",
       "      <td>24</td>\n",
       "      <td>0</td>\n",
       "      <td>1</td>\n",
       "      <td>79.16</td>\n",
       "      <td>6</td>\n",
       "      <td>caught</td>\n",
       "      <td>1</td>\n",
       "      <td>NaN</td>\n",
       "      <td>v Zimbabwe</td>\n",
       "      <td>Rajkot</td>\n",
       "      <td>14 Dec 2000</td>\n",
       "      <td>ODI # 1660</td>\n",
       "    </tr>\n",
       "    <tr>\n",
       "      <th>2</th>\n",
       "      <td>58</td>\n",
       "      <td>62</td>\n",
       "      <td>54</td>\n",
       "      <td>8</td>\n",
       "      <td>0</td>\n",
       "      <td>107.40</td>\n",
       "      <td>6</td>\n",
       "      <td>bowled</td>\n",
       "      <td>1</td>\n",
       "      <td>NaN</td>\n",
       "      <td>v Australia</td>\n",
       "      <td>Bengaluru</td>\n",
       "      <td>25 Mar 2001</td>\n",
       "      <td>ODI # 1696</td>\n",
       "    </tr>\n",
       "    <tr>\n",
       "      <th>3</th>\n",
       "      <td>2</td>\n",
       "      <td>7</td>\n",
       "      <td>7</td>\n",
       "      <td>0</td>\n",
       "      <td>0</td>\n",
       "      <td>28.57</td>\n",
       "      <td>6</td>\n",
       "      <td>caught</td>\n",
       "      <td>2</td>\n",
       "      <td>NaN</td>\n",
       "      <td>v Zimbabwe</td>\n",
       "      <td>Bulawayo</td>\n",
       "      <td>27 Jun 2001</td>\n",
       "      <td>ODI # 1730</td>\n",
       "    </tr>\n",
       "    <tr>\n",
       "      <th>4</th>\n",
       "      <td>11</td>\n",
       "      <td>19</td>\n",
       "      <td>16</td>\n",
       "      <td>1</td>\n",
       "      <td>0</td>\n",
       "      <td>68.75</td>\n",
       "      <td>6</td>\n",
       "      <td>not out</td>\n",
       "      <td>2</td>\n",
       "      <td>NaN</td>\n",
       "      <td>v West Indies</td>\n",
       "      <td>Bulawayo</td>\n",
       "      <td>30 Jun 2001</td>\n",
       "      <td>ODI # 1731</td>\n",
       "    </tr>\n",
       "  </tbody>\n",
       "</table>\n",
       "</div>"
      ],
      "text/plain": [
       "   Runs Mins  BF  4s  6s      SR  Pos Dismissal  Inns  Unnamed: 9  \\\n",
       "0     1    5   2   0   0   50.00    7       lbw     1         NaN   \n",
       "1    19   18  24   0   1   79.16    6    caught     1         NaN   \n",
       "2    58   62  54   8   0  107.40    6    bowled     1         NaN   \n",
       "3     2    7   7   0   0   28.57    6    caught     2         NaN   \n",
       "4    11   19  16   1   0   68.75    6   not out     2         NaN   \n",
       "\n",
       "      Opposition     Ground   Start Date Unnamed: 13  \n",
       "0     v Pakistan     Mohali   1 Apr 1999  ODI # 1427  \n",
       "1     v Zimbabwe     Rajkot  14 Dec 2000  ODI # 1660  \n",
       "2    v Australia  Bengaluru  25 Mar 2001  ODI # 1696  \n",
       "3     v Zimbabwe   Bulawayo  27 Jun 2001  ODI # 1730  \n",
       "4  v West Indies   Bulawayo  30 Jun 2001  ODI # 1731  "
      ]
     },
     "execution_count": 4,
     "metadata": {},
     "output_type": "execute_result"
    }
   ],
   "source": [
    "sehwag.head()"
   ]
  },
  {
   "cell_type": "code",
   "execution_count": 5,
   "id": "ef2ea4d7",
   "metadata": {},
   "outputs": [
    {
     "data": {
      "text/plain": [
       "33.76734693877551"
      ]
     },
     "execution_count": 5,
     "metadata": {},
     "output_type": "execute_result"
    }
   ],
   "source": [
    "mu_sehwag = sehwag[\"Runs\"].mean()\n",
    "mu_sehwag"
   ]
  },
  {
   "cell_type": "code",
   "execution_count": 6,
   "id": "08d99c3e",
   "metadata": {},
   "outputs": [
    {
     "data": {
      "text/plain": [
       "34.81"
      ]
     },
     "execution_count": 6,
     "metadata": {},
     "output_type": "execute_result"
    }
   ],
   "source": [
    "sigma_sehwag = sehwag[\"Runs\"].std().round(2)\n",
    "sigma_sehwag"
   ]
  },
  {
   "cell_type": "code",
   "execution_count": 7,
   "id": "eb54dc9a",
   "metadata": {},
   "outputs": [],
   "source": [
    "num_samples = 100\n",
    "num_repititions = 10000\n",
    "collect_sample_means = []\n",
    "for rep in range(num_repititions):\n",
    "    sample_mean = sehwag[\"Runs\"].sample(num_samples).mean()\n",
    "    collect_sample_means.append(sample_mean)"
   ]
  },
  {
   "cell_type": "code",
   "execution_count": 8,
   "id": "416f5fe5",
   "metadata": {},
   "outputs": [
    {
     "data": {
      "text/plain": [
       "33.787354"
      ]
     },
     "execution_count": 8,
     "metadata": {},
     "output_type": "execute_result"
    }
   ],
   "source": [
    "np.mean(collect_sample_means)"
   ]
  },
  {
   "cell_type": "code",
   "execution_count": 9,
   "id": "0850c0bc",
   "metadata": {},
   "outputs": [
    {
     "data": {
      "text/plain": [
       "2.6855358866870502"
      ]
     },
     "execution_count": 9,
     "metadata": {},
     "output_type": "execute_result"
    }
   ],
   "source": [
    "np.std(collect_sample_means)"
   ]
  },
  {
   "cell_type": "code",
   "execution_count": 10,
   "id": "a6ca8c9c",
   "metadata": {},
   "outputs": [
    {
     "data": {
      "text/plain": [
       "3.4810000000000003"
      ]
     },
     "execution_count": 10,
     "metadata": {},
     "output_type": "execute_result"
    }
   ],
   "source": [
    "sigma_sehwag/np.sqrt(num_samples)"
   ]
  },
  {
   "cell_type": "code",
   "execution_count": 11,
   "id": "13276bcf",
   "metadata": {},
   "outputs": [
    {
     "data": {
      "text/plain": [
       "<AxesSubplot:ylabel='Count'>"
      ]
     },
     "execution_count": 11,
     "metadata": {},
     "output_type": "execute_result"
    },
    {
     "data": {
      "image/png": "[encoded data removed]",
      "text/plain": [
       "<Figure size 432x288 with 1 Axes>"
      ]
     },
     "metadata": {
      "needs_background": "light"
     },
     "output_type": "display_data"
    }
   ],
   "source": [
    "sns.histplot(collect_sample_means)"
   ]
  },
  {
   "cell_type": "markdown",
   "id": "58eaf8b5",
   "metadata": {},
   "source": [
    "# Uber dataset"
   ]
  },
  {
   "cell_type": "code",
   "execution_count": 12,
   "id": "8e6dba22",
   "metadata": {},
   "outputs": [],
   "source": [
    "!wget \"https://drive.google.com/uc?export=download&id=1NokZy4YzavFdTZlWcIUs47WW5M2A4ElE\" -O Uber_dataset.zip\n",
    "!unzip Uber_dataset.zip \n",
    "df_uber = pd.read_csv(\"uber_travel_data.csv\")"
   ]
  },
  {
   "cell_type": "code",
   "execution_count": 13,
   "id": "a3c16917",
   "metadata": {},
   "outputs": [
    {
     "data": {
      "text/plain": [
       "(4542026, 5)"
      ]
     },
     "execution_count": 13,
     "metadata": {},
     "output_type": "execute_result"
    }
   ],
   "source": [
    "df_uber.shape"
   ]
  },
  {
   "cell_type": "code",
   "execution_count": 14,
   "id": "0999ab91",
   "metadata": {
    "scrolled": true
   },
   "outputs": [
    {
     "data": {
      "text/html": [
       "<div>\n",
       "<style scoped>\n",
       "    .dataframe tbody tr th:only-of-type {\n",
       "        vertical-align: middle;\n",
       "    }\n",
       "\n",
       "    .dataframe tbody tr th {\n",
       "        vertical-align: top;\n",
       "    }\n",
       "\n",
       "    .dataframe thead th {\n",
       "        text-align: right;\n",
       "    }\n",
       "</style>\n",
       "<table border=\"1\" class=\"dataframe\">\n",
       "  <thead>\n",
       "    <tr style=\"text-align: right;\">\n",
       "      <th></th>\n",
       "      <th>sourceid</th>\n",
       "      <th>source</th>\n",
       "      <th>dstid</th>\n",
       "      <th>destination</th>\n",
       "      <th>travel_time</th>\n",
       "    </tr>\n",
       "  </thead>\n",
       "  <tbody>\n",
       "    <tr>\n",
       "      <th>2325089</th>\n",
       "      <td>149</td>\n",
       "      <td>Bharati Road, Block C 2, Block D, New Ashok Na...</td>\n",
       "      <td>67</td>\n",
       "      <td>63/33, Hudco Place, Andrews Ganj Extension, An...</td>\n",
       "      <td>1143</td>\n",
       "    </tr>\n",
       "    <tr>\n",
       "      <th>35546</th>\n",
       "      <td>3</td>\n",
       "      <td>Unnamed Road, Mahipalpur, New Delhi</td>\n",
       "      <td>13</td>\n",
       "      <td>10, Aurangzeb Road, New Delhi</td>\n",
       "      <td>1387</td>\n",
       "    </tr>\n",
       "    <tr>\n",
       "      <th>376605</th>\n",
       "      <td>22</td>\n",
       "      <td>500 Fasil Road, Farash Khana, Chandni Chowk, N...</td>\n",
       "      <td>174</td>\n",
       "      <td>NaN</td>\n",
       "      <td>3874</td>\n",
       "    </tr>\n",
       "    <tr>\n",
       "      <th>4217070</th>\n",
       "      <td>265</td>\n",
       "      <td>0 Lane Number 8, Krishan Kunj Extension Part 2...</td>\n",
       "      <td>280</td>\n",
       "      <td>nullHastsal Road, Block A2, JJ Colony, Uttam N...</td>\n",
       "      <td>3512</td>\n",
       "    </tr>\n",
       "    <tr>\n",
       "      <th>936203</th>\n",
       "      <td>61</td>\n",
       "      <td>Unnamed Road, National Zoological Park, Sundar...</td>\n",
       "      <td>17</td>\n",
       "      <td>0 Khanna Market Road, Aliganj, Lodi Colony, Ne...</td>\n",
       "      <td>448</td>\n",
       "    </tr>\n",
       "    <tr>\n",
       "      <th>2652489</th>\n",
       "      <td>169</td>\n",
       "      <td>G-9, Block F 1U, Ranikhet, Pitampura, Delhi</td>\n",
       "      <td>51</td>\n",
       "      <td>Gali number 4, Ambedkar Colony, Dagarpur Mohal...</td>\n",
       "      <td>1476</td>\n",
       "    </tr>\n",
       "    <tr>\n",
       "      <th>1402567</th>\n",
       "      <td>90</td>\n",
       "      <td>C-86, Pocket C, Okhla Phase I, Okhla Industria...</td>\n",
       "      <td>117</td>\n",
       "      <td>NaN</td>\n",
       "      <td>3161</td>\n",
       "    </tr>\n",
       "    <tr>\n",
       "      <th>62461</th>\n",
       "      <td>4</td>\n",
       "      <td>P-268/3, Rock View, Delhi Cantonment, Delhi</td>\n",
       "      <td>143</td>\n",
       "      <td>nullRoad Number 221, Pocket 1, Sector 10 Dwark...</td>\n",
       "      <td>1021</td>\n",
       "    </tr>\n",
       "    <tr>\n",
       "      <th>4009511</th>\n",
       "      <td>253</td>\n",
       "      <td>0 Chaudhary Harsukh Marg, B6, Block B6, Humayu...</td>\n",
       "      <td>176</td>\n",
       "      <td>B7-187, Pocket 7, Sector 3B, Rohini, Delhi</td>\n",
       "      <td>2753</td>\n",
       "    </tr>\n",
       "    <tr>\n",
       "      <th>4266265</th>\n",
       "      <td>268</td>\n",
       "      <td>null5th Pustha Road, Block B, Bhajanpura, Shah...</td>\n",
       "      <td>229</td>\n",
       "      <td>200 Road Number 28, Nehru Nagar, Shivaji Place...</td>\n",
       "      <td>1967</td>\n",
       "    </tr>\n",
       "  </tbody>\n",
       "</table>\n",
       "</div>"
      ],
      "text/plain": [
       "         sourceid                                             source  dstid  \\\n",
       "2325089       149  Bharati Road, Block C 2, Block D, New Ashok Na...     67   \n",
       "35546           3                Unnamed Road, Mahipalpur, New Delhi     13   \n",
       "376605         22  500 Fasil Road, Farash Khana, Chandni Chowk, N...    174   \n",
       "4217070       265  0 Lane Number 8, Krishan Kunj Extension Part 2...    280   \n",
       "936203         61  Unnamed Road, National Zoological Park, Sundar...     17   \n",
       "2652489       169        G-9, Block F 1U, Ranikhet, Pitampura, Delhi     51   \n",
       "1402567        90  C-86, Pocket C, Okhla Phase I, Okhla Industria...    117   \n",
       "62461           4        P-268/3, Rock View, Delhi Cantonment, Delhi    143   \n",
       "4009511       253  0 Chaudhary Harsukh Marg, B6, Block B6, Humayu...    176   \n",
       "4266265       268  null5th Pustha Road, Block B, Bhajanpura, Shah...    229   \n",
       "\n",
       "                                               destination  travel_time  \n",
       "2325089  63/33, Hudco Place, Andrews Ganj Extension, An...         1143  \n",
       "35546                        10, Aurangzeb Road, New Delhi         1387  \n",
       "376605                                                 NaN         3874  \n",
       "4217070  nullHastsal Road, Block A2, JJ Colony, Uttam N...         3512  \n",
       "936203   0 Khanna Market Road, Aliganj, Lodi Colony, Ne...          448  \n",
       "2652489  Gali number 4, Ambedkar Colony, Dagarpur Mohal...         1476  \n",
       "1402567                                                NaN         3161  \n",
       "62461    nullRoad Number 221, Pocket 1, Sector 10 Dwark...         1021  \n",
       "4009511         B7-187, Pocket 7, Sector 3B, Rohini, Delhi         2753  \n",
       "4266265  200 Road Number 28, Nehru Nagar, Shivaji Place...         1967  "
      ]
     },
     "execution_count": 14,
     "metadata": {},
     "output_type": "execute_result"
    }
   ],
   "source": [
    "df_uber.sample(10)"
   ]
  },
  {
   "cell_type": "code",
   "execution_count": 15,
   "id": "72e59655",
   "metadata": {},
   "outputs": [
    {
     "data": {
      "text/plain": [
       "sourceid  dstid\n",
       "69        4        50\n",
       "167       107      50\n",
       "          101      50\n",
       "264       14       50\n",
       "167       100      50\n",
       "                   ..\n",
       "83        88       79\n",
       "244       32       79\n",
       "202       201      79\n",
       "          135      79\n",
       "45        170      79\n",
       "Length: 70429, dtype: int64"
      ]
     },
     "execution_count": 15,
     "metadata": {},
     "output_type": "execute_result"
    }
   ],
   "source": [
    "df_uber.value_counts(['sourceid', 'dstid']).sort_values()"
   ]
  },
  {
   "cell_type": "code",
   "execution_count": 16,
   "id": "d0fd7b5e",
   "metadata": {},
   "outputs": [
    {
     "data": {
      "text/plain": [
       "(75,)"
      ]
     },
     "execution_count": 16,
     "metadata": {},
     "output_type": "execute_result"
    }
   ],
   "source": [
    "data = df_uber[(df_uber[\"sourceid\"] == 1) & (df_uber[\"dstid\"] == 5)] [\"travel_time\"]\n",
    "data.shape"
   ]
  },
  {
   "cell_type": "code",
   "execution_count": 17,
   "id": "929d67d1",
   "metadata": {},
   "outputs": [
    {
     "data": {
      "text/plain": [
       "265    1084\n",
       "266    1138\n",
       "267    1129\n",
       "268    1076\n",
       "269    1123\n",
       "       ... \n",
       "335    1155\n",
       "336    1148\n",
       "337    1093\n",
       "338    1174\n",
       "339    1161\n",
       "Name: travel_time, Length: 75, dtype: int64"
      ]
     },
     "execution_count": 17,
     "metadata": {},
     "output_type": "execute_result"
    }
   ],
   "source": [
    "data"
   ]
  },
  {
   "cell_type": "code",
   "execution_count": 18,
   "id": "a43c17f8",
   "metadata": {},
   "outputs": [],
   "source": [
    "num_repititions = 10000\n",
    "num_samples = 50\n",
    "bootstrapped_means = []\n",
    "for rep in range(num_repititions):\n",
    "    bootstrapped_sample = data.sample(n=num_samples, replace=True)\n",
    "    bootstrapped_means.append(np.mean(bootstrapped_sample))"
   ]
  },
  {
   "cell_type": "code",
   "execution_count": 20,
   "id": "2fc9718f",
   "metadata": {},
   "outputs": [
    {
     "data": {
      "text/plain": [
       "array([1115.8595, 1129.62  ])"
      ]
     },
     "execution_count": 20,
     "metadata": {},
     "output_type": "execute_result"
    }
   ],
   "source": [
    "conf_interval = np.percentile(bootstrapped_means, [2.5, 97.5])\n",
    "conf_interval"
   ]
  },
  {
   "cell_type": "code",
   "execution_count": 21,
   "id": "07863421",
   "metadata": {},
   "outputs": [
    {
     "data": {
      "image/png": "[encoded data removed]",
      "text/plain": [
       "<Figure size 432x288 with 1 Axes>"
      ]
     },
     "metadata": {
      "needs_background": "light"
     },
     "output_type": "display_data"
    }
   ],
   "source": [
    "plt.hist(bootstrapped_means, bins=100)\n",
    "plt.axvline(x=conf_interval[0], c=\"r\")\n",
    "plt.axvline(x=conf_interval[1], c=\"r\")\n",
    "plt.show()"
   ]
  },
  {
   "cell_type": "markdown",
   "id": "1a9d8525",
   "metadata": {},
   "source": [
    "## CLT version"
   ]
  },
  {
   "cell_type": "code",
   "execution_count": 24,
   "id": "0292ee86",
   "metadata": {},
   "outputs": [],
   "source": [
    "data = df_uber[(df_uber[\"sourceid\"] == 1) & (df_uber[\"dstid\"] == 5)] [\"travel_time\"]\n",
    "margin_of_error_clt = 1.96*np.std(data)/np.sqrt(len(data))\n",
    "sample_mean = data.mean()\n",
    "lower_lim = sample_mean - margin_of_error_clt\n",
    "upper_lim = sample_mean + margin_of_error_clt"
   ]
  },
  {
   "cell_type": "code",
   "execution_count": 25,
   "id": "9eb07103",
   "metadata": {},
   "outputs": [
    {
     "data": {
      "text/plain": [
       "(1117.2644821894792, 1128.3621844771874)"
      ]
     },
     "execution_count": 25,
     "metadata": {},
     "output_type": "execute_result"
    }
   ],
   "source": [
    "lower_lim, upper_lim"
   ]
  },
  {
   "cell_type": "markdown",
   "id": "ce0913dc",
   "metadata": {},
   "source": [
    "# ZScore"
   ]
  },
  {
   "cell_type": "code",
   "execution_count": 26,
   "id": "86c4a8ed",
   "metadata": {},
   "outputs": [
    {
     "data": {
      "text/plain": [
       "1.959963984540054"
      ]
     },
     "execution_count": 26,
     "metadata": {},
     "output_type": "execute_result"
    }
   ],
   "source": [
    "stats.norm.ppf(0.975)"
   ]
  },
  {
   "cell_type": "code",
   "execution_count": 27,
   "id": "4b7be621",
   "metadata": {},
   "outputs": [
    {
     "data": {
      "text/plain": [
       "0.9750021048517795"
      ]
     },
     "execution_count": 27,
     "metadata": {},
     "output_type": "execute_result"
    }
   ],
   "source": [
    "stats.norm.cdf(1.96)"
   ]
  },
  {
   "cell_type": "code",
   "execution_count": 28,
   "id": "88080e5a",
   "metadata": {},
   "outputs": [
    {
     "data": {
      "text/plain": [
       "0.9544997361036416"
      ]
     },
     "execution_count": 28,
     "metadata": {},
     "output_type": "execute_result"
    }
   ],
   "source": [
    "stats.norm.cdf(2) - stats.norm.cdf(-2)"
   ]
  }
 ],
 "metadata": {
  "kernelspec": {
   "display_name": "Python 3 (ipykernel)",
   "language": "python",
   "name": "python3"
  },
  "language_info": {
   "codemirror_mode": {
    "name": "ipython",
    "version": 3
   },
   "file_extension": ".py",
   "mimetype": "text/x-python",
   "name": "python",
   "nbconvert_exporter": "python",
   "pygments_lexer": "ipython3",
   "version": "3.8.12"
  }
 },
 "nbformat": 4,
 "nbformat_minor": 5
}
