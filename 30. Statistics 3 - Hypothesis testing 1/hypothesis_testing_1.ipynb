{
 "cells": [
  {
   "cell_type": "code",
   "execution_count": 1,
   "id": "491b4b67",
   "metadata": {},
   "outputs": [],
   "source": [
    "import numpy as np\n",
    "import pandas as pd\n",
    "import seaborn as sns\n",
    "import scipy.stats as stats\n",
    "import matplotlib.pyplot as plt\n",
    "\n",
    "from statsmodels.graphics.gofplots import qqplot\n"
   ]
  },
  {
   "cell_type": "markdown",
   "id": "9b909b9b",
   "metadata": {},
   "source": [
    "# Coin"
   ]
  },
  {
   "cell_type": "markdown",
   "id": "ec0788b8",
   "metadata": {},
   "source": [
    "## Number of tosses = 10"
   ]
  },
  {
   "cell_type": "code",
   "execution_count": 2,
   "id": "556a3c25",
   "metadata": {},
   "outputs": [],
   "source": [
    "num_tosses = 10\n",
    "dist = stats.binom(num_tosses, 0.5) # H0: Coin is fair"
   ]
  },
  {
   "cell_type": "code",
   "execution_count": 3,
   "id": "8bc6fc32",
   "metadata": {},
   "outputs": [
    {
     "data": {
      "text/plain": [
       "0.17187500000000006"
      ]
     },
     "execution_count": 3,
     "metadata": {},
     "output_type": "execute_result"
    }
   ],
   "source": [
    "# Prob[T >= 7]\n",
    "dist.pmf(7) + dist.pmf(8) + dist.pmf(9) + dist.pmf(10)"
   ]
  },
  {
   "cell_type": "code",
   "execution_count": 4,
   "id": "987f1317",
   "metadata": {},
   "outputs": [
    {
     "data": {
      "text/plain": [
       "0.171875"
      ]
     },
     "execution_count": 4,
     "metadata": {},
     "output_type": "execute_result"
    }
   ],
   "source": [
    "# 1 - Prob[T <= 6]\n",
    "1 - dist.cdf(6)"
   ]
  },
  {
   "cell_type": "code",
   "execution_count": 5,
   "id": "a00a3c53",
   "metadata": {},
   "outputs": [
    {
     "data": {
      "text/plain": [
       "<BarContainer object of 11 artists>"
      ]
     },
     "execution_count": 5,
     "metadata": {},
     "output_type": "execute_result"
    },
    {
     "data": {
      "image/png": "[encoded data removed]",
      "text/plain": [
       "<Figure size 432x288 with 1 Axes>"
      ]
     },
     "metadata": {
      "needs_background": "light"
     },
     "output_type": "display_data"
    }
   ],
   "source": [
    "x_values = np.arange(0, num_tosses+1)\n",
    "y_values = dist.pmf(x_values)\n",
    "plt.bar(x_values, y_values)"
   ]
  },
  {
   "cell_type": "markdown",
   "id": "84b860a9",
   "metadata": {},
   "source": [
    "## Number of tosses = 100"
   ]
  },
  {
   "cell_type": "code",
   "execution_count": 6,
   "id": "a92b0504",
   "metadata": {},
   "outputs": [
    {
     "data": {
      "text/plain": [
       "3.925069822796612e-05"
      ]
     },
     "execution_count": 6,
     "metadata": {},
     "output_type": "execute_result"
    }
   ],
   "source": [
    "num_tosses = 100\n",
    "dist = stats.binom(num_tosses, 0.5) # H0: Coin is fair\n",
    "1 - dist.cdf(69)"
   ]
  },
  {
   "cell_type": "markdown",
   "id": "716a14b1",
   "metadata": {},
   "source": [
    "## Number of tosses = 1000"
   ]
  },
  {
   "cell_type": "code",
   "execution_count": 7,
   "id": "c25ead01",
   "metadata": {},
   "outputs": [
    {
     "data": {
      "text/plain": [
       "0.0"
      ]
     },
     "execution_count": 7,
     "metadata": {},
     "output_type": "execute_result"
    }
   ],
   "source": [
    "num_tosses = 1000\n",
    "dist = stats.binom(num_tosses, 0.5) # H0: Coin is fair\n",
    "1 - dist.cdf(699)"
   ]
  },
  {
   "cell_type": "markdown",
   "id": "f5ad48d2",
   "metadata": {},
   "source": [
    "# QQ Plot"
   ]
  },
  {
   "cell_type": "code",
   "execution_count": 8,
   "id": "c68738fa",
   "metadata": {},
   "outputs": [],
   "source": [
    "data1 = np.random.normal(loc=10, size=1000)"
   ]
  },
  {
   "cell_type": "code",
   "execution_count": 9,
   "id": "ca1143fe",
   "metadata": {},
   "outputs": [
    {
     "data": {
      "text/plain": [
       "<AxesSubplot:ylabel='Count'>"
      ]
     },
     "execution_count": 9,
     "metadata": {},
     "output_type": "execute_result"
    },
    {
     "data": {
      "image/png": "[encoded data removed]",
      "text/plain": [
       "<Figure size 432x288 with 1 Axes>"
      ]
     },
     "metadata": {
      "needs_background": "light"
     },
     "output_type": "display_data"
    }
   ],
   "source": [
    "sns.histplot(data1)"
   ]
  },
  {
   "cell_type": "code",
   "execution_count": 10,
   "id": "99efcad1",
   "metadata": {},
   "outputs": [
    {
     "data": {
      "image/png": "[encoded data removed]",
      "text/plain": [
       "<Figure size 432x288 with 1 Axes>"
      ]
     },
     "metadata": {
      "needs_background": "light"
     },
     "output_type": "display_data"
    }
   ],
   "source": [
    "qqplot(data1, line=\"s\")\n",
    "plt.show()"
   ]
  },
  {
   "cell_type": "code",
   "execution_count": 11,
   "id": "a7b18c62",
   "metadata": {},
   "outputs": [],
   "source": [
    "data2 = np.random.uniform(size=1000)"
   ]
  },
  {
   "cell_type": "code",
   "execution_count": 12,
   "id": "1bd87b38",
   "metadata": {},
   "outputs": [
    {
     "data": {
      "text/plain": [
       "<AxesSubplot:ylabel='Count'>"
      ]
     },
     "execution_count": 12,
     "metadata": {},
     "output_type": "execute_result"
    },
    {
     "data": {
      "image/png": "[encoded data removed]",
      "text/plain": [
       "<Figure size 432x288 with 1 Axes>"
      ]
     },
     "metadata": {
      "needs_background": "light"
     },
     "output_type": "display_data"
    }
   ],
   "source": [
    "sns.histplot(data2)"
   ]
  },
  {
   "cell_type": "code",
   "execution_count": 13,
   "id": "e1256cd4",
   "metadata": {},
   "outputs": [
    {
     "data": {
      "image/png": "[encoded data removed]",
      "text/plain": [
       "<Figure size 432x288 with 1 Axes>"
      ]
     },
     "metadata": {
      "needs_background": "light"
     },
     "output_type": "display_data"
    }
   ],
   "source": [
    "qqplot(data2, line=\"s\")\n",
    "plt.show()"
   ]
  }
 ],
 "metadata": {
  "kernelspec": {
   "display_name": "Python 3 (ipykernel)",
   "language": "python",
   "name": "python3"
  },
  "language_info": {
   "codemirror_mode": {
    "name": "ipython",
    "version": 3
   },
   "file_extension": ".py",
   "mimetype": "text/x-python",
   "name": "python",
   "nbconvert_exporter": "python",
   "pygments_lexer": "ipython3",
   "version": "3.8.12"
  }
 },
 "nbformat": 4,
 "nbformat_minor": 5
}
